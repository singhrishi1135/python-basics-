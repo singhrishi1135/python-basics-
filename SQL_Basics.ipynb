{
  "nbformat": 4,
  "nbformat_minor": 0,
  "metadata": {
    "colab": {
      "provenance": []
    },
    "kernelspec": {
      "name": "python3",
      "display_name": "Python 3"
    },
    "language_info": {
      "name": "python"
    }
  },
  "cells": [
    {
      "cell_type": "markdown",
      "source": [
        "Q1. Create a table called employees with the following structure?\n",
        ": emp_id (integer, should not be NULL and should be a primary key)Q\n",
        ": emp_name (text, should not be NULL)Q\n",
        ": age (integer, should have a check constraint to ensure the age is at least 18)\n",
        ": email (text, should be unique for each employee)Q\n",
        ": salary (decimal, with a default value of 30,000).\n",
        "\n",
        "Write the SQL query to create the above table with all constraints."
      ],
      "metadata": {
        "id": "p702R9Smtb8E"
      }
    },
    {
      "cell_type": "code",
      "source": [
        "CREATE TABLE EMPLOYEE (\n",
        "  empId INTEGER PRIMARY KEY,\n",
        "  name TEXT NOT NULL,\n",
        "  dept TEXT NOT NULL\n",
        ");\n",
        "\n",
        "INSERT INTO EMPLOYEE VALUES (0001, 'Clark', 'Sales');\n",
        "INSERT INTO EMPLOYEE VALUES (0002, 'Dave', 'Accounting');\n",
        "INSERT INTO EMPLOYEE VALUES (0003, 'Ava', 'Sales');\n",
        "\n",
        "SELECT * FROM EMPLOYEE WHERE dept = 'Sales';"
      ],
      "metadata": {
        "colab": {
          "base_uri": "https://localhost:8080/",
          "height": 106
        },
        "id": "NevEozGhuBdz",
        "outputId": "7478cf1a-62af-4cbc-9f5c-4280ab933849"
      },
      "execution_count": null,
      "outputs": [
        {
          "output_type": "error",
          "ename": "SyntaxError",
          "evalue": "leading zeros in decimal integer literals are not permitted; use an 0o prefix for octal integers (ipython-input-814521587.py, line 7)",
          "traceback": [
            "\u001b[0;36m  File \u001b[0;32m\"/tmp/ipython-input-814521587.py\"\u001b[0;36m, line \u001b[0;32m7\u001b[0m\n\u001b[0;31m    INSERT INTO EMPLOYEE VALUES (0001, 'Clark', 'Sales');\u001b[0m\n\u001b[0m                                 ^\u001b[0m\n\u001b[0;31mSyntaxError\u001b[0m\u001b[0;31m:\u001b[0m leading zeros in decimal integer literals are not permitted; use an 0o prefix for octal integers\n"
          ]
        }
      ]
    },
    {
      "cell_type": "code",
      "metadata": {
        "id": "4a653cd8"
      },
      "source": [
        "import sqlite3\n",
        "\n",
        "# Connect to an in-memory SQLite database\n",
        "conn = sqlite3.connect(':memory:')\n",
        "cursor = conn.cursor()\n",
        "\n",
        "# Create the EMPLOYEE table\n",
        "cursor.execute(\"\"\"\n",
        "CREATE TABLE EMPLOYEE (\n",
        "  empId INTEGER PRIMARY KEY,\n",
        "  name TEXT NOT NULL,\n",
        "  dept TEXT NOT NULL\n",
        ");\n",
        "\"\"\")\n",
        "\n",
        "# Insert data into the EMPLOYEE table\n",
        "cursor.execute(\"INSERT INTO EMPLOYEE VALUES (1, 'Clark', 'Sales');\")\n",
        "cursor.execute(\"INSERT INTO EMPLOYEE VALUES (2, 'Dave', 'Accounting');\")\n",
        "cursor.execute(\"INSERT INTO EMPLOYEE VALUES (3, 'Ava', 'Sales');\")\n",
        "\n",
        "# Select data from the EMPLOYEE table\n",
        "cursor.execute(\"SELECT * FROM EMPLOYEE WHERE dept = 'Sales';\")\n",
        "\n",
        "# Fetch and display the results\n",
        "results = cursor.fetchall()\n",
        "for row in results:\n",
        "    print(row)\n",
        "\n",
        "# Close the connection\n",
        "conn.close()"
      ],
      "execution_count": null,
      "outputs": []
    },
    {
      "cell_type": "markdown",
      "source": [
        "Q2. Explain the purpose of constraints and how they help maintain data integrity in a database. Provide\n",
        "examples of common types of constraints."
      ],
      "metadata": {
        "id": "92Ehrns5unh0"
      }
    },
    {
      "cell_type": "markdown",
      "source": [
        "**Ans.**\n",
        "\n",
        "**Purpose of Constraints in a Database**\n",
        "\n",
        "Constraints are rules applied to database columns to enforce data integrity, accuracy, and reliability. They ensure that the data entered into a table follows specific rules and relationships, preventing invalid or inconsistent data.\n",
        "\n",
        "How Constraints Help Maintain Data Integrity\n",
        "\n",
        "**Prevent Invalid Data Entry**\n",
        "Example: A CHECK (age >= 18) constraint stops users from entering an underage value.\n",
        "\n",
        "**Ensure Uniqueness**\n",
        "Example: An email column with a UNIQUE constraint ensures no two employees share the same email.\n",
        "\n",
        "**Maintain Consistency Across Tables**\n",
        "Example: A FOREIGN KEY ensures that a value in one table corresponds to a value in another table (e.g., department IDs).\n",
        "\n",
        "**Protect Critical Data**\n",
        "Example: A NOT NULL constraint ensures important fields (like names or IDs) are never left empty.\n",
        "\n",
        "**Automatically Apply Defaults**\n",
        "Example: DEFAULT 30000 for a salary ensures that even if the value is not provided, it gets a reasonable default.\n",
        "\n",
        "| Constraint Type | Description                                                          | Example                                           |\n",
        "| --------------- | -------------------------------------------------------------------- | ------------------------------------------------- |\n",
        "| **PRIMARY KEY** | Uniquely identifies each row in a table. Cannot be NULL.             | `emp_id INTEGER PRIMARY KEY`                      |\n",
        "| **NOT NULL**    | Ensures a column cannot have a NULL value.                           | `emp_name TEXT NOT NULL`                          |\n",
        "| **UNIQUE**      | Ensures all values in a column are different.                        | `email TEXT UNIQUE`                               |\n",
        "| **CHECK**       | Validates that values meet a specific condition.                     | `age INTEGER CHECK (age >= 18)`                   |\n",
        "| **DEFAULT**     | Assigns a default value if none is provided.                         | `salary DECIMAL DEFAULT 30000`                    |\n",
        "| **FOREIGN KEY** | Ensures values match keys in another table (enforces relationships). | `dept_id INTEGER REFERENCES departments(dept_id)` |\n"
      ],
      "metadata": {
        "id": "7s6h1u4hupqj"
      }
    },
    {
      "cell_type": "markdown",
      "source": [
        "Q3. Why would you apply the NOT NULL constraint to a column? Can a primary key contain NULL values? Justify\n",
        "your answer."
      ],
      "metadata": {
        "id": "8iD4a4VpvJeD"
      }
    },
    {
      "cell_type": "markdown",
      "source": [
        "**Ans.** The NOT NULL constraint ensures that a column must always have a value — it cannot be left empty.\n",
        "\n",
        "**Reasons to Use NOT NULL:**\n",
        "\n",
        "**Data Integrity**\n",
        "It guarantees that essential information is always provided (e.g., names, IDs, prices).\n",
        "\n",
        "**Avoid Ambiguity**\n",
        "NULL represents \"unknown\" or \"missing\" data, which can lead to confusion in queries, calculations, or reports.\n",
        "\n",
        "**Enforce Business Rules**\n",
        "For example, every employee must have a name — so emp_name TEXT NOT NULL.\n",
        "\n",
        "**Prevent Application Errors**\n",
        "Many apps expect certain fields to always contain data. Nulls can cause runtime errors if not handled properly."
      ],
      "metadata": {
        "id": "srrMSNUlvP8D"
      }
    },
    {
      "cell_type": "markdown",
      "source": [
        "Q4.  Explain the steps and SQL commands used to add or remove constraints on an existing table. Provide an\n",
        "example for both adding and removing a constraint."
      ],
      "metadata": {
        "id": "P1CTGC8rvU48"
      }
    },
    {
      "cell_type": "markdown",
      "source": [
        "**Ans.**\n",
        "\n",
        "Adding and Removing Constraints on an Existing Table\n",
        "\n",
        "In SQL, modifying constraints on an existing table involves using the ALTER TABLE command. However, the exact capabilities and syntax vary depending on the database system (e.g., SQLite, PostgreSQL, MySQL, SQL Server).\n",
        "\n",
        "- **Add a Constraint**\n",
        "\n",
        "General Syntax:\n",
        "\n",
        "ALTER TABLE table_name\n",
        "ADD CONSTRAINT constraint_name constraint_type (column_name);\n",
        "\n",
        "**Remove (Drop) a Constraint**\n",
        "\n",
        "General Syntax (most SQL dialects):\n",
        "\n",
        "ALTER TABLE table_name\n",
        "DROP CONSTRAINT constraint_name;\n"
      ],
      "metadata": {
        "id": "hciYv_bKvW4T"
      }
    },
    {
      "cell_type": "markdown",
      "source": [
        "Q5. Explain the consequences of attempting to insert, update, or delete data in a way that violates constraints.\n",
        "Provide an example of an error message that might occur when violating a constraint."
      ],
      "metadata": {
        "id": "N0ay4oA3vgRk"
      }
    },
    {
      "cell_type": "markdown",
      "source": [
        "**Ans.**\n",
        "\n",
        "**Consequences of Violating Constraints in SQL**\n",
        "\n",
        "When you try to INSERT, UPDATE, or DELETE data that violates a constraint, the Database Management System (DBMS) will reject the operation and throw an error message. This ensures data integrity is maintained.\n",
        "\n",
        "Here’s what happens for different types of constraints:\n",
        "\n",
        "**PRIMARY KEY constraint**\n",
        "\n",
        "If you try to insert a duplicate value into a primary key column → Error: duplicate key.\n",
        "\n",
        "If you insert NULL in a primary key column → Error: cannot insert NULL.\n",
        "\n",
        "**FOREIGN KEY constraint**\n",
        "\n",
        "If you insert a value that does not exist in the referenced table → Error: foreign key violation.\n",
        "\n",
        "If you try to delete a parent row that is referenced by a child row → Error: constraint violation.\n",
        "\n",
        "**UNIQUE constraint**\n",
        "\n",
        "If you insert/update with a value that already exists in a column that must be unique → Error: duplicate value.\n",
        "\n",
        "**CHECK constraint**\n",
        "\n",
        "If you insert/update a value that does not satisfy the condition → Error: check constraint violation.\n",
        "\n",
        "**NOT NULL constraint**\n",
        "\n",
        "If you insert/update a NULL value into a column defined as NOT NULL → Error: cannot insert NULL."
      ],
      "metadata": {
        "id": "OT0olCXtvtDb"
      }
    },
    {
      "cell_type": "markdown",
      "source": [
        "Q6. You created a products table without constraints as follows:\n",
        "\n",
        "CREATE TABLE products (\n",
        "\n",
        "    product_id INT,\n",
        "\n",
        "    product_name VARCHAR(50),\n",
        "\n",
        "    price DECIMAL(10, 2));\n",
        "Now, you realise that?\n",
        ": The product_id should be a primary keyQ\n",
        ": The price should have a default value of 50.00"
      ],
      "metadata": {
        "id": "Y0OIs-Ekv13z"
      }
    },
    {
      "cell_type": "code",
      "source": [
        "CREATE TABLE products (\n",
        "    product_id INT PRIMARY KEY,\n",
        "    product_name VARCHAR(50),\n",
        "    price DECIMAL(10, 2) DEFAULT 50.00\n",
        ");\n"
      ],
      "metadata": {
        "colab": {
          "base_uri": "https://localhost:8080/",
          "height": 106
        },
        "id": "iQAJVJFAwwI0",
        "outputId": "e7872273-a632-4aae-db85-50346aaf030e"
      },
      "execution_count": null,
      "outputs": [
        {
          "output_type": "error",
          "ename": "SyntaxError",
          "evalue": "invalid syntax (ipython-input-4269538985.py, line 1)",
          "traceback": [
            "\u001b[0;36m  File \u001b[0;32m\"/tmp/ipython-input-4269538985.py\"\u001b[0;36m, line \u001b[0;32m1\u001b[0m\n\u001b[0;31m    CREATE TABLE products (\u001b[0m\n\u001b[0m           ^\u001b[0m\n\u001b[0;31mSyntaxError\u001b[0m\u001b[0;31m:\u001b[0m invalid syntax\n"
          ]
        }
      ]
    },
    {
      "cell_type": "code",
      "metadata": {
        "id": "44987be8",
        "colab": {
          "base_uri": "https://localhost:8080/"
        },
        "outputId": "6fc83c99-3bd6-45ce-8c65-40937a2e6b22"
      },
      "source": [
        "import sqlite3\n",
        "\n",
        "# Connect to an in-memory SQLite database\n",
        "# You can replace ':memory:' with a database file path if you want to save the data\n",
        "conn = sqlite3.connect(':memory:')\n",
        "cursor = conn.cursor()\n",
        "\n",
        "# Create the products table with constraints\n",
        "cursor.execute(\"\"\"\n",
        "CREATE TABLE products (\n",
        "    product_id INT PRIMARY KEY,\n",
        "    product_name VARCHAR(50),\n",
        "    price DECIMAL(10, 2) DEFAULT 50.00\n",
        ");\n",
        "\"\"\")\n",
        "\n",
        "print(\"Products table created successfully with constraints.\")\n",
        "\n",
        "# Close the connection\n",
        "conn.close()"
      ],
      "execution_count": null,
      "outputs": [
        {
          "output_type": "stream",
          "name": "stdout",
          "text": [
            "Products table created successfully with constraints.\n"
          ]
        }
      ]
    },
    {
      "cell_type": "markdown",
      "source": [
        "Q7. You have two tables:\n",
        "Write a query to fetch the student_name and class_name for each student using an INNER JOIN."
      ],
      "metadata": {
        "id": "YrdF0e42y26c"
      }
    },
    {
      "cell_type": "code",
      "source": [
        "SELECT\n",
        "    Students.student_name,\n",
        "    Classes.class_name\n",
        "FROM\n",
        "    Students\n",
        "INNER JOIN\n",
        "    Classes\n",
        "ON\n",
        "    Students.class_id = Classes.class_id;\n"
      ],
      "metadata": {
        "colab": {
          "base_uri": "https://localhost:8080/",
          "height": 106
        },
        "id": "T8Ijzx4Oy-fU",
        "outputId": "f1572ccf-d2fd-4c69-ca0c-4144e334c47e"
      },
      "execution_count": null,
      "outputs": [
        {
          "output_type": "error",
          "ename": "IndentationError",
          "evalue": "unexpected indent (ipython-input-2079155790.py, line 2)",
          "traceback": [
            "\u001b[0;36m  File \u001b[0;32m\"/tmp/ipython-input-2079155790.py\"\u001b[0;36m, line \u001b[0;32m2\u001b[0m\n\u001b[0;31m    Students.student_name,\u001b[0m\n\u001b[0m    ^\u001b[0m\n\u001b[0;31mIndentationError\u001b[0m\u001b[0;31m:\u001b[0m unexpected indent\n"
          ]
        }
      ]
    },
    {
      "cell_type": "code",
      "source": [],
      "metadata": {
        "id": "ZKXpDlXmy68a"
      },
      "execution_count": null,
      "outputs": []
    },
    {
      "cell_type": "code",
      "metadata": {
        "id": "d7eea4d2"
      },
      "source": [
        "import sqlite3\n",
        "\n",
        "# Connect to an in-memory SQLite database\n",
        "conn = sqlite3.connect(':memory:')\n",
        "cursor = conn.cursor()\n",
        "\n",
        "# Create Students table\n",
        "cursor.execute(\"\"\"\n",
        "CREATE TABLE Students (\n",
        "    student_id INTEGER PRIMARY KEY,\n",
        "    student_name TEXT NOT NULL,\n",
        "    class_id INTEGER\n",
        ");\n",
        "\"\"\")\n",
        "\n",
        "# Create Classes table\n",
        "cursor.execute(\"\"\"\n",
        "CREATE TABLE Classes (\n",
        "    class_id INTEGER PRIMARY KEY,\n",
        "    class_name TEXT NOT NULL\n",
        ");\n",
        "\"\"\")\n",
        "\n",
        "# Insert sample data into Students\n",
        "cursor.execute(\"INSERT INTO Students VALUES (1, 'Alice', 101);\")\n",
        "cursor.execute(\"INSERT INTO Students VALUES (2, 'Bob', 102);\")\n",
        "cursor.execute(\"INSERT INTO Students VALUES (3, 'Charlie', 101);\")\n",
        "cursor.execute(\"INSERT INTO Students VALUES (4, 'David', 103);\")\n",
        "\n",
        "\n",
        "# Insert sample data into Classes\n",
        "cursor.execute(\"INSERT INTO Classes VALUES (101, 'Math');\")\n",
        "cursor.execute(\"INSERT INTO Classes VALUES (102, 'Science');\")\n",
        "cursor.execute(\"INSERT INTO Classes VALUES (103, 'History');\")\n",
        "\n",
        "\n",
        "# Execute the INNER JOIN query\n",
        "cursor.execute(\"\"\"\n",
        "SELECT\n",
        "    Students.student_name,\n",
        "    Classes.class_name\n",
        "FROM\n",
        "    Students\n",
        "INNER JOIN\n",
        "    Classes\n",
        "ON\n",
        "    Students.class_id = Classes.class_id;\n",
        "\"\"\")\n",
        "\n",
        "# Fetch and display the results\n",
        "results = cursor.fetchall()\n",
        "for row in results:\n",
        "    print(row)\n",
        "\n",
        "# Close the connection\n",
        "conn.close()"
      ],
      "execution_count": null,
      "outputs": []
    },
    {
      "cell_type": "markdown",
      "source": [
        "Q8. Consider the following three tables:\n",
        "Write a query that shows all order_id, customer_name, and product_name, ensuring that all products are\n",
        "listed even if they are not associated with an order\n",
        "\n",
        "Hint: (use INNER JOIN and LEFT JOIN)5\n"
      ],
      "metadata": {
        "id": "sHw2wbzXzSiS"
      }
    },
    {
      "cell_type": "code",
      "source": [
        "SELECT\n",
        "    Products.order_id,\n",
        "    Customers.customer_name,\n",
        "    Products.product_name\n",
        "FROM\n",
        "    Products\n",
        "LEFT JOIN\n",
        "    Orders ON Products.order_id = Orders.order_id\n",
        "LEFT JOIN\n",
        "    Customers ON Orders.customer_id = Customers.customer_id;\n"
      ],
      "metadata": {
        "id": "yl3004eMzUub"
      },
      "execution_count": null,
      "outputs": []
    },
    {
      "cell_type": "code",
      "metadata": {
        "id": "d9c1457f"
      },
      "source": [
        "import sqlite3\n",
        "\n",
        "# Connect to an in-memory SQLite database\n",
        "conn = sqlite3.connect(':memory:')\n",
        "cursor = conn.cursor()\n",
        "\n",
        "# Create Customers table\n",
        "cursor.execute(\"\"\"\n",
        "CREATE TABLE Customers (\n",
        "    customer_id INTEGER PRIMARY KEY,\n",
        "    customer_name TEXT NOT NULL\n",
        ");\n",
        "\"\"\")\n",
        "\n",
        "# Create Orders table\n",
        "cursor.execute(\"\"\"\n",
        "CREATE TABLE Orders (\n",
        "    order_id INTEGER PRIMARY KEY,\n",
        "    customer_id INTEGER,\n",
        "    FOREIGN KEY (customer_id) REFERENCES Customers(customer_id)\n",
        ");\n",
        "\"\"\")\n",
        "\n",
        "# Create Products table\n",
        "cursor.execute(\"\"\"\n",
        "CREATE TABLE Products (\n",
        "    product_id INTEGER PRIMARY KEY,\n",
        "    product_name TEXT NOT NULL,\n",
        "    order_id INTEGER,\n",
        "    FOREIGN KEY (order_id) REFERENCES Orders(order_id)\n",
        ");\n",
        "\"\"\")\n",
        "\n",
        "# Insert sample data into Customers\n",
        "cursor.execute(\"INSERT INTO Customers VALUES (1, 'Alice');\")\n",
        "cursor.execute(\"INSERT INTO Customers VALUES (2, 'Bob');\")\n",
        "\n",
        "# Insert sample data into Orders\n",
        "cursor.execute(\"INSERT INTO Orders VALUES (101, 1);\")\n",
        "cursor.execute(\"INSERT INTO Orders VALUES (102, 2);\")\n",
        "cursor.execute(\"INSERT INTO Orders VALUES (103, 1);\")\n",
        "\n",
        "\n",
        "# Insert sample data into Products\n",
        "cursor.execute(\"INSERT INTO Products VALUES (1001, 'Laptop', 101);\")\n",
        "cursor.execute(\"INSERT INTO Products VALUES (1002, 'Mouse', 101);\")\n",
        "cursor.execute(\"INSERT INTO Products VALUES (1003, 'Keyboard', 102);\")\n",
        "cursor.execute(\"INSERT INTO Products VALUES (1004, 'Monitor', NULL);\") # Product not in an order\n",
        "\n",
        "\n",
        "# Execute the LEFT JOIN query\n",
        "cursor.execute(\"\"\"\n",
        "SELECT\n",
        "    P.order_id,\n",
        "    C.customer_name,\n",
        "    P.product_name\n",
        "FROM\n",
        "    Products AS P\n",
        "LEFT JOIN\n",
        "    Orders AS O ON P.order_id = O.order_id\n",
        "LEFT JOIN\n",
        "    Customers AS C ON O.customer_id = C.customer_id;\n",
        "\"\"\")\n",
        "\n",
        "\n",
        "# Fetch and display the results\n",
        "results = cursor.fetchall()\n",
        "for row in results:\n",
        "    print(row)\n",
        "\n",
        "# Close the connection\n",
        "conn.close()"
      ],
      "execution_count": null,
      "outputs": []
    },
    {
      "cell_type": "markdown",
      "source": [
        "Q9. Given the following tables:\n",
        "\n",
        "Write a query to find the total sales amount for each product using an INNER JOIN and the SUM() function."
      ],
      "metadata": {
        "id": "n9Zs4LL3z9h6"
      }
    },
    {
      "cell_type": "code",
      "source": [
        "SELECT\n",
        "    Products.product_name,\n",
        "    SUM(Sales.amount) AS total_sales\n",
        "FROM\n",
        "    Sales\n",
        "INNER JOIN\n",
        "    Products ON Sales.product_id = Products.product_id\n",
        "GROUP BY\n",
        "    Products.product_name;\n"
      ],
      "metadata": {
        "id": "g1i6xSOM0pPE"
      },
      "execution_count": null,
      "outputs": []
    },
    {
      "cell_type": "code",
      "metadata": {
        "id": "eeaeff6a"
      },
      "source": [
        "import sqlite3\n",
        "\n",
        "# Connect to an in-memory SQLite database\n",
        "conn = sqlite3.connect(':memory:')\n",
        "cursor = conn.cursor()\n",
        "\n",
        "# Create Products table\n",
        "cursor.execute(\"\"\"\n",
        "CREATE TABLE Products (\n",
        "    product_id INTEGER PRIMARY KEY,\n",
        "    product_name TEXT NOT NULL\n",
        ");\n",
        "\"\"\")\n",
        "\n",
        "# Create Sales table\n",
        "cursor.execute(\"\"\"\n",
        "CREATE TABLE Sales (\n",
        "    sale_id INTEGER PRIMARY KEY,\n",
        "    product_id INTEGER,\n",
        "    amount DECIMAL(10, 2),\n",
        "    FOREIGN KEY (product_id) REFERENCES Products(product_id)\n",
        ");\n",
        "\"\"\")\n",
        "\n",
        "# Insert sample data into Products\n",
        "cursor.execute(\"INSERT INTO Products VALUES (1, 'Laptop');\")\n",
        "cursor.execute(\"INSERT INTO Products VALUES (2, 'Mouse');\")\n",
        "cursor.execute(\"INSERT INTO Products VALUES (3, 'Keyboard');\")\n",
        "\n",
        "\n",
        "# Insert sample data into Sales\n",
        "cursor.execute(\"INSERT INTO Sales VALUES (101, 1, 1200.00);\")\n",
        "cursor.execute(\"INSERT INTO Sales VALUES (102, 2, 25.00);\")\n",
        "cursor.execute(\"INSERT INTO Sales VALUES (103, 1, 150.00);\") # Another sale for Laptop\n",
        "cursor.execute(\"INSERT INTO Sales VALUES (104, 3, 75.00);\")\n",
        "cursor.execute(\"INSERT INTO Sales VALUES (105, 2, 10.00);\") # Another sale for Mouse\n",
        "\n",
        "\n",
        "# Execute the INNER JOIN query with SUM()\n",
        "cursor.execute(\"\"\"\n",
        "SELECT\n",
        "    P.product_name,\n",
        "    SUM(S.amount) AS total_sales\n",
        "FROM\n",
        "    Sales AS S\n",
        "INNER JOIN\n",
        "    Products AS P ON S.product_id = P.product_id\n",
        "GROUP BY\n",
        "    P.product_name;\n",
        "\"\"\")\n",
        "\n",
        "\n",
        "# Fetch and display the results\n",
        "results = cursor.fetchall()\n",
        "for row in results:\n",
        "    print(row)\n",
        "\n",
        "# Close the connection\n",
        "conn.close()"
      ],
      "execution_count": null,
      "outputs": []
    },
    {
      "cell_type": "markdown",
      "source": [
        "**Q10. You are given three tables:**\n",
        "Write a query to display the order_id, customer_name, and the quantity of products ordered by each\n",
        "customer using an INNER JOIN between all three tables."
      ],
      "metadata": {
        "id": "9SI7gUGy0T2x"
      }
    },
    {
      "cell_type": "code",
      "source": [
        "import sqlite3\n",
        "\n",
        "# Connect to an in-memory SQLite database for demonstration\n",
        "conn = sqlite3.connect(':memory:')\n",
        "cursor = conn.cursor()\n",
        "\n",
        "# Create dummy tables and insert sample data\n",
        "cursor.execute(\"\"\"\n",
        "CREATE TABLE Customers (\n",
        "    customer_id INTEGER PRIMARY KEY,\n",
        "    customer_name TEXT NOT NULL\n",
        ");\n",
        "\"\"\")\n",
        "\n",
        "cursor.execute(\"\"\"\n",
        "CREATE TABLE Orders (\n",
        "    order_id INTEGER PRIMARY KEY,\n",
        "    customer_id INTEGER,\n",
        "    FOREIGN KEY (customer_id) REFERENCES Customers(customer_id)\n",
        ");\n",
        "\"\"\")\n",
        "\n",
        "cursor.execute(\"\"\"\n",
        "CREATE TABLE Order_Details (\n",
        "    order_detail_id INTEGER PRIMARY KEY,\n",
        "    order_id INTEGER,\n",
        "    product_id INTEGER,\n",
        "    quantity INTEGER NOT NULL,\n",
        "    FOREIGN KEY (order_id) REFERENCES Orders(order_id)\n",
        "    -- FOREIGN KEY (product_id) REFERENCES Products(product_id) -- Products table not needed for this query\n",
        ");\n",
        "\"\"\")\n",
        "\n",
        "# Insert sample data into Customers\n",
        "cursor.execute(\"INSERT INTO Customers VALUES (1, 'Alice');\")\n",
        "cursor.execute(\"INSERT INTO Customers VALUES (2, 'Bob');\")\n",
        "\n",
        "# Insert sample data into Orders\n",
        "cursor.execute(\"INSERT INTO Orders VALUES (101, 1);\") # Alice's order\n",
        "cursor.execute(\"INSERT INTO Orders VALUES (102, 2);\") # Bob's order\n",
        "cursor.execute(\"INSERT INTO Orders VALUES (103, 1);\") # Alice's another order\n",
        "\n",
        "\n",
        "# Insert sample data into Order_Details\n",
        "cursor.execute(\"INSERT INTO Order_Details VALUES (1001, 101, 1, 2);\") # 2 of product 1 in order 101\n",
        "cursor.execute(\"INSERT INTO Order_Details VALUES (1002, 101, 2, 1);\") # 1 of product 2 in order 101\n",
        "cursor.execute(\"INSERT INTO Order_Details VALUES (1003, 102, 3, 5);\") # 5 of product 3 in order 102\n",
        "cursor.execute(\"INSERT INTO Order_Details VALUES (1004, 103, 1, 3);\") # 3 of product 1 in order 103\n",
        "\n",
        "\n",
        "# Write a query to display order_id, customer_name, and quantity\n",
        "cursor.execute(\"\"\"\n",
        "SELECT\n",
        "    o.order_id,\n",
        "    c.customer_name,\n",
        "    od.quantity\n",
        "FROM Orders o\n",
        "INNER JOIN Customers c\n",
        "    ON o.customer_id = c.customer_id\n",
        "INNER JOIN Order_Details od\n",
        "    ON o.order_id = od.order_id;\n",
        "\"\"\")\n",
        "\n",
        "# Fetch and display the results\n",
        "results = cursor.fetchall()\n",
        "\n",
        "if results:\n",
        "    print(\"Order details with customer names and quantities:\")\n",
        "    for row in results:\n",
        "        print(row)\n",
        "else:\n",
        "    print(\"No order details found.\")\n",
        "\n",
        "# Close the connection\n",
        "conn.close()"
      ],
      "metadata": {
        "colab": {
          "base_uri": "https://localhost:8080/"
        },
        "id": "YDHtS2iz1L7J",
        "outputId": "519d3093-3cc5-4f47-cc47-00e60e3c3182"
      },
      "execution_count": 33,
      "outputs": [
        {
          "output_type": "stream",
          "name": "stdout",
          "text": [
            "Order details with customer names and quantities:\n",
            "(101, 'Alice', 2)\n",
            "(101, 'Alice', 1)\n",
            "(102, 'Bob', 5)\n",
            "(103, 'Alice', 3)\n"
          ]
        }
      ]
    },
    {
      "cell_type": "markdown",
      "source": [
        "##SQL Commands"
      ],
      "metadata": {
        "id": "Y6kPGJjb03LR"
      }
    },
    {
      "cell_type": "markdown",
      "source": [
        "**Q1. Identify the primary keys and foreign keys in maven movies db. Discuss the differences.**"
      ],
      "metadata": {
        "id": "0zDMW6ns04yq"
      }
    },
    {
      "cell_type": "markdown",
      "source": [
        "**Ans.**\n",
        "\n",
        "In the Maven Movies database, primary keys are the unique identifiers for each row in a table, while foreign keys connect tables to establish relationships between them.\n",
        "\n",
        "**Primary Keys in Maven Movies DB**\n",
        "Examples include:\n",
        "\n",
        "- customer_id in the Customers table\n",
        "\n",
        "- film_id in the Film table\n",
        "\n",
        "- rental_id in the Rental table\n",
        "\n",
        "- store_id in the Store table\n",
        "\n",
        "Each of these columns has unique values and cannot contain NULLs, ensuring every row is identifiable.\n",
        "\n",
        "**Foreign Keys in Maven Movies DB**\n",
        "Examples include:\n",
        "\n",
        "- customer_id in the Rental table, referencing Customers\n",
        "\n",
        "- inventory_id in the Rental table, referencing Inventory\n",
        "\n",
        "- film_id in the Inventory table, referencing Film\n",
        "\n",
        "- staff_id in the Payment table, referencing Staff\n",
        "\n",
        "- Foreign keys allow tables to reference the primary key columns in other tables, maintaining referential integrity between related data.\n",
        "\n",
        "**Differences Between Primary Key and Foreign Key**\n",
        "\n",
        "| Feature        | Primary Key (PK)                          | Foreign Key (FK)                                                  |\n",
        "| -------------- | ----------------------------------------- | ----------------------------------------------------------------- |\n",
        "| **Uniqueness** | Always unique; identifies a row           | Can have duplicates; points to PK in another table                |\n",
        "| **Nulls**      | Cannot be NULL                            | Can be NULL (depends on DB design)                                |\n",
        "| **Purpose**    | Identifies a record in its own table      | Enforces relationship between tables                              |\n",
        "| **Example**    | `film.film_id` uniquely identifies a film | `inventory.film_id` tells which film an inventory item belongs to |\n",
        "\n",
        "**Common Primary & Foreign Keys in Maven Movies DB**\n",
        "\n",
        "| Table           | Primary Key                         | Foreign Keys                                                   |\n",
        "| --------------- | ----------------------------------- | -------------------------------------------------------------- |\n",
        "| `actor`         | `actor_id`                          | —                                                              |\n",
        "| `film`          | `film_id`                           | `language_id`, `original_language_id` → `language.language_id` |\n",
        "| `film_actor`    | (`film_id`, `actor_id`) (composite) | `film_id` → `film`, `actor_id` → `actor`                       |\n",
        "| `category`      | `category_id`                       | —                                                              |\n",
        "| `film_category` | (`film_id`, `category_id`)          | `film_id` → `film`, `category_id` → `category`                 |\n",
        "| `customer`      | `customer_id`                       | `store_id` → `store`, `address_id` → `address`                 |\n",
        "| `rental`        | `rental_id`                         | `inventory_id` → `inventory`, `customer_id`, `staff_id`        |\n",
        "| `payment`       | `payment_id`                        | `customer_id`, `rental_id`, `staff_id`                         |\n",
        "| `inventory`     | `inventory_id`                      | `film_id`, `store_id`                                          |\n",
        "| `staff`         | `staff_id`                          | `address_id`, `store_id`                                       |\n"
      ],
      "metadata": {
        "id": "kZE_kIap0_TU"
      }
    },
    {
      "cell_type": "code",
      "source": [
        "CREATE TABLE actor (\n",
        "    actor_id INT PRIMARY KEY,\n",
        "    first_name VARCHAR(45),\n",
        "    last_name VARCHAR(45),\n",
        "    last_update TIMESTAMP\n",
        ");\n"
      ],
      "metadata": {
        "id": "fB1UaJ1M1QtS"
      },
      "execution_count": null,
      "outputs": []
    },
    {
      "cell_type": "code",
      "metadata": {
        "id": "04c43ab6"
      },
      "source": [
        "import sqlite3\n",
        "\n",
        "# Connect to an in-memory SQLite database\n",
        "conn = sqlite3.connect(':memory:')\n",
        "cursor = conn.cursor()\n",
        "\n",
        "# Create the actor table\n",
        "cursor.execute(\"\"\"\n",
        "CREATE TABLE actor (\n",
        "    actor_id INTEGER PRIMARY KEY,\n",
        "    first_name VARCHAR(45),\n",
        "    last_name VARCHAR(45),\n",
        "    last_update TIMESTAMP\n",
        ");\n",
        "\"\"\")\n",
        "\n",
        "print(\"Actor table created successfully.\")\n",
        "\n",
        "# Close the connection\n",
        "conn.close()"
      ],
      "execution_count": null,
      "outputs": []
    },
    {
      "cell_type": "markdown",
      "source": [
        "**Q2.  List all details of actors.**"
      ],
      "metadata": {
        "id": "Qg-dGOsI2K_q"
      }
    },
    {
      "cell_type": "code",
      "source": [
        "SELECT *\n",
        "FROM actor;\n"
      ],
      "metadata": {
        "id": "tJzjuzOK2Vvj"
      },
      "execution_count": null,
      "outputs": []
    },
    {
      "cell_type": "code",
      "metadata": {
        "id": "c3caa1f4"
      },
      "source": [
        "import sqlite3\n",
        "\n",
        "# Connect to the in-memory SQLite database\n",
        "# This assumes the actor table was created in a previous in-memory session\n",
        "# If not, you would need to recreate the table and potentially insert data first.\n",
        "conn = sqlite3.connect(':memory:')\n",
        "cursor = conn.cursor()\n",
        "\n",
        "# Note: If the actor table was not created in this specific in-memory session,\n",
        "# the following query will fail. For this example, we'll assume it was,\n",
        "# or you would need to add table creation and data insertion here.\n",
        "\n",
        "# Execute the SELECT query\n",
        "cursor.execute(\"SELECT * FROM actor;\")\n",
        "\n",
        "# Fetch and display the results\n",
        "results = cursor.fetchall()\n",
        "\n",
        "if results:\n",
        "    print(\"Details of actors:\")\n",
        "    for row in results:\n",
        "        print(row)\n",
        "else:\n",
        "    print(\"No actors found or table not created in this session.\")\n",
        "\n",
        "\n",
        "# Close the connection\n",
        "conn.close()"
      ],
      "execution_count": null,
      "outputs": []
    },
    {
      "cell_type": "code",
      "metadata": {
        "id": "b9180a47"
      },
      "source": [
        "import sqlite3\n",
        "\n",
        "# Connect to an in-memory SQLite database\n",
        "conn = sqlite3.connect(':memory:')\n",
        "cursor = conn.cursor()\n",
        "\n",
        "# Create the actor table\n",
        "cursor.execute(\"\"\"\n",
        "CREATE TABLE actor (\n",
        "    actor_id INTEGER PRIMARY KEY,\n",
        "    first_name VARCHAR(45),\n",
        "    last_name VARCHAR(45),\n",
        "    last_update TIMESTAMP\n",
        ");\n",
        "\"\"\")\n",
        "\n",
        "# Insert some sample data (since the table is empty in a new connection)\n",
        "cursor.execute(\"INSERT INTO actor VALUES (1, 'Penelope', 'Guiness', '2006-02-15 04:34:33');\")\n",
        "cursor.execute(\"INSERT INTO actor VALUES (2, 'Nick', 'Wahlberg', '2006-02-15 04:34:33');\")\n",
        "cursor.execute(\"INSERT INTO actor VALUES (3, 'Ed', 'Chase', '2006-02-15 04:34:33');\")\n",
        "\n",
        "\n",
        "print(\"Actor table created and sample data inserted.\")\n",
        "\n",
        "# Execute the SELECT query\n",
        "cursor.execute(\"SELECT * FROM actor;\")\n",
        "\n",
        "# Fetch and display the results\n",
        "results = cursor.fetchall()\n",
        "\n",
        "if results:\n",
        "    print(\"Details of actors:\")\n",
        "    for row in results:\n",
        "        print(row)\n",
        "else:\n",
        "    print(\"No actors found.\")\n",
        "\n",
        "\n",
        "# Close the connection\n",
        "conn.close()"
      ],
      "execution_count": null,
      "outputs": []
    },
    {
      "cell_type": "markdown",
      "source": [
        "**Q3. List all customer information from DB.**"
      ],
      "metadata": {
        "id": "KD0o_vGd2loU"
      }
    },
    {
      "cell_type": "code",
      "source": [
        "SELECT *\n",
        "FROM customer;\n"
      ],
      "metadata": {
        "id": "tFBu9q1b2qmT"
      },
      "execution_count": null,
      "outputs": []
    },
    {
      "cell_type": "code",
      "metadata": {
        "id": "7711162c"
      },
      "source": [
        "import sqlite3\n",
        "\n",
        "# Connect to an in-memory SQLite database\n",
        "conn = sqlite3.connect(':memory:')\n",
        "cursor = conn.cursor()\n",
        "\n",
        "# Create the customer table\n",
        "cursor.execute(\"\"\"\n",
        "CREATE TABLE customer (\n",
        "    customer_id INTEGER PRIMARY KEY,\n",
        "    first_name VARCHAR(45),\n",
        "    last_name VARCHAR(45),\n",
        "    email VARCHAR(100) UNIQUE,\n",
        "    address_id INTEGER\n",
        ");\n",
        "\"\"\")\n",
        "\n",
        "# Insert some sample data\n",
        "cursor.execute(\"INSERT INTO customer VALUES (1, 'Mary', 'Smith', 'mary.smith@sakilacustomer.org', 5);\")\n",
        "cursor.execute(\"INSERT INTO customer VALUES (2, 'Patricia', 'Johnson', 'patricia.johnson@sakilacustomer.org', 6);\")\n",
        "cursor.execute(\"INSERT INTO customer VALUES (3, 'Linda', 'Williams', 'linda.williams@sakilacustomer.org', 7);\")\n",
        "\n",
        "\n",
        "print(\"Customer table created and sample data inserted.\")\n",
        "\n",
        "# Execute the SELECT query\n",
        "cursor.execute(\"SELECT * FROM customer;\")\n",
        "\n",
        "# Fetch and display the results\n",
        "results = cursor.fetchall()\n",
        "\n",
        "if results:\n",
        "    print(\"Details of customers:\")\n",
        "    for row in results:\n",
        "        print(row)\n",
        "else:\n",
        "    print(\"No customers found.\")\n",
        "\n",
        "# Close the connection\n",
        "conn.close()"
      ],
      "execution_count": null,
      "outputs": []
    },
    {
      "cell_type": "markdown",
      "source": [
        "**4. List different countries.**"
      ],
      "metadata": {
        "id": "4qJBv1Wo22O7"
      }
    },
    {
      "cell_type": "code",
      "source": [
        "SELECT DISTINCT country\n",
        "FROM country;\n"
      ],
      "metadata": {
        "id": "XRklIRia29na"
      },
      "execution_count": null,
      "outputs": []
    },
    {
      "cell_type": "code",
      "metadata": {
        "id": "e8ef17c2"
      },
      "source": [
        "import sqlite3\n",
        "\n",
        "# Connect to an in-memory SQLite database\n",
        "conn = sqlite3.connect(':memory:')\n",
        "cursor = conn.cursor()\n",
        "\n",
        "# Create the country table\n",
        "cursor.execute(\"\"\"\n",
        "CREATE TABLE country (\n",
        "    country_id INTEGER PRIMARY KEY,\n",
        "    country TEXT NOT NULL\n",
        ");\n",
        "\"\"\")\n",
        "\n",
        "# Insert some sample data\n",
        "cursor.execute(\"INSERT INTO country VALUES (1, 'Canada');\")\n",
        "cursor.execute(\"INSERT INTO country VALUES (2, 'Mexico');\")\n",
        "cursor.execute(\"INSERT INTO country VALUES (3, 'Canada');\") # Duplicate country to test DISTINCT\n",
        "cursor.execute(\"INSERT INTO country VALUES (4, 'USA');\")\n",
        "\n",
        "\n",
        "print(\"Country table created and sample data inserted.\")\n",
        "\n",
        "# Execute the SELECT DISTINCT query\n",
        "cursor.execute(\"SELECT DISTINCT country FROM country;\")\n",
        "\n",
        "# Fetch and display the results\n",
        "results = cursor.fetchall()\n",
        "\n",
        "if results:\n",
        "    print(\"Different countries:\")\n",
        "    for row in results:\n",
        "        print(row[0]) # Access the country name from the tuple\n",
        "else:\n",
        "    print(\"No countries found.\")\n",
        "\n",
        "# Close the connection\n",
        "conn.close()"
      ],
      "execution_count": null,
      "outputs": []
    },
    {
      "cell_type": "markdown",
      "source": [
        "**Q5. Display all active customers.**"
      ],
      "metadata": {
        "id": "Jg-N-oKx3KjT"
      }
    },
    {
      "cell_type": "code",
      "source": [
        "SELECT *\n",
        "FROM customer\n",
        "WHERE active = 1;\n"
      ],
      "metadata": {
        "colab": {
          "base_uri": "https://localhost:8080/",
          "height": 106
        },
        "id": "aQonf81M3nN7",
        "outputId": "ccc65b10-d7c0-4154-98cc-2d697ee22d4d"
      },
      "execution_count": null,
      "outputs": [
        {
          "output_type": "error",
          "ename": "SyntaxError",
          "evalue": "invalid syntax (ipython-input-1844075125.py, line 1)",
          "traceback": [
            "\u001b[0;36m  File \u001b[0;32m\"/tmp/ipython-input-1844075125.py\"\u001b[0;36m, line \u001b[0;32m1\u001b[0m\n\u001b[0;31m    SELECT *\u001b[0m\n\u001b[0m            ^\u001b[0m\n\u001b[0;31mSyntaxError\u001b[0m\u001b[0;31m:\u001b[0m invalid syntax\n"
          ]
        }
      ]
    },
    {
      "cell_type": "code",
      "metadata": {
        "id": "ef5c64fe"
      },
      "source": [
        "import sqlite3\n",
        "\n",
        "# Connect to an in-memory SQLite database\n",
        "conn = sqlite3.connect(':memory:')\n",
        "cursor = conn.cursor()\n",
        "\n",
        "# Create the customer table with an active column\n",
        "cursor.execute(\"\"\"\n",
        "CREATE TABLE customer (\n",
        "    customer_id INTEGER PRIMARY KEY,\n",
        "    first_name VARCHAR(45),\n",
        "    last_name VARCHAR(45),\n",
        "    email VARCHAR(100) UNIQUE,\n",
        "    address_id INTEGER,\n",
        "    active INTEGER -- Added active column\n",
        ");\n",
        "\"\"\")\n",
        "\n",
        "# Insert some sample data (including active status)\n",
        "cursor.execute(\"INSERT INTO customer VALUES (1, 'Mary', 'Smith', 'mary.smith@sakilacustomer.org', 5, 1);\") # Active\n",
        "cursor.execute(\"INSERT INTO customer VALUES (2, 'Patricia', 'Johnson', 'patricia.johnson@sakilacustomer.org', 6, 0);\") # Not active\n",
        "cursor.execute(\"INSERT INTO customer VALUES (3, 'Linda', 'Williams', 'linda.williams@sakilacustomer.org', 7, 1);\") # Active\n",
        "\n",
        "\n",
        "print(\"Customer table created with active column and sample data inserted.\")\n",
        "\n",
        "# Execute the SELECT query for active customers\n",
        "cursor.execute(\"SELECT * FROM customer WHERE active = 1;\")\n",
        "\n",
        "# Fetch and display the results\n",
        "results = cursor.fetchall()\n",
        "\n",
        "if results:\n",
        "    print(\"Details of active customers:\")\n",
        "    for row in results:\n",
        "        print(row)\n",
        "else:\n",
        "    print(\"No active customers found.\")\n",
        "\n",
        "# Close the connection\n",
        "conn.close()"
      ],
      "execution_count": null,
      "outputs": []
    },
    {
      "cell_type": "markdown",
      "source": [
        "**Q6. List of all rental IDs for customer with ID 1.**"
      ],
      "metadata": {
        "id": "Z7_Ux3sS30Rr"
      }
    },
    {
      "cell_type": "code",
      "source": [
        "SELECT rental_id\n",
        "FROM rental\n",
        "WHERE customer_id = 1;\n"
      ],
      "metadata": {
        "id": "21ttwiiy34bB"
      },
      "execution_count": null,
      "outputs": []
    },
    {
      "cell_type": "code",
      "metadata": {
        "colab": {
          "base_uri": "https://localhost:8080/"
        },
        "id": "8f0c8124",
        "outputId": "470d7bf7-ffd0-4acd-c9a3-a21117626fd0"
      },
      "source": [
        "import sqlite3\n",
        "\n",
        "# Connect to an in-memory SQLite database\n",
        "conn = sqlite3.connect(':memory:')\n",
        "cursor = conn.cursor()\n",
        "\n",
        "# Create Customer table (needed for foreign key in rental)\n",
        "cursor.execute(\"\"\"\n",
        "CREATE TABLE customer (\n",
        "    customer_id INTEGER PRIMARY KEY,\n",
        "    first_name VARCHAR(45),\n",
        "    last_name VARCHAR(45)\n",
        ");\n",
        "\"\"\")\n",
        "\n",
        "# Create Rental table\n",
        "cursor.execute(\"\"\"\n",
        "CREATE TABLE rental (\n",
        "    rental_id INTEGER PRIMARY KEY,\n",
        "    customer_id INTEGER,\n",
        "    FOREIGN KEY (customer_id) REFERENCES customer(customer_id)\n",
        ");\n",
        "\"\"\")\n",
        "\n",
        "# Insert sample data into Customer\n",
        "cursor.execute(\"INSERT INTO customer VALUES (1, 'Mary', 'Smith');\")\n",
        "cursor.execute(\"INSERT INTO customer VALUES (2, 'Patricia', 'Johnson');\")\n",
        "\n",
        "\n",
        "# Insert sample data into Rental\n",
        "cursor.execute(\"INSERT INTO rental VALUES (100, 1);\") # Rental for customer 1\n",
        "cursor.execute(\"INSERT INTO rental VALUES (101, 2);\") # Rental for customer 2\n",
        "cursor.execute(\"INSERT INTO rental VALUES (102, 1);\") # Another rental for customer 1\n",
        "cursor.execute(\"INSERT INTO rental VALUES (103, 1);\") # Another rental for customer 1\n",
        "\n",
        "\n",
        "print(\"Customer and Rental tables created and sample data inserted.\")\n",
        "\n",
        "# Execute the SELECT query for rental IDs of customer with ID 1\n",
        "cursor.execute(\"SELECT rental_id FROM rental WHERE customer_id = 1;\")\n",
        "\n",
        "# Fetch and display the results\n",
        "results = cursor.fetchall()\n",
        "\n",
        "if results:\n",
        "    print(\"Rental IDs for customer with ID 1:\")\n",
        "    for row in results:\n",
        "        print(row[0]) # Access the rental_id from the tuple\n",
        "else:\n",
        "    print(\"No rentals found for customer with ID 1.\")\n",
        "\n",
        "# Close the connection\n",
        "conn.close()"
      ],
      "execution_count": null,
      "outputs": [
        {
          "output_type": "stream",
          "name": "stdout",
          "text": [
            "Customer and Rental tables created and sample data inserted.\n",
            "Rental IDs for customer with ID 1:\n",
            "100\n",
            "102\n",
            "103\n"
          ]
        }
      ]
    },
    {
      "cell_type": "markdown",
      "source": [
        "**Q7. Display all the films whose rental duration is greater than 5 .**"
      ],
      "metadata": {
        "id": "kNxadZIQ4Q-y"
      }
    },
    {
      "cell_type": "code",
      "source": [
        "SELECT *\n",
        "FROM film\n",
        "WHERE rental_duration > 5;\n"
      ],
      "metadata": {
        "colab": {
          "base_uri": "https://localhost:8080/",
          "height": 106
        },
        "id": "cripFbh14SOC",
        "outputId": "442d254b-9d23-41f8-eb9b-df4153d39e86"
      },
      "execution_count": null,
      "outputs": [
        {
          "output_type": "error",
          "ename": "SyntaxError",
          "evalue": "invalid syntax (ipython-input-3516839707.py, line 1)",
          "traceback": [
            "\u001b[0;36m  File \u001b[0;32m\"/tmp/ipython-input-3516839707.py\"\u001b[0;36m, line \u001b[0;32m1\u001b[0m\n\u001b[0;31m    SELECT *\u001b[0m\n\u001b[0m            ^\u001b[0m\n\u001b[0;31mSyntaxError\u001b[0m\u001b[0;31m:\u001b[0m invalid syntax\n"
          ]
        }
      ]
    },
    {
      "cell_type": "code",
      "metadata": {
        "id": "a2e7c0be"
      },
      "source": [
        "import sqlite3\n",
        "\n",
        "# Connect to an in-memory SQLite database\n",
        "conn = sqlite3.connect(':memory:')\n",
        "cursor = conn.cursor()\n",
        "\n",
        "# Create the film table with rental_duration\n",
        "cursor.execute(\"\"\"\n",
        "CREATE TABLE film (\n",
        "    film_id INTEGER PRIMARY KEY,\n",
        "    title TEXT NOT NULL,\n",
        "    rental_duration INTEGER\n",
        ");\n",
        "\"\"\")\n",
        "\n",
        "# Insert some sample data\n",
        "cursor.execute(\"INSERT INTO film VALUES (1, 'Film A', 3);\")\n",
        "cursor.execute(\"INSERT INTO film VALUES (2, 'Film B', 7);\")\n",
        "cursor.execute(\"INSERT INTO film VALUES (3, 'Film C', 5);\")\n",
        "cursor.execute(\"INSERT INTO film VALUES (4, 'Film D', 8);\")\n",
        "\n",
        "\n",
        "print(\"Film table created and sample data inserted.\")\n",
        "\n",
        "# Execute the SELECT query for films with rental duration > 5\n",
        "cursor.execute(\"SELECT * FROM film WHERE rental_duration > 5;\")\n",
        "\n",
        "# Fetch and display the results\n",
        "results = cursor.fetchall()\n",
        "\n",
        "if results:\n",
        "    print(\"Films with rental duration greater than 5:\")\n",
        "    for row in results:\n",
        "        print(row)\n",
        "else:\n",
        "    print(\"No films found with rental duration greater than 5.\")\n",
        "\n",
        "# Close the connection\n",
        "conn.close()"
      ],
      "execution_count": null,
      "outputs": []
    },
    {
      "cell_type": "markdown",
      "source": [
        "**Q8. List the total number of films whose replacement cost is greater than $15 and less than $20.**"
      ],
      "metadata": {
        "id": "IiXY9mRJ4jPh"
      }
    },
    {
      "cell_type": "code",
      "source": [
        "SELECT COUNT(*) AS total_films\n",
        "FROM film\n",
        "WHERE replacement_cost > 15 AND replacement_cost < 20;\n"
      ],
      "metadata": {
        "id": "VBZ5PSU34mJ6"
      },
      "execution_count": null,
      "outputs": []
    },
    {
      "cell_type": "code",
      "metadata": {
        "id": "26f451e6"
      },
      "source": [
        "import sqlite3\n",
        "\n",
        "# Connect to an in-memory SQLite database\n",
        "conn = sqlite3.connect(':memory:')\n",
        "cursor = conn.cursor()\n",
        "\n",
        "# Create the film table with replacement_cost\n",
        "cursor.execute(\"\"\"\n",
        "CREATE TABLE film (\n",
        "    film_id INTEGER PRIMARY KEY,\n",
        "    title TEXT NOT NULL,\n",
        "    replacement_cost DECIMAL(5, 2)\n",
        ");\n",
        "\"\"\")\n",
        "\n",
        "# Insert some sample data\n",
        "cursor.execute(\"INSERT INTO film VALUES (1, 'Film A', 10.00);\") # Cost < 15\n",
        "cursor.execute(\"INSERT INTO film VALUES (2, 'Film B', 16.50);\") # Cost between 15 and 20\n",
        "cursor.execute(\"INSERT INTO film VALUES (3, 'Film C', 25.00);\") # Cost > 20\n",
        "cursor.execute(\"INSERT INTO film VALUES (4, 'Film D', 18.75);\") # Cost between 15 and 20\n",
        "\n",
        "\n",
        "print(\"Film table created with replacement_cost and sample data inserted.\")\n",
        "\n",
        "# Execute the COUNT query\n",
        "cursor.execute(\"SELECT COUNT(*) AS total_films FROM film WHERE replacement_cost > 15 AND replacement_cost < 20;\")\n",
        "\n",
        "# Fetch and display the results\n",
        "results = cursor.fetchone() # Use fetchone() for a single result\n",
        "\n",
        "\n",
        "if results:\n",
        "    print(f\"Total number of films with replacement cost between $15 and $20: {results[0]}\")\n",
        "else:\n",
        "    print(\"Could not retrieve count.\")\n",
        "\n",
        "# Close the connection\n",
        "conn.close()"
      ],
      "execution_count": null,
      "outputs": []
    },
    {
      "cell_type": "markdown",
      "source": [
        "**Q9 Display the count of unique first names of actors.**"
      ],
      "metadata": {
        "id": "R4QScBJD4wxz"
      }
    },
    {
      "cell_type": "code",
      "source": [
        "SELECT COUNT(DISTINCT first_name) AS unique_first_names_count\n",
        "FROM actor;\n"
      ],
      "metadata": {
        "id": "56kRImhB4xy7"
      },
      "execution_count": null,
      "outputs": []
    },
    {
      "cell_type": "code",
      "metadata": {
        "id": "08ca24a5"
      },
      "source": [
        "import sqlite3\n",
        "\n",
        "# Connect to an in-memory SQLite database\n",
        "conn = sqlite3.connect(':memory:')\n",
        "cursor = conn.cursor()\n",
        "\n",
        "# Create the actor table\n",
        "cursor.execute(\"\"\"\n",
        "CREATE TABLE actor (\n",
        "    actor_id INTEGER PRIMARY KEY,\n",
        "    first_name VARCHAR(45),\n",
        "    last_name VARCHAR(45),\n",
        "    last_update TIMESTAMP\n",
        ");\n",
        "\"\"\")\n",
        "\n",
        "# Insert some sample data (including a duplicate first name)\n",
        "cursor.execute(\"INSERT INTO actor VALUES (1, 'Penelope', 'Guiness', '2006-02-15 04:34:33');\")\n",
        "cursor.execute(\"INSERT INTO actor VALUES (2, 'Nick', 'Wahlberg', '2006-02-15 04:34:33');\")\n",
        "cursor.execute(\"INSERT INTO actor VALUES (3, 'Ed', 'Chase', '2006-02-15 04:34:33');\")\n",
        "cursor.execute(\"INSERT INTO actor VALUES (4, 'Penelope', 'Cruz', '2006-02-15 04:34:33');\") # Duplicate first name\n",
        "\n",
        "\n",
        "print(\"Actor table created and sample data inserted.\")\n",
        "\n",
        "# Execute the COUNT(DISTINCT first_name) query\n",
        "cursor.execute(\"SELECT COUNT(DISTINCT first_name) AS unique_first_names_count FROM actor;\")\n",
        "\n",
        "# Fetch and display the results\n",
        "results = cursor.fetchone() # Use fetchone() for a single result\n",
        "\n",
        "\n",
        "if results:\n",
        "    print(f\"Count of unique first names: {results[0]}\")\n",
        "else:\n",
        "    print(\"Could not retrieve count.\")\n",
        "\n",
        "# Close the connection\n",
        "conn.close()"
      ],
      "execution_count": null,
      "outputs": []
    },
    {
      "cell_type": "markdown",
      "source": [
        "**Q10- Display the first 10 records from the customer table.**"
      ],
      "metadata": {
        "id": "3zC1ndvZ48BS"
      }
    },
    {
      "cell_type": "code",
      "source": [
        "SELECT *\n",
        "FROM customer\n",
        "LIMIT 10;\n"
      ],
      "metadata": {
        "id": "rxUOgA9h48pa"
      },
      "execution_count": null,
      "outputs": []
    },
    {
      "cell_type": "code",
      "metadata": {
        "id": "0c06f3dd"
      },
      "source": [
        "import sqlite3\n",
        "\n",
        "# Connect to an in-memory SQLite database\n",
        "conn = sqlite3.connect(':memory:')\n",
        "cursor = conn.cursor()\n",
        "\n",
        "# Create the customer table\n",
        "cursor.execute(\"\"\"\n",
        "CREATE TABLE customer (\n",
        "    customer_id INTEGER PRIMARY KEY,\n",
        "    first_name VARCHAR(45),\n",
        "    last_name VARCHAR(45),\n",
        "    email VARCHAR(100) UNIQUE,\n",
        "    address_id INTEGER\n",
        ");\n",
        "\"\"\")\n",
        "\n",
        "# Insert more than 10 sample data records\n",
        "sample_customers = [\n",
        "    (1, 'Mary', 'Smith', 'mary.smith@sakilacustomer.org', 5),\n",
        "    (2, 'Patricia', 'Johnson', 'patricia.johnson@sakilacustomer.org', 6),\n",
        "    (3, 'Linda', 'Williams', 'linda.williams@sakilacustomer.org', 7),\n",
        "    (4, 'Barbara', 'Jones', 'barbara.jones@sakilacustomer.org', 8),\n",
        "    (5, 'Elizabeth', 'Brown', 'elizabeth.brown@sakilacustomer.org', 9),\n",
        "    (6, 'Jennifer', 'Davis', 'jennifer.davis@sakilacustomer.org', 10),\n",
        "    (7, 'Maria', 'Miller', 'maria.miller@sakilacustomer.org', 11),\n",
        "    (8, 'Susan', 'Wilson', 'susan.wilson@sakilacustomer.org', 12),\n",
        "    (9, 'Margaret', 'Moore', 'margaret.moore@sakilacustomer.org', 13),\n",
        "    (10, 'Dorothy', 'Taylor', 'dorothy.taylor@sakilacustomer.org', 14),\n",
        "    (11, 'Lisa', 'Anderson', 'lisa.anderson@sakilacustomer.org', 15),\n",
        "    (12, 'Nancy', 'Thomas', 'nancy.thomas@sakilacustomer.org', 16),\n",
        "]\n",
        "\n",
        "cursor.executemany(\"INSERT INTO customer VALUES (?, ?, ?, ?, ?);\", sample_customers)\n",
        "\n",
        "\n",
        "print(\"Customer table created and sample data inserted.\")\n",
        "\n",
        "# Execute the SELECT query with LIMIT 10\n",
        "cursor.execute(\"SELECT * FROM customer LIMIT 10;\")\n",
        "\n",
        "# Fetch and display the results\n",
        "results = cursor.fetchall()\n",
        "\n",
        "if results:\n",
        "    print(\"First 10 records from the customer table:\")\n",
        "    for row in results:\n",
        "        print(row)\n",
        "else:\n",
        "    print(\"No customers found.\")\n",
        "\n",
        "# Close the connection\n",
        "conn.close()"
      ],
      "execution_count": null,
      "outputs": []
    },
    {
      "cell_type": "markdown",
      "source": [
        "**Q11 - Display the first 3 records from the customer table whose first name starts with ‘b’.**"
      ],
      "metadata": {
        "id": "jSet0g5J5Srz"
      }
    },
    {
      "cell_type": "code",
      "source": [
        "SELECT *\n",
        "FROM customer\n",
        "WHERE first_name LIKE 'b%'\n",
        "LIMIT 3;\n"
      ],
      "metadata": {
        "id": "P5N3TVWU5Tka"
      },
      "execution_count": null,
      "outputs": []
    },
    {
      "cell_type": "code",
      "metadata": {
        "id": "3f621ea0"
      },
      "source": [
        "import sqlite3\n",
        "\n",
        "# Connect to an in-memory SQLite database\n",
        "conn = sqlite3.connect(':memory:')\n",
        "cursor = conn.cursor()\n",
        "\n",
        "# Create the customer table\n",
        "cursor.execute(\"\"\"\n",
        "CREATE TABLE customer (\n",
        "    customer_id INTEGER PRIMARY KEY,\n",
        "    first_name VARCHAR(45),\n",
        "    last_name VARCHAR(45),\n",
        "    email VARCHAR(100) UNIQUE,\n",
        "    address_id INTEGER\n",
        ");\n",
        "\"\"\")\n",
        "\n",
        "# Insert sample data (including names starting with 'b')\n",
        "sample_customers = [\n",
        "    (1, 'Mary', 'Smith', 'mary.smith@sakilacustomer.org', 5),\n",
        "    (2, 'Barbara', 'Johnson', 'barbara.johnson@sakilacustomer.org', 6),\n",
        "    (3, 'Linda', 'Williams', 'linda.williams@sakilacustomer.org', 7),\n",
        "    (4, 'Betty', 'Jones', 'betty.jones@sakilacustomer.org', 8),\n",
        "    (5, 'Elizabeth', 'Brown', 'elizabeth.brown@sakilacustomer.org', 9),\n",
        "    (6, 'Brian', 'Davis', 'brian.davis@sakilacustomer.org', 10),\n",
        "    (7, 'Maria', 'Miller', 'maria.miller@sakilacustomer.org', 11),\n",
        "    (8, 'Susan', 'Wilson', 'susan.wilson@sakilacustomer.org', 12),\n",
        "]\n",
        "\n",
        "cursor.executemany(\"INSERT INTO customer VALUES (?, ?, ?, ?, ?);\", sample_customers)\n",
        "\n",
        "\n",
        "print(\"Customer table created and sample data inserted.\")\n",
        "\n",
        "# Execute the SELECT query with WHERE and LIMIT\n",
        "cursor.execute(\"SELECT * FROM customer WHERE first_name LIKE 'B%' LIMIT 3;\") # Use 'B%' for case-insensitive like\n",
        "\n",
        "# Fetch and display the results\n",
        "results = cursor.fetchall()\n",
        "\n",
        "if results:\n",
        "    print(\"First 3 records from the customer table whose first name starts with 'B':\")\n",
        "    for row in results:\n",
        "        print(row)\n",
        "else:\n",
        "    print(\"No customers found whose first name starts with 'B'.\")\n",
        "\n",
        "# Close the connection\n",
        "conn.close()"
      ],
      "execution_count": null,
      "outputs": []
    },
    {
      "cell_type": "markdown",
      "source": [
        "**Q12 -Display the names of the first 5 movies which are rated as ‘G’.**"
      ],
      "metadata": {
        "id": "DIjGKMqY5cJB"
      }
    },
    {
      "cell_type": "code",
      "source": [
        "SELECT title\n",
        "FROM film\n",
        "WHERE rating = 'G'\n",
        "LIMIT 5;\n"
      ],
      "metadata": {
        "id": "nQ2cZFdN5cvi"
      },
      "execution_count": null,
      "outputs": []
    },
    {
      "cell_type": "code",
      "metadata": {
        "id": "5656255c"
      },
      "source": [
        "import sqlite3\n",
        "\n",
        "# Connect to an in-memory SQLite database\n",
        "conn = sqlite3.connect(':memory:')\n",
        "cursor = conn.cursor()\n",
        "\n",
        "# Create the film table with rating\n",
        "cursor.execute(\"\"\"\n",
        "CREATE TABLE film (\n",
        "    film_id INTEGER PRIMARY KEY,\n",
        "    title TEXT NOT NULL,\n",
        "    rating VARCHAR(10)\n",
        ");\n",
        "\"\"\")\n",
        "\n",
        "# Insert some sample data\n",
        "cursor.execute(\"INSERT INTO film VALUES (1, 'Movie A', 'G');\")\n",
        "cursor.execute(\"INSERT INTO film VALUES (2, 'Movie B', 'PG');\")\n",
        "cursor.execute(\"INSERT INTO film VALUES (3, 'Movie C', 'G');\")\n",
        "cursor.execute(\"INSERT INTO film VALUES (4, 'Movie D', 'R');\")\n",
        "cursor.execute(\"INSERT INTO film VALUES (5, 'Movie E', 'G');\")\n",
        "cursor.execute(\"INSERT INTO film VALUES (6, 'Movie F', 'G');\") # Another G rated movie\n",
        "cursor.execute(\"INSERT INTO film VALUES (7, 'Movie G', 'G');\") # Another G rated movie\n",
        "cursor.execute(\"INSERT INTO film VALUES (8, 'Movie H', 'PG-13');\")\n",
        "\n",
        "\n",
        "print(\"Film table created with rating and sample data inserted.\")\n",
        "\n",
        "# Execute the SELECT query for G rated films with LIMIT 5\n",
        "cursor.execute(\"SELECT title FROM film WHERE rating = 'G' LIMIT 5;\")\n",
        "\n",
        "# Fetch and display the results\n",
        "results = cursor.fetchall()\n",
        "\n",
        "if results:\n",
        "    print(\"First 5 movies rated as 'G':\")\n",
        "    for row in results:\n",
        "        print(row[0]) # Access the title from the tuple\n",
        "else:\n",
        "    print(\"No G rated movies found.\")\n",
        "\n",
        "# Close the connection\n",
        "conn.close()"
      ],
      "execution_count": null,
      "outputs": []
    },
    {
      "cell_type": "markdown",
      "source": [
        "**Q13-Find all customers whose first name starts with \"a\".**"
      ],
      "metadata": {
        "id": "b7nLHK9Z5q96"
      }
    },
    {
      "cell_type": "code",
      "source": [
        "SELECT *\n",
        "FROM customer\n",
        "WHERE first_name LIKE 'a%';\n"
      ],
      "metadata": {
        "id": "pUJ7w-LO5ria"
      },
      "execution_count": null,
      "outputs": []
    },
    {
      "cell_type": "code",
      "metadata": {
        "id": "aca3f176"
      },
      "source": [
        "import sqlite3\n",
        "\n",
        "# Connect to an in-memory SQLite database\n",
        "conn = sqlite3.connect(':memory:')\n",
        "cursor = conn.cursor()\n",
        "\n",
        "# Create the customer table\n",
        "cursor.execute(\"\"\"\n",
        "CREATE TABLE customer (\n",
        "    customer_id INTEGER PRIMARY KEY,\n",
        "    first_name VARCHAR(45),\n",
        "    last_name VARCHAR(45),\n",
        "    email VARCHAR(100) UNIQUE,\n",
        "    address_id INTEGER\n",
        ");\n",
        "\"\"\")\n",
        "\n",
        "# Insert sample data (including names starting with 'a')\n",
        "sample_customers = [\n",
        "    (1, 'Mary', 'Smith', 'mary.smith@sakilacustomer.org', 5),\n",
        "    (2, 'Alice', 'Johnson', 'alice.johnson@sakilacustomer.org', 6),\n",
        "    (3, 'Linda', 'Williams', 'linda.williams@sakilacustomer.org', 7),\n",
        "    (4, 'Amanda', 'Jones', 'amanda.jones@sakilacustomer.org', 8),\n",
        "    (5, 'Elizabeth', 'Brown', 'elizabeth.brown@sakilacustomer.org', 9),\n",
        "    (6, 'Andrew', 'Davis', 'andrew.davis@sakilacustomer.org', 10),\n",
        "    (7, 'Maria', 'Miller', 'maria.miller@sakilacustomer.org', 11),\n",
        "    (8, 'Susan', 'Wilson', 'susan.wilson@sakilacustomer.org', 12),\n",
        "]\n",
        "\n",
        "cursor.executemany(\"INSERT INTO customer VALUES (?, ?, ?, ?, ?);\", sample_customers)\n",
        "\n",
        "\n",
        "print(\"Customer table created and sample data inserted.\")\n",
        "\n",
        "# Execute the SELECT query with WHERE\n",
        "cursor.execute(\"SELECT * FROM customer WHERE first_name LIKE 'A%';\") # Use 'A%' for case-insensitive like\n",
        "\n",
        "# Fetch and display the results\n",
        "results = cursor.fetchall()\n",
        "\n",
        "if results:\n",
        "    print(\"Customers whose first name starts with 'A':\")\n",
        "    for row in results:\n",
        "        print(row)\n",
        "else:\n",
        "    print(\"No customers found whose first name starts with 'A'.\")\n",
        "\n",
        "# Close the connection\n",
        "conn.close()"
      ],
      "execution_count": null,
      "outputs": []
    },
    {
      "cell_type": "markdown",
      "source": [
        "**Q14- Find all customers whose first name ends with \"a\".**"
      ],
      "metadata": {
        "id": "W_pHjsWS503b"
      }
    },
    {
      "cell_type": "code",
      "source": [
        "SELECT *\n",
        "FROM customer\n",
        "WHERE first_name LIKE '%a';\n"
      ],
      "metadata": {
        "id": "SfAVOB3952d5"
      },
      "execution_count": null,
      "outputs": []
    },
    {
      "cell_type": "code",
      "metadata": {
        "id": "d5f7f6e7"
      },
      "source": [
        "import sqlite3\n",
        "\n",
        "# Connect to an in-memory SQLite database\n",
        "conn = sqlite3.connect(':memory:')\n",
        "cursor = conn.cursor()\n",
        "\n",
        "# Create the customer table\n",
        "cursor.execute(\"\"\"\n",
        "CREATE TABLE customer (\n",
        "    customer_id INTEGER PRIMARY KEY,\n",
        "    first_name VARCHAR(45),\n",
        "    last_name VARCHAR(45),\n",
        "    email VARCHAR(100) UNIQUE,\n",
        "    address_id INTEGER\n",
        ");\n",
        "\"\"\")\n",
        "\n",
        "# Insert sample data (including names ending with 'a')\n",
        "sample_customers = [\n",
        "    (1, 'Mary', 'Smith', 'mary.smith@sakilacustomer.org', 5),\n",
        "    (2, 'Patricia', 'Johnson', 'patricia.johnson@sakilacustomer.org', 6),\n",
        "    (3, 'Linda', 'Williams', 'linda.williams@sakilacustomer.org', 7),\n",
        "    (4, 'Barbara', 'Jones', 'barbara.jones@sakilacustomer.org', 8),\n",
        "    (5, 'Elizabeth', 'Brown', 'elizabeth.brown@sakilacustomer.org', 9),\n",
        "    (6, 'Laura', 'Davis', 'laura.davis@sakilacustomer.org', 10),\n",
        "    (7, 'Maria', 'Miller', 'maria.miller@sakilacustomer.org', 11),\n",
        "    (8, 'Susan', 'Wilson', 'susan.wilson@sakilacustomer.org', 12),\n",
        "    (9, 'Amanda', 'Taylor', 'amanda.taylor@sakilacustomer.org', 13),\n",
        "]\n",
        "\n",
        "cursor.executemany(\"INSERT INTO customer VALUES (?, ?, ?, ?, ?);\", sample_customers)\n",
        "\n",
        "\n",
        "print(\"Customer table created and sample data inserted.\")\n",
        "\n",
        "# Execute the SELECT query with WHERE\n",
        "cursor.execute(\"SELECT * FROM customer WHERE first_name LIKE '%a';\")\n",
        "\n",
        "# Fetch and display the results\n",
        "results = cursor.fetchall()\n",
        "\n",
        "if results:\n",
        "    print(\"Customers whose first name ends with 'a':\")\n",
        "    for row in results:\n",
        "        print(row)\n",
        "else:\n",
        "    print(\"No customers found whose first name ends with 'a'.\")\n",
        "\n",
        "# Close the connection\n",
        "conn.close()"
      ],
      "execution_count": null,
      "outputs": []
    },
    {
      "cell_type": "markdown",
      "source": [
        "**Q15- Display the list of first 4 cities which start and end with 'a'.**"
      ],
      "metadata": {
        "id": "8QIih6fw6Brz"
      }
    },
    {
      "cell_type": "code",
      "source": [
        "SELECT city\n",
        "FROM city\n",
        "WHERE city LIKE 'a%' AND city LIKE '%a'\n",
        "LIMIT 4;\n"
      ],
      "metadata": {
        "id": "sAT3q_oF6CuR"
      },
      "execution_count": null,
      "outputs": []
    },
    {
      "cell_type": "code",
      "metadata": {
        "id": "a026d080"
      },
      "source": [
        "import sqlite3\n",
        "\n",
        "# Connect to an in-memory SQLite database\n",
        "conn = sqlite3.connect(':memory:')\n",
        "cursor = conn.cursor()\n",
        "\n",
        "# Create the city table\n",
        "cursor.execute(\"\"\"\n",
        "CREATE TABLE city (\n",
        "    city_id INTEGER PRIMARY KEY,\n",
        "    city TEXT NOT NULL\n",
        ");\n",
        "\"\"\")\n",
        "\n",
        "# Insert some sample data\n",
        "cursor.execute(\"INSERT INTO city VALUES (1, 'Acton');\")\n",
        "cursor.execute(\"INSERT INTO city VALUES (2, 'London');\")\n",
        "cursor.execute(\"INSERT INTO city VALUES (3, 'Atlanta');\")\n",
        "cursor.execute(\"INSERT INTO city VALUES (4, 'Alabama');\")\n",
        "cursor.execute(\"INSERT INTO city VALUES (5, 'Paris');\")\n",
        "cursor.execute(\"INSERT INTO city VALUES (6, 'Aurora');\")\n",
        "\n",
        "\n",
        "print(\"City table created and sample data inserted.\")\n",
        "\n",
        "# Execute the SELECT query\n",
        "cursor.execute(\"SELECT city FROM city WHERE city LIKE 'a%' AND city LIKE '%a' LIMIT 4;\")\n",
        "\n",
        "# Fetch and display the results\n",
        "results = cursor.fetchall()\n",
        "\n",
        "if results:\n",
        "    print(\"First 4 cities that start and end with 'a':\")\n",
        "    for row in results:\n",
        "        print(row[0]) # Access the city name from the tuple\n",
        "else:\n",
        "    print(\"No cities found that start and end with 'a'.\")\n",
        "\n",
        "# Close the connection\n",
        "conn.close()"
      ],
      "execution_count": null,
      "outputs": []
    },
    {
      "cell_type": "markdown",
      "source": [
        "**Q16- Find all customers whose first name have \"NI\" in any position.**"
      ],
      "metadata": {
        "id": "6mEWP5vi6LxS"
      }
    },
    {
      "cell_type": "code",
      "source": [
        "SELECT *\n",
        "FROM customer\n",
        "WHERE first_name LIKE '%NI%';\n"
      ],
      "metadata": {
        "id": "4z8W4EIF6M8i"
      },
      "execution_count": null,
      "outputs": []
    },
    {
      "cell_type": "code",
      "metadata": {
        "id": "4059fa31",
        "colab": {
          "base_uri": "https://localhost:8080/"
        },
        "outputId": "5634f967-1a5b-4a2c-9220-c2b69568cd67"
      },
      "source": [
        "import sqlite3\n",
        "\n",
        "# Connect to an in-memory SQLite database\n",
        "conn = sqlite3.connect(':memory:')\n",
        "cursor = conn.cursor()\n",
        "\n",
        "# Create the customer table\n",
        "cursor.execute(\"\"\"\n",
        "CREATE TABLE customer (\n",
        "    customer_id INTEGER PRIMARY KEY,\n",
        "    first_name VARCHAR(45),\n",
        "    last_name VARCHAR(45),\n",
        "    email VARCHAR(100) UNIQUE,\n",
        "    address_id INTEGER\n",
        ");\n",
        "\"\"\")\n",
        "\n",
        "# Insert sample data (including names with \"NI\")\n",
        "sample_customers = [\n",
        "    (1, 'Mary', 'Smith', 'mary.smith@sakilacustomer.org', 5),\n",
        "    (2, 'Patricia', 'Johnson', 'patricia.johnson@sakilacustomer.org', 6),\n",
        "    (3, 'Linda', 'Williams', 'linda.williams@sakilacustomer.org', 7),\n",
        "    (4, 'Barbara', 'Jones', 'barbara.jones@sakilacustomer.org', 8),\n",
        "    (5, 'Elizabeth', 'Brown', 'elizabeth.brown@sakilacustomer.org', 9),\n",
        "    (6, 'Nicole', 'Davis', 'nicole.davis@sakilacustomer.org', 10),\n",
        "    (7, 'Maria', 'Miller', 'maria.miller@sakilacustomer.org', 11),\n",
        "    (8, 'Dennis', 'Wilson', 'dennis.wilson@sakilacustomer.org', 12),\n",
        "    (9, 'Christine', 'Taylor', 'christine.taylor@sakilacustomer.org', 13),\n",
        "]\n",
        "\n",
        "cursor.executemany(\"INSERT INTO customer VALUES (?, ?, ?, ?, ?);\", sample_customers)\n",
        "\n",
        "\n",
        "print(\"Customer table created and sample data inserted.\")\n",
        "\n",
        "# Execute the SELECT query with WHERE\n",
        "cursor.execute(\"SELECT * FROM customer WHERE first_name LIKE '%NI%';\")\n",
        "\n",
        "# Fetch and display the results\n",
        "results = cursor.fetchall()\n",
        "\n",
        "if results:\n",
        "    print(\"Customers whose first name contains 'NI':\")\n",
        "    for row in results:\n",
        "        print(row)\n",
        "else:\n",
        "    print(\"No customers found whose first name contains 'NI'.\")\n",
        "\n",
        "# Close the connection\n",
        "conn.close()"
      ],
      "execution_count": null,
      "outputs": [
        {
          "output_type": "stream",
          "name": "stdout",
          "text": [
            "Customer table created and sample data inserted.\n",
            "Customers whose first name contains 'NI':\n",
            "(6, 'Nicole', 'Davis', 'nicole.davis@sakilacustomer.org', 10)\n",
            "(8, 'Dennis', 'Wilson', 'dennis.wilson@sakilacustomer.org', 12)\n"
          ]
        }
      ]
    },
    {
      "cell_type": "markdown",
      "source": [
        "**Q17- Find all customers whose first name have \"r\" in the second position.**"
      ],
      "metadata": {
        "id": "TEhN4hjm6aBS"
      }
    },
    {
      "cell_type": "code",
      "source": [
        "SELECT *\n",
        "FROM customer\n",
        "WHERE first_name LIKE '_r%';\n"
      ],
      "metadata": {
        "id": "TRn1cb8h6an1",
        "colab": {
          "base_uri": "https://localhost:8080/",
          "height": 106
        },
        "outputId": "98008795-397b-488c-a8f3-29c9c8a563a5"
      },
      "execution_count": null,
      "outputs": [
        {
          "output_type": "error",
          "ename": "SyntaxError",
          "evalue": "invalid syntax (ipython-input-1372733534.py, line 1)",
          "traceback": [
            "\u001b[0;36m  File \u001b[0;32m\"/tmp/ipython-input-1372733534.py\"\u001b[0;36m, line \u001b[0;32m1\u001b[0m\n\u001b[0;31m    SELECT *\u001b[0m\n\u001b[0m            ^\u001b[0m\n\u001b[0;31mSyntaxError\u001b[0m\u001b[0;31m:\u001b[0m invalid syntax\n"
          ]
        }
      ]
    },
    {
      "cell_type": "code",
      "metadata": {
        "id": "e8e7d049"
      },
      "source": [
        "import sqlite3\n",
        "\n",
        "# Connect to an in-memory SQLite database\n",
        "conn = sqlite3.connect(':memory:')\n",
        "cursor = conn.cursor()\n",
        "\n",
        "# Create the customer table\n",
        "cursor.execute(\"\"\"\n",
        "CREATE TABLE customer (\n",
        "    customer_id INTEGER PRIMARY KEY,\n",
        "    first_name VARCHAR(45),\n",
        "    last_name VARCHAR(45),\n",
        "    email VARCHAR(100) UNIQUE,\n",
        "    address_id INTEGER\n",
        ");\n",
        "\"\"\")\n",
        "\n",
        "# Insert sample data (including names with 'r' in the second position)\n",
        "sample_customers = [\n",
        "    (1, 'Mary', 'Smith', 'mary.smith@sakilacustomer.org', 5),\n",
        "    (2, 'Patricia', 'Johnson', 'patricia.johnson@sakilacustomer.org', 6),\n",
        "    (3, 'Linda', 'Williams', 'linda.williams@sakilacustomer.org', 7),\n",
        "    (4, 'Barbara', 'Jones', 'barbara.jones@sakilacustomer.org', 8),\n",
        "    (5, 'Elizabeth', 'Brown', 'elizabeth.brown@sakilacustomer.org', 9),\n",
        "    (6, 'Robert', 'Davis', 'robert.davis@sakilacustomer.org', 10),\n",
        "    (7, 'Maria', 'Miller', 'maria.miller@sakilacustomer.org', 11),\n",
        "    (8, 'Susan', 'Wilson', 'susan.wilson@sakilacustomer.org', 12),\n",
        "    (9, 'Frank', 'Taylor', 'frank.taylor@sakilacustomer.org', 13), # 'r' in second position\n",
        "    (10, 'Grace', 'Moore', 'grace.moore@sakilacustomer.org', 14), # 'r' in second position\n",
        "\n",
        "]\n",
        "\n",
        "cursor.executemany(\"INSERT INTO customer VALUES (?, ?, ?, ?, ?);\", sample_customers)\n",
        "\n",
        "\n",
        "print(\"Customer table created and sample data inserted.\")\n",
        "\n",
        "# Execute the SELECT query with WHERE\n",
        "cursor.execute(\"SELECT * FROM customer WHERE first_name LIKE '_r%';\")\n",
        "\n",
        "# Fetch and display the results\n",
        "results = cursor.fetchall()\n",
        "\n",
        "if results:\n",
        "    print(\"Customers whose first name has 'r' in the second position:\")\n",
        "    for row in results:\n",
        "        print(row)\n",
        "else:\n",
        "    print(\"No customers found whose first name has 'r' in the second position.\")\n",
        "\n",
        "# Close the connection\n",
        "conn.close()"
      ],
      "execution_count": null,
      "outputs": []
    },
    {
      "cell_type": "markdown",
      "source": [
        "**Q18 - Find all customers whose first name starts with \"a\" and are at least 5 characters in length.**"
      ],
      "metadata": {
        "id": "coC5P3Rb6j37"
      }
    },
    {
      "cell_type": "code",
      "source": [
        "SELECT *\n",
        "FROM customer\n",
        "WHERE first_name LIKE 'a%'\n",
        "  AND LENGTH(first_name) >= 5;\n"
      ],
      "metadata": {
        "id": "L_zoBqG_6k4B"
      },
      "execution_count": null,
      "outputs": []
    },
    {
      "cell_type": "code",
      "metadata": {
        "id": "ec5d156d"
      },
      "source": [
        "import sqlite3\n",
        "\n",
        "# Connect to an in-memory SQLite database\n",
        "conn = sqlite3.connect(':memory:')\n",
        "cursor = conn.cursor()\n",
        "\n",
        "# Create the customer table\n",
        "cursor.execute(\"\"\"\n",
        "CREATE TABLE customer (\n",
        "    customer_id INTEGER PRIMARY KEY,\n",
        "    first_name VARCHAR(45),\n",
        "    last_name VARCHAR(45),\n",
        "    email VARCHAR(100) UNIQUE,\n",
        "    address_id INTEGER\n",
        ");\n",
        "\"\"\")\n",
        "\n",
        "# Insert sample data (including names starting with 'a' and different lengths)\n",
        "sample_customers = [\n",
        "    (1, 'Amy', 'Smith', 'amy.smith@sakilacustomer.org', 5),   # Starts with a, length 3\n",
        "    (2, 'Alice', 'Johnson', 'alice.johnson@sakilacustomer.org', 6), # Starts with a, length 5\n",
        "    (3, 'Linda', 'Williams', 'linda.williams@sakilacustomer.org', 7),\n",
        "    (4, 'Amanda', 'Jones', 'amanda.jones@sakilacustomer.org', 8), # Starts with a, length 6\n",
        "    (5, 'Elizabeth', 'Brown', 'elizabeth.brown@sakilacustomer.org', 9),\n",
        "    (6, 'Andrew', 'Davis', 'andrew.davis@sakilacustomer.org', 10), # Starts with a, length 6\n",
        "    (7, 'Maria', 'Miller', 'maria.miller@sakilacustomer.org', 11),\n",
        "    (8, 'Susan', 'Wilson', 'susan.wilson@sakilacustomer.org', 12),\n",
        "    (9, 'Ann', 'Taylor', 'ann.taylor@sakilacustomer.org', 13),     # Starts with a, length 3\n",
        "]\n",
        "\n",
        "cursor.executemany(\"INSERT INTO customer VALUES (?, ?, ?, ?, ?);\", sample_customers)\n",
        "\n",
        "\n",
        "print(\"Customer table created and sample data inserted.\")\n",
        "\n",
        "# Execute the SELECT query with WHERE\n",
        "cursor.execute(\"SELECT * FROM customer WHERE first_name LIKE 'A%' AND LENGTH(first_name) >= 5;\") # Use 'A%' for case-insensitive like\n",
        "\n",
        "# Fetch and display the results\n",
        "results = cursor.fetchall()\n",
        "\n",
        "if results:\n",
        "    print(\"Customers whose first name starts with 'A' and are at least 5 characters long:\")\n",
        "    for row in results:\n",
        "        print(row)\n",
        "else:\n",
        "    print(\"No customers found whose first name starts with 'A' and are at least 5 characters long.\")\n",
        "\n",
        "# Close the connection\n",
        "conn.close()"
      ],
      "execution_count": null,
      "outputs": []
    },
    {
      "cell_type": "markdown",
      "source": [
        "**Q19 Find all customers whose first name starts with \"a\" and ends with \"o\"**"
      ],
      "metadata": {
        "id": "_UE991i86t4E"
      }
    },
    {
      "cell_type": "code",
      "source": [
        "SELECT *\n",
        "FROM customer\n",
        "WHERE first_name LIKE 'a%o';\n"
      ],
      "metadata": {
        "id": "QAgcp0lE6u-T"
      },
      "execution_count": null,
      "outputs": []
    },
    {
      "cell_type": "code",
      "metadata": {
        "id": "398c5b23"
      },
      "source": [
        "import sqlite3\n",
        "\n",
        "# Connect to an in-memory SQLite database\n",
        "conn = sqlite3.connect(':memory:')\n",
        "cursor = conn.cursor()\n",
        "\n",
        "# Create the customer table\n",
        "cursor.execute(\"\"\"\n",
        "CREATE TABLE customer (\n",
        "    customer_id INTEGER PRIMARY KEY,\n",
        "    first_name VARCHAR(45),\n",
        "    last_name VARCHAR(45),\n",
        "    email VARCHAR(100) UNIQUE,\n",
        "    address_id INTEGER\n",
        ");\n",
        "\"\"\")\n",
        "\n",
        "# Insert sample data (including names that start with 'a' and end with 'o')\n",
        "sample_customers = [\n",
        "    (1, 'Mary', 'Smith', 'mary.smith@sakilacustomer.org', 5),\n",
        "    (2, 'Alice', 'Johnson', 'alice.johnson@sakilacustomer.org', 6),\n",
        "    (3, 'Linda', 'Williams', 'linda.williams@sakilacustomer.org', 7),\n",
        "    (4, 'Amanda', 'Jones', 'amanda.jones@sakilacustomer.org', 8),\n",
        "    (5, 'Elizabeth', 'Brown', 'elizabeth.brown@sakilacustomer.org', 9),\n",
        "    (6, 'Antonio', 'Davis', 'antonio.davis@sakilacustomer.org', 10), # Starts with a, ends with o\n",
        "    (7, 'Maria', 'Miller', 'maria.miller@sakilacustomer.org', 11),\n",
        "    (8, 'Alberto', 'Wilson', 'alberto.wilson@sakilacustomer.org', 12), # Starts with a, ends with o\n",
        "    (9, 'Susan', 'Taylor', 'susan.taylor@sakilacustomer.org', 13),\n",
        "]\n",
        "\n",
        "cursor.executemany(\"INSERT INTO customer VALUES (?, ?, ?, ?, ?);\", sample_customers)\n",
        "\n",
        "\n",
        "print(\"Customer table created and sample data inserted.\")\n",
        "\n",
        "# Execute the SELECT query with WHERE\n",
        "cursor.execute(\"SELECT * FROM customer WHERE first_name LIKE 'A%o';\") # Use 'A%o' for case-insensitive like\n",
        "\n",
        "# Fetch and display the results\n",
        "results = cursor.fetchall()\n",
        "\n",
        "if results:\n",
        "    print(\"Customers whose first name starts with 'A' and ends with 'o':\")\n",
        "    for row in results:\n",
        "        print(row)\n",
        "else:\n",
        "    print(\"No customers found whose first name starts with 'A' and ends with 'o'.\")\n",
        "\n",
        "# Close the connection\n",
        "conn.close()"
      ],
      "execution_count": null,
      "outputs": []
    },
    {
      "cell_type": "markdown",
      "source": [
        "**Q20 - Get the films with pg and pg-13 rating using IN operator.**"
      ],
      "metadata": {
        "id": "ue96S1057BAB"
      }
    },
    {
      "cell_type": "code",
      "source": [
        "SELECT *\n",
        "FROM film\n",
        "WHERE rating IN ('PG', 'PG-13');\n"
      ],
      "metadata": {
        "id": "5FCxLRJe7Bon",
        "colab": {
          "base_uri": "https://localhost:8080/",
          "height": 106
        },
        "outputId": "22e0bf6a-ab45-484a-c4fd-f9bfb2b78a00"
      },
      "execution_count": null,
      "outputs": [
        {
          "output_type": "error",
          "ename": "SyntaxError",
          "evalue": "invalid syntax (ipython-input-255100850.py, line 1)",
          "traceback": [
            "\u001b[0;36m  File \u001b[0;32m\"/tmp/ipython-input-255100850.py\"\u001b[0;36m, line \u001b[0;32m1\u001b[0m\n\u001b[0;31m    SELECT *\u001b[0m\n\u001b[0m            ^\u001b[0m\n\u001b[0;31mSyntaxError\u001b[0m\u001b[0;31m:\u001b[0m invalid syntax\n"
          ]
        }
      ]
    },
    {
      "cell_type": "code",
      "metadata": {
        "id": "2ad3d0af"
      },
      "source": [
        "import sqlite3\n",
        "\n",
        "# Connect to an in-memory SQLite database\n",
        "conn = sqlite3.connect(':memory:')\n",
        "cursor = conn.cursor()\n",
        "\n",
        "# Create the film table with rating\n",
        "cursor.execute(\"\"\"\n",
        "CREATE TABLE film (\n",
        "    film_id INTEGER PRIMARY KEY,\n",
        "    title TEXT NOT NULL,\n",
        "    rating VARCHAR(10)\n",
        ");\n",
        "\"\"\")\n",
        "\n",
        "# Insert some sample data\n",
        "cursor.execute(\"INSERT INTO film VALUES (1, 'Movie A', 'G');\")\n",
        "cursor.execute(\"INSERT INTO film VALUES (2, 'Movie B', 'PG');\")\n",
        "cursor.execute(\"INSERT INTO film VALUES (3, 'Movie C', 'G');\")\n",
        "cursor.execute(\"INSERT INTO film VALUES (4, 'Movie D', 'R');\")\n",
        "cursor.execute(\"INSERT INTO film VALUES (5, 'Movie E', 'G');\")\n",
        "cursor.execute(\"INSERT INTO film VALUES (6, 'Movie F', 'PG-13');\") # PG-13 rated movie\n",
        "cursor.execute(\"INSERT INTO film VALUES (7, 'Movie G', 'G');\")\n",
        "cursor.execute(\"INSERT INTO film VALUES (8, 'Movie H', 'PG-13');\") # Another PG-13 rated movie\n",
        "\n",
        "\n",
        "print(\"Film table created with rating and sample data inserted.\")\n",
        "\n",
        "# Execute the SELECT query for PG and PG-13 rated films\n",
        "cursor.execute(\"SELECT * FROM film WHERE rating IN ('PG', 'PG-13');\")\n",
        "\n",
        "# Fetch and display the results\n",
        "results = cursor.fetchall()\n",
        "\n",
        "if results:\n",
        "    print(\"Films with 'PG' or 'PG-13' rating:\")\n",
        "    for row in results:\n",
        "        print(row)\n",
        "else:\n",
        "    print(\"No films found with 'PG' or 'PG-13' rating.\")\n",
        "\n",
        "# Close the connection\n",
        "conn.close()"
      ],
      "execution_count": null,
      "outputs": []
    },
    {
      "cell_type": "markdown",
      "source": [
        "**Q21 - Get the films with length between 50 to 100 using between operator.**"
      ],
      "metadata": {
        "id": "mYj8Ik817LtD"
      }
    },
    {
      "cell_type": "code",
      "source": [
        "SELECT *\n",
        "FROM film\n",
        "WHERE length BETWEEN 50 AND 100;\n"
      ],
      "metadata": {
        "id": "UbD6X0t07Mw7",
        "colab": {
          "base_uri": "https://localhost:8080/",
          "height": 106
        },
        "outputId": "480c1a6f-93c6-48b7-d9aa-e9db15111f97"
      },
      "execution_count": null,
      "outputs": [
        {
          "output_type": "error",
          "ename": "SyntaxError",
          "evalue": "invalid syntax (ipython-input-4175513269.py, line 1)",
          "traceback": [
            "\u001b[0;36m  File \u001b[0;32m\"/tmp/ipython-input-4175513269.py\"\u001b[0;36m, line \u001b[0;32m1\u001b[0m\n\u001b[0;31m    SELECT *\u001b[0m\n\u001b[0m            ^\u001b[0m\n\u001b[0;31mSyntaxError\u001b[0m\u001b[0;31m:\u001b[0m invalid syntax\n"
          ]
        }
      ]
    },
    {
      "cell_type": "code",
      "metadata": {
        "id": "2f6f2f4f"
      },
      "source": [
        "import sqlite3\n",
        "\n",
        "# Connect to an in-memory SQLite database\n",
        "conn = sqlite3.connect(':memory:')\n",
        "cursor = conn.cursor()\n",
        "\n",
        "# Create the film table with length\n",
        "cursor.execute(\"\"\"\n",
        "CREATE TABLE film (\n",
        "    film_id INTEGER PRIMARY KEY,\n",
        "    title TEXT NOT NULL,\n",
        "    length INTEGER\n",
        ");\n",
        "\"\"\")\n",
        "\n",
        "# Insert some sample data\n",
        "cursor.execute(\"INSERT INTO film VALUES (1, 'Film A', 45);\") # Length < 50\n",
        "cursor.execute(\"INSERT INTO film VALUES (2, 'Film B', 75);\") # Length between 50 and 100\n",
        "cursor.execute(\"INSERT INTO film VALUES (3, 'Film C', 110);\") # Length > 100\n",
        "cursor.execute(\"INSERT INTO film VALUES (4, 'Film D', 90);\") # Length between 50 and 100\n",
        "\n",
        "\n",
        "print(\"Film table created with length and sample data inserted.\")\n",
        "\n",
        "# Execute the SELECT query for films with length between 50 and 100\n",
        "cursor.execute(\"SELECT * FROM film WHERE length BETWEEN 50 AND 100;\")\n",
        "\n",
        "# Fetch and display the results\n",
        "results = cursor.fetchall()\n",
        "\n",
        "if results:\n",
        "    print(\"Films with length between 50 and 100:\")\n",
        "    for row in results:\n",
        "        print(row)\n",
        "else:\n",
        "    print(\"No films found with length between 50 and 100.\")\n",
        "\n",
        "# Close the connection\n",
        "conn.close()"
      ],
      "execution_count": null,
      "outputs": []
    },
    {
      "cell_type": "markdown",
      "source": [
        "**Q22 - Get the top 50 actors using limit operator.**"
      ],
      "metadata": {
        "id": "fnzZL43j7cwL"
      }
    },
    {
      "cell_type": "code",
      "source": [
        "SELECT TOP 50 *\n",
        "FROM actor;\n"
      ],
      "metadata": {
        "id": "MAfM2vKx7enC"
      },
      "execution_count": null,
      "outputs": []
    },
    {
      "cell_type": "code",
      "metadata": {
        "id": "6c26af64"
      },
      "source": [
        "import sqlite3\n",
        "\n",
        "# Connect to an in-memory SQLite database\n",
        "conn = sqlite3.connect(':memory:')\n",
        "cursor = conn.cursor()\n",
        "\n",
        "# Create the actor table\n",
        "cursor.execute(\"\"\"\n",
        "CREATE TABLE actor (\n",
        "    actor_id INTEGER PRIMARY KEY,\n",
        "    first_name VARCHAR(45),\n",
        "    last_name VARCHAR(45),\n",
        "    last_update TIMESTAMP\n",
        ");\n",
        "\"\"\")\n",
        "\n",
        "# Insert some sample data (more than 50 records if you want to see the LIMIT take effect,\n",
        "# but for this example, I'll insert a few)\n",
        "sample_actors = [\n",
        "    (1, 'Penelope', 'Guiness', '2006-02-15 04:34:33'),\n",
        "    (2, 'Nick', 'Wahlberg', '2006-02-15 04:34:33'),\n",
        "    (3, 'Ed', 'Chase', '2006-02-15 04:34:33'),\n",
        "    (4, 'Jennifer', 'Davis', '2006-02-15 04:34:33'),\n",
        "    (5, 'Johnny', 'Lollobrigida', '2006-02-15 04:34:33'),\n",
        "    (6, 'Bette', 'Davis', '2006-02-15 04:34:33'),\n",
        "    (7, 'Grace', 'Mostel', '2006-02-15 04:34:33'),\n",
        "    (8, 'Matthew', 'Johansson', '2006-02-15 04:34:33'),\n",
        "    (9, 'Joe', 'Swank', '2006-02-15 04:34:33'),\n",
        "    (10, 'Christian', 'Gable', '2006-02-15 04:34:33'),\n",
        "]\n",
        "cursor.executemany(\"INSERT INTO actor VALUES (?, ?, ?, ?);\", sample_actors)\n",
        "\n",
        "\n",
        "print(\"Actor table created and sample data inserted.\")\n",
        "\n",
        "# Execute the SELECT query with LIMIT 50\n",
        "# SQLite uses LIMIT, not TOP\n",
        "cursor.execute(\"SELECT * FROM actor LIMIT 50;\")\n",
        "\n",
        "# Fetch and display the results\n",
        "results = cursor.fetchall()\n",
        "\n",
        "if results:\n",
        "    print(\"First 50 records from the actor table:\")\n",
        "    for row in results:\n",
        "        print(row)\n",
        "else:\n",
        "    print(\"No actors found.\")\n",
        "\n",
        "\n",
        "# Close the connection\n",
        "conn.close()"
      ],
      "execution_count": null,
      "outputs": []
    },
    {
      "cell_type": "markdown",
      "source": [
        "**Q23 - Get the distinct film ids from inventory table.**"
      ],
      "metadata": {
        "id": "muOaDzQH7q1y"
      }
    },
    {
      "cell_type": "code",
      "source": [
        "SELECT DISTINCT film_id\n",
        "FROM inventory;\n"
      ],
      "metadata": {
        "id": "8U938_dh7rWq"
      },
      "execution_count": null,
      "outputs": []
    },
    {
      "cell_type": "code",
      "metadata": {
        "id": "40b8993b"
      },
      "source": [
        "import sqlite3\n",
        "\n",
        "# Connect to an in-memory SQLite database\n",
        "conn = sqlite3.connect(':memory:')\n",
        "cursor = conn.cursor()\n",
        "\n",
        "# Create the inventory table\n",
        "cursor.execute(\"\"\"\n",
        "CREATE TABLE inventory (\n",
        "    inventory_id INTEGER PRIMARY KEY,\n",
        "    film_id INTEGER,\n",
        "    store_id INTEGER\n",
        ");\n",
        "\"\"\")\n",
        "\n",
        "# Insert some sample data (including duplicate film_ids)\n",
        "cursor.execute(\"INSERT INTO inventory VALUES (1, 101, 1);\")\n",
        "cursor.execute(\"INSERT INTO inventory VALUES (2, 102, 1);\")\n",
        "cursor.execute(\"INSERT INTO inventory VALUES (3, 101, 2);\") # Duplicate film_id\n",
        "cursor.execute(\"INSERT INTO inventory VALUES (4, 103, 1);\")\n",
        "cursor.execute(\"INSERT INTO inventory VALUES (5, 102, 2);\") # Duplicate film_id\n",
        "\n",
        "\n",
        "print(\"Inventory table created and sample data inserted.\")\n",
        "\n",
        "# Execute the SELECT DISTINCT query\n",
        "cursor.execute(\"SELECT DISTINCT film_id FROM inventory;\")\n",
        "\n",
        "# Fetch and display the results\n",
        "results = cursor.fetchall()\n",
        "\n",
        "if results:\n",
        "    print(\"Distinct film IDs from inventory:\")\n",
        "    for row in results:\n",
        "        print(row[0]) # Access the film_id from the tuple\n",
        "else:\n",
        "    print(\"No film IDs found in inventory.\")\n",
        "\n",
        "# Close the connection\n",
        "conn.close()"
      ],
      "execution_count": null,
      "outputs": []
    },
    {
      "cell_type": "markdown",
      "source": [
        "#Functions\n",
        "\n",
        "##Basic Aggregate Functions:"
      ],
      "metadata": {
        "id": "cJ1rjHgp8W3L"
      }
    },
    {
      "cell_type": "markdown",
      "source": [
        "**Question 1:**\n",
        "\n",
        "Retrieve the total number of rentals made in the Sakila database.\n",
        "\n",
        "Hint: Use the COUNT() function.\n"
      ],
      "metadata": {
        "id": "vb-4ew3X8YQy"
      }
    },
    {
      "cell_type": "code",
      "source": [
        "-- Use the Sakila database\n",
        "USE sakila;\n",
        "\n",
        "-- Get the total number of rentals\n",
        "SELECT\n",
        "    COUNT(*) AS total_rentals\n",
        "FROM\n",
        "    rental;\n"
      ],
      "metadata": {
        "id": "Y7OqPFfjfEQb"
      },
      "execution_count": null,
      "outputs": []
    },
    {
      "cell_type": "code",
      "metadata": {
        "colab": {
          "base_uri": "https://localhost:8080/"
        },
        "id": "e93bf102",
        "outputId": "0957c6d6-bb8e-4821-d5ca-41336190cc3c"
      },
      "source": [
        "import sqlite3\n",
        "\n",
        "# Connect to an in-memory SQLite database for demonstration\n",
        "conn = sqlite3.connect(':memory:')\n",
        "cursor = conn.cursor()\n",
        "\n",
        "# Create a dummy rental table and insert some data for demonstration\n",
        "cursor.execute(\"\"\"\n",
        "CREATE TABLE rental (\n",
        "    rental_id INTEGER PRIMARY KEY,\n",
        "    rental_date DATE NOT NULL,\n",
        "    inventory_id INTEGER NOT NULL,\n",
        "    customer_id INTEGER NOT NULL,\n",
        "    return_date DATE,\n",
        "    staff_id INTEGER NOT NULL\n",
        ");\n",
        "\"\"\")\n",
        "\n",
        "cursor.execute(\"INSERT INTO rental VALUES (1, '2023-10-27', 101, 1, '2023-11-01', 1);\")\n",
        "cursor.execute(\"INSERT INTO rental VALUES (2, '2023-10-28', 102, 2, '2023-11-05', 1);\")\n",
        "cursor.execute(\"INSERT INTO rental VALUES (3, '2023-10-28', 103, 1, '2023-11-04', 2);\")\n",
        "cursor.execute(\"INSERT INTO rental VALUES (4, '2023-10-29', 101, 3, '2023-11-06', 1);\")\n",
        "\n",
        "\n",
        "# Execute the SQL query to get the total number of rentals\n",
        "cursor.execute(\"SELECT COUNT(*) AS total_rentals FROM rental;\")\n",
        "\n",
        "# Fetch and display the result\n",
        "total_rentals = cursor.fetchone()[0]\n",
        "print(f\"Total number of rentals: {total_rentals}\")\n",
        "\n",
        "# Close the connection\n",
        "conn.close()"
      ],
      "execution_count": null,
      "outputs": [
        {
          "output_type": "stream",
          "name": "stdout",
          "text": [
            "Total number of rentals: 4\n"
          ]
        }
      ]
    },
    {
      "cell_type": "markdown",
      "metadata": {
        "id": "43d92a69"
      },
      "source": [
        "**Question 2:**\n",
        "\n",
        "Calculate the average rental duration of films in the Sakila database.\n",
        "\n",
        "Hint: Use the AVG() function."
      ]
    },
    {
      "cell_type": "code",
      "metadata": {
        "colab": {
          "base_uri": "https://localhost:8080/"
        },
        "id": "e746e303",
        "outputId": "81395692-8d1b-4169-cbda-d2b0b2566b6e"
      },
      "source": [
        "import sqlite3\n",
        "\n",
        "# Connect to an in-memory SQLite database for demonstration\n",
        "conn = sqlite3.connect(':memory:')\n",
        "cursor = conn.cursor()\n",
        "\n",
        "# Create a dummy film table with rental_duration\n",
        "cursor.execute(\"\"\"\n",
        "CREATE TABLE film (\n",
        "    film_id INTEGER PRIMARY KEY,\n",
        "    title TEXT NOT NULL,\n",
        "    rental_duration INTEGER\n",
        ");\n",
        "\"\"\")\n",
        "\n",
        "# Insert some sample data\n",
        "cursor.execute(\"INSERT INTO film VALUES (1, 'Film A', 3);\")\n",
        "cursor.execute(\"INSERT INTO film VALUES (2, 'Film B', 7);\")\n",
        "cursor.execute(\"INSERT INTO film VALUES (3, 'Film C', 5);\")\n",
        "cursor.execute(\"INSERT INTO film VALUES (4, 'Film D', 8);\")\n",
        "\n",
        "\n",
        "# Execute the SQL query to calculate the average rental duration\n",
        "cursor.execute(\"SELECT AVG(rental_duration) AS average_rental_duration FROM film;\")\n",
        "\n",
        "# Fetch and display the result\n",
        "average_duration = cursor.fetchone()[0]\n",
        "print(f\"Average rental duration: {average_duration}\")\n",
        "\n",
        "# Close the connection\n",
        "conn.close()"
      ],
      "execution_count": null,
      "outputs": [
        {
          "output_type": "stream",
          "name": "stdout",
          "text": [
            "Average rental duration: 5.75\n"
          ]
        }
      ]
    },
    {
      "cell_type": "markdown",
      "metadata": {
        "id": "455ec29c"
      },
      "source": [
        "**Question 3:**\n",
        "String Functions:\n",
        "\n",
        "Display the first name and last name of customers in uppercase.\n",
        "\n",
        "Hint: Use the UPPER () function."
      ]
    },
    {
      "cell_type": "code",
      "source": [
        "USE sakila;\n",
        "\n",
        "SELECT\n",
        "    UPPER(first_name) AS first_name_upper,\n",
        "    UPPER(last_name) AS last_name_upper\n",
        "FROM\n",
        "    customer;\n"
      ],
      "metadata": {
        "colab": {
          "base_uri": "https://localhost:8080/",
          "height": 106
        },
        "id": "bWCjmsTNgh2r",
        "outputId": "d51e69c7-9d8c-4cd8-f905-45d2dbdf8470"
      },
      "execution_count": null,
      "outputs": [
        {
          "output_type": "error",
          "ename": "SyntaxError",
          "evalue": "invalid syntax (ipython-input-1453329998.py, line 1)",
          "traceback": [
            "\u001b[0;36m  File \u001b[0;32m\"/tmp/ipython-input-1453329998.py\"\u001b[0;36m, line \u001b[0;32m1\u001b[0m\n\u001b[0;31m    USE sakila;\u001b[0m\n\u001b[0m        ^\u001b[0m\n\u001b[0;31mSyntaxError\u001b[0m\u001b[0;31m:\u001b[0m invalid syntax\n"
          ]
        }
      ]
    },
    {
      "cell_type": "markdown",
      "metadata": {
        "id": "fa382cf5"
      },
      "source": [
        "**Question 4:**\n",
        "\n",
        "Extract the month from the rental date and display it alongside the rental ID.\n",
        "\n",
        "Hint: Employ the MONTH() function."
      ]
    },
    {
      "cell_type": "code",
      "source": [
        "import sqlite3\n",
        "\n",
        "# Connect to an in-memory SQLite database for demonstration\n",
        "conn = sqlite3.connect(':memory:')\n",
        "cursor = conn.cursor()\n",
        "\n",
        "# Create a dummy rental table with sample data\n",
        "cursor.execute(\"\"\"\n",
        "CREATE TABLE rental (\n",
        "    rental_id INTEGER PRIMARY KEY,\n",
        "    rental_date TEXT NOT NULL -- Use TEXT for date strings in SQLite\n",
        ");\n",
        "\"\"\")\n",
        "\n",
        "# Insert some sample data with date strings\n",
        "cursor.execute(\"INSERT INTO rental VALUES (1, '2023-10-27');\")\n",
        "cursor.execute(\"INSERT INTO rental VALUES (2, '2023-11-15');\")\n",
        "cursor.execute(\"INSERT INTO rental VALUES (3, '2024-01-05');\")\n",
        "cursor.execute(\"INSERT INTO rental VALUES (4, '2023-03-20');\")\n",
        "\n",
        "\n",
        "# Execute the SQL query to extract the month from rental_date\n",
        "cursor.execute(\"\"\"\n",
        "SELECT\n",
        "    rental_id,\n",
        "    strftime('%m', rental_date) AS rental_month\n",
        "FROM\n",
        "    rental\n",
        "ORDER BY rental_id;\n",
        "\"\"\")\n",
        "\n",
        "# Fetch and display the results\n",
        "results = cursor.fetchall()\n",
        "\n",
        "if results:\n",
        "    print(\"Rental IDs and their corresponding months:\")\n",
        "    for row in results:\n",
        "        print(row)\n",
        "else:\n",
        "    print(\"No rentals found.\")\n",
        "\n",
        "# Close the connection\n",
        "conn.close()"
      ],
      "metadata": {
        "colab": {
          "base_uri": "https://localhost:8080/"
        },
        "id": "LV_RqZXW4A1Q",
        "outputId": "5b464387-fbd2-430d-ce3f-79a3177c7e3f"
      },
      "execution_count": 35,
      "outputs": [
        {
          "output_type": "stream",
          "name": "stdout",
          "text": [
            "Rental IDs and their corresponding months:\n",
            "(1, '10')\n",
            "(2, '11')\n",
            "(3, '01')\n",
            "(4, '03')\n"
          ]
        }
      ]
    },
    {
      "cell_type": "markdown",
      "metadata": {
        "id": "1200e9c1"
      },
      "source": [
        "##String Functions\n",
        "\n",
        "**Question 1:**\n",
        "\n",
        "Retrieve the total number of rentals made in the Sakila database.\n",
        "\n",
        "Hint: Use the COUNT() function.."
      ]
    },
    {
      "cell_type": "code",
      "source": [
        "-- Count all rental records\n",
        "SELECT\n",
        "    COUNT(*) AS total_rentals\n",
        "FROM\n",
        "    rental;"
      ],
      "metadata": {
        "colab": {
          "base_uri": "https://localhost:8080/",
          "height": 106
        },
        "id": "28qMef4muKkz",
        "outputId": "10bfa066-6d10-4cfb-b610-24174540f1ce"
      },
      "execution_count": null,
      "outputs": [
        {
          "output_type": "error",
          "ename": "SyntaxError",
          "evalue": "invalid syntax (ipython-input-1479895949.py, line 1)",
          "traceback": [
            "\u001b[0;36m  File \u001b[0;32m\"/tmp/ipython-input-1479895949.py\"\u001b[0;36m, line \u001b[0;32m1\u001b[0m\n\u001b[0;31m    -- Count all rental records\u001b[0m\n\u001b[0m             ^\u001b[0m\n\u001b[0;31mSyntaxError\u001b[0m\u001b[0;31m:\u001b[0m invalid syntax\n"
          ]
        }
      ]
    },
    {
      "cell_type": "code",
      "source": [
        "import sqlite3\n",
        "\n",
        "# Connect to the in-memory SQLite database\n",
        "# This assumes the database connection from loading the schema and data is still open.\n",
        "# If not, you would need to re-establish the connection here.\n",
        "# conn = sqlite3.connect(':memory:') # Uncomment and run if the connection was closed\n",
        "# cursor = conn.cursor() # Uncomment and run if the connection was closed\n",
        "\n",
        "# Execute the SQL query to get the total number of rentals\n",
        "cursor.execute(\"SELECT COUNT(*) AS total_rentals FROM rental;\")\n",
        "\n",
        "# Fetch and display the result\n",
        "total_rentals = cursor.fetchone()[0]\n",
        "print(f\"Total number of rentals: {total_rentals}\")\n",
        "\n",
        "# Note: We are not closing the connection here so that the database remains\n",
        "# available for subsequent queries in the same notebook session.\n",
        "# conn.close() # Uncomment and run if you want to close the connection"
      ],
      "metadata": {
        "colab": {
          "base_uri": "https://localhost:8080/",
          "height": 211
        },
        "id": "KTvrWzPnoM46",
        "outputId": "9cc27610-7700-4a25-9860-34f95adfedc2"
      },
      "execution_count": null,
      "outputs": [
        {
          "output_type": "error",
          "ename": "OperationalError",
          "evalue": "no such table: rental",
          "traceback": [
            "\u001b[0;31m---------------------------------------------------------------------------\u001b[0m",
            "\u001b[0;31mOperationalError\u001b[0m                          Traceback (most recent call last)",
            "\u001b[0;32m/tmp/ipython-input-3406669393.py\u001b[0m in \u001b[0;36m<cell line: 0>\u001b[0;34m()\u001b[0m\n\u001b[1;32m      8\u001b[0m \u001b[0;34m\u001b[0m\u001b[0m\n\u001b[1;32m      9\u001b[0m \u001b[0;31m# Execute the SQL query to get the total number of rentals\u001b[0m\u001b[0;34m\u001b[0m\u001b[0;34m\u001b[0m\u001b[0m\n\u001b[0;32m---> 10\u001b[0;31m \u001b[0mcursor\u001b[0m\u001b[0;34m.\u001b[0m\u001b[0mexecute\u001b[0m\u001b[0;34m(\u001b[0m\u001b[0;34m\"SELECT COUNT(*) AS total_rentals FROM rental;\"\u001b[0m\u001b[0;34m)\u001b[0m\u001b[0;34m\u001b[0m\u001b[0;34m\u001b[0m\u001b[0m\n\u001b[0m\u001b[1;32m     11\u001b[0m \u001b[0;34m\u001b[0m\u001b[0m\n\u001b[1;32m     12\u001b[0m \u001b[0;31m# Fetch and display the result\u001b[0m\u001b[0;34m\u001b[0m\u001b[0;34m\u001b[0m\u001b[0m\n",
            "\u001b[0;31mOperationalError\u001b[0m: no such table: rental"
          ]
        }
      ]
    },
    {
      "cell_type": "code",
      "metadata": {
        "colab": {
          "base_uri": "https://localhost:8080/"
        },
        "id": "c8071f0e",
        "outputId": "51510cbb-1277-43dd-97c2-e0f33531f6ab"
      },
      "source": [
        "import sqlite3\n",
        "\n",
        "# Connect to an in-memory SQLite database\n",
        "# You can replace ':memory:' with a database file path if you want to save the database\n",
        "conn = sqlite3.connect(':memory:')\n",
        "cursor = conn.cursor()\n",
        "\n",
        "# Read the SQL schema file\n",
        "try:\n",
        "    with open('/content/sakila-schema.sql', 'r') as f:\n",
        "        sql_schema = f.read()\n",
        "\n",
        "    # Execute the SQL schema script\n",
        "    cursor.executescript(sql_schema)\n",
        "\n",
        "    print(\"Sakila database schema loaded successfully!\")\n",
        "\n",
        "except FileNotFoundError:\n",
        "    print(\"Error: sakila-schema.sql not found. Please make sure the file is uploaded to /content/.\")\n",
        "except Exception as e:\n",
        "    print(f\"An error occurred: {e}\")\n",
        "# Note: We are not closing the connection here so that the database remains\n",
        "# available for subsequent queries in the same notebook session.\n",
        "# conn.close()"
      ],
      "execution_count": null,
      "outputs": [
        {
          "output_type": "stream",
          "name": "stdout",
          "text": [
            "An error occurred: near \"SET\": syntax error\n"
          ]
        }
      ]
    },
    {
      "cell_type": "code",
      "metadata": {
        "colab": {
          "base_uri": "https://localhost:8080/"
        },
        "id": "b54e8104",
        "outputId": "6bb3b14e-61ee-49c4-9c1d-81b471f41b36"
      },
      "source": [
        "import sqlite3\n",
        "\n",
        "# Connect to the in-memory SQLite database\n",
        "# This assumes the database connection from loading the schema is still open.\n",
        "# If not, you would need to re-establish the connection here.\n",
        "# conn = sqlite3.connect(':memory:') # Uncomment and run if the connection was closed\n",
        "# cursor = conn.cursor() # Uncomment and run if the connection was closed\n",
        "\n",
        "# Read the SQL data file\n",
        "try:\n",
        "    with open('/content/sakila-data.sql', 'r') as f:\n",
        "        sql_data = f.read()\n",
        "\n",
        "    # Execute the SQL data script\n",
        "    # Use `executescript` for multiple SQL statements in the file\n",
        "    cursor.executescript(sql_data)\n",
        "\n",
        "    print(\"Sakila database data loaded successfully!\")\n",
        "\n",
        "except FileNotFoundError:\n",
        "    print(\"Error: sakila-data.sql not found. Please make sure the file is uploaded to /content/.\")\n",
        "except Exception as e:\n",
        "    print(f\"An error occurred: {e}\")\n",
        "# Note: We are not closing the connection here so that the database remains\n",
        "# available for subsequent queries in the same notebook session.\n",
        "# conn.close() # Uncomment and run if you want to close the connection"
      ],
      "execution_count": null,
      "outputs": [
        {
          "output_type": "stream",
          "name": "stdout",
          "text": [
            "An error occurred: near \"SET\": syntax error\n"
          ]
        }
      ]
    },
    {
      "cell_type": "markdown",
      "source": [
        "**Question 2:**\n",
        "\n",
        "Find the average rental duration (in days) of movies rented from the Sakila database.\n",
        "\n",
        "Hint: Utilize the AVG() function."
      ],
      "metadata": {
        "id": "NE_vGntLuQ10"
      }
    },
    {
      "cell_type": "code",
      "source": [
        "import sqlite3\n",
        "\n",
        "# Connect to an in-memory SQLite database for demonstration\n",
        "conn = sqlite3.connect(':memory:')\n",
        "cursor = conn.cursor()\n",
        "\n",
        "# Create a dummy rental table with rental_date and return_date\n",
        "cursor.execute(\"\"\"\n",
        "CREATE TABLE rental (\n",
        "    rental_id INTEGER PRIMARY KEY,\n",
        "    rental_date TEXT NOT NULL, -- Use TEXT for date strings in SQLite\n",
        "    return_date TEXT -- Use TEXT for date strings in SQLite\n",
        ");\n",
        "\"\"\")\n",
        "\n",
        "# Insert some sample data with date strings\n",
        "cursor.execute(\"INSERT INTO rental VALUES (1, '2023-10-27', '2023-11-01');\") # Duration 5 days\n",
        "cursor.execute(\"INSERT INTO rental VALUES (2, '2023-11-15', '2023-11-22');\") # Duration 7 days\n",
        "cursor.execute(\"INSERT INTO rental VALUES (3, '2024-01-05', '2024-01-10');\") # Duration 5 days\n",
        "cursor.execute(\"INSERT INTO rental VALUES (4, '2024-03-20', '2024-03-28');\") # Duration 8 days\n",
        "cursor.execute(\"INSERT INTO rental VALUES (5, '2023-12-01', NULL);\") # Still rented\n",
        "\n",
        "\n",
        "# Execute the SQL query to calculate the average rental duration in days for completed rentals\n",
        "cursor.execute(\"\"\"\n",
        "SELECT\n",
        "    AVG(JULIANDAY(return_date) - JULIANDAY(rental_date)) AS average_rental_duration\n",
        "FROM\n",
        "    rental\n",
        "WHERE\n",
        "    return_date IS NOT NULL; -- Only consider completed rentals\n",
        "\"\"\")\n",
        "\n",
        "# Fetch and display the result\n",
        "average_duration = cursor.fetchone()[0]\n",
        "print(f\"Average rental duration (in days) for completed rentals: {average_duration}\")\n",
        "\n",
        "# Close the connection\n",
        "conn.close()"
      ],
      "metadata": {
        "colab": {
          "base_uri": "https://localhost:8080/"
        },
        "id": "YIeutMjzuhfy",
        "outputId": "f0de9f36-f4bc-4ee2-a31f-b9fd86dd5d68"
      },
      "execution_count": null,
      "outputs": [
        {
          "output_type": "stream",
          "name": "stdout",
          "text": [
            "Average rental duration (in days) for completed rentals: 6.25\n"
          ]
        }
      ]
    },
    {
      "cell_type": "markdown",
      "source": [
        "String Functions:\n",
        "\n",
        "**Question 3:**\n",
        "\n",
        "Display the first name and last name of customers in uppercase.\n",
        "\n",
        "Hint: Use the UPPER () function."
      ],
      "metadata": {
        "id": "A3zBoRUxukb6"
      }
    },
    {
      "cell_type": "code",
      "source": [
        "import sqlite3\n",
        "\n",
        "# Connect to an in-memory SQLite database for demonstration\n",
        "conn = sqlite3.connect(':memory:')\n",
        "cursor = conn.cursor()\n",
        "\n",
        "# Create a dummy customer table with sample data\n",
        "cursor.execute(\"\"\"\n",
        "CREATE TABLE customer (\n",
        "    customer_id INTEGER PRIMARY KEY,\n",
        "    first_name VARCHAR(45),\n",
        "    last_name VARCHAR(45)\n",
        ");\n",
        "\"\"\")\n",
        "\n",
        "# Insert some sample data\n",
        "cursor.execute(\"INSERT INTO customer VALUES (1, 'Mary', 'Smith');\")\n",
        "cursor.execute(\"INSERT INTO customer VALUES (2, 'Patricia', 'Johnson');\")\n",
        "cursor.execute(\"INSERT INTO customer VALUES (3, 'Linda', 'Williams');\")\n",
        "\n",
        "\n",
        "# Execute the SQL query to display first and last names in uppercase\n",
        "cursor.execute(\"\"\"\n",
        "SELECT\n",
        "    UPPER(first_name) AS first_name_upper,\n",
        "    UPPER(last_name) AS last_name_upper\n",
        "FROM\n",
        "    customer;\n",
        "\"\"\")\n",
        "\n",
        "# Fetch and display the results\n",
        "results = cursor.fetchall()\n",
        "\n",
        "if results:\n",
        "    print(\"Customer names in uppercase:\")\n",
        "    for row in results:\n",
        "        print(row)\n",
        "else:\n",
        "    print(\"No customers found.\")\n",
        "\n",
        "# Close the connection\n",
        "conn.close()"
      ],
      "metadata": {
        "colab": {
          "base_uri": "https://localhost:8080/"
        },
        "id": "a0lRq1opuswc",
        "outputId": "d5b3d94e-efb3-46c4-8ff8-163140f5cc72"
      },
      "execution_count": null,
      "outputs": [
        {
          "output_type": "stream",
          "name": "stdout",
          "text": [
            "Customer names in uppercase:\n",
            "('MARY', 'SMITH')\n",
            "('PATRICIA', 'JOHNSON')\n",
            "('LINDA', 'WILLIAMS')\n"
          ]
        }
      ]
    },
    {
      "cell_type": "markdown",
      "source": [
        "**Question 4:**\n",
        "\n",
        "Extract the month from the rental date and display it alongside the rental ID.\n",
        "\n",
        "Hint: Employ the MONTH() function."
      ],
      "metadata": {
        "id": "PMQ-ZqJNu3sL"
      }
    },
    {
      "cell_type": "code",
      "source": [
        "import sqlite3\n",
        "\n",
        "# Connect to an in-memory SQLite database for demonstration\n",
        "conn = sqlite3.connect(':memory:')\n",
        "cursor = conn.cursor()\n",
        "\n",
        "# Create a dummy rental table with sample data\n",
        "cursor.execute(\"\"\"\n",
        "CREATE TABLE rental (\n",
        "    rental_id INTEGER PRIMARY KEY,\n",
        "    rental_date TEXT NOT NULL -- Use TEXT for date strings in SQLite\n",
        ");\n",
        "\"\"\")\n",
        "\n",
        "# Insert some sample data with date strings\n",
        "cursor.execute(\"INSERT INTO rental VALUES (1, '2023-10-27');\")\n",
        "cursor.execute(\"INSERT INTO rental VALUES (2, '2023-11-15');\")\n",
        "cursor.execute(\"INSERT INTO rental VALUES (3, '2024-01-05');\")\n",
        "cursor.execute(\"INSERT INTO rental VALUES (4, '2024-03-20');\")\n",
        "\n",
        "\n",
        "# Execute the SQL query to extract the month from rental_date\n",
        "cursor.execute(\"\"\"\n",
        "SELECT\n",
        "    rental_id,\n",
        "    strftime('%m', rental_date) AS rental_month\n",
        "FROM\n",
        "    rental;\n",
        "\"\"\")\n",
        "\n",
        "# Fetch and display the results\n",
        "results = cursor.fetchall()\n",
        "\n",
        "if results:\n",
        "    print(\"Rental IDs and their corresponding months:\")\n",
        "    for row in results:\n",
        "        print(row)\n",
        "else:\n",
        "    print(\"No rentals found.\")\n",
        "\n",
        "# Close the connection\n",
        "conn.close()"
      ],
      "metadata": {
        "colab": {
          "base_uri": "https://localhost:8080/"
        },
        "id": "CBjR6e9_vJmy",
        "outputId": "6e74095d-6c37-454f-f6ab-0af31fb14710"
      },
      "execution_count": null,
      "outputs": [
        {
          "output_type": "stream",
          "name": "stdout",
          "text": [
            "Rental IDs and their corresponding months:\n",
            "(1, '10')\n",
            "(2, '11')\n",
            "(3, '01')\n",
            "(4, '03')\n"
          ]
        }
      ]
    },
    {
      "cell_type": "markdown",
      "source": [
        "GROUP BY:\n",
        "\n",
        "**Question 5:**\n",
        "\n",
        "Retrieve the count of rentals for each customer (display customer ID and the count of rentals).\n",
        "\n",
        "Hint: Use COUNT () in conjunction with GROUP BY."
      ],
      "metadata": {
        "id": "wTHaZtygvKaz"
      }
    },
    {
      "cell_type": "code",
      "source": [
        "import sqlite3\n",
        "\n",
        "# Connect to an in-memory SQLite database for demonstration\n",
        "conn = sqlite3.connect(':memory:')\n",
        "cursor = conn.cursor()\n",
        "\n",
        "# Create a dummy rental table and insert some data for demonstration\n",
        "cursor.execute(\"\"\"\n",
        "CREATE TABLE rental (\n",
        "    rental_id INTEGER PRIMARY KEY,\n",
        "    customer_id INTEGER NOT NULL,\n",
        "    rental_date DATE\n",
        ");\n",
        "\"\"\")\n",
        "\n",
        "# Insert some sample data with varying customer_ids\n",
        "cursor.execute(\"INSERT INTO rental VALUES (1, 1, '2023-10-27');\")\n",
        "cursor.execute(\"INSERT INTO rental VALUES (2, 2, '2023-10-28');\")\n",
        "cursor.execute(\"INSERT INTO rental VALUES (3, 1, '2023-10-28');\") # Another rental for customer 1\n",
        "cursor.execute(\"INSERT INTO rental VALUES (4, 3, '2023-10-29');\")\n",
        "cursor.execute(\"INSERT INTO rental VALUES (5, 2, '2023-10-29');\") # Another rental for customer 2\n",
        "\n",
        "\n",
        "# Execute the SQL query to get the count of rentals for each customer\n",
        "cursor.execute(\"\"\"\n",
        "SELECT\n",
        "    customer_id,\n",
        "    COUNT(*) AS rental_count\n",
        "FROM\n",
        "    rental\n",
        "GROUP BY\n",
        "    customer_id;\n",
        "\"\"\")\n",
        "\n",
        "# Fetch and display the results\n",
        "results = cursor.fetchall()\n",
        "\n",
        "if results:\n",
        "    print(\"Rental counts per customer:\")\n",
        "    for row in results:\n",
        "        print(row)\n",
        "else:\n",
        "    print(\"No rentals found.\")\n",
        "\n",
        "# Close the connection\n",
        "conn.close()"
      ],
      "metadata": {
        "colab": {
          "base_uri": "https://localhost:8080/"
        },
        "id": "e9SYQna5vd29",
        "outputId": "94da3026-7091-4974-b88c-4825d0ecda2a"
      },
      "execution_count": null,
      "outputs": [
        {
          "output_type": "stream",
          "name": "stdout",
          "text": [
            "Rental counts per customer:\n",
            "(1, 2)\n",
            "(2, 2)\n",
            "(3, 1)\n"
          ]
        }
      ]
    },
    {
      "cell_type": "markdown",
      "source": [
        "**Question 6:**\n",
        "\n",
        "Find the total revenue generated by each store.\n",
        "\n",
        "Hint: Combine SUM() and GROUP BY."
      ],
      "metadata": {
        "id": "T0933o-pwMoi"
      }
    },
    {
      "cell_type": "code",
      "source": [
        "import sqlite3\n",
        "\n",
        "# Connect to an in-memory SQLite database for demonstration\n",
        "conn = sqlite3.connect(':memory:')\n",
        "cursor = conn.cursor()\n",
        "\n",
        "# Create dummy tables and insert sample data\n",
        "cursor.execute(\"\"\"\n",
        "CREATE TABLE store (\n",
        "    store_id INTEGER PRIMARY KEY\n",
        ");\n",
        "\"\"\")\n",
        "\n",
        "cursor.execute(\"\"\"\n",
        "CREATE TABLE customer (\n",
        "    customer_id INTEGER PRIMARY KEY,\n",
        "    store_id INTEGER,\n",
        "    FOREIGN KEY (store_id) REFERENCES store(store_id)\n",
        ");\n",
        "\"\"\")\n",
        "\n",
        "cursor.execute(\"\"\"\n",
        "CREATE TABLE payment (\n",
        "    payment_id INTEGER PRIMARY KEY,\n",
        "    customer_id INTEGER,\n",
        "    amount DECIMAL(10, 2),\n",
        "    FOREIGN KEY (customer_id) REFERENCES customer(customer_id)\n",
        ");\n",
        "\"\"\")\n",
        "\n",
        "# Insert sample data into store\n",
        "cursor.execute(\"INSERT INTO store VALUES (1);\")\n",
        "cursor.execute(\"INSERT INTO store VALUES (2);\")\n",
        "\n",
        "# Insert sample data into customer (linking customers to stores)\n",
        "cursor.execute(\"INSERT INTO customer VALUES (101, 1);\") # Customer 101 from Store 1\n",
        "cursor.execute(\"INSERT INTO customer VALUES (102, 1);\") # Customer 102 from Store 1\n",
        "cursor.execute(\"INSERT INTO customer VALUES (103, 2);\") # Customer 103 from Store 2\n",
        "\n",
        "# Insert sample data into payment (linking payments to customers)\n",
        "cursor.execute(\"INSERT INTO payment VALUES (1, 101, 10.50);\")\n",
        "cursor.execute(\"INSERT INTO payment VALUES (2, 102, 20.00);\")\n",
        "cursor.execute(\"INSERT INTO payment VALUES (3, 101, 5.75);\") # Another payment for customer 101\n",
        "cursor.execute(\"INSERT INTO payment VALUES (4, 103, 15.00);\")\n",
        "cursor.execute(\"INSERT INTO payment VALUES (5, 103, 8.20);\") # Another payment for customer 103\n",
        "\n",
        "\n",
        "# Execute the SQL query to find the total revenue generated by each store\n",
        "cursor.execute(\"\"\"\n",
        "SELECT\n",
        "    s.store_id,\n",
        "    SUM(p.amount) AS total_revenue\n",
        "FROM\n",
        "    payment p\n",
        "JOIN\n",
        "    customer c ON p.customer_id = c.customer_id\n",
        "JOIN\n",
        "    store s ON c.store_id = s.store_id\n",
        "GROUP BY\n",
        "    s.store_id;\n",
        "\"\"\")\n",
        "\n",
        "# Fetch and display the results\n",
        "results = cursor.fetchall()\n",
        "\n",
        "if results:\n",
        "    print(\"Total revenue per store:\")\n",
        "    for row in results:\n",
        "        print(row)\n",
        "else:\n",
        "    print(\"No revenue data found.\")\n",
        "\n",
        "# Close the connection\n",
        "conn.close()"
      ],
      "metadata": {
        "colab": {
          "base_uri": "https://localhost:8080/"
        },
        "id": "V43lS_TPwdbj",
        "outputId": "e6c0b442-df7e-4d87-b28e-b9ffc9419c49"
      },
      "execution_count": null,
      "outputs": [
        {
          "output_type": "stream",
          "name": "stdout",
          "text": [
            "Total revenue per store:\n",
            "(1, 36.25)\n",
            "(2, 23.2)\n"
          ]
        }
      ]
    },
    {
      "cell_type": "markdown",
      "source": [
        "**Question 7:**\n",
        "\n",
        "Determine the total number of rentals for each category of movies.\n",
        "\n",
        "Hint: JOIN film_category, film, and rental tables, then use cOUNT () and GROUP BY."
      ],
      "metadata": {
        "id": "68ie8rACw40T"
      }
    },
    {
      "cell_type": "code",
      "source": [
        "import sqlite3\n",
        "\n",
        "# Connect to an in-memory SQLite database for demonstration\n",
        "conn = sqlite3.connect(':memory:')\n",
        "cursor = conn.cursor()\n",
        "\n",
        "# Create dummy tables and insert sample data\n",
        "cursor.execute(\"\"\"\n",
        "CREATE TABLE category (\n",
        "    category_id INTEGER PRIMARY KEY,\n",
        "    name TEXT NOT NULL\n",
        ");\n",
        "\"\"\")\n",
        "\n",
        "cursor.execute(\"\"\"\n",
        "CREATE TABLE film (\n",
        "    film_id INTEGER PRIMARY KEY,\n",
        "    title TEXT NOT NULL\n",
        "    -- Add other film columns if needed for realism\n",
        ");\n",
        "\"\"\")\n",
        "\n",
        "cursor.execute(\"\"\"\n",
        "CREATE TABLE film_category (\n",
        "    film_id INTEGER,\n",
        "    category_id INTEGER,\n",
        "    PRIMARY KEY (film_id, category_id),\n",
        "    FOREIGN KEY (film_id) REFERENCES film(film_id),\n",
        "    FOREIGN KEY (category_id) REFERENCES category(category_id)\n",
        ");\n",
        "\"\"\")\n",
        "\n",
        "cursor.execute(\"\"\"\n",
        "CREATE TABLE inventory (\n",
        "    inventory_id INTEGER PRIMARY KEY,\n",
        "    film_id INTEGER,\n",
        "    store_id INTEGER,\n",
        "    FOREIGN KEY (film_id) REFERENCES film(film_id)\n",
        "    -- Add other inventory columns\n",
        ");\n",
        "\"\"\")\n",
        "\n",
        "cursor.execute(\"\"\"\n",
        "CREATE TABLE rental (\n",
        "    rental_id INTEGER PRIMARY KEY,\n",
        "    rental_date DATE,\n",
        "    inventory_id INTEGER,\n",
        "    customer_id INTEGER,\n",
        "    staff_id INTEGER,\n",
        "    FOREIGN KEY (inventory_id) REFERENCES inventory(inventory_id)\n",
        "    -- Add other rental columns\n",
        ");\n",
        "\"\"\")\n",
        "\n",
        "# Insert sample data into category\n",
        "cursor.execute(\"INSERT INTO category VALUES (1, 'Action');\")\n",
        "cursor.execute(\"INSERT INTO category VALUES (2, 'Comedy');\")\n",
        "cursor.execute(\"INSERT INTO category VALUES (3, 'Drama');\")\n",
        "\n",
        "\n",
        "# Insert sample data into film\n",
        "cursor.execute(\"INSERT INTO film VALUES (101, 'Film A');\") # Action, Comedy\n",
        "cursor.execute(\"INSERT INTO film VALUES (102, 'Film B');\") # Comedy, Drama\n",
        "cursor.execute(\"INSERT INTO film VALUES (103, 'Film C');\") # Action\n",
        "\n",
        "\n",
        "# Insert sample data into film_category\n",
        "cursor.execute(\"INSERT INTO film_category VALUES (101, 1);\") # Film A is Action\n",
        "cursor.execute(\"INSERT INTO film_category VALUES (101, 2);\") # Film A is Comedy\n",
        "cursor.execute(\"INSERT INTO film_category VALUES (102, 2);\") # Film B is Comedy\n",
        "cursor.execute(\"INSERT INTO film_category VALUES (102, 3);\") # Film B is Drama\n",
        "cursor.execute(\"INSERT INTO film_category VALUES (103, 1);\") # Film C is Action\n",
        "\n",
        "\n",
        "# Insert sample data into inventory\n",
        "cursor.execute(\"INSERT INTO inventory VALUES (1001, 101, 1);\") # Film A in inventory\n",
        "cursor.execute(\"INSERT INTO inventory VALUES (1002, 102, 1);\") # Film B in inventory\n",
        "cursor.execute(\"INSERT INTO inventory VALUES (1003, 101, 2);\") # Film A in another inventory\n",
        "\n",
        "\n",
        "# Insert sample data into rental\n",
        "cursor.execute(\"INSERT INTO rental VALUES (1, '2023-10-27', 1001, 1, 1);\") # Rental for Film A (Action, Comedy)\n",
        "cursor.execute(\"INSERT INTO rental VALUES (2, '2023-10-28', 1002, 2, 1);\") # Rental for Film B (Comedy, Drama)\n",
        "cursor.execute(\"INSERT INTO rental VALUES (3, '2023-10-28', 1001, 3, 2);\") # Another rental for Film A (Action, Comedy)\n",
        "\n",
        "\n",
        "# Execute the SQL query to get total rentals for each movie category\n",
        "cursor.execute(\"\"\"\n",
        "SELECT\n",
        "    c.name AS category_name,\n",
        "    COUNT(r.rental_id) AS total_rentals\n",
        "FROM\n",
        "    category c\n",
        "JOIN\n",
        "    film_category fc ON c.category_id = fc.category_id\n",
        "JOIN\n",
        "    film f ON fc.film_id = f.film_id\n",
        "JOIN\n",
        "    inventory i ON f.film_id = i.film_id\n",
        "JOIN\n",
        "    rental r ON i.inventory_id = r.inventory_id\n",
        "GROUP BY\n",
        "    c.name\n",
        "ORDER BY\n",
        "    total_rentals DESC;\n",
        "\"\"\")\n",
        "\n",
        "# Fetch and display the results\n",
        "results = cursor.fetchall()\n",
        "\n",
        "if results:\n",
        "    print(\"Total rentals per category:\")\n",
        "    for row in results:\n",
        "        print(row)\n",
        "else:\n",
        "    print(\"No rental data found for categories.\")\n",
        "\n",
        "# Close the connection\n",
        "conn.close()"
      ],
      "metadata": {
        "colab": {
          "base_uri": "https://localhost:8080/"
        },
        "id": "ejqQeJmdw6fD",
        "outputId": "56505273-2d7e-4a3c-da8d-225fff802306"
      },
      "execution_count": null,
      "outputs": [
        {
          "output_type": "stream",
          "name": "stdout",
          "text": [
            "Total rentals per category:\n",
            "('Comedy', 3)\n",
            "('Action', 2)\n",
            "('Drama', 1)\n"
          ]
        }
      ]
    },
    {
      "cell_type": "markdown",
      "source": [
        "**Question 8:**\n",
        "\n",
        "Find the average rental rate of movies in each language.\n",
        "\n",
        "Hint: JOIN film and language tables, then use AVG () and GROUP BY."
      ],
      "metadata": {
        "id": "H53bgzT1xgRT"
      }
    },
    {
      "cell_type": "code",
      "source": [
        "import sqlite3\n",
        "\n",
        "# Connect to an in-memory SQLite database for demonstration\n",
        "conn = sqlite3.connect(':memory:')\n",
        "cursor = conn.cursor()\n",
        "\n",
        "# Create dummy tables and insert sample data\n",
        "cursor.execute(\"\"\"\n",
        "CREATE TABLE language (\n",
        "    language_id INTEGER PRIMARY KEY,\n",
        "    name TEXT NOT NULL\n",
        ");\n",
        "\"\"\")\n",
        "\n",
        "cursor.execute(\"\"\"\n",
        "CREATE TABLE film (\n",
        "    film_id INTEGER PRIMARY KEY,\n",
        "    title TEXT NOT NULL,\n",
        "    language_id INTEGER,\n",
        "    rental_rate DECIMAL(4, 2),\n",
        "    FOREIGN KEY (language_id) REFERENCES language(language_id)\n",
        ");\n",
        "\"\"\")\n",
        "\n",
        "# Insert sample data into language\n",
        "cursor.execute(\"INSERT INTO language VALUES (1, 'English');\")\n",
        "cursor.execute(\"INSERT INTO language VALUES (2, 'Italian');\")\n",
        "cursor.execute(\"INSERT INTO language VALUES (3, 'French');\")\n",
        "\n",
        "\n",
        "# Insert sample data into film\n",
        "cursor.execute(\"INSERT INTO film VALUES (101, 'Film A', 1, 2.99);\") # English\n",
        "cursor.execute(\"INSERT INTO film VALUES (102, 'Film B', 2, 0.99);\") # Italian\n",
        "cursor.execute(\"INSERT INTO film VALUES (103, 'Film C', 1, 4.99);\") # English\n",
        "cursor.execute(\"INSERT INTO film VALUES (104, 'Film D', 3, 1.99);\") # French\n",
        "cursor.execute(\"INSERT INTO film VALUES (105, 'Film E', 1, 3.99);\") # English\n",
        "\n",
        "\n",
        "# Execute the SQL query to find the average rental rate of movies in each language\n",
        "cursor.execute(\"\"\"\n",
        "SELECT\n",
        "    l.name AS language,\n",
        "    AVG(f.rental_rate) AS average_rental_rate\n",
        "FROM\n",
        "    film f\n",
        "JOIN\n",
        "    language l ON f.language_id = l.language_id\n",
        "GROUP BY\n",
        "    l.name\n",
        "ORDER BY\n",
        "    average_rental_rate DESC;\n",
        "\"\"\")\n",
        "\n",
        "# Fetch and display the results\n",
        "results = cursor.fetchall()\n",
        "\n",
        "if results:\n",
        "    print(\"Average rental rate per language:\")\n",
        "    for row in results:\n",
        "        print(row)\n",
        "else:\n",
        "    print(\"No film data found.\")\n",
        "\n",
        "# Close the connection\n",
        "conn.close()"
      ],
      "metadata": {
        "colab": {
          "base_uri": "https://localhost:8080/"
        },
        "id": "0MrVBQuRxhVs",
        "outputId": "0b4e25d7-3598-4295-f621-3f166e047be0"
      },
      "execution_count": null,
      "outputs": [
        {
          "output_type": "stream",
          "name": "stdout",
          "text": [
            "Average rental rate per language:\n",
            "('English', 3.99)\n",
            "('French', 1.99)\n",
            "('Italian', 0.99)\n"
          ]
        }
      ]
    },
    {
      "cell_type": "markdown",
      "source": [
        "**Questions 9 -**\n",
        "\n",
        "Display the title of the movie, customer s first name, and last name who rented it.\n",
        "\n",
        "Hint: Use JOIN between the film, inventory, rental, and customer tables."
      ],
      "metadata": {
        "id": "yx9PEDJGx2lL"
      }
    },
    {
      "cell_type": "code",
      "source": [
        "import sqlite3\n",
        "\n",
        "# Connect to an in-memory SQLite database for demonstration\n",
        "conn = sqlite3.connect(':memory:')\n",
        "cursor = conn.cursor()\n",
        "\n",
        "# Create dummy tables and insert sample data\n",
        "cursor.execute(\"\"\"\n",
        "CREATE TABLE customer (\n",
        "    customer_id INTEGER PRIMARY KEY,\n",
        "    first_name VARCHAR(45),\n",
        "    last_name VARCHAR(45)\n",
        "    -- Add other customer columns if needed\n",
        ");\n",
        "\"\"\")\n",
        "\n",
        "cursor.execute(\"\"\"\n",
        "CREATE TABLE film (\n",
        "    film_id INTEGER PRIMARY KEY,\n",
        "    title TEXT NOT NULL\n",
        "    -- Add other film columns if needed\n",
        ");\n",
        "\"\"\")\n",
        "\n",
        "cursor.execute(\"\"\"\n",
        "CREATE TABLE inventory (\n",
        "    inventory_id INTEGER PRIMARY KEY,\n",
        "    film_id INTEGER,\n",
        "    store_id INTEGER,\n",
        "    FOREIGN KEY (film_id) REFERENCES film(film_id)\n",
        "    -- Add other inventory columns\n",
        ");\n",
        "\"\"\")\n",
        "\n",
        "cursor.execute(\"\"\"\n",
        "CREATE TABLE rental (\n",
        "    rental_id INTEGER PRIMARY KEY,\n",
        "    rental_date DATE,\n",
        "    inventory_id INTEGER,\n",
        "    customer_id INTEGER,\n",
        "    staff_id INTEGER,\n",
        "    FOREIGN KEY (inventory_id) REFERENCES inventory(inventory_id),\n",
        "    FOREIGN KEY (customer_id) REFERENCES customer(customer_id)\n",
        "    -- Add other rental columns\n",
        ");\n",
        "\"\"\")\n",
        "\n",
        "# Insert sample data into customer\n",
        "cursor.execute(\"INSERT INTO customer VALUES (1, 'Mary', 'Smith');\")\n",
        "cursor.execute(\"INSERT INTO customer VALUES (2, 'Patricia', 'Johnson');\")\n",
        "\n",
        "\n",
        "# Insert sample data into film\n",
        "cursor.execute(\"INSERT INTO film VALUES (101, 'Film A');\")\n",
        "cursor.execute(\"INSERT INTO film VALUES (102, 'Film B');\")\n",
        "\n",
        "\n",
        "# Insert sample data into inventory\n",
        "cursor.execute(\"INSERT INTO inventory VALUES (1001, 101, 1);\") # Film A in inventory\n",
        "cursor.execute(\"INSERT INTO inventory VALUES (1002, 102, 1);\") # Film B in inventory\n",
        "cursor.execute(\"INSERT INTO inventory VALUES (1003, 101, 2);\") # Film A in another inventory\n",
        "\n",
        "\n",
        "# Insert sample data into rental\n",
        "cursor.execute(\"INSERT INTO rental VALUES (1, '2023-10-27', 1001, 1, 1);\") # Rental for Film A by Mary Smith\n",
        "cursor.execute(\"INSERT INTO rental VALUES (2, '2023-10-28', 1002, 2, 1);\") # Rental for Film B by Patricia Johnson\n",
        "cursor.execute(\"INSERT INTO rental VALUES (3, '2023-10-28', 1001, 1, 2);\") # Another rental for Film A by Mary Smith\n",
        "\n",
        "\n",
        "# Execute the SQL query to display movie title and customer name for each rental\n",
        "cursor.execute(\"\"\"\n",
        "SELECT\n",
        "    f.title AS movie_title,\n",
        "    c.first_name,\n",
        "    c.last_name\n",
        "FROM\n",
        "    rental r\n",
        "JOIN\n",
        "    inventory i ON r.inventory_id = i.inventory_id\n",
        "JOIN\n",
        "    film f ON i.film_id = f.film_id\n",
        "JOIN\n",
        "    customer c ON r.customer_id = c.customer_id\n",
        "ORDER BY\n",
        "    f.title, c.last_name;\n",
        "\"\"\")\n",
        "\n",
        "# Fetch and display the results\n",
        "results = cursor.fetchall()\n",
        "\n",
        "if results:\n",
        "    print(\"Movie rentals and customer names:\")\n",
        "    for row in results:\n",
        "        print(row)\n",
        "else:\n",
        "    print(\"No rentals found.\")\n",
        "\n",
        "# Close the connection\n",
        "conn.close()"
      ],
      "metadata": {
        "colab": {
          "base_uri": "https://localhost:8080/"
        },
        "id": "1h9eQwKWx33q",
        "outputId": "59529573-9c80-4341-8555-f8482a0d7bdf"
      },
      "execution_count": null,
      "outputs": [
        {
          "output_type": "stream",
          "name": "stdout",
          "text": [
            "Movie rentals and customer names:\n",
            "('Film A', 'Mary', 'Smith')\n",
            "('Film A', 'Mary', 'Smith')\n",
            "('Film B', 'Patricia', 'Johnson')\n"
          ]
        }
      ]
    },
    {
      "cell_type": "markdown",
      "source": [
        "**Question 10:**\n",
        "\n",
        "Retrieve the names of all actors who have appeared in the film \"Gone with the Wind.\"\n",
        "\n",
        "Hint: Use JOIN between the film actor, film, and actor tables."
      ],
      "metadata": {
        "id": "TfdEKvCCyLCD"
      }
    },
    {
      "cell_type": "code",
      "source": [
        "import sqlite3\n",
        "\n",
        "# Connect to an in-memory SQLite database for demonstration\n",
        "conn = sqlite3.connect(':memory:')\n",
        "cursor = conn.cursor()\n",
        "\n",
        "# Create dummy tables and insert sample data\n",
        "cursor.execute(\"\"\"\n",
        "CREATE TABLE actor (\n",
        "    actor_id INTEGER PRIMARY KEY,\n",
        "    first_name VARCHAR(45),\n",
        "    last_name VARCHAR(45)\n",
        "    -- Add other actor columns if needed\n",
        ");\n",
        "\"\"\")\n",
        "\n",
        "cursor.execute(\"\"\"\n",
        "CREATE TABLE film (\n",
        "    film_id INTEGER PRIMARY KEY,\n",
        "    title TEXT NOT NULL\n",
        "    -- Add other film columns if needed\n",
        ");\n",
        "\"\"\")\n",
        "\n",
        "cursor.execute(\"\"\"\n",
        "CREATE TABLE film_actor (\n",
        "    actor_id INTEGER,\n",
        "    film_id INTEGER,\n",
        "    PRIMARY KEY (actor_id, film_id),\n",
        "    FOREIGN KEY (actor_id) REFERENCES actor(actor_id),\n",
        "    FOREIGN KEY (film_id) REFERENCES film(film_id)\n",
        ");\n",
        "\"\"\")\n",
        "\n",
        "# Insert sample data into actor\n",
        "cursor.execute(\"INSERT INTO actor VALUES (1, 'Penelope', 'Guiness');\")\n",
        "cursor.execute(\"INSERT INTO actor VALUES (2, 'Nick', 'Wahlberg');\")\n",
        "cursor.execute(\"INSERT INTO actor VALUES (3, 'Ed', 'Chase');\")\n",
        "cursor.execute(\"INSERT INTO actor VALUES (4, 'Jennifer', 'Davis');\")\n",
        "\n",
        "\n",
        "# Insert sample data into film\n",
        "cursor.execute(\"INSERT INTO film VALUES (101, 'Film A');\")\n",
        "cursor.execute(\"INSERT INTO film VALUES (102, 'Gone with the Wind');\") # The target film\n",
        "cursor.execute(\"INSERT INTO film VALUES (103, 'Film C');\")\n",
        "\n",
        "\n",
        "# Insert sample data into film_actor (linking actors to films)\n",
        "cursor.execute(\"INSERT INTO film_actor VALUES (1, 101);\") # Penelope in Film A\n",
        "cursor.execute(\"INSERT INTO film_actor VALUES (2, 102);\") # Nick in Gone with the Wind\n",
        "cursor.execute(\"INSERT INTO film_actor VALUES (3, 101);\") # Ed in Film A\n",
        "cursor.execute(\"INSERT INTO film_actor VALUES (4, 102);\") # Jennifer in Gone with the Wind\n",
        "cursor.execute(\"INSERT INTO film_actor VALUES (1, 102);\") # Penelope also in Gone with the Wind\n",
        "\n",
        "\n",
        "# Execute the SQL query to find actors in \"Gone with the Wind\"\n",
        "cursor.execute(\"\"\"\n",
        "SELECT\n",
        "    a.first_name,\n",
        "    a.last_name\n",
        "FROM\n",
        "    film f\n",
        "JOIN\n",
        "    film_actor fa ON f.film_id = fa.film_id\n",
        "JOIN\n",
        "    actor a ON fa.actor_id = a.actor_id\n",
        "WHERE\n",
        "    f.title = 'Gone with the Wind';\n",
        "\"\"\")\n",
        "\n",
        "# Fetch and display the results\n",
        "results = cursor.fetchall()\n",
        "\n",
        "if results:\n",
        "    print(\"Actors in 'Gone with the Wind':\")\n",
        "    for row in results:\n",
        "        print(row)\n",
        "else:\n",
        "    print(\"No actors found for 'Gone with the Wind' or film not in data.\")\n",
        "\n",
        "# Close the connection\n",
        "conn.close()"
      ],
      "metadata": {
        "colab": {
          "base_uri": "https://localhost:8080/"
        },
        "id": "CG0hM8xryMUh",
        "outputId": "e447aae5-0b45-4f5a-c2db-75518a8ff0d3"
      },
      "execution_count": null,
      "outputs": [
        {
          "output_type": "stream",
          "name": "stdout",
          "text": [
            "Actors in 'Gone with the Wind':\n",
            "('Nick', 'Wahlberg')\n",
            "('Jennifer', 'Davis')\n",
            "('Penelope', 'Guiness')\n"
          ]
        }
      ]
    },
    {
      "cell_type": "markdown",
      "source": [
        "**Question 11:**\n",
        "\n",
        "Retrieve the customer names along with the total amount they've spent on rentals.\n",
        "\n",
        "Hint: JOIN customer, payment, and rental tables, then use SUM() and GROUP BY."
      ],
      "metadata": {
        "id": "xkTQ1y8byhLx"
      }
    },
    {
      "cell_type": "code",
      "source": [
        "import sqlite3\n",
        "\n",
        "# Connect to an in-memory SQLite database for demonstration\n",
        "conn = sqlite3.connect(':memory:')\n",
        "cursor = conn.cursor()\n",
        "\n",
        "# Create dummy tables and insert sample data\n",
        "cursor.execute(\"\"\"\n",
        "CREATE TABLE customer (\n",
        "    customer_id INTEGER PRIMARY KEY,\n",
        "    first_name VARCHAR(45),\n",
        "    last_name VARCHAR(45)\n",
        "    -- Add other customer columns if needed\n",
        ");\n",
        "\"\"\")\n",
        "\n",
        "cursor.execute(\"\"\"\n",
        "CREATE TABLE payment (\n",
        "    payment_id INTEGER PRIMARY KEY,\n",
        "    customer_id INTEGER,\n",
        "    amount DECIMAL(10, 2),\n",
        "    FOREIGN KEY (customer_id) REFERENCES customer(customer_id)\n",
        ");\n",
        "\"\"\")\n",
        "\n",
        "# Insert sample data into customer\n",
        "cursor.execute(\"INSERT INTO customer VALUES (1, 'Mary', 'Smith');\")\n",
        "cursor.execute(\"INSERT INTO customer VALUES (2, 'Patricia', 'Johnson');\")\n",
        "cursor.execute(\"INSERT INTO customer VALUES (3, 'Linda', 'Williams');\")\n",
        "\n",
        "\n",
        "# Insert sample data into payment\n",
        "cursor.execute(\"INSERT INTO payment VALUES (1, 1, 10.50);\") # Payment by Mary\n",
        "cursor.execute(\"INSERT INTO payment VALUES (2, 2, 20.00);\") # Payment by Patricia\n",
        "cursor.execute(\"INSERT INTO payment VALUES (3, 1, 5.75);\")  # Another payment by Mary\n",
        "cursor.execute(\"INSERT INTO payment VALUES (4, 3, 15.00);\") # Payment by Linda\n",
        "cursor.execute(\"INSERT INTO payment VALUES (5, 2, 8.20);\")  # Another payment by Patricia\n",
        "\n",
        "\n",
        "# Retrieve customer names along with the total amount they've spent on rentals\n",
        "cursor.execute(\"\"\"\n",
        "SELECT\n",
        "    c.first_name,\n",
        "    c.last_name,\n",
        "    SUM(p.amount) AS total_spent\n",
        "FROM\n",
        "    customer c\n",
        "JOIN\n",
        "    payment p ON c.customer_id = p.customer_id\n",
        "GROUP BY\n",
        "    c.customer_id, c.first_name, c.last_name\n",
        "ORDER BY\n",
        "    total_spent DESC;\n",
        "\"\"\")\n",
        "\n",
        "# Fetch and display the results\n",
        "results = cursor.fetchall()\n",
        "\n",
        "if results:\n",
        "    print(\"Customer total spending:\")\n",
        "    for row in results:\n",
        "        print(row)\n",
        "else:\n",
        "    print(\"No payment data found.\")\n",
        "\n",
        "# Close the connection\n",
        "conn.close()"
      ],
      "metadata": {
        "colab": {
          "base_uri": "https://localhost:8080/"
        },
        "id": "lyY4Tetaypxd",
        "outputId": "964b83c4-c042-455e-ff0d-aefd9dbc4314"
      },
      "execution_count": null,
      "outputs": [
        {
          "output_type": "stream",
          "name": "stdout",
          "text": [
            "Customer total spending:\n",
            "('Patricia', 'Johnson', 28.2)\n",
            "('Mary', 'Smith', 16.25)\n",
            "('Linda', 'Williams', 15)\n"
          ]
        }
      ]
    },
    {
      "cell_type": "markdown",
      "source": [
        "**Question 12:**\n",
        "\n",
        "List the titles of movies rented by each customer in a particular city (e.g., 'London').\n",
        "\n",
        "Hint: JOIN customer, address, city, rental, inventory, and film tables, then use GROUP BY."
      ],
      "metadata": {
        "id": "-1f_m3wzywjq"
      }
    },
    {
      "cell_type": "code",
      "source": [
        "import sqlite3\n",
        "\n",
        "# Connect to an in-memory SQLite database for demonstration\n",
        "conn = sqlite3.connect(':memory:')\n",
        "cursor = conn.cursor()\n",
        "\n",
        "# Create dummy tables and insert sample data\n",
        "cursor.execute(\"\"\"\n",
        "CREATE TABLE customer (\n",
        "    customer_id INTEGER PRIMARY KEY,\n",
        "    first_name VARCHAR(45),\n",
        "    last_name VARCHAR(45),\n",
        "    address_id INTEGER,\n",
        "    FOREIGN KEY (address_id) REFERENCES address(address_id)\n",
        "    -- Add other customer columns if needed\n",
        ");\n",
        "\"\"\")\n",
        "\n",
        "cursor.execute(\"\"\"\n",
        "CREATE TABLE address (\n",
        "    address_id INTEGER PRIMARY KEY,\n",
        "    address TEXT,\n",
        "    city_id INTEGER,\n",
        "    FOREIGN KEY (city_id) REFERENCES city(city_id)\n",
        "    -- Add other address columns if needed\n",
        ");\n",
        "\"\"\")\n",
        "\n",
        "cursor.execute(\"\"\"\n",
        "CREATE TABLE city (\n",
        "    city_id INTEGER PRIMARY KEY,\n",
        "    city TEXT NOT NULL\n",
        "    -- Add other city columns if needed\n",
        ");\n",
        "\"\"\")\n",
        "\n",
        "cursor.execute(\"\"\"\n",
        "CREATE TABLE film (\n",
        "    film_id INTEGER PRIMARY KEY,\n",
        "    title TEXT NOT NULL\n",
        "    -- Add other film columns if needed\n",
        ");\n",
        "\"\"\")\n",
        "\n",
        "cursor.execute(\"\"\"\n",
        "CREATE TABLE inventory (\n",
        "    inventory_id INTEGER PRIMARY KEY,\n",
        "    film_id INTEGER,\n",
        "    store_id INTEGER,\n",
        "    FOREIGN KEY (film_id) REFERENCES film(film_id)\n",
        "    -- Add other inventory columns\n",
        ");\n",
        "\"\"\")\n",
        "\n",
        "cursor.execute(\"\"\"\n",
        "CREATE TABLE rental (\n",
        "    rental_id INTEGER PRIMARY KEY,\n",
        "    rental_date DATE,\n",
        "    inventory_id INTEGER,\n",
        "    customer_id INTEGER,\n",
        "    staff_id INTEGER,\n",
        "    FOREIGN KEY (inventory_id) REFERENCES inventory(inventory_id),\n",
        "    FOREIGN KEY (customer_id) REFERENCES customer(customer_id)\n",
        "    -- Add other rental columns\n",
        ");\n",
        "\"\"\")\n",
        "\n",
        "\n",
        "# Insert sample data into city\n",
        "cursor.execute(\"INSERT INTO city VALUES (1, 'London');\")\n",
        "cursor.execute(\"INSERT INTO city VALUES (2, 'Paris');\")\n",
        "\n",
        "\n",
        "# Insert sample data into address (linking addresses to cities)\n",
        "cursor.execute(\"INSERT INTO address VALUES (101, '123 Main St', 1);\") # London address\n",
        "cursor.execute(\"INSERT INTO address VALUES (102, '456 Oak Ave', 1);\") # London address\n",
        "cursor.execute(\"INSERT INTO address VALUES (103, '789 Pine Ln', 2);\") # Paris address\n",
        "\n",
        "\n",
        "# Insert sample data into customer (linking customers to addresses)\n",
        "cursor.execute(\"INSERT INTO customer VALUES (1, 'Mary', 'Smith', 101);\") # Mary in London\n",
        "cursor.execute(\"INSERT INTO customer VALUES (2, 'Patricia', 'Johnson', 102);\") # Patricia in London\n",
        "cursor.execute(\"INSERT INTO customer VALUES (3, 'Linda', 'Williams', 103);\") # Linda in Paris\n",
        "\n",
        "\n",
        "# Insert sample data into film\n",
        "cursor.execute(\"INSERT INTO film VALUES (1001, 'Film A');\")\n",
        "cursor.execute(\"INSERT INTO film VALUES (1002, 'Film B');\")\n",
        "cursor.execute(\"INSERT INTO film VALUES (1003, 'Film C');\")\n",
        "\n",
        "\n",
        "# Insert sample data into inventory (linking films to inventory items)\n",
        "cursor.execute(\"INSERT INTO inventory VALUES (10001, 1001, 1);\") # Film A in inventory\n",
        "cursor.execute(\"INSERT INTO inventory VALUES (10002, 1002, 1);\") # Film B in inventory\n",
        "cursor.execute(\"INSERT INTO inventory VALUES (10003, 1001, 2);\") # Film A in another inventory\n",
        "cursor.execute(\"INSERT INTO inventory VALUES (10004, 1003, 1);\") # Film C in inventory\n",
        "\n",
        "\n",
        "# Insert sample data into rental (linking rentals to inventory and customers)\n",
        "cursor.execute(\"INSERT INTO rental VALUES (1, '2023-10-27', 10001, 1, 1);\") # Mary (London) rented Film A\n",
        "cursor.execute(\"INSERT INTO rental VALUES (2, '2023-10-28', 10002, 2, 1);\") # Patricia (London) rented Film B\n",
        "cursor.execute(\"INSERT INTO rental VALUES (3, '2023-10-28', 10001, 1, 2);\") # Mary (London) rented Film A again\n",
        "cursor.execute(\"INSERT INTO rental VALUES (4, '2023-10-29', 10004, 1, 1);\") # Mary (London) rented Film C\n",
        "\n",
        "\n",
        "# Execute the SQL query to list movies rented by customers in 'London'\n",
        "cursor.execute(\"\"\"\n",
        "SELECT\n",
        "    c.customer_id,\n",
        "    c.first_name,\n",
        "    c.last_name,\n",
        "    GROUP_CONCAT(f.title, ', ') AS rented_movies\n",
        "FROM\n",
        "    customer c\n",
        "JOIN\n",
        "    address a ON c.address_id = a.address_id\n",
        "JOIN\n",
        "    city ci ON a.city_id = ci.city_id\n",
        "JOIN\n",
        "    rental r ON c.customer_id = r.customer_id\n",
        "JOIN\n",
        "    inventory i ON r.inventory_id = i.inventory_id\n",
        "JOIN\n",
        "    film f ON i.film_id = f.film_id\n",
        "WHERE\n",
        "    ci.city = 'London'\n",
        "GROUP BY\n",
        "    c.customer_id, c.first_name, c.last_name\n",
        "ORDER BY\n",
        "    c.last_name, c.first_name;\n",
        "\"\"\")\n",
        "\n",
        "# Fetch and display the results\n",
        "results = cursor.fetchall()\n",
        "\n",
        "if results:\n",
        "    print(\"Movies rented by customers in London:\")\n",
        "    for row in results:\n",
        "        print(row)\n",
        "else:\n",
        "    print(\"No rentals found for customers in London.\")\n",
        "\n",
        "# Close the connection\n",
        "conn.close()"
      ],
      "metadata": {
        "colab": {
          "base_uri": "https://localhost:8080/"
        },
        "id": "lyFnVpswy5Xz",
        "outputId": "04f16800-cfb3-43a7-fb00-b894890fafdd"
      },
      "execution_count": null,
      "outputs": [
        {
          "output_type": "stream",
          "name": "stdout",
          "text": [
            "Movies rented by customers in London:\n",
            "(2, 'Patricia', 'Johnson', 'Film B')\n",
            "(1, 'Mary', 'Smith', 'Film A, Film A, Film C')\n"
          ]
        }
      ]
    },
    {
      "cell_type": "markdown",
      "source": [
        "##Advanced Joins and GROUP BY:"
      ],
      "metadata": {
        "id": "DjQUlizR44i4"
      }
    },
    {
      "cell_type": "markdown",
      "source": [
        "**Question 13:**\n",
        "\n",
        "Display the top 5 rented movies along with the number of times they've been rented.\n",
        "\n",
        "Hint: JOIN film, inventory, and rental tables, then use COUNT () and GROUP BY, and limit the results"
      ],
      "metadata": {
        "id": "Omic8r3pzm-c"
      }
    },
    {
      "cell_type": "code",
      "source": [
        "import sqlite3\n",
        "\n",
        "# Connect to an in-memory SQLite database for demonstration\n",
        "conn = sqlite3.connect(':memory:')\n",
        "cursor = conn.cursor()\n",
        "\n",
        "# Create dummy tables and insert sample data\n",
        "cursor.execute(\"\"\"\n",
        "CREATE TABLE film (\n",
        "    film_id INTEGER PRIMARY KEY,\n",
        "    title TEXT NOT NULL\n",
        "    -- Add other film columns if needed\n",
        ");\n",
        "\"\"\")\n",
        "\n",
        "cursor.execute(\"\"\"\n",
        "CREATE TABLE inventory (\n",
        "    inventory_id INTEGER PRIMARY KEY,\n",
        "    film_id INTEGER,\n",
        "    store_id INTEGER,\n",
        "    FOREIGN KEY (film_id) REFERENCES film(film_id)\n",
        "    -- Add other inventory columns\n",
        ");\n",
        "\"\"\")\n",
        "\n",
        "cursor.execute(\"\"\"\n",
        "CREATE TABLE rental (\n",
        "    rental_id INTEGER PRIMARY KEY,\n",
        "    rental_date DATE,\n",
        "    inventory_id INTEGER,\n",
        "    customer_id INTEGER,\n",
        "    staff_id INTEGER,\n",
        "    FOREIGN KEY (inventory_id) REFERENCES inventory(inventory_id)\n",
        "    -- Add other rental columns\n",
        ");\n",
        "\"\"\")\n",
        "\n",
        "# Insert sample data into film\n",
        "cursor.execute(\"INSERT INTO film VALUES (101, 'Film A');\")\n",
        "cursor.execute(\"INSERT INTO film VALUES (102, 'Film B');\")\n",
        "cursor.execute(\"INSERT INTO film VALUES (103, 'Film C');\")\n",
        "cursor.execute(\"INSERT INTO film VALUES (104, 'Film D');\")\n",
        "cursor.execute(\"INSERT INTO film VALUES (105, 'Film E');\")\n",
        "\n",
        "\n",
        "# Insert sample data into inventory\n",
        "cursor.execute(\"INSERT INTO inventory VALUES (1001, 101, 1);\") # Film A\n",
        "cursor.execute(\"INSERT INTO inventory VALUES (1002, 102, 1);\") # Film B\n",
        "cursor.execute(\"INSERT INTO inventory VALUES (1003, 101, 2);\") # Film A (another copy)\n",
        "cursor.execute(\"INSERT INTO inventory VALUES (1004, 103, 1);\") # Film C\n",
        "cursor.execute(\"INSERT INTO inventory VALUES (1005, 101, 1);\") # Film A (another copy)\n",
        "cursor.execute(\"INSERT INTO inventory VALUES (1006, 102, 2);\") # Film B (another copy)\n",
        "cursor.execute(\"INSERT INTO inventory VALUES (1007, 104, 1);\") # Film D\n",
        "\n",
        "\n",
        "# Insert sample data into rental\n",
        "cursor.execute(\"INSERT INTO rental VALUES (1, '2023-10-27', 1001, 1, 1);\") # Film A rented\n",
        "cursor.execute(\"INSERT INTO rental VALUES (2, '2023-10-28', 1002, 2, 1);\") # Film B rented\n",
        "cursor.execute(\"INSERT INTO rental VALUES (3, '2023-10-28', 1003, 3, 2);\") # Film A rented\n",
        "cursor.execute(\"INSERT INTO rental VALUES (4, '2023-10-29', 1004, 1, 1);\") # Film C rented\n",
        "cursor.execute(\"INSERT INTO rental VALUES (5, '2023-10-29', 1001, 2, 1);\") # Film A rented\n",
        "cursor.execute(\"INSERT INTO rental VALUES (6, '2023-10-30', 1002, 3, 2);\") # Film B rented\n",
        "cursor.execute(\"INSERT INTO rental VALUES (7, '2023-10-30', 1005, 1, 1);\") # Film A rented\n",
        "cursor.execute(\"INSERT INTO rental VALUES (8, '2023-10-31', 1006, 2, 1);\") # Film B rented\n",
        "cursor.execute(\"INSERT INTO rental VALUES (9, '2023-10-31', 1004, 3, 2);\") # Film C rented\n",
        "\n",
        "\n",
        "# Execute the SQL query to display the top 5 rented movies\n",
        "cursor.execute(\"\"\"\n",
        "SELECT\n",
        "    f.title,\n",
        "    COUNT(r.rental_id) AS rental_count\n",
        "FROM\n",
        "    film f\n",
        "JOIN\n",
        "    inventory i ON f.film_id = i.film_id\n",
        "JOIN\n",
        "    rental r ON i.inventory_id = r.inventory_id\n",
        "GROUP BY\n",
        "    f.title\n",
        "ORDER BY\n",
        "    rental_count DESC\n",
        "LIMIT 5;\n",
        "\"\"\")\n",
        "\n",
        "# Fetch and display the results\n",
        "results = cursor.fetchall()\n",
        "\n",
        "if results:\n",
        "    print(\"Top 5 rented movies:\")\n",
        "    for row in results:\n",
        "        print(row)\n",
        "else:\n",
        "    print(\"No rental data found.\")\n",
        "\n",
        "# Close the connection\n",
        "conn.close()"
      ],
      "metadata": {
        "colab": {
          "base_uri": "https://localhost:8080/"
        },
        "id": "mhbMXD1_zpbj",
        "outputId": "724cf994-3f5b-4087-b016-79a7d86c23b1"
      },
      "execution_count": null,
      "outputs": [
        {
          "output_type": "stream",
          "name": "stdout",
          "text": [
            "Top 5 rented movies:\n",
            "('Film A', 4)\n",
            "('Film B', 3)\n",
            "('Film C', 2)\n"
          ]
        }
      ]
    },
    {
      "cell_type": "markdown",
      "source": [
        "**Question 14:**\n",
        "\n",
        "Determine the customers who have rented movies from both stores (store ID 1 and store ID 2).\n",
        "\n",
        "Hint: Use JOINS with rental, inventory, and customer tables and consider COUNT() and GROUP BY"
      ],
      "metadata": {
        "id": "qYc9cnHqz1Tb"
      }
    },
    {
      "cell_type": "code",
      "source": [
        "import sqlite3\n",
        "\n",
        "# Connect to an in-memory SQLite database for demonstration\n",
        "conn = sqlite3.connect(':memory:')\n",
        "cursor = conn.cursor()\n",
        "\n",
        "# Create dummy tables and insert sample data\n",
        "cursor.execute(\"\"\"\n",
        "CREATE TABLE customer (\n",
        "    customer_id INTEGER PRIMARY KEY,\n",
        "    first_name VARCHAR(45),\n",
        "    last_name VARCHAR(45)\n",
        "    -- Add other customer columns if needed\n",
        ");\n",
        "\"\"\")\n",
        "\n",
        "cursor.execute(\"\"\"\n",
        "CREATE TABLE inventory (\n",
        "    inventory_id INTEGER PRIMARY KEY,\n",
        "    film_id INTEGER,\n",
        "    store_id INTEGER\n",
        "    -- Add other inventory columns if needed\n",
        ");\n",
        "\"\"\")\n",
        "\n",
        "cursor.execute(\"\"\"\n",
        "CREATE TABLE rental (\n",
        "    rental_id INTEGER PRIMARY KEY,\n",
        "    rental_date DATE,\n",
        "    inventory_id INTEGER,\n",
        "    customer_id INTEGER,\n",
        "    staff_id INTEGER,\n",
        "    FOREIGN KEY (inventory_id) REFERENCES inventory(inventory_id),\n",
        "    FOREIGN KEY (customer_id) REFERENCES customer(customer_id)\n",
        "    -- Add other rental columns if needed\n",
        ");\n",
        "\"\"\")\n",
        "\n",
        "# Insert sample data into customer\n",
        "cursor.execute(\"INSERT INTO customer VALUES (1, 'Mary', 'Smith');\")\n",
        "cursor.execute(\"INSERT INTO customer VALUES (2, 'Patricia', 'Johnson');\")\n",
        "cursor.execute(\"INSERT INTO customer VALUES (3, 'Linda', 'Williams');\")\n",
        "\n",
        "\n",
        "# Insert sample data into inventory (linking films to inventory items and stores)\n",
        "cursor.execute(\"INSERT INTO inventory VALUES (1001, 101, 1);\") # Film 101 in Store 1\n",
        "cursor.execute(\"INSERT INTO inventory VALUES (1002, 102, 2);\") # Film 102 in Store 2\n",
        "cursor.execute(\"INSERT INTO inventory VALUES (1003, 101, 1);\") # Film 101 in Store 1 (another copy)\n",
        "cursor.execute(\"INSERT INTO inventory VALUES (1004, 103, 2);\") # Film 103 in Store 2\n",
        "cursor.execute(\"INSERT INTO inventory VALUES (1005, 101, 2);\") # Film 101 in Store 2\n",
        "\n",
        "\n",
        "# Insert sample data into rental (linking rentals to inventory and customers)\n",
        "cursor.execute(\"INSERT INTO rental VALUES (1, '2023-10-27', 1001, 1, 1);\") # Mary rented from Store 1\n",
        "cursor.execute(\"INSERT INTO rental VALUES (2, '2023-10-28', 1002, 2, 1);\") # Patricia rented from Store 2\n",
        "cursor.execute(\"INSERT INTO rental VALUES (3, '2023-10-28', 1004, 1, 2);\") # Mary rented from Store 2\n",
        "cursor.execute(\"INSERT INTO rental VALUES (4, '2023-10-29', 1003, 3, 1);\") # Linda rented from Store 1\n",
        "cursor.execute(\"INSERT INTO rental VALUES (5, '2023-10-29', 1005, 2, 1);\") # Patricia rented from Store 2\n",
        "\n",
        "\n",
        "# Execute the SQL query to find customers who rented from both stores\n",
        "cursor.execute(\"\"\"\n",
        "SELECT\n",
        "    c.customer_id,\n",
        "    c.first_name,\n",
        "    c.last_name\n",
        "FROM\n",
        "    customer c\n",
        "JOIN\n",
        "    rental r ON c.customer_id = r.customer_id\n",
        "JOIN\n",
        "    inventory i ON r.inventory_id = i.inventory_id\n",
        "WHERE\n",
        "    i.store_id IN (1, 2)\n",
        "GROUP BY\n",
        "    c.customer_id, c.first_name, c.last_name\n",
        "HAVING\n",
        "    COUNT(DISTINCT i.store_id) = 2;\n",
        "\"\"\")\n",
        "\n",
        "# Fetch and display the results\n",
        "results = cursor.fetchall()\n",
        "\n",
        "if results:\n",
        "    print(\"Customers who rented from both stores:\")\n",
        "    for row in results:\n",
        "        print(row)\n",
        "else:\n",
        "    print(\"No customers found who rented from both stores.\")\n",
        "\n",
        "# Close the connection\n",
        "conn.close()"
      ],
      "metadata": {
        "colab": {
          "base_uri": "https://localhost:8080/"
        },
        "id": "Q59Ai_x1z7RK",
        "outputId": "efbb9345-888e-4e49-da7a-781fa5935f36"
      },
      "execution_count": null,
      "outputs": [
        {
          "output_type": "stream",
          "name": "stdout",
          "text": [
            "Customers who rented from both stores:\n",
            "(1, 'Mary', 'Smith')\n"
          ]
        }
      ]
    },
    {
      "cell_type": "markdown",
      "source": [
        "##Windows Function:"
      ],
      "metadata": {
        "id": "eEBWVCAO5sjd"
      }
    },
    {
      "cell_type": "markdown",
      "source": [
        "1. Rank the customers based on the total amount they've spent on rentals."
      ],
      "metadata": {
        "id": "ovMf8uFt5tx1"
      }
    },
    {
      "cell_type": "code",
      "source": [
        "import sqlite3\n",
        "\n",
        "# Connect to an in-memory SQLite database for demonstration\n",
        "conn = sqlite3.connect(':memory:')\n",
        "cursor = conn.cursor()\n",
        "\n",
        "# Create dummy tables and insert sample data\n",
        "cursor.execute(\"\"\"\n",
        "CREATE TABLE customer (\n",
        "    customer_id INTEGER PRIMARY KEY,\n",
        "    first_name VARCHAR(45),\n",
        "    last_name VARCHAR(45)\n",
        "    -- Add other customer columns if needed\n",
        ");\n",
        "\"\"\")\n",
        "\n",
        "cursor.execute(\"\"\"\n",
        "CREATE TABLE payment (\n",
        "    payment_id INTEGER PRIMARY KEY,\n",
        "    customer_id INTEGER,\n",
        "    amount DECIMAL(10, 2),\n",
        "    FOREIGN KEY (customer_id) REFERENCES customer(customer_id)\n",
        ");\n",
        "\"\"\")\n",
        "\n",
        "# Insert sample data into customer\n",
        "cursor.execute(\"INSERT INTO customer VALUES (1, 'Mary', 'Smith');\")\n",
        "cursor.execute(\"INSERT INTO customer VALUES (2, 'Patricia', 'Johnson');\")\n",
        "cursor.execute(\"INSERT INTO customer VALUES (3, 'Linda', 'Williams');\")\n",
        "cursor.execute(\"INSERT INTO customer VALUES (4, 'Barbara', 'Jones');\")\n",
        "\n",
        "\n",
        "# Insert sample data into payment\n",
        "cursor.execute(\"INSERT INTO payment VALUES (1, 1, 10.50);\") # Mary\n",
        "cursor.execute(\"INSERT INTO payment VALUES (2, 2, 20.00);\") # Patricia\n",
        "cursor.execute(\"INSERT INTO payment VALUES (3, 1, 5.75);\")  # Mary\n",
        "cursor.execute(\"INSERT INTO payment VALUES (4, 3, 15.00);\") # Linda\n",
        "cursor.execute(\"INSERT INTO payment VALUES (5, 2, 8.20);\")  # Patricia\n",
        "cursor.execute(\"INSERT INTO payment VALUES (6, 4, 12.00);\") # Barbara\n",
        "cursor.execute(\"INSERT INTO payment VALUES (7, 1, 2.00);\")  # Mary\n",
        "\n",
        "\n",
        "# Rank customers by total amount spent on rentals\n",
        "cursor.execute(\"\"\"\n",
        "SELECT\n",
        "    c.customer_id,\n",
        "    c.first_name,\n",
        "    c.last_name,\n",
        "    SUM(p.amount) AS total_spent,\n",
        "    RANK() OVER (ORDER BY SUM(p.amount) DESC) AS spending_rank\n",
        "FROM\n",
        "    customer c\n",
        "JOIN\n",
        "    payment p ON c.customer_id = p.customer_id\n",
        "GROUP BY\n",
        "    c.customer_id, c.first_name, c.last_name\n",
        "ORDER BY\n",
        "    spending_rank;\n",
        "\"\"\")\n",
        "\n",
        "# Fetch and display the results\n",
        "results = cursor.fetchall()\n",
        "\n",
        "if results:\n",
        "    print(\"Customer spending rank:\")\n",
        "    for row in results:\n",
        "        print(row)\n",
        "else:\n",
        "    print(\"No customer payment data found.\")\n",
        "\n",
        "# Close the connection\n",
        "conn.close()"
      ],
      "metadata": {
        "colab": {
          "base_uri": "https://localhost:8080/"
        },
        "id": "2X1Na6b956xS",
        "outputId": "bd53240b-b620-4226-f9ae-955d92471045"
      },
      "execution_count": null,
      "outputs": [
        {
          "output_type": "stream",
          "name": "stdout",
          "text": [
            "Customer spending rank:\n",
            "(2, 'Patricia', 'Johnson', 28.2, 1)\n",
            "(1, 'Mary', 'Smith', 18.25, 2)\n",
            "(3, 'Linda', 'Williams', 15, 3)\n",
            "(4, 'Barbara', 'Jones', 12, 4)\n"
          ]
        }
      ]
    },
    {
      "cell_type": "markdown",
      "source": [
        "2. Calculate the cumulative revenue generated by each film over time."
      ],
      "metadata": {
        "id": "QUieFGmq6GiR"
      }
    },
    {
      "cell_type": "code",
      "source": [
        "import sqlite3\n",
        "\n",
        "# Connect to an in-memory SQLite database for demonstration\n",
        "conn = sqlite3.connect(':memory:')\n",
        "cursor = conn.cursor()\n",
        "\n",
        "# Create dummy tables and insert sample data\n",
        "cursor.execute(\"\"\"\n",
        "CREATE TABLE film (\n",
        "    film_id INTEGER PRIMARY KEY,\n",
        "    title TEXT NOT NULL\n",
        "    -- Add other film columns if needed\n",
        ");\n",
        "\"\"\")\n",
        "\n",
        "cursor.execute(\"\"\"\n",
        "CREATE TABLE inventory (\n",
        "    inventory_id INTEGER PRIMARY KEY,\n",
        "    film_id INTEGER,\n",
        "    FOREIGN KEY (film_id) REFERENCES film(film_id)\n",
        "    -- Add other inventory columns if needed\n",
        ");\n",
        "\"\"\")\n",
        "\n",
        "cursor.execute(\"\"\"\n",
        "CREATE TABLE rental (\n",
        "    rental_id INTEGER PRIMARY KEY,\n",
        "    rental_date DATE, -- Or TEXT for date strings\n",
        "    inventory_id INTEGER,\n",
        "    FOREIGN KEY (inventory_id) REFERENCES inventory(inventory_id)\n",
        "    -- Add other rental columns if needed\n",
        ");\n",
        "\"\"\")\n",
        "\n",
        "cursor.execute(\"\"\"\n",
        "CREATE TABLE payment (\n",
        "    payment_id INTEGER PRIMARY KEY,\n",
        "    rental_id INTEGER,\n",
        "    amount DECIMAL(10, 2),\n",
        "    FOREIGN KEY (rental_id) REFERENCES rental(rental_id)\n",
        "    -- Add other payment columns if needed\n",
        ");\n",
        "\"\"\")\n",
        "\n",
        "# Insert sample data into film\n",
        "cursor.execute(\"INSERT INTO film VALUES (101, 'Film A');\")\n",
        "cursor.execute(\"INSERT INTO film VALUES (102, 'Film B');\")\n",
        "\n",
        "\n",
        "# Insert sample data into inventory\n",
        "cursor.execute(\"INSERT INTO inventory VALUES (1001, 101);\") # Film A\n",
        "cursor.execute(\"INSERT INTO inventory VALUES (1002, 102);\") # Film B\n",
        "cursor.execute(\"INSERT INTO inventory VALUES (1003, 101);\") # Film A (another copy)\n",
        "\n",
        "\n",
        "# Insert sample data into rental (linking to inventory and providing dates)\n",
        "cursor.execute(\"INSERT INTO rental VALUES (1, '2023-10-27', 1001);\") # Film A rented\n",
        "cursor.execute(\"INSERT INTO rental VALUES (2, '2023-10-28', 1002);\") # Film B rented\n",
        "cursor.execute(\"INSERT INTO rental VALUES (3, '2023-10-28', 1003);\") # Film A rented\n",
        "\n",
        "\n",
        "# Insert sample data into payment (linking to rentals and providing amounts)\n",
        "cursor.execute(\"INSERT INTO payment VALUES (1, 1, 5.00);\") # Payment for rental 1 (Film A)\n",
        "cursor.execute(\"INSERT INTO payment VALUES (2, 2, 3.00);\") # Payment for rental 2 (Film B)\n",
        "cursor.execute(\"INSERT INTO payment VALUES (3, 3, 4.50);\") # Payment for rental 3 (Film A)\n",
        "cursor.execute(\"INSERT INTO payment VALUES (4, 1, 2.00);\") # Another payment for rental 1 (Film A)\n",
        "\n",
        "\n",
        "# Cumulative revenue generated by each film over time\n",
        "cursor.execute(\"\"\"\n",
        "SELECT\n",
        "    f.title AS film_title,\n",
        "    r.rental_date,\n",
        "    SUM(p.amount) OVER (\n",
        "        PARTITION BY f.film_id\n",
        "        ORDER BY r.rental_date\n",
        "        ROWS BETWEEN UNBOUNDED PRECEDING AND CURRENT ROW\n",
        "    ) AS cumulative_revenue\n",
        "FROM\n",
        "    payment p\n",
        "JOIN\n",
        "    rental r ON p.rental_id = r.rental_id\n",
        "JOIN\n",
        "    inventory i ON r.inventory_id = i.inventory_id\n",
        "JOIN\n",
        "    film f ON i.film_id = f.film_id\n",
        "ORDER BY\n",
        "    f.title, r.rental_date;\n",
        "\"\"\")\n",
        "\n",
        "# Fetch and display the results\n",
        "results = cursor.fetchall()\n",
        "\n",
        "if results:\n",
        "    print(\"Cumulative revenue per film over time:\")\n",
        "    for row in results:\n",
        "        print(row)\n",
        "else:\n",
        "    print(\"No data found for cumulative revenue calculation.\")\n",
        "\n",
        "# Close the connection\n",
        "conn.close()"
      ],
      "metadata": {
        "colab": {
          "base_uri": "https://localhost:8080/"
        },
        "id": "aRl2E7Uw6HOj",
        "outputId": "74b9eea4-a409-4560-d3ba-7f71b0f2c21a"
      },
      "execution_count": null,
      "outputs": [
        {
          "output_type": "stream",
          "name": "stdout",
          "text": [
            "Cumulative revenue per film over time:\n",
            "('Film A', '2023-10-27', 5)\n",
            "('Film A', '2023-10-27', 7)\n",
            "('Film A', '2023-10-28', 11.5)\n",
            "('Film B', '2023-10-28', 3)\n"
          ]
        }
      ]
    },
    {
      "cell_type": "markdown",
      "source": [
        "3. Determine the average rental duration for each film, considering films with similar lengths."
      ],
      "metadata": {
        "id": "Dvl1g_iR6kEB"
      }
    },
    {
      "cell_type": "code",
      "source": [
        "import sqlite3\n",
        "\n",
        "# Connect to an in-memory SQLite database for demonstration\n",
        "conn = sqlite3.connect(':memory:')\n",
        "cursor = conn.cursor()\n",
        "\n",
        "# Create dummy tables and insert sample data\n",
        "cursor.execute(\"\"\"\n",
        "CREATE TABLE film (\n",
        "    film_id INTEGER PRIMARY KEY,\n",
        "    title TEXT NOT NULL,\n",
        "    length INTEGER -- Film length in minutes\n",
        ");\n",
        "\"\"\")\n",
        "\n",
        "cursor.execute(\"\"\"\n",
        "CREATE TABLE inventory (\n",
        "    inventory_id INTEGER PRIMARY KEY,\n",
        "    film_id INTEGER,\n",
        "    store_id INTEGER,\n",
        "    FOREIGN KEY (film_id) REFERENCES film(film_id)\n",
        ");\n",
        "\"\"\")\n",
        "\n",
        "cursor.execute(\"\"\"\n",
        "CREATE TABLE rental (\n",
        "    rental_id INTEGER PRIMARY KEY,\n",
        "    rental_date TEXT NOT NULL, -- Use TEXT for date strings in SQLite\n",
        "    return_date TEXT, -- Use TEXT for date strings in SQLite\n",
        "    inventory_id INTEGER,\n",
        "    customer_id INTEGER,\n",
        "    staff_id INTEGER,\n",
        "    FOREIGN KEY (inventory_id) REFERENCES inventory(inventory_id)\n",
        ");\n",
        "\"\"\")\n",
        "\n",
        "# Insert sample data into film\n",
        "cursor.execute(\"INSERT INTO film VALUES (101, 'Film A', 90);\") # Length 90\n",
        "cursor.execute(\"INSERT INTO film VALUES (102, 'Film B', 90);\") # Length 90\n",
        "cursor.execute(\"INSERT INTO film VALUES (103, 'Film C', 120);\") # Length 120\n",
        "\n",
        "\n",
        "# Insert sample data into inventory\n",
        "cursor.execute(\"INSERT INTO inventory VALUES (1001, 101, 1);\") # Film A\n",
        "cursor.execute(\"INSERT INTO inventory VALUES (1002, 102, 1);\") # Film B\n",
        "cursor.execute(\"INSERT INTO inventory VALUES (1003, 101, 2);\") # Film A\n",
        "\n",
        "\n",
        "# Insert sample data into rental\n",
        "cursor.execute(\"INSERT INTO rental VALUES (1, '2023-10-27', '2023-11-01', 1001, 1, 1);\") # Film A, duration 5 days\n",
        "cursor.execute(\"INSERT INTO rental VALUES (2, '2023-10-28', '2023-11-05', 1002, 2, 1);\") # Film B, duration 8 days\n",
        "cursor.execute(\"INSERT INTO rental VALUES (3, '2023-10-28', '2023-11-04', 1001, 3, 2);\") # Film A, duration 7 days\n",
        "cursor.execute(\"INSERT INTO rental VALUES (4, '2023-10-29', NULL, 1003, 1, 1);\") # Film A, not returned\n",
        "\n",
        "\n",
        "# Average rental duration for each film, considering films with similar lengths\n",
        "cursor.execute(\"\"\"\n",
        "SELECT\n",
        "    f.title,\n",
        "    f.length AS film_length_minutes,\n",
        "    AVG(JULIANDAY(r.return_date) - JULIANDAY(r.rental_date)) AS avg_rental_duration_days\n",
        "FROM\n",
        "    film f\n",
        "JOIN\n",
        "    inventory i ON f.film_id = i.film_id\n",
        "JOIN\n",
        "    rental r ON i.inventory_id = r.inventory_id\n",
        "WHERE\n",
        "    r.return_date IS NOT NULL  -- Ensure rentals were actually returned\n",
        "GROUP BY\n",
        "    f.title, f.length\n",
        "ORDER BY\n",
        "    f.length, avg_rental_duration_days DESC;\n",
        "\"\"\")\n",
        "\n",
        "# Fetch and display the results\n",
        "results = cursor.fetchall()\n",
        "\n",
        "if results:\n",
        "    print(\"Average rental duration per film (grouped by length):\")\n",
        "    for row in results:\n",
        "        print(row)\n",
        "else:\n",
        "    print(\"No rental data found for completed rentals.\")\n",
        "\n",
        "# Close the connection\n",
        "conn.close()"
      ],
      "metadata": {
        "colab": {
          "base_uri": "https://localhost:8080/"
        },
        "id": "9f0U9Srb6on9",
        "outputId": "4ac08a5b-55ea-4e3d-b68e-da140d6439d2"
      },
      "execution_count": null,
      "outputs": [
        {
          "output_type": "stream",
          "name": "stdout",
          "text": [
            "Average rental duration per film (grouped by length):\n",
            "('Film B', 90, 8.0)\n",
            "('Film A', 90, 6.0)\n"
          ]
        }
      ]
    },
    {
      "cell_type": "markdown",
      "source": [
        "4. Identify the top 3 films in each category based on their rental counts"
      ],
      "metadata": {
        "id": "PGrwkHmd7KyC"
      }
    },
    {
      "cell_type": "code",
      "source": [
        "import sqlite3\n",
        "\n",
        "# Connect to an in-memory SQLite database for demonstration\n",
        "conn = sqlite3.connect(':memory:')\n",
        "cursor = conn.cursor()\n",
        "\n",
        "# Create dummy tables and insert sample data\n",
        "cursor.execute(\"\"\"\n",
        "CREATE TABLE category (\n",
        "    category_id INTEGER PRIMARY KEY,\n",
        "    name TEXT NOT NULL\n",
        ");\n",
        "\"\"\")\n",
        "\n",
        "cursor.execute(\"\"\"\n",
        "CREATE TABLE film (\n",
        "    film_id INTEGER PRIMARY KEY,\n",
        "    title TEXT NOT NULL\n",
        "    -- Add other film columns if needed for realism\n",
        ");\n",
        "\"\"\")\n",
        "\n",
        "cursor.execute(\"\"\"\n",
        "CREATE TABLE film_category (\n",
        "    film_id INTEGER,\n",
        "    category_id INTEGER,\n",
        "    PRIMARY KEY (film_id, category_id),\n",
        "    FOREIGN KEY (film_id) REFERENCES film(film_id),\n",
        "    FOREIGN KEY (category_id) REFERENCES category(category_id)\n",
        ");\n",
        "\"\"\")\n",
        "\n",
        "cursor.execute(\"\"\"\n",
        "CREATE TABLE inventory (\n",
        "    inventory_id INTEGER PRIMARY KEY,\n",
        "    film_id INTEGER,\n",
        "    store_id INTEGER,\n",
        "    FOREIGN KEY (film_id) REFERENCES film(film_id)\n",
        "    -- Add other inventory columns\n",
        ");\n",
        "\"\"\")\n",
        "\n",
        "cursor.execute(\"\"\"\n",
        "CREATE TABLE rental (\n",
        "    rental_id INTEGER PRIMARY KEY,\n",
        "    rental_date DATE,\n",
        "    inventory_id INTEGER,\n",
        "    customer_id INTEGER,\n",
        "    staff_id INTEGER,\n",
        "    FOREIGN KEY (inventory_id) REFERENCES inventory(inventory_id)\n",
        "    -- Add other rental columns\n",
        ");\n",
        "\"\"\")\n",
        "\n",
        "# Insert sample data into category\n",
        "cursor.execute(\"INSERT INTO category VALUES (1, 'Action');\")\n",
        "cursor.execute(\"INSERT INTO category VALUES (2, 'Comedy');\")\n",
        "cursor.execute(\"INSERT INTO category VALUES (3, 'Drama');\")\n",
        "\n",
        "\n",
        "# Insert sample data into film\n",
        "cursor.execute(\"INSERT INTO film VALUES (101, 'Film A');\") # Action, Comedy\n",
        "cursor.execute(\"INSERT INTO film VALUES (102, 'Film B');\") # Comedy, Drama\n",
        "cursor.execute(\"INSERT INTO film VALUES (103, 'Film C');\") # Action\n",
        "\n",
        "\n",
        "# Insert sample data into film_category\n",
        "cursor.execute(\"INSERT INTO film_category VALUES (101, 1);\") # Film A is Action\n",
        "cursor.execute(\"INSERT INTO film_category VALUES (101, 2);\") # Film A is Comedy\n",
        "cursor.execute(\"INSERT INTO film_category VALUES (102, 2);\") # Film B is Comedy\n",
        "cursor.execute(\"INSERT INTO film_category VALUES (102, 3);\") # Film B is Drama\n",
        "cursor.execute(\"INSERT INTO film_category VALUES (103, 1);\") # Film C is Action\n",
        "\n",
        "\n",
        "# Insert sample data into inventory\n",
        "cursor.execute(\"INSERT INTO inventory VALUES (1001, 101, 1);\") # Film A in inventory\n",
        "cursor.execute(\"INSERT INTO inventory VALUES (1002, 102, 1);\") # Film B in inventory\n",
        "cursor.execute(\"INSERT INTO inventory VALUES (1003, 101, 2);\") # Film A in another inventory\n",
        "cursor.execute(\"INSERT INTO inventory VALUES (1004, 103, 1);\") # Film C in inventory\n",
        "\n",
        "\n",
        "# Insert sample data into rental\n",
        "cursor.execute(\"INSERT INTO rental VALUES (1, '2023-10-27', 1001, 1, 1);\") # Rental for Film A (Action, Comedy)\n",
        "cursor.execute(\"INSERT INTO rental VALUES (2, '2023-10-28', 1002, 2, 1);\") # Rental for Film B (Comedy, Drama)\n",
        "cursor.execute(\"INSERT INTO rental VALUES (3, '2023-10-28', 1001, 3, 2);\") # Another rental for Film A (Action, Comedy)\n",
        "cursor.execute(\"INSERT INTO rental VALUES (4, '2023-10-29', 1004, 1, 1);\") # Rental for Film C (Action)\n",
        "\n",
        "\n",
        "# Identify the top 3 films in each category based on their rental counts\n",
        "cursor.execute(\"\"\"\n",
        "WITH RankedFilms AS (\n",
        "    SELECT\n",
        "        c.name AS category_name,\n",
        "        f.title AS film_title,\n",
        "        COUNT(r.rental_id) AS rental_count,\n",
        "        RANK() OVER (\n",
        "            PARTITION BY c.name\n",
        "            ORDER BY COUNT(r.rental_id) DESC\n",
        "        ) AS rank_within_category\n",
        "    FROM\n",
        "        category c\n",
        "    JOIN\n",
        "        film_category fc ON c.category_id = fc.category_id\n",
        "    JOIN\n",
        "        film f ON fc.film_id = f.film_id\n",
        "    JOIN\n",
        "        inventory i ON f.film_id = i.film_id\n",
        "    JOIN\n",
        "        rental r ON i.inventory_id = r.inventory_id\n",
        "    GROUP BY\n",
        "        c.name, f.title\n",
        ")\n",
        "SELECT\n",
        "    category_name,\n",
        "    film_title,\n",
        "    rental_count,\n",
        "    rank_within_category\n",
        "FROM\n",
        "    RankedFilms\n",
        "WHERE\n",
        "    rank_within_category <= 3\n",
        "ORDER BY\n",
        "    category_name, rank_within_category;\n",
        "\"\"\")\n",
        "\n",
        "# Fetch and display the results\n",
        "results = cursor.fetchall()\n",
        "\n",
        "if results:\n",
        "    print(\"Top 3 films in each category by rental count:\")\n",
        "    for row in results:\n",
        "        print(row)\n",
        "else:\n",
        "    print(\"No rental data found for categories.\")\n",
        "\n",
        "# Close the connection\n",
        "conn.close()"
      ],
      "metadata": {
        "colab": {
          "base_uri": "https://localhost:8080/"
        },
        "id": "p-A4L-vA7Q_I",
        "outputId": "940c7eda-f656-4bf4-d21a-e1690e59edc6"
      },
      "execution_count": null,
      "outputs": [
        {
          "output_type": "stream",
          "name": "stdout",
          "text": [
            "Top 3 films in each category by rental count:\n",
            "('Action', 'Film A', 2, 1)\n",
            "('Action', 'Film C', 1, 2)\n",
            "('Comedy', 'Film A', 2, 1)\n",
            "('Comedy', 'Film B', 1, 2)\n",
            "('Drama', 'Film B', 1, 1)\n"
          ]
        }
      ]
    },
    {
      "cell_type": "markdown",
      "source": [
        "5. Calculate the difference in rental counts between each customer's total rentals and the average rentals across all customers."
      ],
      "metadata": {
        "id": "7TV1ajGy7khS"
      }
    },
    {
      "cell_type": "code",
      "source": [
        "import sqlite3\n",
        "\n",
        "# Connect to an in-memory SQLite database for demonstration\n",
        "conn = sqlite3.connect(':memory:')\n",
        "cursor = conn.cursor()\n",
        "\n",
        "# Create dummy tables and insert sample data\n",
        "cursor.execute(\"\"\"\n",
        "CREATE TABLE customer (\n",
        "    customer_id INTEGER PRIMARY KEY,\n",
        "    first_name VARCHAR(45),\n",
        "    last_name VARCHAR(45)\n",
        "    -- Add other customer columns if needed\n",
        ");\n",
        "\"\"\")\n",
        "\n",
        "cursor.execute(\"\"\"\n",
        "CREATE TABLE rental (\n",
        "    rental_id INTEGER PRIMARY KEY,\n",
        "    customer_id INTEGER,\n",
        "    FOREIGN KEY (customer_id) REFERENCES customer(customer_id)\n",
        "    -- Add other rental columns if needed\n",
        ");\n",
        "\"\"\")\n",
        "\n",
        "# Insert sample data into customer\n",
        "cursor.execute(\"INSERT INTO customer VALUES (1, 'Mary', 'Smith');\")\n",
        "cursor.execute(\"INSERT INTO customer VALUES (2, 'Patricia', 'Johnson');\")\n",
        "cursor.execute(\"INSERT INTO customer VALUES (3, 'Linda', 'Williams');\")\n",
        "cursor.execute(\"INSERT INTO customer VALUES (4, 'Barbara', 'Jones');\")\n",
        "\n",
        "\n",
        "# Insert sample data into rental (with varying rental counts per customer)\n",
        "cursor.execute(\"INSERT INTO rental VALUES (1, 1);\") # Mary\n",
        "cursor.execute(\"INSERT INTO rental VALUES (2, 2);\") # Patricia\n",
        "cursor.execute(\"INSERT INTO rental VALUES (3, 1);\") # Mary\n",
        "cursor.execute(\"INSERT INTO rental VALUES (4, 3);\") # Linda\n",
        "cursor.execute(\"INSERT INTO rental VALUES (5, 2);\") # Patricia\n",
        "cursor.execute(\"INSERT INTO rental VALUES (6, 1);\") # Mary\n",
        "cursor.execute(\"INSERT INTO rental VALUES (7, 4);\") # Barbara\n",
        "\n",
        "\n",
        "# Calculate rental count difference from average\n",
        "cursor.execute(\"\"\"\n",
        "SELECT\n",
        "    c.customer_id,\n",
        "    c.first_name,\n",
        "    c.last_name,\n",
        "    COUNT(r.rental_id) AS total_rentals,\n",
        "    ROUND(AVG(COUNT(r.rental_id)) OVER (), 2) AS avg_rentals_across_customers,\n",
        "    COUNT(r.rental_id) - AVG(COUNT(r.rental_id)) OVER () AS rental_diff\n",
        "FROM\n",
        "    customer c\n",
        "JOIN\n",
        "    rental r ON c.customer_id = r.customer_id\n",
        "GROUP BY\n",
        "    c.customer_id, c.first_name, c.last_name\n",
        "ORDER BY\n",
        "    rental_diff DESC;\n",
        "\"\"\")\n",
        "\n",
        "# Fetch and display the results\n",
        "results = cursor.fetchall()\n",
        "\n",
        "if results:\n",
        "    print(\"Rental count difference from average per customer:\")\n",
        "    for row in results:\n",
        "        print(row)\n",
        "else:\n",
        "    print(\"No rental data found.\")\n",
        "\n",
        "# Close the connection\n",
        "conn.close()"
      ],
      "metadata": {
        "colab": {
          "base_uri": "https://localhost:8080/"
        },
        "id": "lNwR33P57qxg",
        "outputId": "685793ef-fdfb-4855-91a4-fbb08ac448b9"
      },
      "execution_count": null,
      "outputs": [
        {
          "output_type": "stream",
          "name": "stdout",
          "text": [
            "Rental count difference from average per customer:\n",
            "(1, 'Mary', 'Smith', 3, 1.75, 1.25)\n",
            "(2, 'Patricia', 'Johnson', 2, 1.75, 0.25)\n",
            "(3, 'Linda', 'Williams', 1, 1.75, -0.75)\n",
            "(4, 'Barbara', 'Jones', 1, 1.75, -0.75)\n"
          ]
        }
      ]
    },
    {
      "cell_type": "markdown",
      "source": [
        "6. Find the monthly revenue trend for the entire rental store over time."
      ],
      "metadata": {
        "id": "dgkDvQwD78Wy"
      }
    },
    {
      "cell_type": "code",
      "source": [
        "import sqlite3\n",
        "\n",
        "# Connect to an in-memory SQLite database for demonstration\n",
        "conn = sqlite3.connect(':memory:')\n",
        "cursor = conn.cursor()\n",
        "\n",
        "# Create a dummy payment table with sample data\n",
        "cursor.execute(\"\"\"\n",
        "CREATE TABLE payment (\n",
        "    payment_id INTEGER PRIMARY KEY,\n",
        "    customer_id INTEGER,\n",
        "    staff_id INTEGER,\n",
        "    rental_id INTEGER,\n",
        "    amount DECIMAL(10, 2),\n",
        "    payment_date TEXT -- Use TEXT for date strings in SQLite\n",
        ");\n",
        "\"\"\")\n",
        "\n",
        "# Insert some sample data with payment dates and amounts\n",
        "cursor.execute(\"INSERT INTO payment VALUES (1, 1, 1, 1, 10.50, '2023-10-27');\")\n",
        "cursor.execute(\"INSERT INTO payment VALUES (2, 2, 1, 2, 20.00, '2023-10-28');\")\n",
        "cursor.execute(\"INSERT INTO payment VALUES (3, 1, 2, 3, 5.75, '2023-11-01');\")\n",
        "cursor.execute(\"INSERT INTO payment VALUES (4, 3, 1, 4, 15.00, '2023-11-05');\")\n",
        "cursor.execute(\"INSERT INTO payment VALUES (5, 2, 1, 5, 8.20, '2023-12-10');\")\n",
        "cursor.execute(\"INSERT INTO payment VALUES (6, 1, 2, 6, 12.00, '2023-12-15');\")\n",
        "\n",
        "\n",
        "# Monthly revenue trend over time\n",
        "cursor.execute(\"\"\"\n",
        "SELECT\n",
        "    strftime('%Y-%m', payment_date) AS month,\n",
        "    SUM(amount) AS monthly_revenue\n",
        "FROM\n",
        "    payment\n",
        "GROUP BY\n",
        "    strftime('%Y-%m', payment_date)\n",
        "ORDER BY\n",
        "    month;\n",
        "\"\"\")\n",
        "\n",
        "# Fetch and display the results\n",
        "results = cursor.fetchall()\n",
        "\n",
        "if results:\n",
        "    print(\"Monthly revenue trend:\")\n",
        "    for row in results:\n",
        "        print(row)\n",
        "else:\n",
        "    print(\"No payment data found.\")\n",
        "\n",
        "# Close the connection\n",
        "conn.close()"
      ],
      "metadata": {
        "colab": {
          "base_uri": "https://localhost:8080/"
        },
        "id": "3ZkYyUTI8LOa",
        "outputId": "8abf37b6-d399-4486-9308-5e4e9dcd1275"
      },
      "execution_count": null,
      "outputs": [
        {
          "output_type": "stream",
          "name": "stdout",
          "text": [
            "Monthly revenue trend:\n",
            "('2023-10', 30.5)\n",
            "('2023-11', 20.75)\n",
            "('2023-12', 20.2)\n"
          ]
        }
      ]
    },
    {
      "cell_type": "markdown",
      "source": [
        "7. Identify the customers whose total spending on rentals falls within the top 20% of all customers."
      ],
      "metadata": {
        "id": "YWykxvXl8zP4"
      }
    },
    {
      "cell_type": "code",
      "source": [
        "import sqlite3\n",
        "\n",
        "# Connect to an in-memory SQLite database for demonstration\n",
        "conn = sqlite3.connect(':memory:')\n",
        "cursor = conn.cursor()\n",
        "\n",
        "# Create dummy tables and insert sample data\n",
        "cursor.execute(\"\"\"\n",
        "CREATE TABLE customer (\n",
        "    customer_id INTEGER PRIMARY KEY,\n",
        "    first_name VARCHAR(45),\n",
        "    last_name VARCHAR(45)\n",
        "    -- Add other customer columns if needed\n",
        ");\n",
        "\"\"\")\n",
        "\n",
        "cursor.execute(\"\"\"\n",
        "CREATE TABLE payment (\n",
        "    payment_id INTEGER PRIMARY KEY,\n",
        "    customer_id INTEGER,\n",
        "    amount DECIMAL(10, 2),\n",
        "    FOREIGN KEY (customer_id) REFERENCES customer(customer_id)\n",
        ");\n",
        "\"\"\")\n",
        "\n",
        "# Insert sample data into customer\n",
        "cursor.execute(\"INSERT INTO customer VALUES (1, 'Mary', 'Smith');\")\n",
        "cursor.execute(\"INSERT INTO customer VALUES (2, 'Patricia', 'Johnson');\")\n",
        "cursor.execute(\"INSERT INTO customer VALUES (3, 'Linda', 'Williams');\")\n",
        "cursor.execute(\"INSERT INTO customer VALUES (4, 'Barbara', 'Jones');\")\n",
        "cursor.execute(\"INSERT INTO customer VALUES (5, 'Elizabeth', 'Brown');\")\n",
        "\n",
        "\n",
        "# Insert sample data into payment (varying amounts to create different percentiles)\n",
        "cursor.execute(\"INSERT INTO payment VALUES (1, 1, 10.50);\") # Mary\n",
        "cursor.execute(\"INSERT INTO payment VALUES (2, 2, 50.00);\") # Patricia (High spender)\n",
        "cursor.execute(\"INSERT INTO payment VALUES (3, 1, 5.75);\")  # Mary\n",
        "cursor.execute(\"INSERT INTO payment VALUES (4, 3, 15.00);\") # Linda\n",
        "cursor.execute(\"INSERT INTO payment VALUES (5, 2, 25.00);\") # Patricia\n",
        "cursor.execute(\"INSERT INTO payment VALUES (6, 4, 12.00);\") # Barbara\n",
        "cursor.execute(\"INSERT INTO payment VALUES (7, 5, 8.00);\")  # Elizabeth\n",
        "cursor.execute(\"INSERT INTO payment VALUES (8, 2, 10.00);\") # Patricia\n",
        "\n",
        "\n",
        "# Find customers in the top 20% of total rental spending\n",
        "cursor.execute(\"\"\"\n",
        "WITH customer_spending AS (\n",
        "    SELECT\n",
        "        c.customer_id,\n",
        "        c.first_name,\n",
        "        c.last_name,\n",
        "        SUM(p.amount) AS total_spent,\n",
        "        PERCENT_RANK() OVER (ORDER BY SUM(p.amount) DESC) AS spending_percentile\n",
        "    FROM\n",
        "        customer c\n",
        "    JOIN\n",
        "        payment p ON c.customer_id = p.customer_id\n",
        "    GROUP BY\n",
        "        c.customer_id, c.first_name, c.last_name\n",
        ")\n",
        "\n",
        "SELECT\n",
        "    customer_id,\n",
        "    first_name,\n",
        "    last_name,\n",
        "    total_spent,\n",
        "    spending_percentile\n",
        "FROM\n",
        "    customer_spending\n",
        "WHERE\n",
        "    spending_percentile <= 0.20 -- Top 20% have a percentile rank of 0.20 or less\n",
        "ORDER BY\n",
        "    spending_percentile;\n",
        "\"\"\")\n",
        "\n",
        "# Fetch and display the results\n",
        "results = cursor.fetchall()\n",
        "\n",
        "if results:\n",
        "    print(\"Customers in the top 20% of total spending:\")\n",
        "    for row in results:\n",
        "        print(row)\n",
        "else:\n",
        "    print(\"No customers found in the top 20% (or no payment data).\")\n",
        "\n",
        "# Close the connection\n",
        "conn.close()"
      ],
      "metadata": {
        "colab": {
          "base_uri": "https://localhost:8080/"
        },
        "id": "35KyW2pN85Xh",
        "outputId": "19c411f9-82e7-484f-a976-821e2d6f0bf2"
      },
      "execution_count": null,
      "outputs": [
        {
          "output_type": "stream",
          "name": "stdout",
          "text": [
            "Customers in the top 20% of total spending:\n",
            "(2, 'Patricia', 'Johnson', 85, 0.0)\n"
          ]
        }
      ]
    },
    {
      "cell_type": "markdown",
      "source": [
        "8. Calculate the running total of rentals per category, ordered by rental count."
      ],
      "metadata": {
        "id": "LCmhMdPA9K6R"
      }
    },
    {
      "cell_type": "code",
      "source": [
        "import sqlite3\n",
        "\n",
        "# Connect to an in-memory SQLite database for demonstration\n",
        "conn = sqlite3.connect(':memory:')\n",
        "cursor = conn.cursor()\n",
        "\n",
        "# Create dummy tables and insert sample data\n",
        "cursor.execute(\"\"\"\n",
        "CREATE TABLE category (\n",
        "    category_id INTEGER PRIMARY KEY,\n",
        "    name TEXT NOT NULL\n",
        ");\n",
        "\"\"\")\n",
        "\n",
        "cursor.execute(\"\"\"\n",
        "CREATE TABLE film (\n",
        "    film_id INTEGER PRIMARY KEY,\n",
        "    title TEXT NOT NULL\n",
        "    -- Add other film columns if needed for realism\n",
        ");\n",
        "\"\"\")\n",
        "\n",
        "cursor.execute(\"\"\"\n",
        "CREATE TABLE film_category (\n",
        "    film_id INTEGER,\n",
        "    category_id INTEGER,\n",
        "    PRIMARY KEY (film_id, category_id),\n",
        "    FOREIGN KEY (film_id) REFERENCES film(film_id),\n",
        "    FOREIGN KEY (category_id) REFERENCES category(category_id)\n",
        ");\n",
        "\"\"\")\n",
        "\n",
        "cursor.execute(\"\"\"\n",
        "CREATE TABLE inventory (\n",
        "    inventory_id INTEGER PRIMARY KEY,\n",
        "    film_id INTEGER,\n",
        "    store_id INTEGER,\n",
        "    FOREIGN KEY (film_id) REFERENCES film(film_id)\n",
        "    -- Add other inventory columns\n",
        ");\n",
        "\"\"\")\n",
        "\n",
        "cursor.execute(\"\"\"\n",
        "CREATE TABLE rental (\n",
        "    rental_id INTEGER PRIMARY KEY,\n",
        "    rental_date DATE,\n",
        "    inventory_id INTEGER,\n",
        "    customer_id INTEGER,\n",
        "    staff_id INTEGER,\n",
        "    FOREIGN KEY (inventory_id) REFERENCES inventory(inventory_id)\n",
        "    -- Add other rental columns\n",
        ");\n",
        "\"\"\")\n",
        "\n",
        "# Insert sample data into category\n",
        "cursor.execute(\"INSERT INTO category VALUES (1, 'Action');\")\n",
        "cursor.execute(\"INSERT INTO category VALUES (2, 'Comedy');\")\n",
        "cursor.execute(\"INSERT INTO category VALUES (3, 'Drama');\")\n",
        "\n",
        "\n",
        "# Insert sample data into film\n",
        "cursor.execute(\"INSERT INTO film VALUES (101, 'Film A');\") # Action, Comedy\n",
        "cursor.execute(\"INSERT INTO film VALUES (102, 'Film B');\") # Comedy, Drama\n",
        "cursor.execute(\"INSERT INTO film VALUES (103, 'Film C');\") # Action\n",
        "\n",
        "\n",
        "# Insert sample data into film_category\n",
        "cursor.execute(\"INSERT INTO film_category VALUES (101, 1);\") # Film A is Action\n",
        "cursor.execute(\"INSERT INTO film_category VALUES (101, 2);\") # Film A is Comedy\n",
        "cursor.execute(\"INSERT INTO film_category VALUES (102, 2);\") # Film B is Comedy\n",
        "cursor.execute(\"INSERT INTO film_category VALUES (102, 3);\") # Film B is Drama\n",
        "cursor.execute(\"INSERT INTO film_category VALUES (103, 1);\") # Film C is Action\n",
        "\n",
        "\n",
        "# Insert sample data into inventory\n",
        "cursor.execute(\"INSERT INTO inventory VALUES (1001, 101, 1);\") # Film A in inventory\n",
        "cursor.execute(\"INSERT INTO inventory VALUES (1002, 102, 1);\") # Film B in inventory\n",
        "cursor.execute(\"INSERT INTO inventory VALUES (1003, 101, 2);\") # Film A in another inventory\n",
        "\n",
        "\n",
        "# Insert sample data into rental\n",
        "cursor.execute(\"INSERT INTO rental VALUES (1, '2023-10-27', 1001, 1, 1);\") # Rental for Film A (Action, Comedy)\n",
        "cursor.execute(\"INSERT INTO rental VALUES (2, '2023-10-28', 1002, 2, 1);\") # Rental for Film B (Comedy, Drama)\n",
        "cursor.execute(\"INSERT INTO rental VALUES (3, '2023-10-28', 1001, 3, 2);\") # Another rental for Film A (Action, Comedy)\n",
        "\n",
        "\n",
        "# Calculate the running total of rentals per category, ordered by rental count.\n",
        "cursor.execute(\"\"\"\n",
        "WITH category_rental_counts AS (\n",
        "    SELECT\n",
        "        c.name AS category_name,\n",
        "        COUNT(r.rental_id) AS rental_count\n",
        "    FROM\n",
        "        category c\n",
        "    JOIN\n",
        "        film_category fc ON c.category_id = fc.category_id\n",
        "    JOIN\n",
        "        film f ON fc.film_id = f.film_id\n",
        "    JOIN\n",
        "        inventory i ON f.film_id = i.film_id\n",
        "    JOIN\n",
        "        rental r ON i.inventory_id = r.inventory_id\n",
        "    GROUP BY\n",
        "        c.name\n",
        ")\n",
        "SELECT\n",
        "    category_name,\n",
        "    rental_count,\n",
        "    SUM(rental_count) OVER (ORDER BY rental_count DESC) AS running_total\n",
        "FROM\n",
        "    category_rental_counts\n",
        "ORDER BY\n",
        "    rental_count DESC;\n",
        "\"\"\")\n",
        "\n",
        "# Fetch and display the results\n",
        "results = cursor.fetchall()\n",
        "\n",
        "if results:\n",
        "    print(\"Running total of rentals per category:\")\n",
        "    for row in results:\n",
        "        print(row)\n",
        "else:\n",
        "    print(\"No rental data found for categories.\")\n",
        "\n",
        "# Close the connection\n",
        "conn.close()"
      ],
      "metadata": {
        "colab": {
          "base_uri": "https://localhost:8080/"
        },
        "id": "FTbVzy_R9SrJ",
        "outputId": "b2af2e84-0c9b-4025-fb82-3e72454b1062"
      },
      "execution_count": null,
      "outputs": [
        {
          "output_type": "stream",
          "name": "stdout",
          "text": [
            "Running total of rentals per category:\n",
            "('Comedy', 3, 3)\n",
            "('Action', 2, 5)\n",
            "('Drama', 1, 6)\n"
          ]
        }
      ]
    },
    {
      "cell_type": "markdown",
      "source": [
        "9. Find the films that have been rented less than the average rental count for their respective categories."
      ],
      "metadata": {
        "id": "4G6wwgdR9wrh"
      }
    },
    {
      "cell_type": "code",
      "source": [
        "import sqlite3\n",
        "\n",
        "# Connect to an in-memory SQLite database for demonstration\n",
        "conn = sqlite3.connect(':memory:')\n",
        "cursor = conn.cursor()\n",
        "\n",
        "# Create dummy tables and insert sample data\n",
        "cursor.execute(\"\"\"\n",
        "CREATE TABLE category (\n",
        "    category_id INTEGER PRIMARY KEY,\n",
        "    name TEXT NOT NULL\n",
        ");\n",
        "\"\"\")\n",
        "\n",
        "cursor.execute(\"\"\"\n",
        "CREATE TABLE film (\n",
        "    film_id INTEGER PRIMARY KEY,\n",
        "    title TEXT NOT NULL\n",
        ");\n",
        "\"\"\")\n",
        "\n",
        "cursor.execute(\"\"\"\n",
        "CREATE TABLE film_category (\n",
        "    film_id INTEGER,\n",
        "    category_id INTEGER,\n",
        "    PRIMARY KEY (film_id, category_id),\n",
        "    FOREIGN KEY (film_id) REFERENCES film(film_id),\n",
        "    FOREIGN KEY (category_id) REFERENCES category(category_id)\n",
        ");\n",
        "\"\"\")\n",
        "\n",
        "cursor.execute(\"\"\"\n",
        "CREATE TABLE inventory (\n",
        "    inventory_id INTEGER PRIMARY KEY,\n",
        "    film_id INTEGER,\n",
        "    store_id INTEGER,\n",
        "    FOREIGN KEY (film_id) REFERENCES film(film_id)\n",
        ");\n",
        "\"\"\")\n",
        "\n",
        "cursor.execute(\"\"\"\n",
        "CREATE TABLE rental (\n",
        "    rental_id INTEGER PRIMARY KEY,\n",
        "    inventory_id INTEGER,\n",
        "    FOREIGN KEY (inventory_id) REFERENCES inventory(inventory_id)\n",
        ");\n",
        "\"\"\")\n",
        "\n",
        "# Insert sample data into category\n",
        "cursor.execute(\"INSERT INTO category VALUES (1, 'Action');\")\n",
        "cursor.execute(\"INSERT INTO category VALUES (2, 'Comedy');\")\n",
        "\n",
        "\n",
        "# Insert sample data into film\n",
        "cursor.execute(\"INSERT INTO film VALUES (101, 'Film A');\") # Action, Comedy\n",
        "cursor.execute(\"INSERT INTO film VALUES (102, 'Film B');\") # Comedy\n",
        "cursor.execute(\"INSERT INTO film VALUES (103, 'Film C');\") # Action\n",
        "\n",
        "\n",
        "# Insert sample data into film_category\n",
        "cursor.execute(\"INSERT INTO film_category VALUES (101, 1);\") # Film A is Action\n",
        "cursor.execute(\"INSERT INTO film_category VALUES (101, 2);\") # Film A is Comedy\n",
        "cursor.execute(\"INSERT INTO film_category VALUES (102, 2);\") # Film B is Comedy\n",
        "cursor.execute(\"INSERT INTO film_category VALUES (103, 1);\") # Film C is Action\n",
        "\n",
        "\n",
        "# Insert sample data into inventory\n",
        "cursor.execute(\"INSERT INTO inventory VALUES (1001, 101, 1);\") # Film A\n",
        "cursor.execute(\"INSERT INTO inventory VALUES (1002, 102, 1);\") # Film B\n",
        "cursor.execute(\"INSERT INTO inventory VALUES (1003, 101, 2);\") # Film A\n",
        "cursor.execute(\"INSERT INTO inventory VALUES (1004, 103, 1);\") # Film C\n",
        "\n",
        "\n",
        "# Insert sample data into rental\n",
        "cursor.execute(\"INSERT INTO rental VALUES (1, 1001);\") # Film A rented\n",
        "cursor.execute(\"INSERT INTO rental VALUES (2, 1002);\") # Film B rented\n",
        "cursor.execute(\"INSERT INTO rental VALUES (3, 1001);\") # Film A rented\n",
        "cursor.execute(\"INSERT INTO rental VALUES (4, 1004);\") # Film C rented\n",
        "cursor.execute(\"INSERT INTO rental VALUES (5, 1001);\") # Film A rented\n",
        "cursor.execute(\"INSERT INTO rental VALUES (6, 1002);\") # Film B rented\n",
        "\n",
        "\n",
        "# Execute the SQL query with CTEs\n",
        "cursor.executescript(\"\"\"\n",
        "-- Step 1: Compute rental counts for each film with its category\n",
        "WITH film_rentals AS (\n",
        "    SELECT\n",
        "        f.film_id,\n",
        "        f.title,\n",
        "        c.name AS category_name,\n",
        "        COUNT(r.rental_id) AS film_rental_count\n",
        "    FROM\n",
        "        film f\n",
        "    JOIN\n",
        "        film_category fc ON f.film_id = fc.film_id\n",
        "    JOIN\n",
        "        category c ON fc.category_id = c.category_id\n",
        "    JOIN\n",
        "        inventory i ON f.film_id = i.film_id\n",
        "    JOIN\n",
        "        rental r ON i.inventory_id = r.inventory_id\n",
        "    GROUP BY\n",
        "        f.film_id, f.title, c.name\n",
        "),\n",
        "\n",
        "-- Step 2: Compute average rental count per category\n",
        "category_avg AS (\n",
        "    SELECT\n",
        "        category_name,\n",
        "        AVG(film_rental_count) AS avg_rental_count\n",
        "    FROM\n",
        "        film_rentals\n",
        "    GROUP BY\n",
        "        category_name\n",
        ")\n",
        "\n",
        "-- Step 3: Compare each film's rental count to its category's average\n",
        "SELECT\n",
        "    fr.title,\n",
        "    fr.category_name,\n",
        "    fr.film_rental_count,\n",
        "    ca.avg_rental_count\n",
        "FROM\n",
        "    film_rentals fr\n",
        "JOIN\n",
        "    category_avg ca ON fr.category_name = ca.category_name\n",
        "WHERE\n",
        "    fr.film_rental_count < ca.avg_rental_count\n",
        "ORDER BY\n",
        "    fr.category_name, fr.film_rental_count;\n",
        "\"\"\")\n",
        "\n",
        "# Fetch and display the results\n",
        "results = cursor.fetchall()\n",
        "\n",
        "if results:\n",
        "    print(\"Films rented less than the average for their category:\")\n",
        "    for row in results:\n",
        "        print(row)\n",
        "else:\n",
        "    print(\"No films found that were rented less than their category's average.\")\n",
        "\n",
        "# Close the connection\n",
        "conn.close()"
      ],
      "metadata": {
        "colab": {
          "base_uri": "https://localhost:8080/"
        },
        "id": "k8krowhV9z1I",
        "outputId": "7767b549-eb25-4d44-f6f0-2874ce80c712"
      },
      "execution_count": null,
      "outputs": [
        {
          "output_type": "stream",
          "name": "stdout",
          "text": [
            "No films found that were rented less than their category's average.\n"
          ]
        }
      ]
    },
    {
      "cell_type": "markdown",
      "source": [
        "10. Identify the top 5 months with the highest revenue and display the revenue generated in each month."
      ],
      "metadata": {
        "id": "GdU_ZbO6-Dix"
      }
    },
    {
      "cell_type": "code",
      "source": [
        "import sqlite3\n",
        "\n",
        "# Connect to an in-memory SQLite database for demonstration\n",
        "conn = sqlite3.connect(':memory:')\n",
        "cursor = conn.cursor()\n",
        "\n",
        "# Create a dummy payment table with sample data\n",
        "cursor.execute(\"\"\"\n",
        "CREATE TABLE payment (\n",
        "    payment_id INTEGER PRIMARY KEY,\n",
        "    customer_id INTEGER,\n",
        "    staff_id INTEGER,\n",
        "    rental_id INTEGER,\n",
        "    amount DECIMAL(10, 2),\n",
        "    payment_date TEXT -- Use TEXT for date strings in SQLite\n",
        ");\n",
        "\"\"\")\n",
        "\n",
        "# Insert some sample data with payment dates and amounts\n",
        "cursor.execute(\"INSERT INTO payment VALUES (1, 1, 1, 1, 10.50, '2023-10-27');\")\n",
        "cursor.execute(\"INSERT INTO payment VALUES (2, 2, 1, 2, 20.00, '2023-10-28');\")\n",
        "cursor.execute(\"INSERT INTO payment VALUES (3, 1, 2, 3, 5.75, '2023-11-01');\")\n",
        "cursor.execute(\"INSERT INTO payment VALUES (4, 3, 1, 4, 15.00, '2023-11-05');\")\n",
        "cursor.execute(\"INSERT INTO payment VALUES (5, 2, 1, 5, 8.20, '2023-12-10');\")\n",
        "cursor.execute(\"INSERT INTO payment VALUES (6, 1, 2, 6, 12.00, '2023-12-15');\")\n",
        "cursor.execute(\"INSERT INTO payment VALUES (7, 4, 1, 7, 30.00, '2023-10-29');\") # Additional data for October\n",
        "cursor.execute(\"INSERT INTO payment VALUES (8, 5, 2, 8, 25.00, '2023-11-10');\") # Additional data for November\n",
        "cursor.execute(\"INSERT INTO payment VALUES (9, 6, 1, 9, 18.00, '2023-12-20');\") # Additional data for December\n",
        "\n",
        "\n",
        "# Identify the top 5 months with the highest revenue\n",
        "cursor.execute(\"\"\"\n",
        "SELECT\n",
        "    strftime('%Y-%m', payment_date) AS month,\n",
        "    SUM(amount) AS total_revenue\n",
        "FROM\n",
        "    payment\n",
        "GROUP BY\n",
        "    strftime('%Y-%m', payment_date)\n",
        "ORDER BY\n",
        "    total_revenue DESC\n",
        "LIMIT 5;\n",
        "\"\"\")\n",
        "\n",
        "# Fetch and display the results\n",
        "results = cursor.fetchall()\n",
        "\n",
        "if results:\n",
        "    print(\"Top 5 months with the highest revenue:\")\n",
        "    for row in results:\n",
        "        print(row)\n",
        "else:\n",
        "    print(\"No payment data found.\")\n",
        "\n",
        "# Close the connection\n",
        "conn.close()"
      ],
      "metadata": {
        "colab": {
          "base_uri": "https://localhost:8080/"
        },
        "id": "KnDdvUgm-IRD",
        "outputId": "9fb79f92-a972-430f-c842-c42d81a16433"
      },
      "execution_count": null,
      "outputs": [
        {
          "output_type": "stream",
          "name": "stdout",
          "text": [
            "Top 5 months with the highest revenue:\n",
            "('2023-10', 60.5)\n",
            "('2023-11', 45.75)\n",
            "('2023-12', 38.2)\n"
          ]
        }
      ]
    },
    {
      "cell_type": "markdown",
      "source": [
        "##Normalisation & CTE"
      ],
      "metadata": {
        "id": "4wu2i-ss-dgp"
      }
    },
    {
      "cell_type": "markdown",
      "source": [
        "**Q1. First Normal Form (1NF):**\n",
        "\n",
        " a. Identify a table in the Sakila database that violates 1NF. Explain how you would normalize"
      ],
      "metadata": {
        "id": "wqsghdw_AG0J"
      }
    },
    {
      "cell_type": "markdown",
      "source": [
        "**Answer**\n",
        "\n",
        "**Step 1: Recall 1NF Rules**\n",
        "\n",
        "A table violates 1NF if:\n",
        "\n",
        "- It has repeating groups or arrays in a column.\n",
        "\n",
        "- It has non-atomic values (multiple values stored in a single cell).\n",
        "\n",
        "- It doesn’t have a primary key.\n",
        "\n",
        "**Step 2: Identify a Sakila Table that Violates 1NF**\n",
        "\n",
        "One common candidate in Sakila is the film table.\n",
        "\n",
        "The film table has columns like:\n",
        "\n",
        "- special_features → contains a comma-separated list (e.g., \"Trailers,Deleted Scenes\")\n",
        "\n",
        "- Actors are connected via a junction table (film_actor), which is fine, but if we stored them inside film as a list it would break 1NF.\n",
        "\n",
        "So, the film.special_features column violates 1NF because it stores multiple values in one cell instead of atomic data.\n",
        "\n",
        "**Step 3: How to Normalize to 1NF**\n",
        "\n",
        "*To fix this:*\n",
        "\n",
        "- Create a new table film_special_feature that stores one row per film-feature pair."
      ],
      "metadata": {
        "id": "ieVx5b5PmFnC"
      }
    },
    {
      "cell_type": "code",
      "source": [
        "import sqlite3\n",
        "\n",
        "# Connect to an in-memory SQLite database for demonstration\n",
        "conn = sqlite3.connect(':memory:')\n",
        "cursor = conn.cursor()\n",
        "\n",
        "# Create a dummy film table with the special_features column\n",
        "cursor.execute(\"\"\"\n",
        "CREATE TABLE film (\n",
        "    film_id INTEGER PRIMARY KEY,\n",
        "    title TEXT NOT NULL,\n",
        "    special_features TEXT -- Column violating 1NF\n",
        ");\n",
        "\"\"\")\n",
        "\n",
        "# Insert some sample data with non-atomic special_features\n",
        "cursor.execute(\"INSERT INTO film VALUES (1, 'Film A', 'Trailers,Deleted Scenes');\")\n",
        "cursor.execute(\"INSERT INTO film VALUES (2, 'Film B', 'Commentaries,Behind the Scenes');\")\n",
        "cursor.execute(\"INSERT INTO film VALUES (3, 'Film C', 'Trailers');\")\n",
        "\n",
        "\n",
        "# Create the film_special_feature table to normalize 1NF\n",
        "cursor.execute(\"\"\"\n",
        "CREATE TABLE film_special_feature (\n",
        "    film_id INTEGER,\n",
        "    feature VARCHAR(50),\n",
        "    FOREIGN KEY (film_id) REFERENCES film(film_id)\n",
        ");\n",
        "\"\"\")\n",
        "\n",
        "# You would typically parse the special_features column and insert into the new table.\n",
        "# For demonstration, here's how the data would look after normalization:\n",
        "# INSERT INTO film_special_feature VALUES (1, 'Trailers');\n",
        "# INSERT INTO film_special_feature VALUES (1, 'Deleted Scenes');\n",
        "# INSERT INTO film_special_feature VALUES (2, 'Commentaries');\n",
        "# INSERT INTO film_special_feature VALUES (2, 'Behind the Scenes');\n",
        "# INSERT INTO film_special_feature VALUES (3, 'Trailers');\n",
        "\n",
        "# After migrating the data, you would drop the original column (optional but good practice)\n",
        "# ALTER TABLE film DROP COLUMN special_features; # SQLite does not support dropping columns directly with ALTER TABLE in older versions\n",
        "\n",
        "print(\"Tables created and sample data inserted (demonstrating 1NF violation).\")\n",
        "print(\"film_special_feature table created (for normalization).\")\n",
        "\n",
        "# Close the connection\n",
        "conn.close()"
      ],
      "metadata": {
        "colab": {
          "base_uri": "https://localhost:8080/"
        },
        "id": "B7BDgwhuohoo",
        "outputId": "d88396d4-ee09-4289-a5bf-cc6ac4324c8e"
      },
      "execution_count": 5,
      "outputs": [
        {
          "output_type": "stream",
          "name": "stdout",
          "text": [
            "Tables created and sample data inserted (demonstrating 1NF violation).\n",
            "film_special_feature table created (for normalization).\n"
          ]
        }
      ]
    },
    {
      "cell_type": "markdown",
      "source": [
        "**Q2. Second Normal Form (2NF):**\n",
        "\n",
        " a. Choose a table in Sakila and describe how you would determine whether it is in 2NF.\n",
        "\n",
        " If it violates 2NF, explain the steps to normalize it."
      ],
      "metadata": {
        "id": "Kp_ByzqcpH1n"
      }
    },
    {
      "cell_type": "markdown",
      "source": [
        "**Step 1: Recall 2NF Rules**\n",
        "\n",
        "A table is in 2NF if:\n",
        "\n",
        "- It is already in 1NF.\n",
        "\n",
        "- Every non-key attribute depends on the whole primary key, not just part of it.\n",
        "This only matters for tables with composite primary keys.\n",
        "\n",
        "If a non-key column depends only on part of the composite key, that’s a partial dependency → violation of 2NF.\n",
        "\n",
        "**Step 2: Find a Candidate Table in Sakila**\n",
        "\n",
        "One good example is film_actor:\n",
        "\n",
        "- Primary Key = (actor_id, film_id) (composite key).\n",
        "\n",
        "- Non-key attribute = last_update."
      ],
      "metadata": {
        "id": "lW9PkYAWpO2p"
      }
    },
    {
      "cell_type": "code",
      "source": [
        "import sqlite3\n",
        "\n",
        "# Connect to an in-memory SQLite database for demonstration\n",
        "conn = sqlite3.connect(':memory:')\n",
        "cursor = conn.cursor()\n",
        "\n",
        "# Create dummy actor and film tables (needed for foreign keys)\n",
        "cursor.execute(\"\"\"\n",
        "CREATE TABLE actor (\n",
        "    actor_id INTEGER PRIMARY KEY,\n",
        "    first_name VARCHAR(45),\n",
        "    last_name VARCHAR(45)\n",
        ");\n",
        "\"\"\")\n",
        "\n",
        "cursor.execute(\"\"\"\n",
        "CREATE TABLE film (\n",
        "    film_id INTEGER PRIMARY KEY,\n",
        "    title TEXT NOT NULL\n",
        ");\n",
        "\"\"\")\n",
        "\n",
        "\n",
        "# Create the film_actor table (violating 2NF with last_update depending only on actor_id)\n",
        "cursor.execute(\"\"\"\n",
        "CREATE TABLE film_actor (\n",
        "    actor_id INTEGER NOT NULL,\n",
        "    film_id INTEGER NOT NULL,\n",
        "    last_update TIMESTAMP NOT NULL, -- This column depends only on actor_id, violating 2NF\n",
        "    PRIMARY KEY (actor_id, film_id),\n",
        "    FOREIGN KEY (actor_id) REFERENCES actor(actor_id),\n",
        "    FOREIGN KEY (film_id) REFERENCES film(film_id)\n",
        ");\n",
        "\"\"\")\n",
        "\n",
        "# Insert some sample data (demonstrating the partial dependency)\n",
        "cursor.execute(\"INSERT INTO actor VALUES (1, 'Penelope', 'Guiness');\")\n",
        "cursor.execute(\"INSERT INTO actor VALUES (2, 'Nick', 'Wahlberg');\")\n",
        "cursor.execute(\"INSERT INTO film VALUES (101, 'Film A');\")\n",
        "cursor.execute(\"INSERT INTO film VALUES (102, 'Film B');\")\n",
        "\n",
        "# last_update here is associated with the actor, not the film_actor combination\n",
        "cursor.execute(\"INSERT INTO film_actor VALUES (1, 101, '2023-10-27 10:00:00');\")\n",
        "cursor.execute(\"INSERT INTO film_actor VALUES (1, 102, '2023-10-27 10:00:00');\") # Same actor_id, same last_update\n",
        "cursor.execute(\"INSERT INTO film_actor VALUES (2, 101, '2023-10-28 11:00:00');\")\n",
        "\n",
        "\n",
        "print(\"Tables created and sample data inserted (demonstrating 2NF violation).\")\n",
        "\n",
        "# To normalize to 2NF, you would move `last_update` to the `actor` table.\n",
        "# (Demonstration of the normalized structure):\n",
        "# ALTER TABLE actor ADD COLUMN last_update TIMESTAMP;\n",
        "# Then you would update the actor table with the correct last_update values\n",
        "# and drop the column from film_actor.\n",
        "\n",
        "# Close the connection\n",
        "conn.close()"
      ],
      "metadata": {
        "colab": {
          "base_uri": "https://localhost:8080/"
        },
        "id": "8_idNfUGpjjh",
        "outputId": "53b50391-0df8-4c4f-c5e9-eaae0d93f7f8"
      },
      "execution_count": 7,
      "outputs": [
        {
          "output_type": "stream",
          "name": "stdout",
          "text": [
            "Tables created and sample data inserted (demonstrating 2NF violation).\n"
          ]
        }
      ]
    },
    {
      "cell_type": "markdown",
      "source": [
        "**Step 3: Check for 2NF Violation**\n",
        "\n",
        "last_update depends on the whole pair (actor_id, film_id), not just actor_id or film_id individually.\n",
        "\n",
        "So this table is in 2NF.\n",
        "\n",
        "But let’s imagine a violation scenario:\n",
        "\n",
        "Suppose we wrongly added actor_name or film_title inside film_actor.\n",
        "\n",
        "- actor_name depends only on actor_id.\n",
        "\n",
        "- film_title depends only on film_id.\n",
        "That would be a partial dependency, violating 2NF.\n",
        "\n",
        "**Step 4: How to Normalize (if violated)**\n",
        "\n",
        "If film_actor had actor_name and film_title inside it, the fix would be:\n",
        "\n",
        "1. Remove actor_name → keep it in the actor table.\n",
        "\n",
        "2. Remove film_title → keep it in the film table.\n",
        "\n",
        "3. film_actor should only contain the linking IDs + attributes that depend on both (e.g., last_update).\n",
        "\n",
        "Result:\n",
        "\n",
        "- actor(actor_id, first_name, last_name, …)\n",
        "\n",
        "- film(film_id, title, …)\n",
        "\n",
        "- film_actor(actor_id, film_id, last_update)"
      ],
      "metadata": {
        "id": "ivkTk-T6p6jY"
      }
    },
    {
      "cell_type": "markdown",
      "source": [
        "**Q3. Third Normal Form (3NF):**\n",
        "\n",
        " a. Identify a table in Sakila that violates 3NF. Describe the transitive dependencies\n",
        "\n",
        " present and outline"
      ],
      "metadata": {
        "id": "JD081V39qUze"
      }
    },
    {
      "cell_type": "markdown",
      "source": [
        "**Step 1: Recall 3NF Rules**\n",
        "\n",
        "- A table is in 3NF if:\n",
        "\n",
        "- It is already in 2NF.\n",
        "\n",
        "No transitive dependencies exist → i.e., non-key attributes must depend only on the primary key, not on another non-key attribute.\n",
        "\n",
        "A transitive dependency looks like:\n",
        "\n",
        "**Step 2: Find a Candidate Table in Sakila**\n",
        "\n",
        "- A common example is the address table:"
      ],
      "metadata": {
        "id": "ihYfqYOjqcXw"
      }
    },
    {
      "cell_type": "code",
      "source": [
        "import sqlite3\n",
        "\n",
        "# Connect to an in-memory SQLite database for demonstration\n",
        "conn = sqlite3.connect(':memory:')\n",
        "cursor = conn.cursor()\n",
        "\n",
        "# Create a dummy city table (needed for foreign key in address)\n",
        "cursor.execute(\"\"\"\n",
        "CREATE TABLE city (\n",
        "    city_id INTEGER PRIMARY KEY,\n",
        "    city TEXT NOT NULL,\n",
        "    country_id INTEGER -- Adding country_id for demonstration of 3NF violation\n",
        ");\n",
        "\"\"\")\n",
        "\n",
        "# Create the address table (violating 3NF with city and country_id)\n",
        "cursor.execute(\"\"\"\n",
        "CREATE TABLE address (\n",
        "    address_id INTEGER PRIMARY KEY,\n",
        "    address TEXT,\n",
        "    address2 TEXT,\n",
        "    district TEXT,\n",
        "    city_id INTEGER,\n",
        "    postal_code TEXT,\n",
        "    phone TEXT,\n",
        "    last_update TIMESTAMP,\n",
        "    FOREIGN KEY (city_id) REFERENCES city(city_id)\n",
        ");\n",
        "\"\"\")\n",
        "\n",
        "# Insert some sample data (demonstrating the transitive dependency)\n",
        "cursor.execute(\"INSERT INTO city VALUES (1, 'London', 10);\") # city_id 1, country_id 10\n",
        "cursor.execute(\"INSERT INTO city VALUES (2, 'Paris', 20);\") # city_id 2, country_id 20\n",
        "\n",
        "\n",
        "cursor.execute(\"INSERT INTO address VALUES (101, '123 Main St', NULL, 'Westminster', 1, 'SW1A 0AA', '123-456-7890', '2023-10-27 10:00:00');\") # Address in London\n",
        "cursor.execute(\"INSERT INTO address VALUES (102, '456 Oak Ave', NULL, 'Latin Quarter', 2, '75005', '098-765-4321', '2023-10-28 11:00:00');\") # Address in Paris\n",
        "\n",
        "\n",
        "print(\"Tables created and sample data inserted (demonstrating potential 3NF violation).\")\n",
        "print(\"Note: The 'city' table in this example shows a transitive dependency if country_id were directly in the 'address' table.\")\n",
        "\n",
        "# To normalize to 3NF, you would move `country_id` and any other country-related\n",
        "# attributes from the `city` table into a separate `country` table.\n",
        "# (Demonstration of the normalized structure):\n",
        "# CREATE TABLE country ( country_id INTEGER PRIMARY KEY, country TEXT NOT NULL);\n",
        "# ALTER TABLE city ADD COLUMN country_id INTEGER; # Link city to country\n",
        "# ALTER TABLE city ADD FOREIGN KEY (country_id) REFERENCES country(country_id);\n",
        "\n",
        "# Close the connection\n",
        "conn.close()"
      ],
      "metadata": {
        "colab": {
          "base_uri": "https://localhost:8080/"
        },
        "id": "L_-vaXlQqywf",
        "outputId": "4681abbf-b951-439a-9d06-b69d937a7825"
      },
      "execution_count": 9,
      "outputs": [
        {
          "output_type": "stream",
          "name": "stdout",
          "text": [
            "Tables created and sample data inserted (demonstrating potential 3NF violation).\n",
            "Note: The 'city' table in this example shows a transitive dependency if country_id were directly in the 'address' table.\n"
          ]
        }
      ]
    },
    {
      "cell_type": "code",
      "source": [
        "import sqlite3\n",
        "\n",
        "# Connect to an in-memory SQLite database for demonstration\n",
        "conn = sqlite3.connect(':memory:')\n",
        "cursor = conn.cursor()\n",
        "\n",
        "# Create the country table\n",
        "cursor.execute(\"\"\"\n",
        "CREATE TABLE country (\n",
        "    country_id INTEGER PRIMARY KEY,\n",
        "    country TEXT NOT NULL\n",
        ");\n",
        "\"\"\")\n",
        "\n",
        "# Create the city table with a foreign key referencing the country table\n",
        "cursor.execute(\"\"\"\n",
        "CREATE TABLE city (\n",
        "    city_id INTEGER PRIMARY KEY,\n",
        "    city TEXT NOT NULL,\n",
        "    country_id INTEGER,\n",
        "    last_update TIMESTAMP,\n",
        "    FOREIGN KEY (country_id) REFERENCES country(country_id)\n",
        ");\n",
        "\"\"\")\n",
        "\n",
        "# Insert some sample data into country\n",
        "cursor.execute(\"INSERT INTO country VALUES (10, 'United Kingdom');\")\n",
        "cursor.execute(\"INSERT INTO country VALUES (20, 'France');\")\n",
        "\n",
        "\n",
        "# Insert some sample data into city\n",
        "cursor.execute(\"INSERT INTO city VALUES (1, 'London', 10, '2023-10-27 10:00:00');\")\n",
        "cursor.execute(\"INSERT INTO city VALUES (2, 'Paris', 20, '2023-10-28 11:00:00');\")\n",
        "\n",
        "\n",
        "print(\"Country and city tables created with foreign key relationship.\")\n",
        "\n",
        "# Close the connection\n",
        "conn.close()"
      ],
      "metadata": {
        "colab": {
          "base_uri": "https://localhost:8080/"
        },
        "id": "_PrSNKxSrL8B",
        "outputId": "d958f00a-4505-4bb0-edf8-70a980e98c6b"
      },
      "execution_count": 12,
      "outputs": [
        {
          "output_type": "stream",
          "name": "stdout",
          "text": [
            "Country and city tables created with foreign key relationship.\n"
          ]
        }
      ]
    },
    {
      "cell_type": "markdown",
      "source": [
        "**Step 3: Spot the 3NF Violation**\n",
        "\n",
        "- In address, the primary key is address_id.\n",
        "\n",
        "- Non-key attribute city_id determines another non-key attribute indirectly → the country (via the city table).\n",
        "\n",
        "So the dependency looks like:\n",
        "\n",
        "address_id → city_id → country_id\n",
        "\n",
        "\n",
        "This is a transitive dependency, violating 3NF."
      ],
      "metadata": {
        "id": "UW_E3TNhrkkA"
      }
    },
    {
      "cell_type": "markdown",
      "source": [
        "**Step 4: Normalize to 3NF**\n",
        "\n",
        "To fix:\n",
        "\n",
        "- Keep only city_id in address.\n",
        "\n",
        "- Move country_id to the city table (which already exists in Sakila).\n",
        "\n",
        "- If we wanted to be fully normalized, queries needing the country should JOIN address → city → country."
      ],
      "metadata": {
        "id": "aGKgFmImrdUH"
      }
    },
    {
      "cell_type": "markdown",
      "source": [
        "**Q4. Normalization Process:**\n",
        "\n",
        " a. Take a specific table in Sakila and guide through the process of normalizing it from the initial\n",
        "\n",
        " unnormalized form up to"
      ],
      "metadata": {
        "id": "yR9DIFofrxfw"
      }
    },
    {
      "cell_type": "markdown",
      "source": [
        "**Step 1: Unnormalized Form (UNF)**\n",
        "\n",
        "Imagine the film table was designed like this (unnormalized):"
      ],
      "metadata": {
        "id": "xhE4cZCor-pv"
      }
    },
    {
      "cell_type": "code",
      "source": [
        "import sqlite3\n",
        "\n",
        "# Connect to an in-memory SQLite database for demonstration\n",
        "conn = sqlite3.connect(':memory:')\n",
        "cursor = conn.cursor()\n",
        "\n",
        "# Create the unnormalized film table\n",
        "cursor.execute(\"\"\"\n",
        "CREATE TABLE film_unf (\n",
        "    film_id INTEGER PRIMARY KEY, -- Added PRIMARY KEY for demonstration\n",
        "    title VARCHAR(100),\n",
        "    description TEXT,\n",
        "    release_year INTEGER, -- Changed to INTEGER for compatibility\n",
        "    language VARCHAR(20),\n",
        "    rental_duration INTEGER, -- Changed to INTEGER for compatibility\n",
        "    rental_rate DECIMAL(4,2),\n",
        "    length INTEGER, -- Changed to INTEGER for compatibility\n",
        "    replacement_cost DECIMAL(5,2),\n",
        "    rating VARCHAR(5),\n",
        "    special_features VARCHAR(200),  -- e.g. 'Trailers,Deleted Scenes'\n",
        "    actors VARCHAR(500),            -- e.g. 'Tom Hanks,Julia Roberts'\n",
        "    categories VARCHAR(200)         -- e.g. 'Drama,Romance'\n",
        ");\n",
        "\"\"\")\n",
        "\n",
        "# Insert some sample data\n",
        "cursor.execute(\"\"\"\n",
        "INSERT INTO film_unf VALUES (\n",
        "    1,\n",
        "    'Unnormalized Movie',\n",
        "    'A movie demonstrating unnormalized data.',\n",
        "    2023,\n",
        "    'English',\n",
        "    7,\n",
        "    4.99,\n",
        "    120,\n",
        "    19.99,\n",
        "    'PG-13',\n",
        "    'Trailers,Behind the Scenes',\n",
        "    'Actor One,Actor Two',\n",
        "    'Action,Adventure'\n",
        ");\n",
        "\"\"\")\n",
        "\n",
        "print(\"Unnormalized film table created with sample data.\")\n",
        "\n",
        "# Close the connection\n",
        "conn.close()"
      ],
      "metadata": {
        "colab": {
          "base_uri": "https://localhost:8080/"
        },
        "id": "rUz6mnhkr__o",
        "outputId": "35c47051-654d-4a00-9e46-182648dffbf1"
      },
      "execution_count": 14,
      "outputs": [
        {
          "output_type": "stream",
          "name": "stdout",
          "text": [
            "Unnormalized film table created with sample data.\n"
          ]
        }
      ]
    },
    {
      "cell_type": "markdown",
      "source": [
        "**Problems:**\n",
        "\n",
        "- Repeating groups: actors, categories, special_features have multiple values inside one cell.\n",
        "\n",
        "- Non-atomic values → violates 1NF."
      ],
      "metadata": {
        "id": "QzhDK9NusH_P"
      }
    },
    {
      "cell_type": "markdown",
      "source": [
        "**Step 2: First Normal Form (1NF)**\n",
        "\n",
        "Rules: No repeating groups, every attribute atomic.\n",
        "\n",
        "**Fix:** Split special_features, actors, categories into separate rows/tables."
      ],
      "metadata": {
        "id": "_VIYG71YsVqP"
      }
    },
    {
      "cell_type": "code",
      "source": [
        "import sqlite3\n",
        "\n",
        "# Connect to an in-memory SQLite database for demonstration\n",
        "conn = sqlite3.connect(':memory:')\n",
        "cursor = conn.cursor()\n",
        "\n",
        "# Base film table (already in 1NF if language_id is atomic)\n",
        "cursor.execute(\"\"\"\n",
        "CREATE TABLE film (\n",
        "    film_id INTEGER PRIMARY KEY,\n",
        "    title VARCHAR(100),\n",
        "    description TEXT,\n",
        "    release_year INTEGER,\n",
        "    language_id INTEGER, -- Assumes language_id is atomic\n",
        "    rental_duration INTEGER,\n",
        "    rental_rate DECIMAL(4,2),\n",
        "    length INTEGER,\n",
        "    replacement_cost DECIMAL(5,2),\n",
        "    rating VARCHAR(5)\n",
        ");\n",
        "\"\"\")\n",
        "\n",
        "# Special features table (normalized 1NF)\n",
        "cursor.execute(\"\"\"\n",
        "CREATE TABLE film_special_feature (\n",
        "    film_id INTEGER,\n",
        "    feature VARCHAR(50),\n",
        "    FOREIGN KEY (film_id) REFERENCES film(film_id)\n",
        ");\n",
        "\"\"\")\n",
        "\n",
        "# Actor relationship table (normalized 1NF)\n",
        "cursor.execute(\"\"\"\n",
        "CREATE TABLE film_actor (\n",
        "    film_id INTEGER,\n",
        "    actor_id INTEGER,\n",
        "    PRIMARY KEY (film_id, actor_id)\n",
        "    -- FOREIGN KEY constraints would reference actual film and actor tables\n",
        "    -- FOREIGN KEY (film_id) REFERENCES film(film_id),\n",
        "    -- FOREIGN KEY (actor_id) REFERENCES actor(actor_id)\n",
        ");\n",
        "\"\"\")\n",
        "\n",
        "# Category relationship table (normalized 1NF)\n",
        "cursor.execute(\"\"\"\n",
        "CREATE TABLE film_category (\n",
        "    film_id INTEGER,\n",
        "    category_id INTEGER,\n",
        "    PRIMARY KEY (film_id, category_id)\n",
        "    -- FOREIGN KEY constraints would reference actual film and category tables\n",
        "    -- FOREIGN KEY (film_id) REFERENCES film(film_id),\n",
        "    -- FOREIGN KEY (category_id) REFERENCES category(category_id)\n",
        ");\n",
        "\"\"\")\n",
        "\n",
        "# Insert sample data into the normalized tables (demonstration)\n",
        "cursor.execute(\"INSERT INTO film VALUES (1, 'Normalized Movie', 'A movie normalized to 1NF.', 2023, 1, 7, 4.99, 120, 19.99, 'PG-13');\")\n",
        "cursor.execute(\"INSERT INTO film_special_feature VALUES (1, 'Trailers');\")\n",
        "cursor.execute(\"INSERT INTO film_special_feature VALUES (1, 'Behind the Scenes');\")\n",
        "cursor.execute(\"INSERT INTO film_actor VALUES (1, 10);\") # Film 1, Actor 10\n",
        "cursor.execute(\"INSERT INTO film_actor VALUES (1, 20);\") # Film 1, Actor 20\n",
        "cursor.execute(\"INSERT INTO film_category VALUES (1, 1);\") # Film 1, Category 1\n",
        "cursor.execute(\"INSERT INTO film_category VALUES (1, 2);\") # Film 1, Category 2\n",
        "\n",
        "\n",
        "print(\"Tables created and sample data inserted (demonstrating normalization to 1NF).\")\n",
        "\n",
        "# Close the connection\n",
        "conn.close()"
      ],
      "metadata": {
        "colab": {
          "base_uri": "https://localhost:8080/"
        },
        "id": "xYdr9Dl8saxx",
        "outputId": "53a7e41f-2c51-4a3f-be1f-f60e4e9949c7"
      },
      "execution_count": 16,
      "outputs": [
        {
          "output_type": "stream",
          "name": "stdout",
          "text": [
            "Tables created and sample data inserted (demonstrating normalization to 1NF).\n"
          ]
        }
      ]
    },
    {
      "cell_type": "markdown",
      "source": [
        "**Step 3: Second Normal Form (2NF)**\n",
        "\n",
        "Rules: No partial dependencies (applies when composite primary keys exist).\n",
        "\n",
        "**Example:** In film_actor(film_id, actor_id), if we mistakenly added actor_name, that would depend only on actor_id, violating 2NF.\n",
        "\n",
        "Fix: Keep actor_name in the actor table, not in film_actor.\n",
        "Thus, Sakila’s film_actor is already in 2NF."
      ],
      "metadata": {
        "id": "9JnLwAWksjx4"
      }
    },
    {
      "cell_type": "markdown",
      "source": [
        "**Step 4: Third Normal Form (3NF)**\n",
        "\n",
        "Rules: No transitive dependencies.\n",
        "\n",
        "Example: Suppose film table stored language_name instead of language_id.\n",
        "Then:\n",
        "\n",
        "film_id → language_id → language_name\n",
        "That’s a transitive dependency.\n",
        "\n",
        "Fix: Store only language_id in film, and move language_name to the language table (which Sakila already has):\n",
        "\n",
        "sql\n",
        "Copy code\n",
        "CREATE TABLE language (\n",
        "    language_id INT PRIMARY KEY,\n",
        "    name VARCHAR(50)\n",
        ");\n",
        "\n",
        "Now non-key attributes depend only on the primary key.\n",
        "\n",
        " **Step 5: Boyce-Codd Normal Form (BCNF) – optional**\n",
        "BCNF is a stricter version of 3NF.\n",
        "For Sakila’s film, there’s no violation since every determinant is a candidate key.\n",
        "\n",
        "**Final Result (Fully Normalized Design)**\n",
        "film(film_id, title, description, release_year, language_id, rental_duration, rental_rate, length, replacement_cost, rating)\n",
        "\n",
        "film_special_feature(film_id, feature)\n",
        "\n",
        "film_actor(film_id, actor_id)\n",
        "\n",
        "film_category(film_id, category_id)\n",
        "\n",
        "language(language_id, name)\n",
        "\n",
        "actor(actor_id, first_name, last_name, …)\n",
        "\n",
        "category(category_id, name)"
      ],
      "metadata": {
        "id": "o2pRp9O6srjn"
      }
    },
    {
      "cell_type": "markdown",
      "source": [
        "**Q5. CTE Basics:**\n",
        "\n",
        "Write a query using a CTE to retrieve the distinct list of actor names and the number of films they\n",
        "\n",
        "have acted in from the actor and film_actor tables."
      ],
      "metadata": {
        "id": "uXu5Nkf0tEMQ"
      }
    },
    {
      "cell_type": "code",
      "source": [
        "import sqlite3\n",
        "\n",
        "# Connect to an in-memory SQLite database for demonstration\n",
        "conn = sqlite3.connect(':memory:')\n",
        "cursor = conn.cursor()\n",
        "\n",
        "# Create dummy tables and insert sample data\n",
        "cursor.execute(\"\"\"\n",
        "CREATE TABLE actor (\n",
        "    actor_id INTEGER PRIMARY KEY,\n",
        "    first_name VARCHAR(45),\n",
        "    last_name VARCHAR(45)\n",
        ");\n",
        "\"\"\")\n",
        "\n",
        "cursor.execute(\"\"\"\n",
        "CREATE TABLE film_actor (\n",
        "    actor_id INTEGER,\n",
        "    film_id INTEGER,\n",
        "    PRIMARY KEY (actor_id, film_id),\n",
        "    FOREIGN KEY (actor_id) REFERENCES actor(actor_id)\n",
        "    -- FOREIGN KEY (film_id) REFERENCES film(film_id) -- Film table not needed for this query\n",
        ");\n",
        "\"\"\")\n",
        "\n",
        "# Insert sample data into actor\n",
        "cursor.execute(\"INSERT INTO actor VALUES (1, 'Penelope', 'Guiness');\")\n",
        "cursor.execute(\"INSERT INTO actor VALUES (2, 'Nick', 'Wahlberg');\")\n",
        "cursor.execute(\"INSERT INTO actor VALUES (3, 'Ed', 'Chase');\")\n",
        "\n",
        "\n",
        "# Insert sample data into film_actor\n",
        "cursor.execute(\"INSERT INTO film_actor VALUES (1, 101);\") # Penelope in Film 101\n",
        "cursor.execute(\"INSERT INTO film_actor VALUES (1, 102);\") # Penelope in Film 102\n",
        "cursor.execute(\"INSERT INTO film_actor VALUES (2, 101);\") # Nick in Film 101\n",
        "cursor.execute(\"INSERT INTO film_actor VALUES (3, 103);\") # Ed in Film 103\n",
        "\n",
        "\n",
        "# Write a query using a CTE to retrieve the distinct list of actor names and the number of films they have acted in\n",
        "cursor.execute(\"\"\"\n",
        "WITH actor_film_count AS (\n",
        "    SELECT\n",
        "        a.actor_id,\n",
        "        a.first_name || ' ' || a.last_name AS actor_name, -- Use || for string concatenation in SQLite\n",
        "        COUNT(fa.film_id) AS film_count\n",
        "    FROM actor a\n",
        "    INNER JOIN film_actor fa\n",
        "        ON a.actor_id = fa.actor_id\n",
        "    GROUP BY a.actor_id, a.first_name, a.last_name\n",
        ")\n",
        "SELECT\n",
        "    actor_name,\n",
        "    film_count\n",
        "FROM actor_film_count\n",
        "ORDER BY film_count DESC;\n",
        "\"\"\")\n",
        "\n",
        "# Fetch and display the results\n",
        "results = cursor.fetchall()\n",
        "\n",
        "if results:\n",
        "    print(\"Actor film counts:\")\n",
        "    for row in results:\n",
        "        print(row)\n",
        "else:\n",
        "    print(\"No actor film data found.\")\n",
        "\n",
        "# Close the connection\n",
        "conn.close()"
      ],
      "metadata": {
        "colab": {
          "base_uri": "https://localhost:8080/"
        },
        "id": "NG-J4onqtdRx",
        "outputId": "66e84f20-1093-484f-e31c-fa427a596ad4"
      },
      "execution_count": 19,
      "outputs": [
        {
          "output_type": "stream",
          "name": "stdout",
          "text": [
            "Actor film counts:\n",
            "('Penelope Guiness', 2)\n",
            "('Nick Wahlberg', 1)\n",
            "('Ed Chase', 1)\n"
          ]
        }
      ]
    },
    {
      "cell_type": "markdown",
      "source": [
        "**Q6 CTE with Joins:**\n",
        "\n",
        " a. Create a CTE that combines information from the film and language tables to display the film title,\n",
        "\n",
        "language name, and rental rate."
      ],
      "metadata": {
        "id": "tHOezPeLt29A"
      }
    },
    {
      "cell_type": "code",
      "source": [
        "import sqlite3\n",
        "\n",
        "# Connect to an in-memory SQLite database for demonstration\n",
        "conn = sqlite3.connect(':memory:')\n",
        "cursor = conn.cursor()\n",
        "\n",
        "# Create dummy tables and insert sample data\n",
        "cursor.execute(\"\"\"\n",
        "CREATE TABLE language (\n",
        "    language_id INTEGER PRIMARY KEY,\n",
        "    name TEXT NOT NULL\n",
        ");\n",
        "\"\"\")\n",
        "\n",
        "cursor.execute(\"\"\"\n",
        "CREATE TABLE film (\n",
        "    film_id INTEGER PRIMARY KEY,\n",
        "    title TEXT NOT NULL,\n",
        "    language_id INTEGER,\n",
        "    rental_rate DECIMAL(4, 2),\n",
        "    FOREIGN KEY (language_id) REFERENCES language(language_id)\n",
        ");\n",
        "\"\"\")\n",
        "\n",
        "# Insert sample data into language\n",
        "cursor.execute(\"INSERT INTO language VALUES (1, 'English');\")\n",
        "cursor.execute(\"INSERT INTO language VALUES (2, 'Italian');\")\n",
        "\n",
        "\n",
        "# Insert sample data into film\n",
        "cursor.execute(\"INSERT INTO film VALUES (101, 'Film A', 1, 2.99);\") # English\n",
        "cursor.execute(\"INSERT INTO film VALUES (102, 'Film B', 2, 0.99);\") # Italian\n",
        "cursor.execute(\"INSERT INTO film VALUES (103, 'Film C', 1, 4.99);\") # English\n",
        "\n",
        "\n",
        "# Create a CTE that combines information from the film and language tables\n",
        "cursor.execute(\"\"\"\n",
        "WITH film_language_cte AS (\n",
        "    SELECT\n",
        "        f.film_id,\n",
        "        f.title,\n",
        "        l.name AS language_name,\n",
        "        f.rental_rate\n",
        "    FROM film f\n",
        "    INNER JOIN language l\n",
        "        ON f.language_id = l.language_id\n",
        ")\n",
        "SELECT\n",
        "    title,\n",
        "    language_name,\n",
        "    rental_rate\n",
        "FROM film_language_cte\n",
        "ORDER BY title;\n",
        "\"\"\")\n",
        "\n",
        "# Fetch and display the results\n",
        "results = cursor.fetchall()\n",
        "\n",
        "if results:\n",
        "    print(\"Film titles with language names and rental rates:\")\n",
        "    for row in results:\n",
        "        print(row)\n",
        "else:\n",
        "    print(\"No film or language data found.\")\n",
        "\n",
        "# Close the connection\n",
        "conn.close()"
      ],
      "metadata": {
        "colab": {
          "base_uri": "https://localhost:8080/"
        },
        "id": "_Lu9trz2uHIg",
        "outputId": "1200856a-3a17-4c1b-c4c6-77850932b9db"
      },
      "execution_count": 21,
      "outputs": [
        {
          "output_type": "stream",
          "name": "stdout",
          "text": [
            "Film titles with language names and rental rates:\n",
            "('Film A', 'English', 2.99)\n",
            "('Film B', 'Italian', 0.99)\n",
            "('Film C', 'English', 4.99)\n"
          ]
        }
      ]
    },
    {
      "cell_type": "markdown",
      "source": [
        "**Q7. CTE for Aggregation:**\n",
        "\n",
        " a. Write a query using a CTE to find the total revenue generated by each customer (sum of payments)\n",
        "\n",
        " from the customer and payment tables."
      ],
      "metadata": {
        "id": "oOwMlBzwuSAR"
      }
    },
    {
      "cell_type": "code",
      "source": [
        "import sqlite3\n",
        "\n",
        "# Connect to an in-memory SQLite database for demonstration\n",
        "conn = sqlite3.connect(':memory:')\n",
        "cursor = conn.cursor()\n",
        "\n",
        "# Create dummy tables and insert sample data\n",
        "cursor.execute(\"\"\"\n",
        "CREATE TABLE customer (\n",
        "    customer_id INTEGER PRIMARY KEY,\n",
        "    first_name VARCHAR(45),\n",
        "    last_name VARCHAR(45)\n",
        "    -- Add other customer columns if needed\n",
        ");\n",
        "\"\"\")\n",
        "\n",
        "cursor.execute(\"\"\"\n",
        "CREATE TABLE payment (\n",
        "    payment_id INTEGER PRIMARY KEY,\n",
        "    customer_id INTEGER,\n",
        "    amount DECIMAL(10, 2),\n",
        "    FOREIGN KEY (customer_id) REFERENCES customer(customer_id)\n",
        ");\n",
        "\"\"\")\n",
        "\n",
        "# Insert sample data into customer\n",
        "cursor.execute(\"INSERT INTO customer VALUES (1, 'Mary', 'Smith');\")\n",
        "cursor.execute(\"INSERT INTO customer VALUES (2, 'Patricia', 'Johnson');\")\n",
        "cursor.execute(\"INSERT INTO customer VALUES (3, 'Linda', 'Williams');\")\n",
        "\n",
        "\n",
        "# Insert sample data into payment\n",
        "cursor.execute(\"INSERT INTO payment VALUES (1, 1, 10.50);\") # Payment by Mary\n",
        "cursor.execute(\"INSERT INTO payment VALUES (2, 2, 20.00);\") # Payment by Patricia\n",
        "cursor.execute(\"INSERT INTO payment VALUES (3, 1, 5.75);\")  # Another payment by Mary\n",
        "cursor.execute(\"INSERT INTO payment VALUES (4, 3, 15.00);\") # Payment by Linda\n",
        "cursor.execute(\"INSERT INTO payment VALUES (5, 2, 8.20);\")  # Another payment by Patricia\n",
        "\n",
        "\n",
        "# Write a query using a CTE to find the total revenue generated by each customer\n",
        "cursor.execute(\"\"\"\n",
        "WITH customer_revenue AS (\n",
        "    SELECT\n",
        "        c.customer_id,\n",
        "        c.first_name || ' ' || c.last_name AS customer_name, -- Use || for string concatenation in SQLite\n",
        "        SUM(p.amount) AS total_revenue\n",
        "    FROM customer c\n",
        "    INNER JOIN payment p\n",
        "        ON c.customer_id = p.customer_id\n",
        "    GROUP BY c.customer_id, c.first_name, c.last_name\n",
        ")\n",
        "SELECT\n",
        "    customer_name,\n",
        "    total_revenue\n",
        "FROM customer_revenue\n",
        "ORDER BY total_revenue DESC;\n",
        "\"\"\")\n",
        "\n",
        "# Fetch and display the results\n",
        "results = cursor.fetchall()\n",
        "\n",
        "if results:\n",
        "    print(\"Customer total revenue:\")\n",
        "    for row in results:\n",
        "        print(row)\n",
        "else:\n",
        "    print(\"No customer payment data found.\")\n",
        "\n",
        "# Close the connection\n",
        "conn.close()"
      ],
      "metadata": {
        "colab": {
          "base_uri": "https://localhost:8080/"
        },
        "id": "z5RmeI_lucEg",
        "outputId": "28e098c9-9ec9-4bda-b9c9-94721cd156bf"
      },
      "execution_count": 23,
      "outputs": [
        {
          "output_type": "stream",
          "name": "stdout",
          "text": [
            "Customer total revenue:\n",
            "('Patricia Johnson', 28.2)\n",
            "('Mary Smith', 16.25)\n",
            "('Linda Williams', 15)\n"
          ]
        }
      ]
    },
    {
      "cell_type": "markdown",
      "source": [
        "**Q8. CTE with Window Functions:**\n",
        "\n",
        " a. Utilize a CTE with a window function to rank films based on their rental duration from the film table."
      ],
      "metadata": {
        "id": "_sGW6tVEu1-I"
      }
    },
    {
      "cell_type": "code",
      "source": [
        "import sqlite3\n",
        "\n",
        "# Connect to an in-memory SQLite database for demonstration\n",
        "conn = sqlite3.connect(':memory:')\n",
        "cursor = conn.cursor()\n",
        "\n",
        "# Create a dummy film table with rental_duration\n",
        "cursor.execute(\"\"\"\n",
        "CREATE TABLE film (\n",
        "    film_id INTEGER PRIMARY KEY,\n",
        "    title TEXT NOT NULL,\n",
        "    rental_duration INTEGER\n",
        ");\n",
        "\"\"\")\n",
        "\n",
        "# Insert some sample data\n",
        "cursor.execute(\"INSERT INTO film VALUES (1, 'Film A', 7);\")\n",
        "cursor.execute(\"INSERT INTO film VALUES (2, 'Film B', 5);\")\n",
        "cursor.execute(\"INSERT INTO film VALUES (3, 'Film C', 7);\")\n",
        "cursor.execute(\"INSERT INTO film VALUES (4, 'Film D', 3);\")\n",
        "\n",
        "\n",
        "# Utilize a CTE with a window function to rank films based on their rental duration\n",
        "cursor.execute(\"\"\"\n",
        "WITH FilmRanked AS (\n",
        "    SELECT\n",
        "        film_id,\n",
        "        title,\n",
        "        rental_duration,\n",
        "        RANK() OVER (ORDER BY rental_duration DESC) AS duration_rank\n",
        "    FROM film\n",
        ")\n",
        "SELECT *\n",
        "FROM FilmRanked\n",
        "ORDER BY duration_rank, title;\n",
        "\"\"\")\n",
        "\n",
        "# Fetch and display the results\n",
        "results = cursor.fetchall()\n",
        "\n",
        "if results:\n",
        "    print(\"Films ranked by rental duration:\")\n",
        "    for row in results:\n",
        "        print(row)\n",
        "else:\n",
        "    print(\"No film data found.\")\n",
        "\n",
        "# Close the connection\n",
        "conn.close()"
      ],
      "metadata": {
        "colab": {
          "base_uri": "https://localhost:8080/"
        },
        "id": "hG-YaP0cwKJQ",
        "outputId": "1ecc4e41-a7e0-4145-8215-a9db0463166c"
      },
      "execution_count": 25,
      "outputs": [
        {
          "output_type": "stream",
          "name": "stdout",
          "text": [
            "Films ranked by rental duration:\n",
            "(1, 'Film A', 7, 1)\n",
            "(3, 'Film C', 7, 1)\n",
            "(2, 'Film B', 5, 3)\n",
            "(4, 'Film D', 3, 4)\n"
          ]
        }
      ]
    },
    {
      "cell_type": "markdown",
      "source": [
        "**Q9. CTE and Filtering:**\n",
        "\n",
        " a. Create a CTE to list customers who have made more than two rentals, and then join this CTE with the customer table to retrieve additional customer details."
      ],
      "metadata": {
        "id": "sBqcMgwq5Tbn"
      }
    },
    {
      "cell_type": "code",
      "source": [
        "import sqlite3\n",
        "\n",
        "# Connect to an in-memory SQLite database for demonstration\n",
        "conn = sqlite3.connect(':memory:')\n",
        "cursor = conn.cursor()\n",
        "\n",
        "# Create dummy tables and insert sample data\n",
        "cursor.execute(\"\"\"\n",
        "CREATE TABLE customer (\n",
        "    customer_id INTEGER PRIMARY KEY,\n",
        "    first_name VARCHAR(45),\n",
        "    last_name VARCHAR(45),\n",
        "    email VARCHAR(100),\n",
        "    address_id INTEGER\n",
        ");\n",
        "\"\"\")\n",
        "\n",
        "cursor.execute(\"\"\"\n",
        "CREATE TABLE rental (\n",
        "    rental_id INTEGER PRIMARY KEY,\n",
        "    rental_date DATE,\n",
        "    inventory_id INTEGER,\n",
        "    customer_id INTEGER,\n",
        "    staff_id INTEGER\n",
        ");\n",
        "\"\"\")\n",
        "\n",
        "# Insert sample data into customer\n",
        "cursor.execute(\"INSERT INTO customer VALUES (1, 'Mary', 'Smith', 'mary.smith@example.com', 1);\")\n",
        "cursor.execute(\"INSERT INTO customer VALUES (2, 'Patricia', 'Johnson', 'patricia.johnson@example.com', 2);\")\n",
        "cursor.execute(\"INSERT INTO customer VALUES (3, 'Linda', 'Williams', 'linda.williams@example.com', 3);\")\n",
        "\n",
        "\n",
        "# Insert sample data into rental (with more than 2 rentals for some customers)\n",
        "cursor.execute(\"INSERT INTO rental VALUES (1, '2023-10-27', 101, 1, 1);\") # Mary\n",
        "cursor.execute(\"INSERT INTO rental VALUES (2, '2023-10-28', 102, 2, 1);\") # Patricia\n",
        "cursor.execute(\"INSERT INTO rental VALUES (3, '2023-10-28', 103, 1, 2);\") # Mary\n",
        "cursor.execute(\"INSERT INTO rental VALUES (4, '2023-10-29', 104, 3, 1);\") # Linda\n",
        "cursor.execute(\"INSERT INTO rental VALUES (5, '2023-10-29', 105, 1, 1);\") # Mary (more than 2 rentals)\n",
        "cursor.execute(\"INSERT INTO rental VALUES (6, '2023-10-30', 106, 2, 2);\") # Patricia\n",
        "\n",
        "\n",
        "# Create a CTE to list customers who have made more than two rentals,\n",
        "# and then join this CTE with the customer table to retrieve additional customer details.\n",
        "cursor.execute(\"\"\"\n",
        "WITH FrequentRenters AS (\n",
        "    SELECT\n",
        "        customer_id,\n",
        "        COUNT(rental_id) AS total_rentals\n",
        "    FROM rental\n",
        "    GROUP BY customer_id\n",
        "    HAVING COUNT(rental_id) > 2\n",
        ")\n",
        "SELECT\n",
        "    c.customer_id,\n",
        "    c.first_name,\n",
        "    c.last_name,\n",
        "    c.email,\n",
        "    fr.total_rentals\n",
        "FROM FrequentRenters fr\n",
        "INNER JOIN customer c\n",
        "    ON fr.customer_id = c.customer_id\n",
        "ORDER BY fr.total_rentals DESC;\n",
        "\"\"\")\n",
        "\n",
        "# Fetch and display the results\n",
        "results = cursor.fetchall()\n",
        "\n",
        "if results:\n",
        "    print(\"Customers who have made more than two rentals:\")\n",
        "    for row in results:\n",
        "        print(row)\n",
        "else:\n",
        "    print(\"No customers found who have made more than two rentals.\")\n",
        "\n",
        "# Close the connection\n",
        "conn.close()"
      ],
      "metadata": {
        "colab": {
          "base_uri": "https://localhost:8080/"
        },
        "id": "dJHTKLle5mm3",
        "outputId": "e4af38d8-17ee-4a35-d0b3-8718e700653f"
      },
      "execution_count": 37,
      "outputs": [
        {
          "output_type": "stream",
          "name": "stdout",
          "text": [
            "Customers who have made more than two rentals:\n",
            "(1, 'Mary', 'Smith', 'mary.smith@example.com', 3)\n"
          ]
        }
      ]
    },
    {
      "cell_type": "markdown",
      "source": [
        "**Q10. CTE for Date Calculations:**\n",
        "\n",
        " a. Write a query using a CTE to find the total number of rentals made each month, considering the\n",
        "\n",
        " rental_date from the rental Table."
      ],
      "metadata": {
        "id": "UwzECbmRwZ8w"
      }
    },
    {
      "cell_type": "code",
      "source": [
        "import sqlite3\n",
        "\n",
        "# Connect to an in-memory SQLite database for demonstration\n",
        "conn = sqlite3.connect(':memory:')\n",
        "cursor = conn.cursor()\n",
        "\n",
        "# Create a dummy rental table with sample data\n",
        "cursor.execute(\"\"\"\n",
        "CREATE TABLE rental (\n",
        "    rental_id INTEGER PRIMARY KEY,\n",
        "    rental_date TEXT NOT NULL -- Use TEXT for date strings in SQLite\n",
        ");\n",
        "\"\"\")\n",
        "\n",
        "# Insert some sample data with date strings\n",
        "cursor.execute(\"INSERT INTO rental VALUES (1, '2023-10-27');\")\n",
        "cursor.execute(\"INSERT INTO rental VALUES (2, '2023-11-15');\")\n",
        "cursor.execute(\"INSERT INTO rental VALUES (3, '2024-01-05');\")\n",
        "cursor.execute(\"INSERT INTO rental VALUES (4, '2023-10-29');\")\n",
        "cursor.execute(\"INSERT INTO rental VALUES (5, '2023-11-20');\")\n",
        "\n",
        "\n",
        "# Write a query using a CTE to find the total number of rentals made each month\n",
        "cursor.execute(\"\"\"\n",
        "WITH MonthlyRentals AS (\n",
        "    SELECT\n",
        "        strftime('%Y-%m', rental_date) AS rental_month, -- Use strftime for SQLite\n",
        "        COUNT(*) AS total_rentals\n",
        "    FROM rental\n",
        "    GROUP BY strftime('%Y-%m', rental_date) -- Use strftime for SQLite\n",
        ")\n",
        "SELECT *\n",
        "FROM MonthlyRentals\n",
        "ORDER BY rental_month;\n",
        "\"\"\")\n",
        "\n",
        "# Fetch and display the results\n",
        "results = cursor.fetchall()\n",
        "\n",
        "if results:\n",
        "    print(\"Total rentals per month:\")\n",
        "    for row in results:\n",
        "        print(row)\n",
        "else:\n",
        "    print(\"No rental data found.\")\n",
        "\n",
        "# Close the connection\n",
        "conn.close()"
      ],
      "metadata": {
        "colab": {
          "base_uri": "https://localhost:8080/"
        },
        "id": "T5ptabeMwj3I",
        "outputId": "65ce1676-7d29-438b-83c8-132543e9b7f0"
      },
      "execution_count": 27,
      "outputs": [
        {
          "output_type": "stream",
          "name": "stdout",
          "text": [
            "Total rentals per month:\n",
            "('2023-10', 2)\n",
            "('2023-11', 2)\n",
            "('2024-01', 1)\n"
          ]
        }
      ]
    },
    {
      "cell_type": "markdown",
      "source": [
        "**Q11. CTE and Self-Join:**\n",
        "\n",
        " a. Create a CTE to generate a report showing pairs of actors who have appeared in the same film together, using the film_actor table."
      ],
      "metadata": {
        "id": "KtBV-8xnwysv"
      }
    },
    {
      "cell_type": "code",
      "source": [
        "import sqlite3\n",
        "\n",
        "# Connect to an in-memory SQLite database for demonstration\n",
        "conn = sqlite3.connect(':memory:')\n",
        "cursor = conn.cursor()\n",
        "\n",
        "# Create dummy tables and insert sample data\n",
        "cursor.execute(\"\"\"\n",
        "CREATE TABLE actor (\n",
        "    actor_id INTEGER PRIMARY KEY,\n",
        "    first_name VARCHAR(45),\n",
        "    last_name VARCHAR(45)\n",
        ");\n",
        "\"\"\")\n",
        "\n",
        "cursor.execute(\"\"\"\n",
        "CREATE TABLE film_actor (\n",
        "    actor_id INTEGER,\n",
        "    film_id INTEGER,\n",
        "    PRIMARY KEY (actor_id, film_id),\n",
        "    FOREIGN KEY (actor_id) REFERENCES actor(actor_id)\n",
        "    -- FOREIGN KEY (film_id) REFERENCES film(film_id) -- Film table not needed for this query\n",
        ");\n",
        "\"\"\")\n",
        "\n",
        "# Insert sample data into actor\n",
        "cursor.execute(\"INSERT INTO actor VALUES (1, 'Penelope', 'Guiness');\")\n",
        "cursor.execute(\"INSERT INTO actor VALUES (2, 'Nick', 'Wahlberg');\")\n",
        "cursor.execute(\"INSERT INTO actor VALUES (3, 'Ed', 'Chase');\")\n",
        "cursor.execute(\"INSERT INTO actor VALUES (4, 'Jennifer', 'Davis');\")\n",
        "\n",
        "\n",
        "# Insert sample data into film_actor\n",
        "cursor.execute(\"INSERT INTO film_actor VALUES (1, 101);\") # Penelope in Film 101\n",
        "cursor.execute(\"INSERT INTO film_actor VALUES (2, 101);\") # Nick in Film 101\n",
        "cursor.execute(\"INSERT INTO film_actor VALUES (3, 102);\") # Ed in Film 102\n",
        "cursor.execute(\"INSERT INTO film_actor VALUES (1, 102);\") # Penelope in Film 102\n",
        "\n",
        "\n",
        "# Create a CTE to generate a report showing pairs of actors who have appeared in the same film together\n",
        "cursor.execute(\"\"\"\n",
        "WITH ActorPairs AS (\n",
        "    SELECT\n",
        "        fa1.film_id,\n",
        "        fa1.actor_id AS actor1_id,\n",
        "        fa2.actor_id AS actor2_id\n",
        "    FROM film_actor fa1\n",
        "    JOIN film_actor fa2\n",
        "        ON fa1.film_id = fa2.film_id\n",
        "       AND fa1.actor_id < fa2.actor_id   -- avoid duplicates & self-pairs\n",
        ")\n",
        "SELECT\n",
        "    ap.film_id,\n",
        "    a1.first_name || ' ' || a1.last_name AS actor1_name, -- Use || for string concatenation in SQLite\n",
        "    a2.first_name || ' ' || a2.last_name AS actor2_name  -- Use || for string concatenation in SQLite\n",
        "FROM ActorPairs ap\n",
        "JOIN actor a1 ON ap.actor1_id = a1.actor_id\n",
        "JOIN actor a2 ON ap.actor2_id = a2.actor_id\n",
        "ORDER BY ap.film_id, actor1_name, actor2_name;\n",
        "\"\"\")\n",
        "\n",
        "# Fetch and display the results\n",
        "results = cursor.fetchall()\n",
        "\n",
        "if results:\n",
        "    print(\"Pairs of actors who have appeared in the same film:\")\n",
        "    for row in results:\n",
        "        print(row)\n",
        "else:\n",
        "    print(\"No actor pairs found in the same film.\")\n",
        "\n",
        "# Close the connection\n",
        "conn.close()"
      ],
      "metadata": {
        "colab": {
          "base_uri": "https://localhost:8080/"
        },
        "id": "1JFtx2JLw_VH",
        "outputId": "187944d3-bdd9-47d6-8d2c-0b1b82ee8c89"
      },
      "execution_count": 29,
      "outputs": [
        {
          "output_type": "stream",
          "name": "stdout",
          "text": [
            "Pairs of actors who have appeared in the same film:\n",
            "(101, 'Penelope Guiness', 'Nick Wahlberg')\n",
            "(102, 'Penelope Guiness', 'Ed Chase')\n"
          ]
        }
      ]
    },
    {
      "cell_type": "markdown",
      "source": [
        "**Q12. CTE for Recursive Search:**\n",
        "\n",
        " a. Implement a recursive CTE to find all employees in the staff table who report to a specific manager,\n",
        "\n",
        " considering the reports_to column"
      ],
      "metadata": {
        "id": "23Ee395QyyzJ"
      }
    },
    {
      "cell_type": "code",
      "source": [
        "import sqlite3\n",
        "\n",
        "# Connect to an in-memory SQLite database for demonstration\n",
        "conn = sqlite3.connect(':memory:')\n",
        "cursor = conn.cursor()\n",
        "\n",
        "# Create a dummy staff table with sample hierarchical data\n",
        "cursor.execute(\"\"\"\n",
        "CREATE TABLE staff (\n",
        "    staff_id INTEGER PRIMARY KEY,\n",
        "    first_name VARCHAR(45),\n",
        "    last_name VARCHAR(45),\n",
        "    reports_to INTEGER, -- ID of the manager this staff member reports to\n",
        "    FOREIGN KEY (reports_to) REFERENCES staff(staff_id)\n",
        ");\n",
        "\"\"\")\n",
        "\n",
        "# Insert sample data (creating a simple hierarchy)\n",
        "cursor.execute(\"INSERT INTO staff VALUES (1, 'Manager', 'One', NULL);\") # Top-level manager\n",
        "cursor.execute(\"INSERT INTO staff VALUES (2, 'Supervisor', 'A', 1);\") # Reports to Manager One\n",
        "cursor.execute(\"INSERT INTO staff VALUES (3, 'Employee', 'X', 2);\")    # Reports to Supervisor A\n",
        "cursor.execute(\"INSERT INTO staff VALUES (4, 'Employee', 'Y', 2);\")    # Reports to Supervisor A\n",
        "cursor.execute(\"INSERT INTO staff VALUES (5, 'Supervisor', 'B', 1);\") # Reports to Manager One\n",
        "cursor.execute(\"INSERT INTO staff VALUES (6, 'Employee', 'Z', 5);\")    # Reports to Supervisor B\n",
        "\n",
        "\n",
        "# Implement a recursive CTE to find all employees reporting to a specific manager\n",
        "cursor.execute(\"\"\"\n",
        "WITH RECURSIVE StaffHierarchy AS (\n",
        "    -- Anchor: start with the chosen manager (example: staff_id = 1)\n",
        "    SELECT\n",
        "        staff_id,\n",
        "        first_name,\n",
        "        last_name,\n",
        "        reports_to\n",
        "    FROM staff\n",
        "    WHERE staff_id = 1   -- Change this ID to select a different manager\n",
        "\n",
        "    UNION ALL\n",
        "\n",
        "    -- Recursive step: find employees reporting to those in hierarchy\n",
        "    SELECT\n",
        "        s.staff_id,\n",
        "        s.first_name,\n",
        "        s.last_name,\n",
        "        s.reports_to\n",
        "    FROM staff s\n",
        "    INNER JOIN StaffHierarchy sh\n",
        "        ON s.reports_to = sh.staff_id\n",
        ")\n",
        "SELECT *\n",
        "FROM StaffHierarchy;\n",
        "\"\"\")\n",
        "\n",
        "# Fetch and display the results\n",
        "results = cursor.fetchall()\n",
        "\n",
        "if results:\n",
        "    print(\"Staff Hierarchy (reporting to the selected manager):\")\n",
        "    for row in results:\n",
        "        print(row)\n",
        "else:\n",
        "    print(\"No staff found reporting to the selected manager.\")\n",
        "\n",
        "# Close the connection\n",
        "conn.close()"
      ],
      "metadata": {
        "colab": {
          "base_uri": "https://localhost:8080/"
        },
        "id": "J3sw0Soxz9yo",
        "outputId": "912fbff3-42f6-4628-d96e-6b4515f647f6"
      },
      "execution_count": 31,
      "outputs": [
        {
          "output_type": "stream",
          "name": "stdout",
          "text": [
            "Staff Hierarchy (reporting to the selected manager):\n",
            "(1, 'Manager', 'One', None)\n",
            "(2, 'Supervisor', 'A', 1)\n",
            "(5, 'Supervisor', 'B', 1)\n",
            "(3, 'Employee', 'X', 2)\n",
            "(4, 'Employee', 'Y', 2)\n",
            "(6, 'Employee', 'Z', 5)\n"
          ]
        }
      ]
    }
  ]
}