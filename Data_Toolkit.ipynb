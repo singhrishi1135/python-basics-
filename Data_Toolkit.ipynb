{
  "nbformat": 4,
  "nbformat_minor": 0,
  "metadata": {
    "colab": {
      "provenance": []
    },
    "kernelspec": {
      "name": "python3",
      "display_name": "Python 3"
    },
    "language_info": {
      "name": "python"
    }
  },
  "cells": [
    {
      "cell_type": "markdown",
      "source": [],
      "metadata": {
        "id": "UC6KTZJUtp28"
      }
    },
    {
      "cell_type": "markdown",
      "source": [
        "**Q1. What is NumPy, and why is it widely used in Python?**"
      ],
      "metadata": {
        "id": "WhLcx4zetrF-"
      }
    },
    {
      "cell_type": "markdown",
      "source": [
        "Ans. NumPy (short for Numerical Python) is a powerful open-source library for numerical and scientific computing in Python. It provides support for large, multi-dimensional arrays and matrices, along with a collection of high-level mathematical functions to operate on these arrays.\n",
        "\n",
        "##**Key Features of NumPy:**\n",
        "1. N-dimensional array object (ndarray):\n",
        "\n",
        "- Core data structure for efficiently storing and manipulating numerical data.\n",
        "\n",
        "- Faster and more memory-efficient than Python’s built-in lists.\n",
        "\n",
        "2.Vectorized operations:\n",
        "\n",
        "- Enables operations on entire arrays without explicit loops.\n",
        "\n",
        "- Leads to concise code and significant performance improvements.\n",
        "\n",
        "3. Broadcasting:\n",
        "\n",
        "- Allows arithmetic operations on arrays of different shapes.\n",
        "\n",
        "4. Mathematical functions:\n",
        "\n",
        "- Includes functions for linear algebra, Fourier transforms, statistics, random number generation, and more.\n",
        "\n",
        "5. Integration with other libraries:\n",
        "\n",
        "- Widely used as the base layer for libraries like Pandas, SciPy, Scikit-learn, and TensorFlow.\n",
        "\n",
        "##**NumPy Widely Used:**\n",
        "- Performance: Written in C under the hood, NumPy offers a significant speed boost over pure Python.\n",
        "\n",
        "- Ease of use: Simplifies complex mathematical computations and data manipulation.\n",
        "\n",
        "- Community and ecosystem: Extensive documentation and a large user base make it reliable and well-supported.\n",
        "\n",
        "- Foundation for data science: It's a cornerstone of the scientific Python ecosystem and essential for data analysis, machine learning, and engineering.\n"
      ],
      "metadata": {
        "id": "MVnA07WJt0kP"
      }
    },
    {
      "cell_type": "markdown",
      "source": [
        "**Q2. How does broadcasting work in NumPy?**"
      ],
      "metadata": {
        "id": "YOq6zNH8wC1e"
      }
    },
    {
      "cell_type": "markdown",
      "source": [
        "Ans. Broadcasting in NumPy is a powerful mechanism that allows operations on arrays of different shapes without explicitly reshaping them. It enables arithmetic operations (like addition, subtraction, multiplication) between arrays of different dimensions by automatically expanding one or more arrays to make their shapes compatible.\n",
        "\n",
        "**Basic Broadcasting Rules:**\n",
        "To broadcast two arrays together, NumPy compares their shapes element-wise from right to left (trailing dimensions). Two dimensions are compatible when:\n",
        "\n",
        "- They are equal, or\n",
        "\n",
        "- One of them is 1\n",
        "\n",
        "If these conditions are met, NumPy “stretches” the smaller array across the larger one without copying data."
      ],
      "metadata": {
        "id": "I7gq8EPswH1d"
      }
    },
    {
      "cell_type": "markdown",
      "source": [
        "**Q3. What is a Pandas DataFrame?**"
      ],
      "metadata": {
        "id": "8M3Xt7VswbeJ"
      }
    },
    {
      "cell_type": "markdown",
      "source": [
        "Ans. A Pandas DataFrame is a two-dimensional, labeled data structure in Python that is similar to a table in a database or an Excel spreadsheet. It is one of the core data structures provided by the Pandas library and is widely used for data manipulation, analysis, and cleaning.\n",
        "\n",
        "###**Key Characteristics of a DataFrame:**\n",
        "1. Rows and columns:\n",
        "\n",
        "- Rows are labeled with an index.\n",
        "\n",
        "- Columns are labeled with column names.\n",
        "\n",
        "2. Heterogeneous data:\n",
        "\n",
        "- Each column can hold a different data type (e.g., integers, floats, strings).\n",
        "\n",
        "3. Labeled axes:\n",
        "\n",
        "- You can access data by row labels and column labels.\n",
        "\n"
      ],
      "metadata": {
        "id": "Uu27pKVZwe6F"
      }
    },
    {
      "cell_type": "markdown",
      "source": [
        "**Q4. Explain the use of the groupby() method in Pandas.**"
      ],
      "metadata": {
        "id": "HJrNo-7hw-lK"
      }
    },
    {
      "cell_type": "markdown",
      "source": [
        "Ans. The groupby() method in Pandas is used to split data into groups based on some criteria, apply a function to each group independently, and then combine the results — a concept known as the Split-Apply-Combine strategy.\n",
        "\n",
        "###**Uses of groupby()**\n",
        "- Summarize data across categories (e.g., sales per region).\n",
        "\n",
        "- Analyze trends by group (e.g., average performance per team).\n",
        "\n",
        "- Perform transformations within groups (e.g., normalize scores within each group)."
      ],
      "metadata": {
        "id": "0EN3tYTrxI4F"
      }
    },
    {
      "cell_type": "markdown",
      "source": [
        "**Q5. Why is Seaborn preferred for statistical visualizations?**"
      ],
      "metadata": {
        "id": "o53KwIe-yAA5"
      }
    },
    {
      "cell_type": "markdown",
      "source": [
        "Ans. Seaborn is a Python data visualization library built on top of Matplotlib, and it’s preferred for statistical visualizations because it offers high-level, easy-to-use functions that are specifically designed for visualizing statistical relationships.\n",
        "\n",
        "###Key Reasons Why Seaborn Is Preferred:\n",
        "1. Simplified Syntax\n",
        "Seaborn's functions are more concise and intuitive than Matplotlib for complex plots. This one-liner creates a histogram with a KDE curve and color-coded by gender — something that would take many lines in Matplotlib.\n",
        "\n",
        "2. Beautiful, Default Styles\n",
        "Seaborn comes with attractive default themes and color palettes, making plots look polished without customization.\n",
        "\n",
        "3. Built-in Statistical Plots\n",
        "- Seaborn provides high-level abstractions for:\n",
        "\n",
        "- Distribution plots: histplot, kdeplot, distplot\n",
        "\n",
        "-  Categorical plots: boxplot, violinplot, stripplot, barplot\n",
        "\n",
        "- Regression plots: regplot, lmplot\n",
        "\n",
        "- Matrix plots: heatmap, clustermap\n",
        "\n",
        "4. Automatic Aggregation\n",
        "Functions like barplot() or pointplot() compute and display means and confidence intervals automatically.\n",
        "\n",
        "5. Pandas Integration\n",
        "Seaborn works directly with Pandas DataFrames, allowing for data-aware plotting:\n",
        "\n",
        "6. Advanced Multi-Plot Layouts\n",
        "Using FacetGrid, PairGrid, and catplot, Seaborn can create:\n",
        "\n",
        "- Subplots grouped by categories\n",
        "\n",
        "- Pairwise plots for multivariate data\n",
        "\n",
        "- Plot grids conditioned on one or more variables"
      ],
      "metadata": {
        "id": "_QJn-94syFVV"
      }
    },
    {
      "cell_type": "markdown",
      "source": [
        "**Q6. What are the differences between NumPy arrays and Python lists?**"
      ],
      "metadata": {
        "id": "E-LaPPz0zCi4"
      }
    },
    {
      "cell_type": "markdown",
      "source": [
        "Ans.\n",
        "**Difference between NumPy arrays and Python lists:**\n",
        "\n",
        "**Python lists:**\n",
        "\n",
        "- For small collections of mixed-type data\n",
        "\n",
        "- When flexibility in data types is needed.\n",
        "\n",
        "**NumPy arrays:**\n",
        "\n",
        "- For large datasets and mathematical operations.\n",
        "\n",
        "- When performance and vectorization matter.\n",
        "\n",
        "- In scientific computing, machine learning, and data analysis.\n",
        "\n"
      ],
      "metadata": {
        "id": "s0ukqKhBzH-I"
      }
    },
    {
      "cell_type": "markdown",
      "source": [
        "**Q7. What is a heatmap, and when should it be used?**"
      ],
      "metadata": {
        "id": "uuPSvM6az-fh"
      }
    },
    {
      "cell_type": "markdown",
      "source": [
        "Ans. A heatmap is a data visualization technique that uses color gradients to represent the values of a matrix or tabular data. Each cell in the heatmap corresponds to a value, with color intensity or hue indicating the magnitude or category of that value.\n",
        "\n",
        "**Purpose of a Heatmap**\n",
        "\n",
        "- Visualize patterns, correlations, or anomalies in complex datasets.\n",
        "\n",
        "- Quickly identify areas of high or low concentration.\n",
        "\n",
        "- Present data in a way that is visually intuitive and easy to interpret.\n",
        "\n",
        "**Benefits of Heatmaps**\n",
        "- Compact: Visualize large datasets in a single graphic.\n",
        "\n",
        "- Immediate insight: Spot trends or irregularities instantly.\n",
        "\n",
        "- Customizable: Choose color palettes, add annotations, etc."
      ],
      "metadata": {
        "id": "1Soqpp6N0GzM"
      }
    },
    {
      "cell_type": "markdown",
      "source": [
        "**Q8. What does the term “vectorized operation” mean in NumPy?**"
      ],
      "metadata": {
        "id": "UV075vC90xZO"
      }
    },
    {
      "cell_type": "markdown",
      "source": [
        "Ans. In NumPy, a vectorized operation refers to performing operations on entire arrays (vectors, matrices, etc.) without using explicit loops in Python. These operations are implemented in compiled code (C/C++), making them faster and more efficient than looping through elements manually.\n",
        "\n"
      ],
      "metadata": {
        "id": "T1ScvEQi02a8"
      }
    },
    {
      "cell_type": "markdown",
      "source": [
        "**Q9. How does Matplotlib differ from Plotly?**"
      ],
      "metadata": {
        "id": "4SrEARDZ1Vj3"
      }
    },
    {
      "cell_type": "markdown",
      "source": [
        "Ans. Matplotlib and Plotly are both powerful Python libraries for data visualization, but they differ significantly in style, interactivity, and use cases. Here's a detailed comparison to help you understand how they differ:\n",
        "\n",
        "- Interactivity\n",
        "- Visualization Style and Aesthetics\n",
        "- Use Cases\n",
        "\n",
        "**Use Matplotlib when:**\n",
        "\n",
        "- You need publication-quality static images\n",
        "\n",
        "- You're doing scientific or academic work\n",
        "\n",
        "- You want fine-grained control over every plot element\n",
        "\n",
        "**Use Plotly when:**\n",
        "\n",
        "- You need interactive dashboards or web apps\n",
        "\n",
        "- You're sharing results in a browser or Jupyter Notebook\n",
        "\n",
        "- You want rich user experience with minimal setup\n",
        "\n"
      ],
      "metadata": {
        "id": "0iEz3kp-1aRD"
      }
    },
    {
      "cell_type": "markdown",
      "source": [
        "**Q10. What is the significance of hierarchical indexing in Pandas?**"
      ],
      "metadata": {
        "id": "3n0V6Jm02G3X"
      }
    },
    {
      "cell_type": "markdown",
      "source": [
        "Ans. Hierarchical indexing (also called MultiIndex) in Pandas is a powerful feature that allows you to have multiple levels of indexing on a Series or DataFrame. Instead of a single index, you can have two or more levels of indexes, which enables working with higher-dimensional data in a 1D or 2D structure.\n",
        "\n",
        "**Significance of Hierarchical Indexing:**\n",
        "- Compact representation of multi-dimensional data\n",
        "You can represent complex data with multiple keys in a flat table without needing to use multiple DataFrames or complicated data structures.\n",
        "\n",
        "- Easier data aggregation and slicing\n",
        "It allows intuitive grouping, subsetting, and aggregation on multiple levels of the index.\n",
        "\n",
        "- Efficient storage and performance\n",
        "MultiIndex is memory-efficient and optimized for fast lookup and slicing operations.\n",
        "\n",
        "- Improves readability and organization\n",
        "You can organize related data hierarchically, making it easier to analyze and visualize."
      ],
      "metadata": {
        "id": "iRcbIms022bo"
      }
    },
    {
      "cell_type": "markdown",
      "source": [
        "**Q11. What is the role of Seaborn’s pairplot() function?**"
      ],
      "metadata": {
        "id": "pQ8Qixlk3UpV"
      }
    },
    {
      "cell_type": "markdown",
      "source": [
        "Ans. Seaborn’s pairplot() function is a powerful tool for exploratory data analysis that creates a matrix of scatterplots and histograms to visualize pairwise relationships between variables in a dataset.\n",
        "\n",
        "**Role of pairplot()**\n",
        "- Visualizes relationships between all pairs of numerical variables.\n",
        "\n",
        "- Helps identify correlations, trends, clusters, or outliers.\n",
        "\n",
        "- Plots univariate distributions (like histograms or KDE) along the diagonal.\n",
        "\n",
        "- Supports grouping by categories using the hue parameter, allowing colored plots by class or group.\n",
        "\n",
        "**Use of pairplot()**\n",
        "\n",
        "- Quickly get a holistic view of variable interactions.\n",
        "\n",
        "- Identify patterns or group separations visually.\n",
        "\n",
        "- Great starting point for feature selection or data cleaning.\n",
        "\n",
        "- Useful in both regression and classification problems.\n",
        "\n"
      ],
      "metadata": {
        "id": "66Xap-ZP3XAu"
      }
    },
    {
      "cell_type": "markdown",
      "source": [
        "**Q12. What is the purpose of the describe() function in Pandas?**"
      ],
      "metadata": {
        "id": "IHkRa6rf3_z1"
      }
    },
    {
      "cell_type": "markdown",
      "source": [
        "Ans. The describe() function in Pandas provides a quick statistical summary of the numerical (or categorical) columns in a DataFrame or Series.\n",
        "\n",
        "**Purpose of describe()**\n",
        "- Gives an overview of the distribution and key statistics of your data.\n",
        "\n",
        "- Helps you understand data spread, central tendency, and outliers quickly.\n",
        "\n",
        "- Useful for exploratory data analysis (EDA) to get insights without writing multiple commands."
      ],
      "metadata": {
        "id": "jKaRJCzo4Cim"
      }
    },
    {
      "cell_type": "markdown",
      "source": [
        "**Q13. Why is handling missing data important in Pandas?**"
      ],
      "metadata": {
        "id": "PrP8ByEc4nBW"
      }
    },
    {
      "cell_type": "markdown",
      "source": [
        "Ans. Handling missing data in Pandas is crucial because missing values can:\n",
        "\n",
        "**Distort analysis results:**\n",
        "- Calculations like mean, median, or correlations can be inaccurate if missing data isn’t handled properly.\n",
        "\n",
        "**Cause errors in computations or modeling:**\n",
        "- Many algorithms and functions expect complete data and will fail or give misleading outputs if missing values are present.\n",
        "\n",
        "**Bias your insights:**\n",
        "- Ignoring missing data or dropping rows without understanding why data is missing can introduce bias.\n",
        "\n",
        "**Why Pandas Helps with Missing Data:**\n",
        "- Provides easy functions to detect missing values (isna(), isnull()).\n",
        "\n",
        "**Allows handling by:**\n",
        "\n",
        "- Dropping missing values (dropna()).\n",
        "\n",
        "- Filling/imputing them (fillna()).\n",
        "\n",
        "- Interpolating missing values.\n",
        "\n"
      ],
      "metadata": {
        "id": "JXcRXLVn5Rj2"
      }
    },
    {
      "cell_type": "markdown",
      "source": [
        "Q14. What are the benefits of using Plotly for data visualization?"
      ],
      "metadata": {
        "id": "d6y6IDZW54oG"
      }
    },
    {
      "cell_type": "markdown",
      "source": [
        "Ans. Plotly offers several powerful benefits for data visualization, especially when you want interactive, web-friendly, and visually appealing charts. Here’s why many people choose Plotly:\n",
        "\n",
        "###**Benefits of Using Plotly for Data Visualization**\n",
        "**1. Interactive Visualizations**\n",
        "\n",
        "- Zoom, pan, hover tooltips, and clickable legends are built-in by default.\n",
        "\n",
        "- Users can explore data dynamically, which is great for presentations and dashboards.\n",
        "\n",
        "**2. Web and Notebook Friendly**\n",
        "\n",
        "- Easily integrates with Jupyter notebooks, web apps (like Dash), and HTML exports.\n",
        "\n",
        "- Generates plots that work seamlessly in browsers without extra plugins.\n",
        "\n",
        "**3. Wide Range of Plot Types**\n",
        "\n",
        "- Supports common charts (line, bar, scatter) plus complex ones like 3D plots, contour plots, geographic maps, and more.\n",
        "\n",
        "- Rich support for statistical, scientific, and financial visualizations.\n",
        "\n",
        "**4. Highly Customizable**\n",
        "\n",
        "- You can fine-tune almost every visual aspect: colors, fonts, layouts, animations, and interactivity.\n",
        "\n",
        "- Theme support and template reuse simplify consistent styling.\n",
        "\n",
        "**5.Open Source with Enterprise Options**\n",
        "\n",
        "- Plotly’s core library is open source and free to use.\n",
        "\n",
        "- Paid enterprise tools and services are available for large-scale deployments.\n",
        "\n",
        "**6.Integration with Dash for Dashboards**\n",
        "\n",
        "- Plotly is the foundation of Dash, a popular Python framework to build interactive data apps with minimal code.\n",
        "\n",
        "**7.Cross-language Support**\n",
        "\n",
        "- Plotly libraries exist for Python, R, Julia, MATLAB, and JavaScript, making it versatile across tech stacks.\n",
        "\n"
      ],
      "metadata": {
        "id": "F0D1nf9958s1"
      }
    },
    {
      "cell_type": "markdown",
      "source": [
        "**Q15. How does NumPy handle multidimensional arrays?**"
      ],
      "metadata": {
        "id": "xwdZMFQo67DW"
      }
    },
    {
      "cell_type": "markdown",
      "source": [
        "Ans. NumPy handles multidimensional arrays through its core data structure called the ndarray (N-dimensional array). This allows you to efficiently store and manipulate arrays with any number of dimensions — from simple 1D vectors to complex 3D tensors and beyond.\n",
        "\n",
        "**###Key Points About NumPy Multidimensional Arrays**\n",
        "\n",
        "1.Flexible Dimensions\n",
        "\n",
        "- You can create arrays with 1D, 2D, 3D, or more dimensions simply by specifying the shape.\n",
        "\n",
        "- Example shapes: (5,) for 1D, (3, 4) for 2D, (2, 3, 4) for 3D.\n",
        "\n",
        "2. Homogeneous Data Type\n",
        "\n",
        "- All elements in an ndarray have the same data type (e.g., all floats or all integers).\n",
        "\n",
        "- This enables efficient storage and computation.\n",
        "\n",
        "3. Shape and Strides\n",
        "\n",
        "- The shape attribute defines the size in each dimension.\n",
        "\n",
        "- Strides specify how many bytes to skip to move to the next element in each dimension, enabling efficient indexing without copying data.\n",
        "\n",
        "4. Indexing and Slicing\n",
        "\n",
        "- Supports multi-dimensional indexing like array[1, 2] for 2D arrays.\n",
        "\n",
        "- Slicing works along multiple axes, e.g., array[:, 1:3] to slice rows and columns.\n",
        "\n",
        "5. Vectorized Operations Across Dimensions\n",
        "\n",
        "- Arithmetic and mathematical operations apply element-wise across all dimensions.\n",
        "\n",
        "- Supports broadcasting to work with arrays of different shapes."
      ],
      "metadata": {
        "id": "7uZKhMc17CS6"
      }
    },
    {
      "cell_type": "markdown",
      "source": [
        "**16. What is the role of Bokeh in data visualization?**"
      ],
      "metadata": {
        "id": "-ixpJpTe7xv1"
      }
    },
    {
      "cell_type": "markdown",
      "source": [
        "Ans. Bokeh is a powerful Python library for creating interactive and web-ready data visualizations. Its main role is to allow data scientists, analysts, and developers to build interactive plots, dashboards, and data applications directly in the browser with ease and flexibility.\n",
        "\n",
        "###**Main Roles of Bokeh in Data Visualization**\n",
        "**1. Interactive Visualizations**\n",
        "\n",
        "- Bokeh supports panning, zooming, tooltips, and clickable legends out of the box.\n",
        "\n",
        "- Enhances user experience and data exploration.\n",
        "\n",
        "**2. Web Integration**\n",
        "\n",
        "- Plots render as HTML and JavaScript, so they can be easily embedded in web pages, Jupyter notebooks, or deployed with web frameworks like Flask or Django.\n",
        "\n",
        "**3. High-Performance Plots for Large Data **bold text**\n",
        "\n",
        "- Designed to handle streaming and large datasets efficiently via WebGL and server-side tools.\n",
        "\n",
        "**4. Customizable Layouts and Dashboards**\n",
        "\n",
        "- Build complex, interactive dashboards with widgets like sliders, dropdowns, and buttons.\n",
        "\n",
        "- Supports layout tools to arrange multiple plots and controls.\n",
        "\n",
        "**5. Server Applications**\n",
        "\n",
        "- Bokeh comes with a server for building interactive apps with live updates and streaming data (like live stock charts or sensor dashboards)."
      ],
      "metadata": {
        "id": "h2d_Vw--74jK"
      }
    },
    {
      "cell_type": "markdown",
      "source": [
        "**Q17. Explain the difference between apply() and map() in Pandas.**"
      ],
      "metadata": {
        "id": "nZ0pVKny8z09"
      }
    },
    {
      "cell_type": "markdown",
      "source": [
        "Ans. In Pandas, both apply() and map() are used to apply functions to data, but they differ in scope, flexibility, and use cases.\n",
        "\n",
        "**map(): Element-wise for Series**\n",
        "- Used only on Series (like a single column).\n",
        "\n",
        "- Applies a function element-wise.\n",
        "\n",
        "- Best for simple transformations or mappings.\n",
        "\n",
        "**Use Cases:**\n",
        "- Apply a lambda function to each element.\n",
        "\n",
        "- Replace values using a dictionary.\n",
        "\n",
        "- Convert data types or formats.\n",
        "\n",
        "**apply(): Flexible for Series and DataFrames**\n",
        "- Can be used on both Series and DataFrames.\n",
        "\n",
        "- In Series: similar to map(), but more general.\n",
        "\n",
        "- In DataFrame: can apply functions to rows or columns using axis=0 or axis=1.\n",
        "\n",
        "**Use Cases:**\n",
        "- Row-wise or column-wise operations.\n",
        "\n",
        "- Applying complex or custom functions.\n",
        "\n",
        "- Aggregation or transformation across columns."
      ],
      "metadata": {
        "id": "aI2ZaCJV9FC5"
      }
    },
    {
      "cell_type": "markdown",
      "source": [
        "**18. What are some advanced features of NumPy?**"
      ],
      "metadata": {
        "id": "vlnPKsmS99rM"
      }
    },
    {
      "cell_type": "markdown",
      "source": [
        "Ans. NumPy offers several advanced features that go beyond basic array operations. These are particularly useful for performance optimization, complex data manipulation, and scientific computing. Here are some of the most important ones:\n",
        "\n",
        "**1. Broadcasting**\n",
        "- Allows operations on arrays of different shapes without explicit looping.\n",
        "\n",
        "- Great for memory efficiency and speed.\n",
        "\n",
        "**2. Vectorization**\n",
        "- Replaces explicit loops with optimized, fast array expressions.\n",
        "\n",
        "- Improves performance significantly.\n",
        "\n",
        "**3. Advanced Indexing and Slicing**\n",
        "- Supports boolean indexing, fancy indexing, and multidimensional slicing.\n",
        "\n",
        "**4. Linear Algebra Operations**\n",
        "- Includes matrix multiplication, eigenvalues, inverses, etc.\n",
        "\n",
        "**5. Multi-dimensional Array Manipulation**\n",
        "- Reshaping, stacking, splitting, and rolling axes.\n",
        "\n",
        "**6. Masked Arrays**\n",
        "- Handle missing or invalid values elegantly using np.ma.\n",
        "\n",
        "**7. Structured Arrays (Record Arrays)**\n",
        "- Useful for handling heterogeneous data types (like a table).\n",
        "\n",
        "**8. Memory Mapping Large Files**\n",
        "- Load large datasets without reading them entirely into memory.\n",
        "\n",
        "**9 Random Number Generation**\n",
        "- Advanced distributions, random sampling, and reproducible results."
      ],
      "metadata": {
        "id": "otabYGqu-JHx"
      }
    },
    {
      "cell_type": "markdown",
      "source": [
        "**Q19. How does Pandas simplify time series analysis?**"
      ],
      "metadata": {
        "id": "pwALqL9B_vJf"
      }
    },
    {
      "cell_type": "markdown",
      "source": [
        "Ans. Pandas greatly simplifies time series analysis by providing a robust set of tools to handle date and time data, allowing for easy indexing, slicing, resampling, and visualization.\n",
        "\n",
        "**###Here’s how Pandas makes time series analysis easier:**\n",
        "\n",
        "**1. DateTime Indexing**\n",
        "- Pandas allows dates and times to be used as index values, enabling powerful time-based operations.\n",
        "\n",
        "**2. Resampling**\n",
        "- Easily convert between different time frequencies (e.g., daily to monthly) using resample().\n",
        "\n",
        "**3. Time-based Slicing and Filtering**\n",
        "- You can slice and filter by time ranges just like string labels.\n",
        "\n",
        "**4. Frequency Conversion**\n",
        "- Pandas supports flexible date ranges with custom frequencies ('D', 'H', 'M', 'Q', 'A', etc.).\n",
        "\n",
        "**5. Datetime Conversion**\n",
        "- Use pd.to_datetime() to convert strings or other formats to datetime.\n",
        "\n",
        "**6. Rolling Statistics**\n",
        "- Quickly compute moving averages, rolling sums, etc., with rolling().\n",
        "\n",
        "**7. Handling Time Zones**\n",
        "\n",
        "- Pandas supports time zone-aware data and conversions with .tz_localize() and .tz_convert().\n",
        "\n",
        "**8. Time Deltas and Offsets**\n",
        "- Calculate differences and shifts in time with Timedelta, shift(), and diff()."
      ],
      "metadata": {
        "id": "S9nf0Lnf_3O7"
      }
    },
    {
      "cell_type": "markdown",
      "source": [
        "**Q20. What is the role of a pivot table in Pandas?**"
      ],
      "metadata": {
        "id": "aHvyd5hfHGgp"
      }
    },
    {
      "cell_type": "markdown",
      "source": [
        "Ans. In Pandas, a pivot table is a powerful tool used to summarize, aggregate, and reshape data — especially useful for transforming long-format data into a more readable, structured form.\n",
        "\n",
        "**###Role of a Pivot Table in Pandas**\n",
        "\n",
        "**1.Data Summarization**\n",
        "\n",
        "- It helps condense large datasets by calculating aggregate statistics (like sum, mean, count, etc.) grouped by one or more keys.\n",
        "\n",
        "**2. Reshaping Data**\n",
        "\n",
        "- Converts data from a \"long\" format to a \"wide\" format, allowing easy cross-tabulation and reporting.\n",
        "\n",
        "**3. Multi-dimensional Grouping**\n",
        "\n",
        "- Pivot tables allow grouping data by multiple dimensions (rows and columns) with flexible aggregation.\n",
        "\n",
        "**4. Exploratory Data Analysis (EDA)**\n",
        "\n",
        "- Quickly explore patterns and relationships in data, especially when dealing with categorical and numeric variables."
      ],
      "metadata": {
        "id": "kG1dy3VFHYU5"
      }
    },
    {
      "cell_type": "markdown",
      "source": [
        "**Q21. Why is NumPy’s array slicing faster than Python’s list slicing?**"
      ],
      "metadata": {
        "id": "l6Kq5SPTH0Ph"
      }
    },
    {
      "cell_type": "markdown",
      "source": [
        "Ans. NumPy’s array slicing is faster than Python’s list slicing due to several key reasons related to how NumPy arrays are structured and managed in memory:\n",
        "\n",
        "**1. Contiguous Memory Layout**\n",
        "- NumPy arrays are stored in contiguous blocks of memory, similar to C arrays.\n",
        "\n",
        "- Python lists are arrays of pointers to objects, which can be scattered in memory.\n",
        "\n",
        "**2. Homogeneous Data Types**\n",
        "- NumPy arrays are homogeneous (all elements are the same type), so operations can use low-level optimizations.\n",
        "\n",
        "- Python lists are heterogeneous, and each element may have a different type.\n",
        "\n",
        "**3. View Instead of Copy**\n",
        "- Slicing a NumPy array returns a view, not a new copy (unless explicitly requested).\n",
        "\n",
        "- Slicing a Python list creates a new list with copied elements.\n",
        "\n",
        "**4. Implementation in C**\n",
        "- NumPy is written in C, and many operations (like slicing, indexing, and math) are implemented using compiled code.\n",
        "\n",
        "- Python lists rely on the interpreter, which is slower for data-intensive operations."
      ],
      "metadata": {
        "id": "uXgjrzbkIAj5"
      }
    },
    {
      "cell_type": "markdown",
      "source": [
        "**Q21. What are some common use cases for Seaborn?**"
      ],
      "metadata": {
        "id": "QU5yY1UjIzIY"
      }
    },
    {
      "cell_type": "markdown",
      "source": [
        "Ans. Seaborn is a powerful Python data visualization library built on top of Matplotlib, designed specifically for statistical plotting. It’s widely used for creating visually appealing and informative graphics, especially when working with Pandas DataFrames.\n",
        "\n",
        "Here are some of the most common use cases for Seaborn:\n",
        "\n",
        "**1. Visualizing Distributions**\n",
        "Helps in understanding the shape, spread, and skewness of data.\n",
        "\n",
        "- sns.histplot() – Histogram\n",
        "\n",
        "- sns.kdeplot() – Kernel Density Estimate\n",
        "\n",
        "- sns.boxplot() – Box and whisker plot\n",
        "\n",
        "- sns.violinplot() – Distribution + boxplot\n",
        "\n",
        "**Use Case:** Inspecting income distribution, exam scores, etc.\n",
        "\n",
        "**2. Comparing Categories**\n",
        "Used to compare groups or categories using categorical data.\n",
        "\n",
        "- sns.barplot() – Categorical mean comparisons\n",
        "\n",
        "- sns.countplot() – Counts of categorical variables\n",
        "\n",
        "- sns.stripplot(), swarmplot() – Scatter plots for categories\n",
        "\n",
        "**Use Case:** Comparing average sales across product categories.\n",
        "\n",
        "**3. Relationships Between Variables**\n",
        "Ideal for finding correlations or trends between variables.\n",
        "\n",
        "- sns.scatterplot() – Basic scatter plot\n",
        "\n",
        "- sns.regplot() / lmplot() – Scatter plot with regression line\n",
        "\n",
        "**Use Case:** Investigating correlation between advertising spend and sales.\n",
        "\n",
        "**4. Heatmaps and Correlation Matrices**\n",
        "Great for visualizing data density and relationships between many variables.\n",
        "\n",
        "- sns.heatmap() – Color-coded matrix of values (e.g., correlation matrix)\n",
        "\n",
        "**Use Case:** Identifying multicollinearity in features before model building.\n",
        "\n",
        "**5. Time Series Visualization**\n",
        "Visualize trends and seasonality in time series data.\n",
        "\n",
        "- sns.lineplot() – Handles time-indexed data and confidence intervals\n",
        "\n",
        "**Use Case:** Plotting daily stock prices or monthly revenue trends.\n",
        "\n",
        "**6. Exploratory Data Analysis (EDA)**\n",
        "Quickly explore datasets with multi-plot grids.\n",
        "\n",
        "- sns.pairplot() – Pairwise relationships between numerical features\n",
        "\n",
        "- sns.catplot() – Multiple categorical plots in one interface\n",
        "\n",
        "- sns.FacetGrid – Visualize subsets of data with shared axes\n",
        "\n",
        "**Use Case:** Exploring the Iris dataset or Titanic survival data.\n",
        "\n",
        "**7. Custom Styling and Themes**\n",
        "Seaborn supports themes, color palettes, and context scaling.\n",
        "\n",
        "- sns.set_theme(), sns.set_style(), sns.color_palette()\n",
        "\n",
        "**Use Case:** Making plots suitable for reports, presentations, or publications.\n",
        "\n"
      ],
      "metadata": {
        "id": "hbyvDUtfI3rw"
      }
    },
    {
      "cell_type": "markdown",
      "source": [
        "#**Practical**"
      ],
      "metadata": {
        "id": "2jJRdrNBinoC"
      }
    },
    {
      "cell_type": "markdown",
      "source": [
        "**Q1. How do you create a 2D NumPy array and calculate the sum of each row?**"
      ],
      "metadata": {
        "id": "foAgarkqizBk"
      }
    },
    {
      "cell_type": "markdown",
      "source": [
        "Ans. Here's a Python code snippet that creates a 2D NumPy array and calculates the sum of each row:"
      ],
      "metadata": {
        "id": "KTVQHjSBjLua"
      }
    },
    {
      "cell_type": "code",
      "source": [
        "import numpy as np\n",
        "\n",
        "# Create a 2D NumPy array\n",
        "array_2d = np.array([[1, 2, 3],\n",
        "                     [4, 5, 6],\n",
        "                     [7, 8, 9]])\n",
        "\n",
        "# Calculate the sum of each row\n",
        "row_sums = np.sum(array_2d, axis=1)\n",
        "\n",
        "# Print the result\n",
        "print(\"2D Array:\")\n",
        "print(array_2d)\n",
        "print(\"Sum of each row:\")\n",
        "print(row_sums)\n"
      ],
      "metadata": {
        "colab": {
          "base_uri": "https://localhost:8080/"
        },
        "id": "CaFLjmghjQyE",
        "outputId": "5ec77389-533e-4ff6-89d2-611f3e984189"
      },
      "execution_count": 1,
      "outputs": [
        {
          "output_type": "stream",
          "name": "stdout",
          "text": [
            "2D Array:\n",
            "[[1 2 3]\n",
            " [4 5 6]\n",
            " [7 8 9]]\n",
            "Sum of each row:\n",
            "[ 6 15 24]\n"
          ]
        }
      ]
    },
    {
      "cell_type": "markdown",
      "source": [
        "**Q2. Write a Pandas script to find the mean of a specific column in a DataFrame**"
      ],
      "metadata": {
        "id": "NrBmrMVMjYlA"
      }
    },
    {
      "cell_type": "code",
      "source": [
        "import pandas as pd\n",
        "\n",
        "# Create a sample DataFrame\n",
        "data = {\n",
        "    'Name': ['Alice', 'Bob', 'Charlie', 'David'],\n",
        "    'Age': [25, 30, 35, 40],\n",
        "    'Score': [85, 90, 95, 88]\n",
        "}\n",
        "\n",
        "df = pd.DataFrame(data)\n",
        "\n",
        "# Calculate the mean of the 'Score' column\n",
        "mean_score = df['Score'].mean()\n",
        "\n",
        "# Print the result\n",
        "print(\"Mean of the 'Score' column:\", mean_score)\n"
      ],
      "metadata": {
        "colab": {
          "base_uri": "https://localhost:8080/"
        },
        "id": "5tlBxsy8jmlJ",
        "outputId": "9a07a212-7a96-4480-d0ab-92d4e3f12824"
      },
      "execution_count": 2,
      "outputs": [
        {
          "output_type": "stream",
          "name": "stdout",
          "text": [
            "Mean of the 'Score' column: 89.5\n"
          ]
        }
      ]
    },
    {
      "cell_type": "markdown",
      "source": [
        "**Q3. Create a scatter plot using Matplotlib.**"
      ],
      "metadata": {
        "id": "JXy5TRl0jrZl"
      }
    },
    {
      "cell_type": "code",
      "source": [
        "import matplotlib.pyplot as plt\n",
        "\n",
        "# Sample data\n",
        "x = [1, 2, 3, 4, 5]\n",
        "y = [10, 12, 5, 8, 15]\n",
        "\n",
        "# Create a scatter plot\n",
        "plt.scatter(x, y, color='blue', marker='o')\n",
        "\n",
        "# Add labels and title\n",
        "plt.xlabel('X-axis')\n",
        "plt.ylabel('Y-axis')\n",
        "plt.title('Sample Scatter Plot')\n",
        "\n",
        "# Show the plot\n",
        "plt.show()"
      ],
      "metadata": {
        "colab": {
          "base_uri": "https://localhost:8080/",
          "height": 472
        },
        "id": "YG_qnXuajxCI",
        "outputId": "d31f345c-a5ba-4065-ddad-9f6bb5f8c0b7"
      },
      "execution_count": 3,
      "outputs": [
        {
          "output_type": "display_data",
          "data": {
            "text/plain": [
              "<Figure size 640x480 with 1 Axes>"
            ],
            "image/png": "[encoded data removed]"
          },
          "metadata": {}
        }
      ]
    },
    {
      "cell_type": "markdown",
      "source": [
        "**Q4. How do you calculate the correlation matrix using Seaborn and visualize it with a heatmap?**"
      ],
      "metadata": {
        "id": "FU7a1jyNj6ho"
      }
    },
    {
      "cell_type": "code",
      "source": [
        "import pandas as pd\n",
        "import seaborn as sns\n",
        "import matplotlib.pyplot as plt\n",
        "\n",
        "# Sample DataFrame\n",
        "data = {\n",
        "    'Math': [85, 90, 78, 92, 88],\n",
        "    'Science': [89, 94, 75, 95, 90],\n",
        "    'English': [78, 85, 80, 88, 82]\n",
        "}\n",
        "\n",
        "df = pd.DataFrame(data)\n",
        "\n",
        "# Calculate the correlation matrix\n",
        "corr_matrix = df.corr()\n",
        "\n",
        "# Create a heatmap\n",
        "sns.heatmap(corr_matrix, annot=True, cmap='coolwarm', linewidths=0.5)\n",
        "\n",
        "# Add title\n",
        "plt.title('Correlation Matrix Heatmap')\n",
        "\n",
        "# Show the plot\n",
        "plt.show()\n"
      ],
      "metadata": {
        "colab": {
          "base_uri": "https://localhost:8080/",
          "height": 452
        },
        "id": "gd5sWK1ykCYd",
        "outputId": "487d63b7-c5a0-4436-e97a-4f4e2f42c86b"
      },
      "execution_count": 4,
      "outputs": [
        {
          "output_type": "display_data",
          "data": {
            "text/plain": [
              "<Figure size 640x480 with 2 Axes>"
            ],
            "image/png": "[encoded data removed]"
          },
          "metadata": {}
        }
      ]
    },
    {
      "cell_type": "markdown",
      "source": [
        "**Q5. Generate a bar plot using Plotly.**"
      ],
      "metadata": {
        "id": "QdqicsLWkGnk"
      }
    },
    {
      "cell_type": "code",
      "source": [
        "import plotly.graph_objects as go\n",
        "\n",
        "# Sample data\n",
        "categories = ['Apples', 'Bananas', 'Cherries', 'Dates']\n",
        "values = [10, 15, 7, 12]\n",
        "\n",
        "# Create a bar plot\n",
        "fig = go.Figure(data=[go.Bar(x=categories, y=values)])\n",
        "\n",
        "# Customize layout\n",
        "fig.update_layout(\n",
        "    title='Fruit Sales',\n",
        "    xaxis_title='Fruit',\n",
        "    yaxis_title='Quantity Sold'\n",
        ")\n",
        "\n",
        "# Show the plot\n",
        "fig.show()\n"
      ],
      "metadata": {
        "colab": {
          "base_uri": "https://localhost:8080/",
          "height": 542
        },
        "id": "j4eLDv44kM5V",
        "outputId": "fdb54067-1e59-434b-a866-1fe91c3489f2"
      },
      "execution_count": 5,
      "outputs": [
        {
          "output_type": "display_data",
          "data": {
            "text/html": [
              "<html>\n",
              "<head><meta charset=\"utf-8\" /></head>\n",
              "<body>\n",
              "    <div>            <script src=\"https://cdnjs.cloudflare.com/ajax/libs/mathjax/2.7.5/MathJax.js?config=TeX-AMS-MML_SVG\"></script><script type=\"text/javascript\">if (window.MathJax && window.MathJax.Hub && window.MathJax.Hub.Config) {window.MathJax.Hub.Config({SVG: {font: \"STIX-Web\"}});}</script>                <script type=\"text/javascript\">window.PlotlyConfig = {MathJaxConfig: 'local'};</script>\n",
              "        <script charset=\"utf-8\" src=\"https://cdn.plot.ly/plotly-2.35.2.min.js\"></script>                <div id=\"c0885c56-b585-4caa-b7ed-90dbe2ad4458\" class=\"plotly-graph-div\" style=\"height:525px; width:100%;\"></div>            <script type=\"text/javascript\">                                    window.PLOTLYENV=window.PLOTLYENV || {};                                    if (document.getElementById(\"c0885c56-b585-4caa-b7ed-90dbe2ad4458\")) {                    Plotly.newPlot(                        \"c0885c56-b585-4caa-b7ed-90dbe2ad4458\",                        [{\"x\":[\"Apples\",\"Bananas\",\"Cherries\",\"Dates\"],\"y\":[10,15,7,12],\"type\":\"bar\"}],                        {\"template\":{\"data\":{\"histogram2dcontour\":[{\"type\":\"histogram2dcontour\",\"colorbar\":{\"outlinewidth\":0,\"ticks\":\"\"},\"colorscale\":[[0.0,\"#0d0887\"],[0.1111111111111111,\"#46039f\"],[0.2222222222222222,\"#7201a8\"],[0.3333333333333333,\"#9c179e\"],[0.4444444444444444,\"#bd3786\"],[0.5555555555555556,\"#d8576b\"],[0.6666666666666666,\"#ed7953\"],[0.7777777777777778,\"#fb9f3a\"],[0.8888888888888888,\"#fdca26\"],[1.0,\"#f0f921\"]]}],\"choropleth\":[{\"type\":\"choropleth\",\"colorbar\":{\"outlinewidth\":0,\"ticks\":\"\"}}],\"histogram2d\":[{\"type\":\"histogram2d\",\"colorbar\":{\"outlinewidth\":0,\"ticks\":\"\"},\"colorscale\":[[0.0,\"#0d0887\"],[0.1111111111111111,\"#46039f\"],[0.2222222222222222,\"#7201a8\"],[0.3333333333333333,\"#9c179e\"],[0.4444444444444444,\"#bd3786\"],[0.5555555555555556,\"#d8576b\"],[0.6666666666666666,\"#ed7953\"],[0.7777777777777778,\"#fb9f3a\"],[0.8888888888888888,\"#fdca26\"],[1.0,\"#f0f921\"]]}],\"heatmap\":[{\"type\":\"heatmap\",\"colorbar\":{\"outlinewidth\":0,\"ticks\":\"\"},\"colorscale\":[[0.0,\"#0d0887\"],[0.1111111111111111,\"#46039f\"],[0.2222222222222222,\"#7201a8\"],[0.3333333333333333,\"#9c179e\"],[0.4444444444444444,\"#bd3786\"],[0.5555555555555556,\"#d8576b\"],[0.6666666666666666,\"#ed7953\"],[0.7777777777777778,\"#fb9f3a\"],[0.8888888888888888,\"#fdca26\"],[1.0,\"#f0f921\"]]}],\"heatmapgl\":[{\"type\":\"heatmapgl\",\"colorbar\":{\"outlinewidth\":0,\"ticks\":\"\"},\"colorscale\":[[0.0,\"#0d0887\"],[0.1111111111111111,\"#46039f\"],[0.2222222222222222,\"#7201a8\"],[0.3333333333333333,\"#9c179e\"],[0.4444444444444444,\"#bd3786\"],[0.5555555555555556,\"#d8576b\"],[0.6666666666666666,\"#ed7953\"],[0.7777777777777778,\"#fb9f3a\"],[0.8888888888888888,\"#fdca26\"],[1.0,\"#f0f921\"]]}],\"contourcarpet\":[{\"type\":\"contourcarpet\",\"colorbar\":{\"outlinewidth\":0,\"ticks\":\"\"}}],\"contour\":[{\"type\":\"contour\",\"colorbar\":{\"outlinewidth\":0,\"ticks\":\"\"},\"colorscale\":[[0.0,\"#0d0887\"],[0.1111111111111111,\"#46039f\"],[0.2222222222222222,\"#7201a8\"],[0.3333333333333333,\"#9c179e\"],[0.4444444444444444,\"#bd3786\"],[0.5555555555555556,\"#d8576b\"],[0.6666666666666666,\"#ed7953\"],[0.7777777777777778,\"#fb9f3a\"],[0.8888888888888888,\"#fdca26\"],[1.0,\"#f0f921\"]]}],\"surface\":[{\"type\":\"surface\",\"colorbar\":{\"outlinewidth\":0,\"ticks\":\"\"},\"colorscale\":[[0.0,\"#0d0887\"],[0.1111111111111111,\"#46039f\"],[0.2222222222222222,\"#7201a8\"],[0.3333333333333333,\"#9c179e\"],[0.4444444444444444,\"#bd3786\"],[0.5555555555555556,\"#d8576b\"],[0.6666666666666666,\"#ed7953\"],[0.7777777777777778,\"#fb9f3a\"],[0.8888888888888888,\"#fdca26\"],[1.0,\"#f0f921\"]]}],\"mesh3d\":[{\"type\":\"mesh3d\",\"colorbar\":{\"outlinewidth\":0,\"ticks\":\"\"}}],\"scatter\":[{\"fillpattern\":{\"fillmode\":\"overlay\",\"size\":10,\"solidity\":0.2},\"type\":\"scatter\"}],\"parcoords\":[{\"type\":\"parcoords\",\"line\":{\"colorbar\":{\"outlinewidth\":0,\"ticks\":\"\"}}}],\"scatterpolargl\":[{\"type\":\"scatterpolargl\",\"marker\":{\"colorbar\":{\"outlinewidth\":0,\"ticks\":\"\"}}}],\"bar\":[{\"error_x\":{\"color\":\"#2a3f5f\"},\"error_y\":{\"color\":\"#2a3f5f\"},\"marker\":{\"line\":{\"color\":\"#E5ECF6\",\"width\":0.5},\"pattern\":{\"fillmode\":\"overlay\",\"size\":10,\"solidity\":0.2}},\"type\":\"bar\"}],\"scattergeo\":[{\"type\":\"scattergeo\",\"marker\":{\"colorbar\":{\"outlinewidth\":0,\"ticks\":\"\"}}}],\"scatterpolar\":[{\"type\":\"scatterpolar\",\"marker\":{\"colorbar\":{\"outlinewidth\":0,\"ticks\":\"\"}}}],\"histogram\":[{\"marker\":{\"pattern\":{\"fillmode\":\"overlay\",\"size\":10,\"solidity\":0.2}},\"type\":\"histogram\"}],\"scattergl\":[{\"type\":\"scattergl\",\"marker\":{\"colorbar\":{\"outlinewidth\":0,\"ticks\":\"\"}}}],\"scatter3d\":[{\"type\":\"scatter3d\",\"line\":{\"colorbar\":{\"outlinewidth\":0,\"ticks\":\"\"}},\"marker\":{\"colorbar\":{\"outlinewidth\":0,\"ticks\":\"\"}}}],\"scattermapbox\":[{\"type\":\"scattermapbox\",\"marker\":{\"colorbar\":{\"outlinewidth\":0,\"ticks\":\"\"}}}],\"scatterternary\":[{\"type\":\"scatterternary\",\"marker\":{\"colorbar\":{\"outlinewidth\":0,\"ticks\":\"\"}}}],\"scattercarpet\":[{\"type\":\"scattercarpet\",\"marker\":{\"colorbar\":{\"outlinewidth\":0,\"ticks\":\"\"}}}],\"carpet\":[{\"aaxis\":{\"endlinecolor\":\"#2a3f5f\",\"gridcolor\":\"white\",\"linecolor\":\"white\",\"minorgridcolor\":\"white\",\"startlinecolor\":\"#2a3f5f\"},\"baxis\":{\"endlinecolor\":\"#2a3f5f\",\"gridcolor\":\"white\",\"linecolor\":\"white\",\"minorgridcolor\":\"white\",\"startlinecolor\":\"#2a3f5f\"},\"type\":\"carpet\"}],\"table\":[{\"cells\":{\"fill\":{\"color\":\"#EBF0F8\"},\"line\":{\"color\":\"white\"}},\"header\":{\"fill\":{\"color\":\"#C8D4E3\"},\"line\":{\"color\":\"white\"}},\"type\":\"table\"}],\"barpolar\":[{\"marker\":{\"line\":{\"color\":\"#E5ECF6\",\"width\":0.5},\"pattern\":{\"fillmode\":\"overlay\",\"size\":10,\"solidity\":0.2}},\"type\":\"barpolar\"}],\"pie\":[{\"automargin\":true,\"type\":\"pie\"}]},\"layout\":{\"autotypenumbers\":\"strict\",\"colorway\":[\"#636efa\",\"#EF553B\",\"#00cc96\",\"#ab63fa\",\"#FFA15A\",\"#19d3f3\",\"#FF6692\",\"#B6E880\",\"#FF97FF\",\"#FECB52\"],\"font\":{\"color\":\"#2a3f5f\"},\"hovermode\":\"closest\",\"hoverlabel\":{\"align\":\"left\"},\"paper_bgcolor\":\"white\",\"plot_bgcolor\":\"#E5ECF6\",\"polar\":{\"bgcolor\":\"#E5ECF6\",\"angularaxis\":{\"gridcolor\":\"white\",\"linecolor\":\"white\",\"ticks\":\"\"},\"radialaxis\":{\"gridcolor\":\"white\",\"linecolor\":\"white\",\"ticks\":\"\"}},\"ternary\":{\"bgcolor\":\"#E5ECF6\",\"aaxis\":{\"gridcolor\":\"white\",\"linecolor\":\"white\",\"ticks\":\"\"},\"baxis\":{\"gridcolor\":\"white\",\"linecolor\":\"white\",\"ticks\":\"\"},\"caxis\":{\"gridcolor\":\"white\",\"linecolor\":\"white\",\"ticks\":\"\"}},\"coloraxis\":{\"colorbar\":{\"outlinewidth\":0,\"ticks\":\"\"}},\"colorscale\":{\"sequential\":[[0.0,\"#0d0887\"],[0.1111111111111111,\"#46039f\"],[0.2222222222222222,\"#7201a8\"],[0.3333333333333333,\"#9c179e\"],[0.4444444444444444,\"#bd3786\"],[0.5555555555555556,\"#d8576b\"],[0.6666666666666666,\"#ed7953\"],[0.7777777777777778,\"#fb9f3a\"],[0.8888888888888888,\"#fdca26\"],[1.0,\"#f0f921\"]],\"sequentialminus\":[[0.0,\"#0d0887\"],[0.1111111111111111,\"#46039f\"],[0.2222222222222222,\"#7201a8\"],[0.3333333333333333,\"#9c179e\"],[0.4444444444444444,\"#bd3786\"],[0.5555555555555556,\"#d8576b\"],[0.6666666666666666,\"#ed7953\"],[0.7777777777777778,\"#fb9f3a\"],[0.8888888888888888,\"#fdca26\"],[1.0,\"#f0f921\"]],\"diverging\":[[0,\"#8e0152\"],[0.1,\"#c51b7d\"],[0.2,\"#de77ae\"],[0.3,\"#f1b6da\"],[0.4,\"#fde0ef\"],[0.5,\"#f7f7f7\"],[0.6,\"#e6f5d0\"],[0.7,\"#b8e186\"],[0.8,\"#7fbc41\"],[0.9,\"#4d9221\"],[1,\"#276419\"]]},\"xaxis\":{\"gridcolor\":\"white\",\"linecolor\":\"white\",\"ticks\":\"\",\"title\":{\"standoff\":15},\"zerolinecolor\":\"white\",\"automargin\":true,\"zerolinewidth\":2},\"yaxis\":{\"gridcolor\":\"white\",\"linecolor\":\"white\",\"ticks\":\"\",\"title\":{\"standoff\":15},\"zerolinecolor\":\"white\",\"automargin\":true,\"zerolinewidth\":2},\"scene\":{\"xaxis\":{\"backgroundcolor\":\"#E5ECF6\",\"gridcolor\":\"white\",\"linecolor\":\"white\",\"showbackground\":true,\"ticks\":\"\",\"zerolinecolor\":\"white\",\"gridwidth\":2},\"yaxis\":{\"backgroundcolor\":\"#E5ECF6\",\"gridcolor\":\"white\",\"linecolor\":\"white\",\"showbackground\":true,\"ticks\":\"\",\"zerolinecolor\":\"white\",\"gridwidth\":2},\"zaxis\":{\"backgroundcolor\":\"#E5ECF6\",\"gridcolor\":\"white\",\"linecolor\":\"white\",\"showbackground\":true,\"ticks\":\"\",\"zerolinecolor\":\"white\",\"gridwidth\":2}},\"shapedefaults\":{\"line\":{\"color\":\"#2a3f5f\"}},\"annotationdefaults\":{\"arrowcolor\":\"#2a3f5f\",\"arrowhead\":0,\"arrowwidth\":1},\"geo\":{\"bgcolor\":\"white\",\"landcolor\":\"#E5ECF6\",\"subunitcolor\":\"white\",\"showland\":true,\"showlakes\":true,\"lakecolor\":\"white\"},\"title\":{\"x\":0.05},\"mapbox\":{\"style\":\"light\"}}},\"title\":{\"text\":\"Fruit Sales\"},\"xaxis\":{\"title\":{\"text\":\"Fruit\"}},\"yaxis\":{\"title\":{\"text\":\"Quantity Sold\"}}},                        {\"responsive\": true}                    ).then(function(){\n",
              "                            \n",
              "var gd = document.getElementById('c0885c56-b585-4caa-b7ed-90dbe2ad4458');\n",
              "var x = new MutationObserver(function (mutations, observer) {{\n",
              "        var display = window.getComputedStyle(gd).display;\n",
              "        if (!display || display === 'none') {{\n",
              "            console.log([gd, 'removed!']);\n",
              "            Plotly.purge(gd);\n",
              "            observer.disconnect();\n",
              "        }}\n",
              "}});\n",
              "\n",
              "// Listen for the removal of the full notebook cells\n",
              "var notebookContainer = gd.closest('#notebook-container');\n",
              "if (notebookContainer) {{\n",
              "    x.observe(notebookContainer, {childList: true});\n",
              "}}\n",
              "\n",
              "// Listen for the clearing of the current output cell\n",
              "var outputEl = gd.closest('.output');\n",
              "if (outputEl) {{\n",
              "    x.observe(outputEl, {childList: true});\n",
              "}}\n",
              "\n",
              "                        })                };                            </script>        </div>\n",
              "</body>\n",
              "</html>"
            ]
          },
          "metadata": {}
        }
      ]
    },
    {
      "cell_type": "markdown",
      "source": [
        "**Q6. Create a DataFrame and add a new column based on an existing column.**"
      ],
      "metadata": {
        "id": "gvlHK3hEkUko"
      }
    },
    {
      "cell_type": "code",
      "source": [
        "import pandas as pd\n",
        "\n",
        "# Create the initial DataFrame\n",
        "data = {\n",
        "    'Student': ['Alice', 'Bob', 'Charlie', 'David'],\n",
        "    'Marks': [85, 72, 90, 65]\n",
        "}\n",
        "\n",
        "df = pd.DataFrame(data)\n",
        "\n",
        "# Add a new column 'Grade' based on the 'Marks' column\n",
        "def assign_grade(mark):\n",
        "    if mark >= 85:\n",
        "        return 'A'\n",
        "    elif mark >= 70:\n",
        "        return 'B'\n",
        "    elif mark >= 50:\n",
        "        return 'C'\n",
        "    else:\n",
        "        return 'F'\n",
        "\n",
        "df['Grade'] = df['Marks'].apply(assign_grade)\n",
        "\n",
        "# Display the updated DataFrame\n",
        "print(df)\n"
      ],
      "metadata": {
        "colab": {
          "base_uri": "https://localhost:8080/"
        },
        "id": "rl18zJeQlS4l",
        "outputId": "b0cdf072-f0e1-4bf7-b5ab-37ff9f51ed13"
      },
      "execution_count": 6,
      "outputs": [
        {
          "output_type": "stream",
          "name": "stdout",
          "text": [
            "   Student  Marks Grade\n",
            "0    Alice     85     A\n",
            "1      Bob     72     B\n",
            "2  Charlie     90     A\n",
            "3    David     65     C\n"
          ]
        }
      ]
    },
    {
      "cell_type": "markdown",
      "source": [
        "**Q7. Write a program to perform element-wise multiplication of two NumPy arrays.**"
      ],
      "metadata": {
        "id": "5BeknwB7lYi5"
      }
    },
    {
      "cell_type": "code",
      "source": [
        "import numpy as np\n",
        "\n",
        "# Create two sample NumPy arrays\n",
        "array1 = np.array([1, 2, 3, 4])\n",
        "array2 = np.array([10, 20, 30, 40])\n",
        "\n",
        "# Perform element-wise multiplication\n",
        "result = array1 * array2\n",
        "\n",
        "# Print the result\n",
        "print(\"Array 1:\", array1)\n",
        "print(\"Array 2:\", array2)\n",
        "print(\"Element-wise multiplication:\", result)\n"
      ],
      "metadata": {
        "colab": {
          "base_uri": "https://localhost:8080/"
        },
        "id": "1i-UAEXblgFw",
        "outputId": "42e4c613-762b-467f-848c-db53a0767181"
      },
      "execution_count": 7,
      "outputs": [
        {
          "output_type": "stream",
          "name": "stdout",
          "text": [
            "Array 1: [1 2 3 4]\n",
            "Array 2: [10 20 30 40]\n",
            "Element-wise multiplication: [ 10  40  90 160]\n"
          ]
        }
      ]
    },
    {
      "cell_type": "markdown",
      "source": [
        "**Q8. Create a line plot with multiple lines using Matplotlib.**"
      ],
      "metadata": {
        "id": "lDSDbTNsljZR"
      }
    },
    {
      "cell_type": "code",
      "source": [
        "import matplotlib.pyplot as plt\n",
        "\n",
        "# Sample data for multiple lines\n",
        "x = [1, 2, 3, 4, 5]\n",
        "y1 = [2, 3, 5, 7, 11]\n",
        "y2 = [1, 4, 6, 8, 10]\n",
        "y3 = [3, 5, 2, 4, 6]\n",
        "\n",
        "# Plot multiple lines\n",
        "plt.plot(x, y1, label='Line 1', marker='o')\n",
        "plt.plot(x, y2, label='Line 2', marker='s')\n",
        "plt.plot(x, y3, label='Line 3', marker='^')\n",
        "\n",
        "# Add labels and title\n",
        "plt.xlabel('X-axis')\n",
        "plt.ylabel('Y-axis')\n",
        "plt.title('Multiple Line Plot')\n",
        "\n",
        "# Add legend\n",
        "plt.legend()\n",
        "\n",
        "# Show the plot\n",
        "plt.show()\n"
      ],
      "metadata": {
        "colab": {
          "base_uri": "https://localhost:8080/",
          "height": 472
        },
        "id": "Aa5f_7xblrcl",
        "outputId": "dc46fa86-9d68-4b01-e8a7-a59609099b97"
      },
      "execution_count": 8,
      "outputs": [
        {
          "output_type": "display_data",
          "data": {
            "text/plain": [
              "<Figure size 640x480 with 1 Axes>"
            ],
            "image/png": "[encoded data removed]"
          },
          "metadata": {}
        }
      ]
    },
    {
      "cell_type": "markdown",
      "source": [
        "**Q9. Generate a Pandas DataFrame and filter rows where a column value is greater than a threshold.**"
      ],
      "metadata": {
        "id": "U-PVAR0hlyNu"
      }
    },
    {
      "cell_type": "code",
      "source": [
        "import pandas as pd\n",
        "\n",
        "# Create a sample DataFrame\n",
        "data = {\n",
        "    'Name': ['Anna', 'Ben', 'Charlie', 'Diana'],\n",
        "    'Age': [23, 35, 45, 29],\n",
        "    'Score': [88, 92, 85, 70]\n",
        "}\n",
        "\n",
        "df = pd.DataFrame(data)\n",
        "\n",
        "# Define the threshold\n",
        "threshold = 30\n",
        "\n",
        "# Filter rows where 'Age' is greater than the threshold\n",
        "filtered_df = df[df['Age'] > threshold]\n",
        "\n",
        "# Display the filtered DataFrame\n",
        "print(filtered_df)\n"
      ],
      "metadata": {
        "colab": {
          "base_uri": "https://localhost:8080/"
        },
        "id": "Y1GTdB2Vl4aC",
        "outputId": "9f8cc073-4e65-4384-b152-08eca5dc6a7b"
      },
      "execution_count": 9,
      "outputs": [
        {
          "output_type": "stream",
          "name": "stdout",
          "text": [
            "      Name  Age  Score\n",
            "1      Ben   35     92\n",
            "2  Charlie   45     85\n"
          ]
        }
      ]
    },
    {
      "cell_type": "markdown",
      "source": [
        "**Q10. Create a histogram using Seaborn to visualize a distribution.**"
      ],
      "metadata": {
        "id": "DeN_j6VImBTy"
      }
    },
    {
      "cell_type": "code",
      "source": [
        "import seaborn as sns\n",
        "import matplotlib.pyplot as plt\n",
        "\n",
        "# Sample data: ages of people\n",
        "ages = [22, 25, 27, 30, 22, 24, 29, 30, 35, 37, 40, 42, 25, 28, 29, 30]\n",
        "\n",
        "# Create the histogram\n",
        "sns.histplot(ages, bins=5, kde=False, color='skyblue')\n",
        "\n",
        "# Add labels and title\n",
        "plt.xlabel('Age')\n",
        "plt.ylabel('Frequency')\n",
        "plt.title('Age Distribution')\n",
        "\n",
        "# Show the plot\n",
        "plt.show()\n"
      ],
      "metadata": {
        "colab": {
          "base_uri": "https://localhost:8080/",
          "height": 472
        },
        "id": "8POVcIEDmJZq",
        "outputId": "9b88cb1c-50eb-4f6f-e54a-586ae66b92dd"
      },
      "execution_count": 10,
      "outputs": [
        {
          "output_type": "display_data",
          "data": {
            "text/plain": [
              "<Figure size 640x480 with 1 Axes>"
            ],
            "image/png": "[encoded data removed]"
          },
          "metadata": {}
        }
      ]
    },
    {
      "cell_type": "markdown",
      "source": [
        "**Q11. Perform matrix multiplication using NumPy.**"
      ],
      "metadata": {
        "id": "Nm7ZXuZpmO32"
      }
    },
    {
      "cell_type": "code",
      "source": [
        "import numpy as np\n",
        "\n",
        "# Define two matrices\n",
        "A = np.array([[1, 2, 3],\n",
        "              [4, 5, 6]])\n",
        "\n",
        "B = np.array([[7, 8],\n",
        "              [9, 10],\n",
        "              [11, 12]])\n",
        "\n",
        "# Perform matrix multiplication\n",
        "C = np.matmul(A, B)\n",
        "\n",
        "# Alternatively, you can use the @ operator (Python 3.5+)\n",
        "# C = A @ B\n",
        "\n",
        "# Print the result\n",
        "print(\"Matrix A:\")\n",
        "print(A)\n",
        "print(\"\\nMatrix B:\")\n",
        "print(B)\n",
        "print(\"\\nMatrix multiplication result (A x B):\")\n",
        "print(C)\n"
      ],
      "metadata": {
        "colab": {
          "base_uri": "https://localhost:8080/"
        },
        "id": "z5aKO6TsmT5g",
        "outputId": "5b5eb24c-78d5-40cf-9eed-a5c722227b2a"
      },
      "execution_count": 11,
      "outputs": [
        {
          "output_type": "stream",
          "name": "stdout",
          "text": [
            "Matrix A:\n",
            "[[1 2 3]\n",
            " [4 5 6]]\n",
            "\n",
            "Matrix B:\n",
            "[[ 7  8]\n",
            " [ 9 10]\n",
            " [11 12]]\n",
            "\n",
            "Matrix multiplication result (A x B):\n",
            "[[ 58  64]\n",
            " [139 154]]\n"
          ]
        }
      ]
    },
    {
      "cell_type": "markdown",
      "source": [
        "**Q12.Use Pandas to load a CSV file and display its first 5 rows.**"
      ],
      "metadata": {
        "id": "JIE8SD6WmbNk"
      }
    },
    {
      "cell_type": "code",
      "source": [
        "import pandas as pd\n",
        "\n",
        "# Load the CSV file into a DataFrame\n",
        "df = pd.read_csv('your_file.csv')\n",
        "\n",
        "# Display the first 5 rows\n",
        "print(df.head())\n"
      ],
      "metadata": {
        "colab": {
          "base_uri": "https://localhost:8080/",
          "height": 356
        },
        "id": "gXdBAARyrqrd",
        "outputId": "0ec6bbba-f749-40b0-bb43-4379589de4fd"
      },
      "execution_count": 12,
      "outputs": [
        {
          "output_type": "error",
          "ename": "FileNotFoundError",
          "evalue": "[Errno 2] No such file or directory: 'your_file.csv'",
          "traceback": [
            "\u001b[0;31m---------------------------------------------------------------------------\u001b[0m",
            "\u001b[0;31mFileNotFoundError\u001b[0m                         Traceback (most recent call last)",
            "\u001b[0;32m<ipython-input-12-3e62c729a91d>\u001b[0m in \u001b[0;36m<cell line: 0>\u001b[0;34m()\u001b[0m\n\u001b[1;32m      2\u001b[0m \u001b[0;34m\u001b[0m\u001b[0m\n\u001b[1;32m      3\u001b[0m \u001b[0;31m# Load the CSV file into a DataFrame\u001b[0m\u001b[0;34m\u001b[0m\u001b[0;34m\u001b[0m\u001b[0m\n\u001b[0;32m----> 4\u001b[0;31m \u001b[0mdf\u001b[0m \u001b[0;34m=\u001b[0m \u001b[0mpd\u001b[0m\u001b[0;34m.\u001b[0m\u001b[0mread_csv\u001b[0m\u001b[0;34m(\u001b[0m\u001b[0;34m'your_file.csv'\u001b[0m\u001b[0;34m)\u001b[0m\u001b[0;34m\u001b[0m\u001b[0;34m\u001b[0m\u001b[0m\n\u001b[0m\u001b[1;32m      5\u001b[0m \u001b[0;34m\u001b[0m\u001b[0m\n\u001b[1;32m      6\u001b[0m \u001b[0;31m# Display the first 5 rows\u001b[0m\u001b[0;34m\u001b[0m\u001b[0;34m\u001b[0m\u001b[0m\n",
            "\u001b[0;32m/usr/local/lib/python3.11/dist-packages/pandas/io/parsers/readers.py\u001b[0m in \u001b[0;36mread_csv\u001b[0;34m(filepath_or_buffer, sep, delimiter, header, names, index_col, usecols, dtype, engine, converters, true_values, false_values, skipinitialspace, skiprows, skipfooter, nrows, na_values, keep_default_na, na_filter, verbose, skip_blank_lines, parse_dates, infer_datetime_format, keep_date_col, date_parser, date_format, dayfirst, cache_dates, iterator, chunksize, compression, thousands, decimal, lineterminator, quotechar, quoting, doublequote, escapechar, comment, encoding, encoding_errors, dialect, on_bad_lines, delim_whitespace, low_memory, memory_map, float_precision, storage_options, dtype_backend)\u001b[0m\n\u001b[1;32m   1024\u001b[0m     \u001b[0mkwds\u001b[0m\u001b[0;34m.\u001b[0m\u001b[0mupdate\u001b[0m\u001b[0;34m(\u001b[0m\u001b[0mkwds_defaults\u001b[0m\u001b[0;34m)\u001b[0m\u001b[0;34m\u001b[0m\u001b[0;34m\u001b[0m\u001b[0m\n\u001b[1;32m   1025\u001b[0m \u001b[0;34m\u001b[0m\u001b[0m\n\u001b[0;32m-> 1026\u001b[0;31m     \u001b[0;32mreturn\u001b[0m \u001b[0m_read\u001b[0m\u001b[0;34m(\u001b[0m\u001b[0mfilepath_or_buffer\u001b[0m\u001b[0;34m,\u001b[0m \u001b[0mkwds\u001b[0m\u001b[0;34m)\u001b[0m\u001b[0;34m\u001b[0m\u001b[0;34m\u001b[0m\u001b[0m\n\u001b[0m\u001b[1;32m   1027\u001b[0m \u001b[0;34m\u001b[0m\u001b[0m\n\u001b[1;32m   1028\u001b[0m \u001b[0;34m\u001b[0m\u001b[0m\n",
            "\u001b[0;32m/usr/local/lib/python3.11/dist-packages/pandas/io/parsers/readers.py\u001b[0m in \u001b[0;36m_read\u001b[0;34m(filepath_or_buffer, kwds)\u001b[0m\n\u001b[1;32m    618\u001b[0m \u001b[0;34m\u001b[0m\u001b[0m\n\u001b[1;32m    619\u001b[0m     \u001b[0;31m# Create the parser.\u001b[0m\u001b[0;34m\u001b[0m\u001b[0;34m\u001b[0m\u001b[0m\n\u001b[0;32m--> 620\u001b[0;31m     \u001b[0mparser\u001b[0m \u001b[0;34m=\u001b[0m \u001b[0mTextFileReader\u001b[0m\u001b[0;34m(\u001b[0m\u001b[0mfilepath_or_buffer\u001b[0m\u001b[0;34m,\u001b[0m \u001b[0;34m**\u001b[0m\u001b[0mkwds\u001b[0m\u001b[0;34m)\u001b[0m\u001b[0;34m\u001b[0m\u001b[0;34m\u001b[0m\u001b[0m\n\u001b[0m\u001b[1;32m    621\u001b[0m \u001b[0;34m\u001b[0m\u001b[0m\n\u001b[1;32m    622\u001b[0m     \u001b[0;32mif\u001b[0m \u001b[0mchunksize\u001b[0m \u001b[0;32mor\u001b[0m \u001b[0miterator\u001b[0m\u001b[0;34m:\u001b[0m\u001b[0;34m\u001b[0m\u001b[0;34m\u001b[0m\u001b[0m\n",
            "\u001b[0;32m/usr/local/lib/python3.11/dist-packages/pandas/io/parsers/readers.py\u001b[0m in \u001b[0;36m__init__\u001b[0;34m(self, f, engine, **kwds)\u001b[0m\n\u001b[1;32m   1618\u001b[0m \u001b[0;34m\u001b[0m\u001b[0m\n\u001b[1;32m   1619\u001b[0m         \u001b[0mself\u001b[0m\u001b[0;34m.\u001b[0m\u001b[0mhandles\u001b[0m\u001b[0;34m:\u001b[0m \u001b[0mIOHandles\u001b[0m \u001b[0;34m|\u001b[0m \u001b[0;32mNone\u001b[0m \u001b[0;34m=\u001b[0m \u001b[0;32mNone\u001b[0m\u001b[0;34m\u001b[0m\u001b[0;34m\u001b[0m\u001b[0m\n\u001b[0;32m-> 1620\u001b[0;31m         \u001b[0mself\u001b[0m\u001b[0;34m.\u001b[0m\u001b[0m_engine\u001b[0m \u001b[0;34m=\u001b[0m \u001b[0mself\u001b[0m\u001b[0;34m.\u001b[0m\u001b[0m_make_engine\u001b[0m\u001b[0;34m(\u001b[0m\u001b[0mf\u001b[0m\u001b[0;34m,\u001b[0m \u001b[0mself\u001b[0m\u001b[0;34m.\u001b[0m\u001b[0mengine\u001b[0m\u001b[0;34m)\u001b[0m\u001b[0;34m\u001b[0m\u001b[0;34m\u001b[0m\u001b[0m\n\u001b[0m\u001b[1;32m   1621\u001b[0m \u001b[0;34m\u001b[0m\u001b[0m\n\u001b[1;32m   1622\u001b[0m     \u001b[0;32mdef\u001b[0m \u001b[0mclose\u001b[0m\u001b[0;34m(\u001b[0m\u001b[0mself\u001b[0m\u001b[0;34m)\u001b[0m \u001b[0;34m->\u001b[0m \u001b[0;32mNone\u001b[0m\u001b[0;34m:\u001b[0m\u001b[0;34m\u001b[0m\u001b[0;34m\u001b[0m\u001b[0m\n",
            "\u001b[0;32m/usr/local/lib/python3.11/dist-packages/pandas/io/parsers/readers.py\u001b[0m in \u001b[0;36m_make_engine\u001b[0;34m(self, f, engine)\u001b[0m\n\u001b[1;32m   1878\u001b[0m                 \u001b[0;32mif\u001b[0m \u001b[0;34m\"b\"\u001b[0m \u001b[0;32mnot\u001b[0m \u001b[0;32min\u001b[0m \u001b[0mmode\u001b[0m\u001b[0;34m:\u001b[0m\u001b[0;34m\u001b[0m\u001b[0;34m\u001b[0m\u001b[0m\n\u001b[1;32m   1879\u001b[0m                     \u001b[0mmode\u001b[0m \u001b[0;34m+=\u001b[0m \u001b[0;34m\"b\"\u001b[0m\u001b[0;34m\u001b[0m\u001b[0;34m\u001b[0m\u001b[0m\n\u001b[0;32m-> 1880\u001b[0;31m             self.handles = get_handle(\n\u001b[0m\u001b[1;32m   1881\u001b[0m                 \u001b[0mf\u001b[0m\u001b[0;34m,\u001b[0m\u001b[0;34m\u001b[0m\u001b[0;34m\u001b[0m\u001b[0m\n\u001b[1;32m   1882\u001b[0m                 \u001b[0mmode\u001b[0m\u001b[0;34m,\u001b[0m\u001b[0;34m\u001b[0m\u001b[0;34m\u001b[0m\u001b[0m\n",
            "\u001b[0;32m/usr/local/lib/python3.11/dist-packages/pandas/io/common.py\u001b[0m in \u001b[0;36mget_handle\u001b[0;34m(path_or_buf, mode, encoding, compression, memory_map, is_text, errors, storage_options)\u001b[0m\n\u001b[1;32m    871\u001b[0m         \u001b[0;32mif\u001b[0m \u001b[0mioargs\u001b[0m\u001b[0;34m.\u001b[0m\u001b[0mencoding\u001b[0m \u001b[0;32mand\u001b[0m \u001b[0;34m\"b\"\u001b[0m \u001b[0;32mnot\u001b[0m \u001b[0;32min\u001b[0m \u001b[0mioargs\u001b[0m\u001b[0;34m.\u001b[0m\u001b[0mmode\u001b[0m\u001b[0;34m:\u001b[0m\u001b[0;34m\u001b[0m\u001b[0;34m\u001b[0m\u001b[0m\n\u001b[1;32m    872\u001b[0m             \u001b[0;31m# Encoding\u001b[0m\u001b[0;34m\u001b[0m\u001b[0;34m\u001b[0m\u001b[0m\n\u001b[0;32m--> 873\u001b[0;31m             handle = open(\n\u001b[0m\u001b[1;32m    874\u001b[0m                 \u001b[0mhandle\u001b[0m\u001b[0;34m,\u001b[0m\u001b[0;34m\u001b[0m\u001b[0;34m\u001b[0m\u001b[0m\n\u001b[1;32m    875\u001b[0m                 \u001b[0mioargs\u001b[0m\u001b[0;34m.\u001b[0m\u001b[0mmode\u001b[0m\u001b[0;34m,\u001b[0m\u001b[0;34m\u001b[0m\u001b[0;34m\u001b[0m\u001b[0m\n",
            "\u001b[0;31mFileNotFoundError\u001b[0m: [Errno 2] No such file or directory: 'your_file.csv'"
          ]
        }
      ]
    },
    {
      "cell_type": "markdown",
      "source": [
        "**Explanation:**\n",
        "Replace 'your_file.csv' with the path to your CSV file.\n",
        "\n",
        "df.head() returns the first 5 rows by default."
      ],
      "metadata": {
        "id": "MaaBDFL5sFX9"
      }
    },
    {
      "cell_type": "markdown",
      "source": [
        "**Q13. Create a 3D scatter plot using Plotly.**"
      ],
      "metadata": {
        "id": "k-lPNhHbsLN2"
      }
    },
    {
      "cell_type": "code",
      "source": [
        "import plotly.graph_objects as go\n",
        "\n",
        "# Sample data\n",
        "x = [1, 2, 3, 4, 5]\n",
        "y = [10, 11, 12, 13, 14]\n",
        "z = [5, 6, 7, 8, 9]\n",
        "\n",
        "# Create a 3D scatter plot\n",
        "fig = go.Figure(data=[go.Scatter3d(\n",
        "    x=x,\n",
        "    y=y,\n",
        "    z=z,\n",
        "    mode='markers',\n",
        "    marker=dict(\n",
        "        size=8,\n",
        "        color=z,              # set color to the z values\n",
        "        colorscale='Viridis', # choose a colorscale\n",
        "        opacity=0.8\n",
        "    )\n",
        ")])\n",
        "\n",
        "# Update layout\n",
        "fig.update_layout(\n",
        "    scene=dict(\n",
        "        xaxis_title='X Axis',\n",
        "        yaxis_title='Y Axis',\n",
        "        zaxis_title='Z Axis'\n",
        "    ),\n",
        "    title='3D Scatter Plot'\n",
        ")\n",
        "\n",
        "# Show the plot\n",
        "fig.show()\n"
      ],
      "metadata": {
        "colab": {
          "base_uri": "https://localhost:8080/",
          "height": 542
        },
        "id": "mfw0himQsalQ",
        "outputId": "f9303d1e-3236-4abf-dffe-84e4f49a3909"
      },
      "execution_count": 13,
      "outputs": [
        {
          "output_type": "display_data",
          "data": {
            "text/html": [
              "<html>\n",
              "<head><meta charset=\"utf-8\" /></head>\n",
              "<body>\n",
              "    <div>            <script src=\"https://cdnjs.cloudflare.com/ajax/libs/mathjax/2.7.5/MathJax.js?config=TeX-AMS-MML_SVG\"></script><script type=\"text/javascript\">if (window.MathJax && window.MathJax.Hub && window.MathJax.Hub.Config) {window.MathJax.Hub.Config({SVG: {font: \"STIX-Web\"}});}</script>                <script type=\"text/javascript\">window.PlotlyConfig = {MathJaxConfig: 'local'};</script>\n",
              "        <script charset=\"utf-8\" src=\"https://cdn.plot.ly/plotly-2.35.2.min.js\"></script>                <div id=\"fe93cce9-225a-47fc-915a-2e39cebc197f\" class=\"plotly-graph-div\" style=\"height:525px; width:100%;\"></div>            <script type=\"text/javascript\">                                    window.PLOTLYENV=window.PLOTLYENV || {};                                    if (document.getElementById(\"fe93cce9-225a-47fc-915a-2e39cebc197f\")) {                    Plotly.newPlot(                        \"fe93cce9-225a-47fc-915a-2e39cebc197f\",                        [{\"marker\":{\"color\":[5,6,7,8,9],\"colorscale\":[[0.0,\"#440154\"],[0.1111111111111111,\"#482878\"],[0.2222222222222222,\"#3e4989\"],[0.3333333333333333,\"#31688e\"],[0.4444444444444444,\"#26828e\"],[0.5555555555555556,\"#1f9e89\"],[0.6666666666666666,\"#35b779\"],[0.7777777777777778,\"#6ece58\"],[0.8888888888888888,\"#b5de2b\"],[1.0,\"#fde725\"]],\"opacity\":0.8,\"size\":8},\"mode\":\"markers\",\"x\":[1,2,3,4,5],\"y\":[10,11,12,13,14],\"z\":[5,6,7,8,9],\"type\":\"scatter3d\"}],                        {\"template\":{\"data\":{\"histogram2dcontour\":[{\"type\":\"histogram2dcontour\",\"colorbar\":{\"outlinewidth\":0,\"ticks\":\"\"},\"colorscale\":[[0.0,\"#0d0887\"],[0.1111111111111111,\"#46039f\"],[0.2222222222222222,\"#7201a8\"],[0.3333333333333333,\"#9c179e\"],[0.4444444444444444,\"#bd3786\"],[0.5555555555555556,\"#d8576b\"],[0.6666666666666666,\"#ed7953\"],[0.7777777777777778,\"#fb9f3a\"],[0.8888888888888888,\"#fdca26\"],[1.0,\"#f0f921\"]]}],\"choropleth\":[{\"type\":\"choropleth\",\"colorbar\":{\"outlinewidth\":0,\"ticks\":\"\"}}],\"histogram2d\":[{\"type\":\"histogram2d\",\"colorbar\":{\"outlinewidth\":0,\"ticks\":\"\"},\"colorscale\":[[0.0,\"#0d0887\"],[0.1111111111111111,\"#46039f\"],[0.2222222222222222,\"#7201a8\"],[0.3333333333333333,\"#9c179e\"],[0.4444444444444444,\"#bd3786\"],[0.5555555555555556,\"#d8576b\"],[0.6666666666666666,\"#ed7953\"],[0.7777777777777778,\"#fb9f3a\"],[0.8888888888888888,\"#fdca26\"],[1.0,\"#f0f921\"]]}],\"heatmap\":[{\"type\":\"heatmap\",\"colorbar\":{\"outlinewidth\":0,\"ticks\":\"\"},\"colorscale\":[[0.0,\"#0d0887\"],[0.1111111111111111,\"#46039f\"],[0.2222222222222222,\"#7201a8\"],[0.3333333333333333,\"#9c179e\"],[0.4444444444444444,\"#bd3786\"],[0.5555555555555556,\"#d8576b\"],[0.6666666666666666,\"#ed7953\"],[0.7777777777777778,\"#fb9f3a\"],[0.8888888888888888,\"#fdca26\"],[1.0,\"#f0f921\"]]}],\"heatmapgl\":[{\"type\":\"heatmapgl\",\"colorbar\":{\"outlinewidth\":0,\"ticks\":\"\"},\"colorscale\":[[0.0,\"#0d0887\"],[0.1111111111111111,\"#46039f\"],[0.2222222222222222,\"#7201a8\"],[0.3333333333333333,\"#9c179e\"],[0.4444444444444444,\"#bd3786\"],[0.5555555555555556,\"#d8576b\"],[0.6666666666666666,\"#ed7953\"],[0.7777777777777778,\"#fb9f3a\"],[0.8888888888888888,\"#fdca26\"],[1.0,\"#f0f921\"]]}],\"contourcarpet\":[{\"type\":\"contourcarpet\",\"colorbar\":{\"outlinewidth\":0,\"ticks\":\"\"}}],\"contour\":[{\"type\":\"contour\",\"colorbar\":{\"outlinewidth\":0,\"ticks\":\"\"},\"colorscale\":[[0.0,\"#0d0887\"],[0.1111111111111111,\"#46039f\"],[0.2222222222222222,\"#7201a8\"],[0.3333333333333333,\"#9c179e\"],[0.4444444444444444,\"#bd3786\"],[0.5555555555555556,\"#d8576b\"],[0.6666666666666666,\"#ed7953\"],[0.7777777777777778,\"#fb9f3a\"],[0.8888888888888888,\"#fdca26\"],[1.0,\"#f0f921\"]]}],\"surface\":[{\"type\":\"surface\",\"colorbar\":{\"outlinewidth\":0,\"ticks\":\"\"},\"colorscale\":[[0.0,\"#0d0887\"],[0.1111111111111111,\"#46039f\"],[0.2222222222222222,\"#7201a8\"],[0.3333333333333333,\"#9c179e\"],[0.4444444444444444,\"#bd3786\"],[0.5555555555555556,\"#d8576b\"],[0.6666666666666666,\"#ed7953\"],[0.7777777777777778,\"#fb9f3a\"],[0.8888888888888888,\"#fdca26\"],[1.0,\"#f0f921\"]]}],\"mesh3d\":[{\"type\":\"mesh3d\",\"colorbar\":{\"outlinewidth\":0,\"ticks\":\"\"}}],\"scatter\":[{\"fillpattern\":{\"fillmode\":\"overlay\",\"size\":10,\"solidity\":0.2},\"type\":\"scatter\"}],\"parcoords\":[{\"type\":\"parcoords\",\"line\":{\"colorbar\":{\"outlinewidth\":0,\"ticks\":\"\"}}}],\"scatterpolargl\":[{\"type\":\"scatterpolargl\",\"marker\":{\"colorbar\":{\"outlinewidth\":0,\"ticks\":\"\"}}}],\"bar\":[{\"error_x\":{\"color\":\"#2a3f5f\"},\"error_y\":{\"color\":\"#2a3f5f\"},\"marker\":{\"line\":{\"color\":\"#E5ECF6\",\"width\":0.5},\"pattern\":{\"fillmode\":\"overlay\",\"size\":10,\"solidity\":0.2}},\"type\":\"bar\"}],\"scattergeo\":[{\"type\":\"scattergeo\",\"marker\":{\"colorbar\":{\"outlinewidth\":0,\"ticks\":\"\"}}}],\"scatterpolar\":[{\"type\":\"scatterpolar\",\"marker\":{\"colorbar\":{\"outlinewidth\":0,\"ticks\":\"\"}}}],\"histogram\":[{\"marker\":{\"pattern\":{\"fillmode\":\"overlay\",\"size\":10,\"solidity\":0.2}},\"type\":\"histogram\"}],\"scattergl\":[{\"type\":\"scattergl\",\"marker\":{\"colorbar\":{\"outlinewidth\":0,\"ticks\":\"\"}}}],\"scatter3d\":[{\"type\":\"scatter3d\",\"line\":{\"colorbar\":{\"outlinewidth\":0,\"ticks\":\"\"}},\"marker\":{\"colorbar\":{\"outlinewidth\":0,\"ticks\":\"\"}}}],\"scattermapbox\":[{\"type\":\"scattermapbox\",\"marker\":{\"colorbar\":{\"outlinewidth\":0,\"ticks\":\"\"}}}],\"scatterternary\":[{\"type\":\"scatterternary\",\"marker\":{\"colorbar\":{\"outlinewidth\":0,\"ticks\":\"\"}}}],\"scattercarpet\":[{\"type\":\"scattercarpet\",\"marker\":{\"colorbar\":{\"outlinewidth\":0,\"ticks\":\"\"}}}],\"carpet\":[{\"aaxis\":{\"endlinecolor\":\"#2a3f5f\",\"gridcolor\":\"white\",\"linecolor\":\"white\",\"minorgridcolor\":\"white\",\"startlinecolor\":\"#2a3f5f\"},\"baxis\":{\"endlinecolor\":\"#2a3f5f\",\"gridcolor\":\"white\",\"linecolor\":\"white\",\"minorgridcolor\":\"white\",\"startlinecolor\":\"#2a3f5f\"},\"type\":\"carpet\"}],\"table\":[{\"cells\":{\"fill\":{\"color\":\"#EBF0F8\"},\"line\":{\"color\":\"white\"}},\"header\":{\"fill\":{\"color\":\"#C8D4E3\"},\"line\":{\"color\":\"white\"}},\"type\":\"table\"}],\"barpolar\":[{\"marker\":{\"line\":{\"color\":\"#E5ECF6\",\"width\":0.5},\"pattern\":{\"fillmode\":\"overlay\",\"size\":10,\"solidity\":0.2}},\"type\":\"barpolar\"}],\"pie\":[{\"automargin\":true,\"type\":\"pie\"}]},\"layout\":{\"autotypenumbers\":\"strict\",\"colorway\":[\"#636efa\",\"#EF553B\",\"#00cc96\",\"#ab63fa\",\"#FFA15A\",\"#19d3f3\",\"#FF6692\",\"#B6E880\",\"#FF97FF\",\"#FECB52\"],\"font\":{\"color\":\"#2a3f5f\"},\"hovermode\":\"closest\",\"hoverlabel\":{\"align\":\"left\"},\"paper_bgcolor\":\"white\",\"plot_bgcolor\":\"#E5ECF6\",\"polar\":{\"bgcolor\":\"#E5ECF6\",\"angularaxis\":{\"gridcolor\":\"white\",\"linecolor\":\"white\",\"ticks\":\"\"},\"radialaxis\":{\"gridcolor\":\"white\",\"linecolor\":\"white\",\"ticks\":\"\"}},\"ternary\":{\"bgcolor\":\"#E5ECF6\",\"aaxis\":{\"gridcolor\":\"white\",\"linecolor\":\"white\",\"ticks\":\"\"},\"baxis\":{\"gridcolor\":\"white\",\"linecolor\":\"white\",\"ticks\":\"\"},\"caxis\":{\"gridcolor\":\"white\",\"linecolor\":\"white\",\"ticks\":\"\"}},\"coloraxis\":{\"colorbar\":{\"outlinewidth\":0,\"ticks\":\"\"}},\"colorscale\":{\"sequential\":[[0.0,\"#0d0887\"],[0.1111111111111111,\"#46039f\"],[0.2222222222222222,\"#7201a8\"],[0.3333333333333333,\"#9c179e\"],[0.4444444444444444,\"#bd3786\"],[0.5555555555555556,\"#d8576b\"],[0.6666666666666666,\"#ed7953\"],[0.7777777777777778,\"#fb9f3a\"],[0.8888888888888888,\"#fdca26\"],[1.0,\"#f0f921\"]],\"sequentialminus\":[[0.0,\"#0d0887\"],[0.1111111111111111,\"#46039f\"],[0.2222222222222222,\"#7201a8\"],[0.3333333333333333,\"#9c179e\"],[0.4444444444444444,\"#bd3786\"],[0.5555555555555556,\"#d8576b\"],[0.6666666666666666,\"#ed7953\"],[0.7777777777777778,\"#fb9f3a\"],[0.8888888888888888,\"#fdca26\"],[1.0,\"#f0f921\"]],\"diverging\":[[0,\"#8e0152\"],[0.1,\"#c51b7d\"],[0.2,\"#de77ae\"],[0.3,\"#f1b6da\"],[0.4,\"#fde0ef\"],[0.5,\"#f7f7f7\"],[0.6,\"#e6f5d0\"],[0.7,\"#b8e186\"],[0.8,\"#7fbc41\"],[0.9,\"#4d9221\"],[1,\"#276419\"]]},\"xaxis\":{\"gridcolor\":\"white\",\"linecolor\":\"white\",\"ticks\":\"\",\"title\":{\"standoff\":15},\"zerolinecolor\":\"white\",\"automargin\":true,\"zerolinewidth\":2},\"yaxis\":{\"gridcolor\":\"white\",\"linecolor\":\"white\",\"ticks\":\"\",\"title\":{\"standoff\":15},\"zerolinecolor\":\"white\",\"automargin\":true,\"zerolinewidth\":2},\"scene\":{\"xaxis\":{\"backgroundcolor\":\"#E5ECF6\",\"gridcolor\":\"white\",\"linecolor\":\"white\",\"showbackground\":true,\"ticks\":\"\",\"zerolinecolor\":\"white\",\"gridwidth\":2},\"yaxis\":{\"backgroundcolor\":\"#E5ECF6\",\"gridcolor\":\"white\",\"linecolor\":\"white\",\"showbackground\":true,\"ticks\":\"\",\"zerolinecolor\":\"white\",\"gridwidth\":2},\"zaxis\":{\"backgroundcolor\":\"#E5ECF6\",\"gridcolor\":\"white\",\"linecolor\":\"white\",\"showbackground\":true,\"ticks\":\"\",\"zerolinecolor\":\"white\",\"gridwidth\":2}},\"shapedefaults\":{\"line\":{\"color\":\"#2a3f5f\"}},\"annotationdefaults\":{\"arrowcolor\":\"#2a3f5f\",\"arrowhead\":0,\"arrowwidth\":1},\"geo\":{\"bgcolor\":\"white\",\"landcolor\":\"#E5ECF6\",\"subunitcolor\":\"white\",\"showland\":true,\"showlakes\":true,\"lakecolor\":\"white\"},\"title\":{\"x\":0.05},\"mapbox\":{\"style\":\"light\"}}},\"scene\":{\"xaxis\":{\"title\":{\"text\":\"X Axis\"}},\"yaxis\":{\"title\":{\"text\":\"Y Axis\"}},\"zaxis\":{\"title\":{\"text\":\"Z Axis\"}}},\"title\":{\"text\":\"3D Scatter Plot\"}},                        {\"responsive\": true}                    ).then(function(){\n",
              "                            \n",
              "var gd = document.getElementById('fe93cce9-225a-47fc-915a-2e39cebc197f');\n",
              "var x = new MutationObserver(function (mutations, observer) {{\n",
              "        var display = window.getComputedStyle(gd).display;\n",
              "        if (!display || display === 'none') {{\n",
              "            console.log([gd, 'removed!']);\n",
              "            Plotly.purge(gd);\n",
              "            observer.disconnect();\n",
              "        }}\n",
              "}});\n",
              "\n",
              "// Listen for the removal of the full notebook cells\n",
              "var notebookContainer = gd.closest('#notebook-container');\n",
              "if (notebookContainer) {{\n",
              "    x.observe(notebookContainer, {childList: true});\n",
              "}}\n",
              "\n",
              "// Listen for the clearing of the current output cell\n",
              "var outputEl = gd.closest('.output');\n",
              "if (outputEl) {{\n",
              "    x.observe(outputEl, {childList: true});\n",
              "}}\n",
              "\n",
              "                        })                };                            </script>        </div>\n",
              "</body>\n",
              "</html>"
            ]
          },
          "metadata": {}
        }
      ]
    }
  ]
}