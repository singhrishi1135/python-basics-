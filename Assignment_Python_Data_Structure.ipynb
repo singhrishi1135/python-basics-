{
  "nbformat": 4,
  "nbformat_minor": 0,
  "metadata": {
    "colab": {
      "provenance": []
    },
    "kernelspec": {
      "name": "python3",
      "display_name": "Python 3"
    },
    "language_info": {
      "name": "python"
    }
  },
  "cells": [
    {
      "cell_type": "markdown",
      "source": [
        "###1. What are data structures, and why are they important?"
      ],
      "metadata": {
        "id": "9QWXwE6VMkw6"
      }
    },
    {
      "cell_type": "markdown",
      "source": [
        "Data structures are ways of organizing and storing data in a computer so it can be accessed and modified efficiently. They are important because they enable efficient data management, support optimal performance of algorithms, and allow for better code organization."
      ],
      "metadata": {
        "id": "U4A4TtPQNcR0"
      }
    },
    {
      "cell_type": "markdown",
      "source": [
        "###2. Explain the difference between mutable and immutable data types with examples."
      ],
      "metadata": {
        "id": "__KKQNqLNsBM"
      }
    },
    {
      "cell_type": "markdown",
      "source": [
        "- Mutable data types can be changed after creation. Example: list, dict, set."
      ],
      "metadata": {
        "id": "7EpMnoNHOu2o"
      }
    },
    {
      "cell_type": "code",
      "execution_count": null,
      "metadata": {
        "id": "6cjFWsiLMjHC"
      },
      "outputs": [],
      "source": [
        "# Example\n",
        "\n",
        "my_list = [1, 2, 3]\n",
        "my_list[0] = 10  # This works"
      ]
    },
    {
      "cell_type": "markdown",
      "source": [
        "- Immutable data types cannot be changed once created. Example: tuple, str, int."
      ],
      "metadata": {
        "id": "60MWP5mnOXzQ"
      }
    },
    {
      "cell_type": "code",
      "source": [
        "# Example\n",
        "\n",
        "# my_str = \"hello\" my_str[0] = \"H\" would raise an error"
      ],
      "metadata": {
        "id": "lXB5ZsHVPV4S"
      },
      "execution_count": null,
      "outputs": []
    },
    {
      "cell_type": "markdown",
      "source": [
        "###3. What are the main differences between lists and tuples in Python?"
      ],
      "metadata": {
        "id": "-W2eZSpIP41E"
      }
    },
    {
      "cell_type": "markdown",
      "source": [
        "- List: Mutable, dynamic, uses more memory, slower access.\n",
        "\n",
        "- Tuple: Immutable, faster, uses less memory, often used for fixed data."
      ],
      "metadata": {
        "id": "ds18XlQUQONl"
      }
    },
    {
      "cell_type": "code",
      "source": [
        "my_list = [1, 2, 3]\n",
        "my_tuple = (1, 2, 3)"
      ],
      "metadata": {
        "id": "VDI9f9H4QT19"
      },
      "execution_count": 1,
      "outputs": []
    },
    {
      "cell_type": "markdown",
      "source": [
        "###4. Describe how dictionaries store data."
      ],
      "metadata": {
        "id": "tGxiYGFkRE1P"
      }
    },
    {
      "cell_type": "markdown",
      "source": [
        "Dictionaries store data as key-value pairs using a hash table internally. Keys must be immutable and unique, while values can be of any type."
      ],
      "metadata": {
        "id": "K3nK0z9zRLAw"
      }
    },
    {
      "cell_type": "markdown",
      "source": [
        "###5. Why might you use a set instead of a list in Python?"
      ],
      "metadata": {
        "id": "Nqw-95IXRfdI"
      }
    },
    {
      "cell_type": "markdown",
      "source": [
        "Sets are used when:\n",
        "\n",
        "- You want unique elements.\n",
        "- You need fast membership testing.\n",
        "- You don't care about order."
      ],
      "metadata": {
        "id": "V1Kx2e9PRkmA"
      }
    },
    {
      "cell_type": "code",
      "source": [
        "my_set = {1, 2, 3}\n"
      ],
      "metadata": {
        "id": "4ySY_l4QRt4B"
      },
      "execution_count": null,
      "outputs": []
    },
    {
      "cell_type": "markdown",
      "source": [
        "###6. What is a string in Python, and how is it different from a list?"
      ],
      "metadata": {
        "id": "rNV5YNCGR09y"
      }
    },
    {
      "cell_type": "markdown",
      "source": [
        "A string is an immutable sequence of characters.\n",
        "Differences:\n",
        "\n",
        "- Strings: Immutable, specifically for text.\n",
        "- Lists: Mutable, can hold mixed data types."
      ],
      "metadata": {
        "id": "c5B4p7qvR7CZ"
      }
    },
    {
      "cell_type": "markdown",
      "source": [
        "###7. How do tuples ensure data integrity in Python?"
      ],
      "metadata": {
        "id": "ea57G0rgSFsx"
      }
    },
    {
      "cell_type": "markdown",
      "source": [
        "Because tuples are immutable, their contents cannot be changed, making them ideal for representing constant or protected data."
      ],
      "metadata": {
        "id": "zUx8aZliSIkB"
      }
    },
    {
      "cell_type": "markdown",
      "source": [
        "###8. What is a hash table, and how does it relate to dictionaries in Python?"
      ],
      "metadata": {
        "id": "uP5RvlgwSTCp"
      }
    },
    {
      "cell_type": "markdown",
      "source": [
        "A hash table is a data structure that uses hash functions to map keys to values. Python's dictionaries use hash tables to provide constant time access to values by key."
      ],
      "metadata": {
        "id": "n9TkPmJ2SZcK"
      }
    },
    {
      "cell_type": "markdown",
      "source": [
        "###9. Can lists contain different data types in Python?"
      ],
      "metadata": {
        "id": "NpzDDvHnSfKy"
      }
    },
    {
      "cell_type": "markdown",
      "source": [
        "Yes. Lists in Python can contain heterogeneous data."
      ],
      "metadata": {
        "id": "lsREa5WqSjHs"
      }
    },
    {
      "cell_type": "code",
      "source": [
        "my_list = [1, \"text\", True, 3.14]\n"
      ],
      "metadata": {
        "id": "iCE_ANXuSmy7"
      },
      "execution_count": null,
      "outputs": []
    },
    {
      "cell_type": "markdown",
      "source": [
        "###10. Explain why strings are immutable in Python."
      ],
      "metadata": {
        "id": "tFEU7aUYTWv8"
      }
    },
    {
      "cell_type": "markdown",
      "source": [
        "Strings are immutable for:\n",
        "- Security (e.g., safe to use as keys in dictionaries),\n",
        "- Efficiency (shared string storage),\n",
        "- Thread-safety (no unintended changes across threads)."
      ],
      "metadata": {
        "id": "BwPC31QwTgEc"
      }
    },
    {
      "cell_type": "markdown",
      "source": [
        "###11. What advantages do dictionaries offer over lists for certain tasks?"
      ],
      "metadata": {
        "id": "vpbZ0O02T0jO"
      }
    },
    {
      "cell_type": "markdown",
      "source": [
        "Dictionaries:\n",
        "\n",
        "- Offer faster lookups (O(1) time complexity),\n",
        "- Allow labeling data with keys, making data more readable and structured."
      ],
      "metadata": {
        "id": "0R-h1Tq_T_Qe"
      }
    },
    {
      "cell_type": "markdown",
      "source": [
        "###12.Describe a scenario where using a tuple would be preferable over a list."
      ],
      "metadata": {
        "id": "B084MAMPU6Hg"
      }
    },
    {
      "cell_type": "markdown",
      "source": [
        "Use a tuple to represent coordinates, function arguments, or any data that should not be changed, e.g., (latitude, longitude)."
      ],
      "metadata": {
        "id": "5HTct125U-SX"
      }
    },
    {
      "cell_type": "markdown",
      "source": [
        "###13. How do sets handle duplicate values in Python?"
      ],
      "metadata": {
        "id": "-rqPzw80UIZd"
      }
    },
    {
      "cell_type": "markdown",
      "source": [
        "Sets automatically remove duplicate values."
      ],
      "metadata": {
        "id": "gCEeGsePURhm"
      }
    },
    {
      "cell_type": "code",
      "source": [
        "set([1, 2, 2, 3])  # Output: {1, 2, 3}\n"
      ],
      "metadata": {
        "id": "aUTEBSMiUWJO"
      },
      "execution_count": null,
      "outputs": []
    },
    {
      "cell_type": "markdown",
      "source": [
        "###14. How does the “in” keyword work differently for lists and dictionaries?"
      ],
      "metadata": {
        "id": "bnUXhHwnVQGA"
      }
    },
    {
      "cell_type": "markdown",
      "source": [
        "- In lists: Checks for value presence.\n",
        "- In dictionaries: Checks for key presence."
      ],
      "metadata": {
        "id": "SLuX0gotVZRY"
      }
    },
    {
      "cell_type": "code",
      "source": [
        "2 in [1, 2, 3]          # True\n",
        "'name' in {'name': 'A'}  # True"
      ],
      "metadata": {
        "id": "8ZNh6vClVeyJ"
      },
      "execution_count": null,
      "outputs": []
    },
    {
      "cell_type": "markdown",
      "source": [
        "###15. Can you modify the elements of a tuple? Explain why or why not."
      ],
      "metadata": {
        "id": "gHnHfovSVnQ2"
      }
    },
    {
      "cell_type": "markdown",
      "source": [
        "No, tuples are immutable. You cannot change their contents once created."
      ],
      "metadata": {
        "id": "JkTERWhMV11K"
      }
    },
    {
      "cell_type": "code",
      "source": [
        "t = (1, 2)\n",
        "# t[0] = 10  # Raises TypeError"
      ],
      "metadata": {
        "id": "rkHlkSBdV6KR"
      },
      "execution_count": null,
      "outputs": []
    },
    {
      "cell_type": "markdown",
      "source": [
        "###16. What is a nested dictionary, and give an example of its use case?"
      ],
      "metadata": {
        "id": "Z1RyE8WDWCUZ"
      }
    },
    {
      "cell_type": "markdown",
      "source": [
        "A nested dictionary is a dictionary where values are also dictionaries."
      ],
      "metadata": {
        "id": "yA_ZhEhgWiuC"
      }
    },
    {
      "cell_type": "code",
      "source": [
        "student = {\n",
        "  \"name\": \"Alice\",\n",
        "  \"grades\": {\n",
        "    \"math\": 90,\n",
        "    \"science\": 95\n",
        "  }\n",
        "}\n"
      ],
      "metadata": {
        "id": "dpPJ9xKpWnU6"
      },
      "execution_count": null,
      "outputs": []
    },
    {
      "cell_type": "markdown",
      "source": [
        "###17. Describe the time complexity of accessing elements in a dictionary."
      ],
      "metadata": {
        "id": "TMWIIM5PWzJa"
      }
    },
    {
      "cell_type": "markdown",
      "source": [
        "Accessing elements by key in a dictionary is O(1) on average due to the underlying hash table implementation."
      ],
      "metadata": {
        "id": "d_wbZfDYW7pC"
      }
    },
    {
      "cell_type": "markdown",
      "source": [
        "###18. In what situations are lists preferred over dictionaries?"
      ],
      "metadata": {
        "id": "oB6VHoRNXEwj"
      }
    },
    {
      "cell_type": "markdown",
      "source": [
        "Use lists when:\n",
        "\n",
        "- Order matters,\n",
        "- You have a sequence of items without labeled keys,\n",
        "-\n",
        "You need to maintain duplicates."
      ],
      "metadata": {
        "id": "gpQUbp7MXN_j"
      }
    },
    {
      "cell_type": "markdown",
      "source": [
        "###19. Why are dictionaries considered unordered, and how does that affect data retrieval?"
      ],
      "metadata": {
        "id": "43Tcl4gzXbpr"
      }
    },
    {
      "cell_type": "markdown",
      "source": [
        "Historically, dictionaries didn’t maintain insertion order. In modern Python (3.7+), they preserve insertion order, but logically they are still key-based, not index-based, so order is not guaranteed for all operations.\n",
        "\n"
      ],
      "metadata": {
        "id": "bmkYPDOcXl9D"
      }
    },
    {
      "cell_type": "markdown",
      "source": [
        "###20. Explain the difference between a list and a dictionary in terms of data retrieval."
      ],
      "metadata": {
        "id": "uZ_W9wpaXqPk"
      }
    },
    {
      "cell_type": "markdown",
      "source": [
        "List: Indexed by position (e.g., my_list[0])\n",
        "\n",
        "Dictionary: Accessed by key (e.g., my_dict[\"name\"]), which is more descriptive and efficient for labeled data."
      ],
      "metadata": {
        "id": "kYlSNVxxXv9D"
      }
    },
    {
      "cell_type": "markdown",
      "source": [
        "#Practical Questions"
      ],
      "metadata": {
        "id": "DUnTcjJ8b0ZY"
      }
    },
    {
      "cell_type": "markdown",
      "source": [
        "###1.Create a string with your name and print it"
      ],
      "metadata": {
        "id": "mSb5wKAPcJsh"
      }
    },
    {
      "cell_type": "code",
      "source": [
        "name = \"John Doe\"\n",
        "print(name)"
      ],
      "metadata": {
        "id": "t86ZMchpcQ5x"
      },
      "execution_count": null,
      "outputs": []
    },
    {
      "cell_type": "markdown",
      "source": [
        "###2. Find the length of the string \"Hello World\""
      ],
      "metadata": {
        "id": "rs0rzjsfceZ5"
      }
    },
    {
      "cell_type": "code",
      "source": [
        "s = \"Hello World\"\n",
        "print(len(s))"
      ],
      "metadata": {
        "id": "UtZ8xTxkc1R5"
      },
      "execution_count": null,
      "outputs": []
    },
    {
      "cell_type": "markdown",
      "source": [
        "###3. Slice the first 3 characters from the string \"Python Programming\""
      ],
      "metadata": {
        "id": "JIjE9DaOc70h"
      }
    },
    {
      "cell_type": "code",
      "source": [
        "text = \"Python Programming\"\n",
        "print(text[:3])"
      ],
      "metadata": {
        "id": "hVbc1lP1dBER"
      },
      "execution_count": null,
      "outputs": []
    },
    {
      "cell_type": "markdown",
      "source": [
        "###4. Convert the string \"hello\" to uppercase"
      ],
      "metadata": {
        "id": "UMO0F3CedFpZ"
      }
    },
    {
      "cell_type": "code",
      "source": [
        "word = \"hello\"\n",
        "print(word.upper())"
      ],
      "metadata": {
        "id": "pr8PlvsGdLUJ"
      },
      "execution_count": null,
      "outputs": []
    },
    {
      "cell_type": "markdown",
      "source": [
        "###5. Replace \"apple\" with \"orange\" in \"I like apple\""
      ],
      "metadata": {
        "id": "8ieEDiIhdUWx"
      }
    },
    {
      "cell_type": "code",
      "source": [
        "sentence = \"I like apple\"\n",
        "print(sentence.replace(\"apple\", \"orange\"))"
      ],
      "metadata": {
        "id": "gdlqd37idjEy"
      },
      "execution_count": null,
      "outputs": []
    },
    {
      "cell_type": "markdown",
      "source": [
        "###6. Write a code to create a list with numbers 1 to 5 and print it"
      ],
      "metadata": {
        "id": "hxLX_azndxRZ"
      }
    },
    {
      "cell_type": "code",
      "source": [
        "numbers = [1, 2, 3, 4, 5]\n",
        "print(numbers)\n"
      ],
      "metadata": {
        "id": "ib3P5c1XeCcZ"
      },
      "execution_count": null,
      "outputs": []
    },
    {
      "cell_type": "markdown",
      "source": [
        "###7. Write a code to append the number 10 to the list [1, 2, 3, 4]"
      ],
      "metadata": {
        "id": "-FBmUzFGeKWy"
      }
    },
    {
      "cell_type": "code",
      "source": [
        "my_list = [1, 2, 3, 4]\n",
        "my_list.append(10)\n",
        "print(my_list)"
      ],
      "metadata": {
        "id": "bIiN6n2SeUc6"
      },
      "execution_count": null,
      "outputs": []
    },
    {
      "cell_type": "markdown",
      "source": [
        "###8. Write a code to remove the number 3 from the list [1, 2, 3, 4, 5]"
      ],
      "metadata": {
        "id": "NF-BwyIdeaEq"
      }
    },
    {
      "cell_type": "code",
      "source": [
        "nums = [1, 2, 3, 4, 5]\n",
        "nums.remove(3)\n",
        "print(nums)"
      ],
      "metadata": {
        "id": "oy3b6yFpef2y"
      },
      "execution_count": null,
      "outputs": []
    },
    {
      "cell_type": "markdown",
      "source": [
        "###9. Write a code to access the second element in the list ['a', 'b', 'c', 'd']"
      ],
      "metadata": {
        "id": "fR0Xi5ppelBS"
      }
    },
    {
      "cell_type": "code",
      "source": [
        "letters = ['a', 'b', 'c', 'd']\n",
        "print(letters[1])"
      ],
      "metadata": {
        "id": "d5z9O5vYeq8C"
      },
      "execution_count": null,
      "outputs": []
    },
    {
      "cell_type": "markdown",
      "source": [
        "10. Write a code to reverse the list [10, 20, 30, 40, 50]."
      ],
      "metadata": {
        "id": "zQZ1aVGEeuyC"
      }
    },
    {
      "cell_type": "code",
      "source": [
        "lst = [10, 20, 30, 40, 50]\n",
        "lst.reverse()\n",
        "print(lst)"
      ],
      "metadata": {
        "id": "rO4SJy_de2ea"
      },
      "execution_count": null,
      "outputs": []
    },
    {
      "cell_type": "markdown",
      "source": [
        "###11. Write a code to create a tuple with the elements 100, 200, 300 and print it."
      ],
      "metadata": {
        "id": "ueoyV84ae8H6"
      }
    },
    {
      "cell_type": "code",
      "source": [
        "my_tuple = (100, 200, 300)\n",
        "print(my_tuple)"
      ],
      "metadata": {
        "id": "a5734nCdfFsq"
      },
      "execution_count": null,
      "outputs": []
    },
    {
      "cell_type": "markdown",
      "source": [
        "###12. Write a code to access the second-to-last element of the tuple ('red', 'green', 'blue', 'yellow')."
      ],
      "metadata": {
        "id": "sZeuLM2EfMnC"
      }
    },
    {
      "cell_type": "code",
      "source": [
        "colors = ('red', 'green', 'blue', 'yellow')\n",
        "print(colors[-2])"
      ],
      "metadata": {
        "id": "Jm49dFwCfiCb"
      },
      "execution_count": null,
      "outputs": []
    },
    {
      "cell_type": "markdown",
      "source": [
        "###13. Write a code to find the minimum number in the tuple (10, 20, 5, 15)."
      ],
      "metadata": {
        "id": "toiREb4Vfm3j"
      }
    },
    {
      "cell_type": "code",
      "source": [
        "nums = (10, 20, 5, 15)\n",
        "print(min(nums))"
      ],
      "metadata": {
        "id": "SI1QfRoiftcj"
      },
      "execution_count": null,
      "outputs": []
    },
    {
      "cell_type": "markdown",
      "source": [
        "###14. Write a code to find the index of the element \"cat\" in the tuple ('dog', 'cat', 'rabbit')."
      ],
      "metadata": {
        "id": "N_Cv0ZDNfzm7"
      }
    },
    {
      "cell_type": "code",
      "source": [
        "animals = ('dog', 'cat', 'rabbit')\n",
        "print(animals.index(\"cat\"))"
      ],
      "metadata": {
        "id": "R1O8FlvUf6Gj"
      },
      "execution_count": null,
      "outputs": []
    },
    {
      "cell_type": "markdown",
      "source": [
        "###15.  Write a code to create a tuple containing three different fruits and check if \"kiwi\" is in it."
      ],
      "metadata": {
        "id": "UN2gWekFf-qz"
      }
    },
    {
      "cell_type": "code",
      "source": [
        "fruits = (\"apple\", \"banana\", \"kiwi\")\n",
        "print(\"kiwi\" in fruits)"
      ],
      "metadata": {
        "id": "xfHB7RYwgGJT"
      },
      "execution_count": null,
      "outputs": []
    },
    {
      "cell_type": "markdown",
      "source": [
        "###16. Write a code to create a set with the elements 'a', 'b', 'c' and print it."
      ],
      "metadata": {
        "id": "CEzCh6AZgMy0"
      }
    },
    {
      "cell_type": "code",
      "source": [
        "s = {'a', 'b', 'c'}\n",
        "print(s)"
      ],
      "metadata": {
        "id": "MSb5eGhygo_j"
      },
      "execution_count": null,
      "outputs": []
    },
    {
      "cell_type": "markdown",
      "source": [
        "###17. Write a code to clear all elements from the set {1, 2, 3, 4, 5}."
      ],
      "metadata": {
        "id": "YtDUcfuwgtbz"
      }
    },
    {
      "cell_type": "code",
      "source": [
        "my_set = {1, 2, 3, 4, 5}\n",
        "my_set.clear()\n",
        "print(my_set)"
      ],
      "metadata": {
        "id": "5ujJSDb8gxer"
      },
      "execution_count": null,
      "outputs": []
    },
    {
      "cell_type": "markdown",
      "source": [
        "###18. Write a code to remove the element 4 from the set {1, 2, 3, 4}."
      ],
      "metadata": {
        "id": "ZEsLE_tOg_1j"
      }
    },
    {
      "cell_type": "code",
      "source": [
        "my_set = {1, 2, 3, 4}\n",
        "my_set.remove(4)\n",
        "print(my_set)"
      ],
      "metadata": {
        "id": "qqIcXAUHhF2r"
      },
      "execution_count": null,
      "outputs": []
    },
    {
      "cell_type": "markdown",
      "source": [
        "###19.  Write a code to find the union of two sets {1, 2, 3} and {3, 4, 5}."
      ],
      "metadata": {
        "id": "-cEsDRL2hbGs"
      }
    },
    {
      "cell_type": "code",
      "source": [
        "a = {1, 2, 3}\n",
        "b = {3, 4, 5}\n",
        "print(a.union(b))"
      ],
      "metadata": {
        "id": "hCIY1JqrhPnT"
      },
      "execution_count": null,
      "outputs": []
    },
    {
      "cell_type": "markdown",
      "source": [
        "###20. Write a code to find the intersection of two sets {1, 2, 3} and {2, 3, 4}."
      ],
      "metadata": {
        "id": "iFbamSWchkpN"
      }
    },
    {
      "cell_type": "code",
      "source": [
        "a = {1, 2, 3}\n",
        "b = {2, 3, 4}\n",
        "print(a.intersection(b))"
      ],
      "metadata": {
        "id": "5d39jwPFhquz"
      },
      "execution_count": null,
      "outputs": []
    },
    {
      "cell_type": "markdown",
      "source": [
        "###21. Write a code to create a dictionary with the keys \"name\", \"age\", and \"city\", and print it."
      ],
      "metadata": {
        "id": "Kn4cTh5NhuCD"
      }
    },
    {
      "cell_type": "code",
      "source": [
        "person = {\"name\": \"Alice\", \"age\": 30, \"city\": \"Paris\"}\n",
        "print(person)"
      ],
      "metadata": {
        "id": "lWazt_vxh_Yk"
      },
      "execution_count": null,
      "outputs": []
    },
    {
      "cell_type": "markdown",
      "source": [
        "###22. Write a code to add a new key-value pair \"country\": \"USA\" to the dictionary {'name': 'John', 'age': 25}."
      ],
      "metadata": {
        "id": "X9wN7Mm4iIQ0"
      }
    },
    {
      "cell_type": "code",
      "source": [
        "person = {'name': 'John', 'age': 25}\n",
        "person['country'] = \"USA\"\n",
        "print(person)"
      ],
      "metadata": {
        "id": "jwlyQso6iMbr"
      },
      "execution_count": null,
      "outputs": []
    },
    {
      "cell_type": "markdown",
      "source": [
        "###23.  Write a code to access the value associated with the key \"name\" in the dictionary {'name': 'Alice', 'age': 30}."
      ],
      "metadata": {
        "id": "w9DLSBtHiUeL"
      }
    },
    {
      "cell_type": "code",
      "source": [
        "person = {'name': 'Alice', 'age': 30}\n",
        "print(person[\"name\"])"
      ],
      "metadata": {
        "id": "lQZbiOciia77"
      },
      "execution_count": null,
      "outputs": []
    },
    {
      "cell_type": "markdown",
      "source": [
        "###24. Write a code to remove the key \"age\" from the dictionary {'name': 'Bob', 'age': 22, 'city': 'New York'}."
      ],
      "metadata": {
        "id": "ZVSXOIEriemr"
      }
    },
    {
      "cell_type": "code",
      "source": [
        "person = {'name': 'Bob', 'age': 22, 'city': 'New York'}\n",
        "del person[\"age\"]\n",
        "print(person)"
      ],
      "metadata": {
        "id": "UdjSm61yippL"
      },
      "execution_count": null,
      "outputs": []
    },
    {
      "cell_type": "markdown",
      "source": [
        "###25.  Write a code to check if the key \"city\" exists in the dictionary {'name': 'Alice', 'city': 'Paris'}."
      ],
      "metadata": {
        "id": "qZXk-1BWiuYM"
      }
    },
    {
      "cell_type": "code",
      "source": [
        "person = {'name': 'Alice', 'city': 'Paris'}\n",
        "print(\"city\" in person)"
      ],
      "metadata": {
        "id": "sdfNE51VjArT"
      },
      "execution_count": null,
      "outputs": []
    },
    {
      "cell_type": "markdown",
      "source": [
        "###26. Write a code to create a list, a tuple, and a dictionary, and print them all."
      ],
      "metadata": {
        "id": "ozcRIiifjOO0"
      }
    },
    {
      "cell_type": "code",
      "source": [
        "my_list = [1, 2, 3]\n",
        "my_tuple = ('a', 'b', 'c')\n",
        "my_dict = {'x': 10, 'y': 20}\n",
        "print(my_list)\n",
        "print(my_tuple)\n",
        "print(my_dict)"
      ],
      "metadata": {
        "id": "c65IRY4TjXUU"
      },
      "execution_count": null,
      "outputs": []
    },
    {
      "cell_type": "markdown",
      "source": [
        "###27. Write a code to create a list of 5 random numbers between 1 and 100, sort it in ascending order, and print the result.(replaced)"
      ],
      "metadata": {
        "id": "fRQsOf3zjfAU"
      }
    },
    {
      "cell_type": "code",
      "source": [
        "import random\n",
        "\n",
        "# Create a list of 5 random numbers between 1 and 100\n",
        "random_numbers = [random.randint(1, 100) for _ in range(5)]\n",
        "\n",
        "# Sort the list in ascending order\n",
        "random_numbers.sort()\n",
        "\n",
        "# Print the sorted list\n",
        "print(\"Sorted random numbers:\", random_numbers)"
      ],
      "metadata": {
        "id": "E9l9UoCYkwjG"
      },
      "execution_count": null,
      "outputs": []
    },
    {
      "cell_type": "markdown",
      "source": [
        "###28. Write a code to create a list with strings and print the element at the third index."
      ],
      "metadata": {
        "id": "y5yGU5iEk6_l"
      }
    },
    {
      "cell_type": "code",
      "source": [
        "words = [\"apple\", \"banana\", \"cherry\", \"date\", \"fig\"]\n",
        "print(words[3])"
      ],
      "metadata": {
        "id": "xZGBPYe4lDm8"
      },
      "execution_count": null,
      "outputs": []
    },
    {
      "cell_type": "markdown",
      "source": [
        "###29. Write a code to combine two dictionaries into one and print the result."
      ],
      "metadata": {
        "id": "HKb0GmzPlOgV"
      }
    },
    {
      "cell_type": "code",
      "source": [
        "dict1 = {'a': 1, 'b': 2}\n",
        "dict2 = {'c': 3, 'd': 4}\n",
        "combined = {**dict1, **dict2}\n",
        "print(combined)"
      ],
      "metadata": {
        "id": "AnitbjEAleF1"
      },
      "execution_count": null,
      "outputs": []
    },
    {
      "cell_type": "markdown",
      "source": [
        "###30. Write a code to convert a list of strings into a set."
      ],
      "metadata": {
        "id": "MvOjXAxUlko0"
      }
    },
    {
      "cell_type": "code",
      "source": [
        "str_list = [\"apple\", \"banana\", \"apple\", \"cherry\"]\n",
        "str_set = set(str_list)\n",
        "print(str_set)"
      ],
      "metadata": {
        "id": "DVOvmH4slqZE"
      },
      "execution_count": null,
      "outputs": []
    }
  ]
}