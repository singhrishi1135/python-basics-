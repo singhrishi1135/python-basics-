{
  "nbformat": 4,
  "nbformat_minor": 0,
  "metadata": {
    "colab": {
      "provenance": []
    },
    "kernelspec": {
      "name": "python3",
      "display_name": "Python 3"
    },
    "language_info": {
      "name": "python"
    }
  },
  "cells": [
    {
      "cell_type": "code",
      "execution_count": null,
      "metadata": {
        "id": "hYtRuJEVi3np"
      },
      "outputs": [],
      "source": []
    },
    {
      "cell_type": "markdown",
      "source": [
        "**Q1. What is a RESTful API?**"
      ],
      "metadata": {
        "id": "u3Y9XyUJjDf3"
      }
    },
    {
      "cell_type": "markdown",
      "source": [
        "**Ans.** A RESTful API (Representational State Transfer API) is a web service that follows the principles of REST architecture to enable communication between client and server over HTTP. It's a common way to allow different software systems to interact, especially in web and mobile applications.\n",
        "\n",
        "**Key Characteristics of a RESTful API:**\n",
        "**1.Stateless:** Each request from the client contains all the information the server needs to process it. The server does not store any client context between requests.\n",
        "\n",
        "**2. Uses HTTP Methods:**\n",
        "\n",
        " - GET – Retrieve data\n",
        "\n",
        "- POST – Create new data\n",
        "\n",
        "- PUT – Update existing data\n",
        "\n",
        "- DELETE – Remove data\n",
        "\n",
        "- PATCH – Partially update data\n",
        "\n",
        "**3.Resource-Based:** REST treats objects (like users, products, etc.) as resources, which are accessed via URLs (also called endpoints).\n",
        "\n",
        "Example: https://api.example.com/users/123\n",
        "\n",
        "**4. Representation:** Resources can be represented in formats like JSON or XML, with JSON being the most common today.\n",
        "\n",
        "**5. Stateless Communication:** No client session is stored on the server; each request is self-contained.\n",
        "\n",
        "**6. Uniform Interface:** A consistent and standardized way of interacting with resources using URIs and HTTP methods."
      ],
      "metadata": {
        "id": "c7YrtJUIjSbP"
      }
    },
    {
      "cell_type": "markdown",
      "source": [
        "**Q2. Explain the concept of API specification.**"
      ],
      "metadata": {
        "id": "nwUu_rdlkYGW"
      }
    },
    {
      "cell_type": "markdown",
      "source": [
        "**Ans.** An API specification is a detailed, formal description of how an API behaves and how clients can interact with it. It acts like a contract between the API provider (server) and the API consumer (client), outlining what resources are available, how to access them, and what to expect in return.\n",
        "\n",
        "**Key Elements of an API Specification:**\n",
        "\n",
        "**Endpoints:**\n",
        "\n",
        "- The URL paths used to access the API.\n",
        "\n",
        "- Example: /users, /orders/{id}\n",
        "\n",
        "**HTTP Methods:**\n",
        "\n",
        "- Specifies what type of operation is allowed at each endpoint.\n",
        "\n",
        "- Common methods: GET, POST, PUT, DELETE, PATCH\n",
        "\n",
        "**Request Structure:**\n",
        "\n",
        "- Headers (e.g., for authentication or content type)\n",
        "\n",
        "- Query Parameters (e.g., ?sort=name)\n",
        "\n",
        "- Request Body (for POST/PUT methods, typically in JSON)\n",
        "\n",
        "**Response Structure:**\n",
        "\n",
        "- The format and content of the response.\n",
        "\n",
        "- HTTP status codes (e.g., 200 OK, 404 Not Found)\n",
        "\n",
        "- Response body schema (fields and their types)\n",
        "\n",
        "**Authentication/Authorization:**\n",
        "\n",
        "- Details about how users should authenticate (e.g., OAuth 2.0, API keys)\n",
        "\n",
        "**Error Messages:**\n",
        "\n",
        "- Format and structure of error responses\n",
        "\n",
        "- Common error codes and what they mean"
      ],
      "metadata": {
        "id": "ruX6HCxqkfW3"
      }
    },
    {
      "cell_type": "markdown",
      "source": [
        "**Q3. What is Flask, and why is it popular for building APIs?**"
      ],
      "metadata": {
        "id": "INGb_7ctld9x"
      }
    },
    {
      "cell_type": "markdown",
      "source": [
        "**Ans.** Flask is a lightweight and flexible Python web framework used to build web applications and APIs (Application Programming Interfaces). It is especially popular for building RESTful APIs due to its simplicity, extensibility, and ease of use.\n",
        "\n",
        "- Flask is a microframework, meaning it provides the core functionality needed to build web apps but leaves out many features by default (like authentication, database integration, etc.), allowing developers to add only what they need.\n",
        "\n",
        "- It is built on top of Werkzeug (a WSGI toolkit) and uses Jinja2 for templating (when building front-end pages).\n",
        "\n",
        "**Flask is Popular for Building APIs:**\n",
        "\n",
        "**Simplicity & Minimalism:**\n",
        "\n",
        "- Flask has a low learning curve and allows you to quickly create and run APIs with minimal boilerplate code.\n",
        "\n",
        "**Flexibility:**\n",
        "\n",
        "- You can structure your app however you like, unlike some frameworks that impose strict design patterns.\n",
        "\n",
        "**Built-in Development Server:**\n",
        "\n",
        "- Flask comes with a simple server for testing and development.\n",
        "\n",
        "**Routing Made Easy:**\n",
        "\n",
        "- Define routes with Python decorators:\n",
        "\n",
        "**Great for Prototyping and Microservices:**\n",
        "\n",
        "- Ideal for small projects or services that need to be built and deployed quickly.\n",
        "\n",
        "**Extensible:**\n",
        "\n",
        "- You can easily add libraries for authentication, database integration (like SQLAlchemy), input validation, etc.\n",
        "\n",
        "**Active Community and Ecosystem:**\n",
        "\n",
        "- Plenty of tutorials, extensions (e.g., Flask-RESTful, Flask-JWT), and community support."
      ],
      "metadata": {
        "id": "1ayjPdA4lmWl"
      }
    },
    {
      "cell_type": "markdown",
      "source": [
        "**Q4. What is routing in Flask?**"
      ],
      "metadata": {
        "id": "9_bBFNXkrNp9"
      }
    },
    {
      "cell_type": "markdown",
      "source": [
        "**Ans.** Routing in Flask is the process of mapping URLs (web addresses) to specific Python functions (called view functions). When a user accesses a URL in your Flask app, Flask uses routing to determine which function should handle the request.\n",
        "\n",
        "**How Routing Works in Flask:- **\n",
        "In Flask, routes are defined using the @app.route() decorator. This decorator tells Flask:\n",
        "\n",
        "- Which URL should trigger the function\n",
        "\n",
        "- Which HTTP methods are allowed (GET, POST, etc.)"
      ],
      "metadata": {
        "id": "N_tiN3bTrU5K"
      }
    },
    {
      "cell_type": "markdown",
      "source": [
        "**Q5. How do you create a simple Flask application?**"
      ],
      "metadata": {
        "id": "RHkU-suqr4Wm"
      }
    },
    {
      "cell_type": "markdown",
      "source": [
        "**Ans.** Creating a simple Flask application is easy and straightforward. Below is a step-by-step guide to help you build your first Flask app.\n",
        "\n",
        "- **Step 1:** Install Flask\n",
        "- **Step 2**: Create a Python File (e.g., app.py)\n",
        "- **Step 3:** Run the Flask App\n"
      ],
      "metadata": {
        "id": "dJMrxvJhsd8D"
      }
    },
    {
      "cell_type": "markdown",
      "source": [
        "**Q6. What are HTTP methods used in RESTful APIs?**"
      ],
      "metadata": {
        "id": "1bprqJ2Ctczu"
      }
    },
    {
      "cell_type": "markdown",
      "source": [
        "**Ans.** In RESTful APIs, HTTP methods (also called HTTP verbs) define the type of operation a client wants to perform on a resource. These methods align with CRUD operations (Create, Read, Update, Delete).\n",
        "\n",
        "###**Common HTTP Methods in RESTful APIs**\n",
        "\n",
        "| HTTP Method | Purpose            | CRUD Action | Description                                              |\n",
        "| ----------- | ------------------ | ----------- | -------------------------------------------------------- |\n",
        "| `GET`       | **Read** data      | Read        | Retrieve a resource or a list of resources.              |\n",
        "| `POST`      | **Create** data    | Create      | Submit new data to the server (e.g., create a new user). |\n",
        "| `PUT`       | **Update** data    | Update      | Replace an existing resource entirely.                   |\n",
        "| `PATCH`     | **Partial update** | Update      | Update parts of an existing resource.                    |\n",
        "| `DELETE`    | **Remove** data    | Delete      | Delete a resource from the server.                       |\n"
      ],
      "metadata": {
        "id": "v7yfAnWStq-C"
      }
    },
    {
      "cell_type": "markdown",
      "source": [
        "**Q7. What is the purpose of the @app.route() decorator in Flask?**"
      ],
      "metadata": {
        "id": "QEYq_TV9uB6O"
      }
    },
    {
      "cell_type": "markdown",
      "source": [
        "**Ans.** The @app.route() decorator in Flask is used to bind a URL path to a specific Python function, which is called a view function. This is how routing is done in Flask—by mapping different web addresses (routes) to code that should run when those addresses are accessed.\n",
        "\n",
        "**Purpose of @app.route()**\n",
        "- Defines a route: Specifies what URL the function should respond to.\n",
        "\n",
        "- Handles HTTP requests: Determines what should happen when a user visits a specific path in the browser or sends a request to the server.\n",
        "\n",
        "- Connects URLs to logic: Tells Flask which function to run for a given path."
      ],
      "metadata": {
        "id": "068uQf1S6DTq"
      }
    },
    {
      "cell_type": "markdown",
      "source": [
        "**Q8. What is the difference between GET and POST HTTP methods?**"
      ],
      "metadata": {
        "id": "3xXj7jxk-TqA"
      }
    },
    {
      "cell_type": "markdown",
      "source": [
        "**Ans.** The difference between GET and POST HTTP methods lies in their purpose, behavior, and how data is sent to the server. Both are commonly used in web applications and RESTful APIs, but they serve different roles.\n",
        "\n",
        "**Key Differences: GET vs. POST**\n",
        "\n",
        "| Feature             | `GET`                     | `POST`                             |\n",
        "| ------------------- | ------------------------- | ---------------------------------- |\n",
        "| **Purpose**         | Retrieve data             | Submit or send data                |\n",
        "| **Data Sent Via**   | URL (as query parameters) | Request body (usually JSON, form)  |\n",
        "| **Visible in URL?** | Yes                       | No                                 |\n",
        "| **Idempotent?**     | ✅ Yes (safe to repeat)    | ❌ No (can create/change data)      |\n",
        "| **Use Case**        | Read/search/query         | Create/form submission/data upload |\n",
        "| **Caching**         | Often cached              | Not cached                         |\n",
        "| **Bookmarkable**    | Yes                       | No                                 |\n"
      ],
      "metadata": {
        "id": "olFSAlKZ-lOi"
      }
    },
    {
      "cell_type": "markdown",
      "source": [
        "**Q9. How do you handle errors in Flask APIs?**"
      ],
      "metadata": {
        "id": "ZKypNdbr-2CA"
      }
    },
    {
      "cell_type": "markdown",
      "source": [
        "**Ans.** Handling errors in Flask APIs is important for giving meaningful feedback to clients and maintaining a robust, predictable API. Flask provides multiple ways to manage errors gracefully.\n",
        "\n",
        "**Ways to Handle Errors in Flask APIs:**\n",
        "\n",
        "*1. Using abort() to Return HTTP Error Codes*\n",
        "- Flask provides the abort() function to send standard HTTP errors.\n"
      ],
      "metadata": {
        "id": "FnjQCf8V-4pB"
      }
    },
    {
      "cell_type": "code",
      "source": [
        "from flask import Flask, abort\n",
        "\n",
        "app = Flask(__name__)\n",
        "\n",
        "@app.route('/items/<int:item_id>')\n",
        "def get_item(item_id):\n",
        "    if item_id != 1:\n",
        "        abort(404)  # Not Found\n",
        "    return {'id': item_id, 'name': 'Sample Item'}\n"
      ],
      "metadata": {
        "id": "dqKs1e78_MAX"
      },
      "execution_count": null,
      "outputs": []
    },
    {
      "cell_type": "markdown",
      "source": [
        "This returns a 404 error if the item is not found."
      ],
      "metadata": {
        "id": "GvD8DV8t_SS6"
      }
    },
    {
      "cell_type": "markdown",
      "source": [
        "*2. Custom Error Handlers*\n",
        "- You can define custom responses for specific HTTP errors using the @app.errorhandler decorator."
      ],
      "metadata": {
        "id": "f9peWYub_VKQ"
      }
    },
    {
      "cell_type": "code",
      "source": [
        "from flask import jsonify\n",
        "\n",
        "@app.errorhandler(404)\n",
        "def not_found(error):\n",
        "    return jsonify({'error': 'Resource not found'}), 404\n",
        "\n",
        "@app.errorhandler(500)\n",
        "def internal_error(error):\n",
        "    return jsonify({'error': 'Internal server error'}), 500\n"
      ],
      "metadata": {
        "id": "COkQ3pfO_Y54"
      },
      "execution_count": null,
      "outputs": []
    },
    {
      "cell_type": "markdown",
      "source": [
        "These return JSON responses instead of the default HTML error pages."
      ],
      "metadata": {
        "id": "NB-Gqzng_c1o"
      }
    },
    {
      "cell_type": "markdown",
      "source": [
        "3.*Handling Application-Specific Errors*\n",
        "- You can raise your own exceptions and catch them with custom handlers."
      ],
      "metadata": {
        "id": "BaEwH9Wl_fVY"
      }
    },
    {
      "cell_type": "code",
      "source": [
        "class InvalidUsage(Exception):\n",
        "    status_code = 400\n",
        "\n",
        "    def __init__(self, message, status_code=None):\n",
        "        super().__init__()\n",
        "        self.message = message\n",
        "        if status_code:\n",
        "            self.status_code = status_code\n",
        "\n",
        "    def to_dict(self):\n",
        "        return {'error': self.message}\n",
        "\n",
        "@app.errorhandler(InvalidUsage)\n",
        "def handle_invalid_usage(error):\n",
        "    response = jsonify(error.to_dict())\n",
        "    response.status_code = error.status_code\n",
        "    return response\n",
        "\n",
        "@app.route('/divide')\n",
        "def divide():\n",
        "    x, y = 10, 0\n",
        "    if y == 0:\n",
        "        raise InvalidUsage(\"Cannot divide by zero\", status_code=400)\n",
        "    return jsonify({'result': x / y})\n"
      ],
      "metadata": {
        "id": "028VuIzm_4Ho"
      },
      "execution_count": null,
      "outputs": []
    },
    {
      "cell_type": "markdown",
      "source": [
        "4. *Logging Errors*\n",
        "\n",
        "- To help with debugging and monitoring, log errors:\n",
        "\n",
        "python\n",
        "Copy\n",
        "Edit\n"
      ],
      "metadata": {
        "id": "tN-qU814_80Z"
      }
    },
    {
      "cell_type": "code",
      "source": [
        "import logging\n",
        "logging.basicConfig(level=logging.ERROR)\n"
      ],
      "metadata": {
        "id": "iJlNnSK1AC4g"
      },
      "execution_count": null,
      "outputs": []
    },
    {
      "cell_type": "markdown",
      "source": [
        "**Q10. How do you connect Flask to a SQL database?**"
      ],
      "metadata": {
        "id": "tFaKoy5uANC5"
      }
    },
    {
      "cell_type": "markdown",
      "source": [
        "**Ans.** To connect Flask to a SQL database, you typically use an ORM (Object Relational Mapper) like SQLAlchemy, which allows you to interact with the database using Python classes instead of raw SQL.\n",
        "\n",
        "**Step-by-Step: Connect Flask to SQL Database using SQLAlchemy**\n",
        "1. Install Required Packages\n",
        "2. Configure Flask App for SQLAlchemy\n",
        "3. Define Your Models (Tables)\n",
        "4. Create the Database Tables\n",
        "5. Add and Query Data"
      ],
      "metadata": {
        "id": "uBujn3q2AQjx"
      }
    },
    {
      "cell_type": "markdown",
      "source": [
        "**Q11. What is the role of Flask-SQLAlchemy?**"
      ],
      "metadata": {
        "id": "rDJFofZKQWDq"
      }
    },
    {
      "cell_type": "markdown",
      "source": [
        "**Ans.** Flask-SQLAlchemy is a Flask extension that integrates SQLAlchemy (a powerful Python SQL toolkit and Object Relational Mapper) into Flask applications. Its primary role is to simplify database management in Flask apps by making it easier to:\n",
        "\n",
        "- Connect to databases\n",
        "\n",
        "- Define data models (tables) using Python classes\n",
        "\n",
        "- Perform queries and transactions\n",
        "\n",
        "- Manage relationships and migrations"
      ],
      "metadata": {
        "id": "z6mVgHatQYza"
      }
    },
    {
      "cell_type": "markdown",
      "source": [
        "**Q12. What are Flask blueprints, and how are they useful?**"
      ],
      "metadata": {
        "id": "Rip3v4bSSg1R"
      }
    },
    {
      "cell_type": "markdown",
      "source": [
        "**Ans.** Flask Blueprints are a way to organize and modularize a Flask application by grouping routes, views, and other logic into reusable components.\n",
        "\n",
        "Think of a blueprint as a mini-application that contains a set of related routes, templates, and static files, which can be registered on the main app later.\n",
        "\n",
        "**Use Blueprints: **\n",
        "\n",
        "| Benefit                    | Description                                                                            |\n",
        "| -------------------------- | -------------------------------------------------------------------------------------- |\n",
        "| **Modularity**             | Keep related features (e.g., auth, user, API) in separate files.                       |\n",
        "| **Reusability**            | Reuse the same blueprint across multiple projects or parts of a project.               |\n",
        "| **Scalability**            | Easier to manage and maintain large apps.                                              |\n",
        "| **Separation of Concerns** | Clean separation between different parts of your application (e.g., admin, blog, API). |\n"
      ],
      "metadata": {
        "id": "-1hX1G0bSlgA"
      }
    },
    {
      "cell_type": "markdown",
      "source": [
        "**Q13. What is the purpose of Flask's request object?**"
      ],
      "metadata": {
        "id": "nVo8t3_FS47a"
      }
    },
    {
      "cell_type": "markdown",
      "source": [
        "**Ans.** Flask’s request object is used to access incoming request data from the client (such as a browser, mobile app, or API consumer). It provides everything you need to read HTTP request content, including:\n",
        "\n",
        "- URL parameters\n",
        "\n",
        "- Form data\n",
        "\n",
        "- JSON payloads\n",
        "\n",
        "- Headers\n",
        "\n",
        "- HTTP method\n",
        "\n",
        "- Cookies"
      ],
      "metadata": {
        "id": "HTLuHyTgTBQZ"
      }
    },
    {
      "cell_type": "markdown",
      "source": [
        "**Q14. How do you create a RESTful API endpoint using Flask?**"
      ],
      "metadata": {
        "id": "DfRdfR4FTPmK"
      }
    },
    {
      "cell_type": "markdown",
      "source": [
        "**Ans.** Creating a RESTful API in Flask is straightforward. You define routes that correspond to HTTP methods (like GET, POST, PUT, DELETE) and return JSON responses.\n",
        "\n",
        "- 1: Install Flask\n",
        "- 2: Create a Simple Flask API"
      ],
      "metadata": {
        "id": "O6YWQx0UTXCg"
      }
    },
    {
      "cell_type": "code",
      "source": [
        "from flask import Flask, request, jsonify\n",
        "\n",
        "app = Flask(__name__)\n",
        "\n",
        "# Sample data\n",
        "users = [\n",
        "    {\"id\": 1, \"name\": \"Alice\"},\n",
        "    {\"id\": 2, \"name\": \"Bob\"}\n",
        "]\n",
        "\n",
        "# GET endpoint: Get all users\n",
        "@app.route('/users', methods=['GET'])\n",
        "def get_users():\n",
        "    return jsonify(users)\n",
        "\n",
        "# GET endpoint: Get a single user by ID\n",
        "@app.route('/users/<int:user_id>', methods=['GET'])\n",
        "def get_user(user_id):\n",
        "    user = next((u for u in users if u['id'] == user_id), None)\n",
        "    if user:\n",
        "        return jsonify(user)\n",
        "    return jsonify({'error': 'User not found'}), 404\n",
        "\n",
        "# POST endpoint: Create a new user\n",
        "@app.route('/users', methods=['POST'])\n",
        "def create_user():\n",
        "    data = request.get_json()\n",
        "    new_user = {\n",
        "        \"id\": len(users) + 1,\n",
        "        \"name\": data['name']\n",
        "    }\n",
        "    users.append(new_user)\n",
        "    return jsonify(new_user), 201\n"
      ],
      "metadata": {
        "id": "O0hfMZlXUP4A"
      },
      "execution_count": null,
      "outputs": []
    },
    {
      "cell_type": "markdown",
      "source": [
        "3. Run the App"
      ],
      "metadata": {
        "id": "-KLhCEj7UULZ"
      }
    },
    {
      "cell_type": "markdown",
      "source": [
        "**Q15. What is the purpose of Flask's jsonify() function?**"
      ],
      "metadata": {
        "id": "Ua61xg8dUaD5"
      }
    },
    {
      "cell_type": "markdown",
      "source": [
        "**Ans.** The purpose of jsonify() in Flask is to convert Python data structures (like dicts or lists) into a valid JSON response. It also sets the appropriate MIME type (application/json) and HTTP response headers, making it ideal for building RESTful APIs.\n",
        "\n",
        "**Use jsonify() Instead of json.dumps()**\n",
        "\n",
        "| Feature             | `jsonify()`            | `json.dumps()`                    |\n",
        "| ------------------- | ---------------------- | --------------------------------- |\n",
        "| Returns a response  | Yes (includes headers) | No (just a JSON string)           |\n",
        "| Sets `Content-Type` | ✅ `application/json`   | ❌ (you’d need to set it manually) |\n",
        "| Response object     | Yes (`flask.Response`) | No                                |\n",
        "| Designed for Flask  | ✅                      | ❌                                 |\n"
      ],
      "metadata": {
        "id": "1ZIeRZafUfUg"
      }
    },
    {
      "cell_type": "markdown",
      "source": [
        "**Q16. Explain Flask’s url_for() function.**"
      ],
      "metadata": {
        "id": "-64ZZSPfU1Mx"
      }
    },
    {
      "cell_type": "markdown",
      "source": [
        "**Ans.** Flask’s url_for() function is used to build URLs dynamically for routes defined in your application. Instead of hardcoding URLs, you reference the name of the view function, and url_for() constructs the correct URL.\n",
        "\n",
        "**Use url_for()?**\n",
        "\n",
        "| Advantage                | Description                                                 |\n",
        "| ------------------------ | ----------------------------------------------------------- |\n",
        "| **Avoid hardcoding**     | You refer to route functions by name, not by string paths.  |\n",
        "| **Automatic updates**    | If the route path changes, you only update it in one place. |\n",
        "| **URL building**         | Supports query strings and dynamic parts (like IDs).        |\n",
        "| **Works with templates** | Common in Jinja2 templates for linking pages.               |\n"
      ],
      "metadata": {
        "id": "eOE3zrosVCfR"
      }
    },
    {
      "cell_type": "markdown",
      "source": [
        "**Q17. How does Flask handle static files (CSS, JavaScript, etc.)?**"
      ],
      "metadata": {
        "id": "E1-N14eIVW7g"
      }
    },
    {
      "cell_type": "markdown",
      "source": [
        "**Ans.** Flask has built-in support for serving static files like CSS, JavaScript, and images through a dedicated /static route.\n",
        "\n",
        "By default, Flask looks for static files in a folder named static at the root of your project:\n"
      ],
      "metadata": {
        "id": "kWT8eyy3Vh8g"
      }
    },
    {
      "cell_type": "markdown",
      "source": [
        "your_app/\n",
        "│\n",
        "├── app.py\n",
        "├── static/\n",
        "│   ├── style.css\n",
        "│   ├── script.js\n",
        "│   └── logo.png\n",
        "└── templates/\n",
        "    └── index.html\n"
      ],
      "metadata": {
        "id": "KiSDpkURV27w"
      }
    },
    {
      "cell_type": "markdown",
      "source": [
        "**Q18. What is an API specification, and how does it help in building a Flask API?**"
      ],
      "metadata": {
        "id": "q8915WVPV8Bw"
      }
    },
    {
      "cell_type": "markdown",
      "source": [
        "**Ans.** An API specification is a formal, structured description of how an API works—including its endpoints, methods, input/output data, request/response formats, authentication, and more.\n",
        "\n",
        "It serves as a blueprint for building, testing, and documenting your API, and ensures that everyone (developers, clients, systems) interacts with the API in a consistent way.\n",
        "\n",
        "*API Specification Includes:-*\n",
        "\n",
        "| Feature                     | Description                            |\n",
        "| --------------------------- | -------------------------------------- |\n",
        "| **Endpoints**               | URIs like `/users` or `/products/<id>` |\n",
        "| **HTTP Methods**            | GET, POST, PUT, DELETE, etc.           |\n",
        "| **Request Params**          | Path, query, and body parameters       |\n",
        "| **Request/Response Format** | JSON schemas and status codes          |\n",
        "| **Authentication**          | Token types, headers, OAuth, etc.      |\n",
        "| **Error Handling**          | Expected errors and response formats   |\n"
      ],
      "metadata": {
        "id": "ssqgaRbNWGeo"
      }
    },
    {
      "cell_type": "markdown",
      "source": [
        "**Q19. What are HTTP status codes, and why are they important in a Flask API?**"
      ],
      "metadata": {
        "id": "w3FHwt_iWcN5"
      }
    },
    {
      "cell_type": "markdown",
      "source": [
        "**Ans.** HTTP status codes are standardized 3-digit numbers returned in HTTP responses to indicate the result of a client’s request to a server.\n",
        "\n",
        "They help communicate:\n",
        "\n",
        "- Whether the request was successful\n",
        "\n",
        "- If there was an error\n",
        "\n",
        "- What kind of error occurred\n",
        "\n",
        "- What the client should do next\n",
        "\n",
        "*Common Status Codes in a Flask API*\n",
        "\n",
        "\n",
        "| Code                        | Meaning                       | Use Case                             |\n",
        "| --------------------------- | ----------------------------- | ------------------------------------ |\n",
        "| `200 OK`                    | Successful GET or PUT         | Returning data                       |\n",
        "| `201 Created`               | Resource successfully created | After a POST that creates a resource |\n",
        "| `204 No Content`            | Success but no response body  | DELETE or empty update               |\n",
        "| `400 Bad Request`           | Malformed input data          | Validation failure                   |\n",
        "| `401 Unauthorized`          | No valid authentication       | Missing or invalid credentials       |\n",
        "| `403 Forbidden`             | Authenticated but not allowed | Access denied                        |\n",
        "| `404 Not Found`             | Resource not found            | Invalid endpoint or ID               |\n",
        "| `500 Internal Server Error` | Unhandled server exception    | Unexpected errors                    |\n",
        "\n"
      ],
      "metadata": {
        "id": "4M244nJWW3xf"
      }
    },
    {
      "cell_type": "markdown",
      "source": [
        "**Q20. How do you handle POST requests in Flask?**"
      ],
      "metadata": {
        "id": "NRnvDWFLXRfp"
      }
    },
    {
      "cell_type": "markdown",
      "source": [
        "**Ans.** A POST request is used to send data (typically from a form or client) to the server—commonly to create a new resource. In Flask, you handle it by specifying the POST method in a route and using the request object to access the data.\n",
        "\n",
        "**Basic Steps to Handle POST in Flask**\n",
        "- Import request from flask\n",
        "\n",
        "- Define a route with methods=['POST']\n",
        "\n",
        "- Access the incoming data with request.form, request.get_json(), etc.\n",
        "\n",
        "- Process the data and return a response"
      ],
      "metadata": {
        "id": "HotvFnf3Xe2v"
      }
    },
    {
      "cell_type": "markdown",
      "source": [
        "**Q21. How would you secure a Flask API?**"
      ],
      "metadata": {
        "id": "avHoCzqiXxcA"
      }
    },
    {
      "cell_type": "markdown",
      "source": [
        "**Ans.** Securing a Flask API involves multiple layers to protect your app and data. Here are some key strategies and best practices:\n",
        "\n",
        "**1. Use HTTPS**\n",
        "- Always serve your API over HTTPS to encrypt data in transit.\n",
        "\n",
        "- Use tools like Let's Encrypt for free SSL certificates.\n",
        "\n",
        "**2. Authentication**\n",
        "- Require clients to authenticate themselves.\n",
        "\n",
        "**Common methods:**\n",
        "\n",
        "- API keys (simple tokens)\n",
        "\n",
        "- HTTP Basic Auth (username/password over HTTPS)\n",
        "\n",
        "- OAuth2 / JWT (JSON Web Tokens) for more robust and scalable auth\n",
        "\n",
        "*Flask extensions:*\n",
        "\n",
        "- Flask-JWT-Extended for JWT auth\n",
        "\n",
        "- Flask-HTTPAuth for basic or token auth\n",
        "\n",
        "**3. Authorization**\n",
        "- Ensure users can only access resources they’re allowed to.\n",
        "\n",
        "- Implement role-based access control (RBAC).\n",
        "\n",
        "- Check permissions in your endpoints.\n",
        "\n",
        "**4. Input Validation & Sanitization**\n",
        "- Always validate and sanitize incoming data to prevent injection attacks.\n",
        "\n",
        "- Use libraries like Marshmallow or Cerberus for schema validation.\n",
        "\n",
        "**5. Rate Limiting**\n",
        "- Prevent abuse by limiting how many requests a client can make.\n",
        "\n",
        "- Use Flask-Limiter to set rate limits.\n",
        "\n",
        "**6. Error Handling**\n",
        "- Avoid leaking sensitive info in error messages.\n",
        "\n",
        "- Return generic error messages and log detailed errors securely.\n",
        "\n",
        "**7. CORS (Cross-Origin Resource Sharing)**\n",
        "- Configure CORS carefully to restrict who can call your API.\n",
        "\n",
        "- Use Flask-CORS and configure allowed origins.\n",
        "\n",
        "**8. Secure Headers**\n",
        "- Add security-related HTTP headers like:\n",
        "\n",
        "- Content-Security-Policy\n",
        "\n",
        "- X-Content-Type-Options\n",
        "\n",
        "- X-Frame-Options\n",
        "\n",
        "- Strict-Transport-Security\n",
        "\n",
        "- Use Flask-Talisman to manage these headers easily.\n",
        "\n",
        "**9. Keep Dependencies Updated**\n",
        "- Regularly update Flask and its extensions to patch vulnerabilities."
      ],
      "metadata": {
        "id": "RZqSks1XX1KQ"
      }
    },
    {
      "cell_type": "markdown",
      "source": [
        "**Q22. What is the significance of the Flask-RESTful extension?**"
      ],
      "metadata": {
        "id": "dGAIAYy_ZGUI"
      }
    },
    {
      "cell_type": "markdown",
      "source": [
        "**Ans.** Flask-RESTful is an extension for Flask that simplifies building RESTful APIs by providing helpful abstractions and tools. It adds structure and utilities on top of Flask’s core, making it easier and faster to build APIs that follow REST principles.\n",
        "\n",
        "###Key Features of Flask-RESTful\n",
        "\n",
        "| Feature                         | Description                                              |\n",
        "| ------------------------------- | -------------------------------------------------------- |\n",
        "| **Resource-based routing**      | Define resources as classes with methods for HTTP verbs  |\n",
        "| **Request parsing**             | Built-in support for parsing and validating request data |\n",
        "| **Automatic output formatting** | Converts returned dicts to JSON automatically            |\n",
        "| **Error handling**              | Simplifies raising and returning HTTP errors             |\n",
        "| **Extensible**                  | Easily add custom behaviors or decorators                |\n",
        "| **Integration**                 | Works seamlessly with Flask and other Flask extensions   |\n"
      ],
      "metadata": {
        "id": "v9vC4wk1ZLAv"
      }
    },
    {
      "cell_type": "markdown",
      "source": [
        "**Q23. What is the role of Flask’s session object?**"
      ],
      "metadata": {
        "id": "A5lkvsmHZgZ4"
      }
    },
    {
      "cell_type": "markdown",
      "source": [
        "**Ans.** The Flask session object is a way to store data across multiple requests from the same client. It lets you keep user-specific information (like login status, preferences, or temporary data) between page visits without requiring the user to send it every time.\n",
        "\n",
        "- session stores data on the server-side but the data is signed and stored in a client cookie by default.\n",
        "\n",
        "- Flask uses a secret key to cryptographically sign the cookie to prevent tampering.\n",
        "\n",
        "- You can think of it as a secure cookie-based storage for small pieces of user data.\n",
        "\n",
        "*USES:-*\n",
        "\n",
        "- Keeping users logged in after authentication\n",
        "\n",
        "- Tracking user preferences or temporary state\n",
        "\n",
        "- Flash messages between requests (success/error alerts)\n",
        "\n"
      ],
      "metadata": {
        "id": "2Ahz8BHoZt_m"
      }
    },
    {
      "cell_type": "markdown",
      "source": [
        "#**Practical**"
      ],
      "metadata": {
        "id": "1aUksapkL-aJ"
      }
    },
    {
      "cell_type": "markdown",
      "source": [
        "**Q1. How do you create a basic Flask application?**"
      ],
      "metadata": {
        "id": "fJQ1BWghMJC5"
      }
    },
    {
      "cell_type": "code",
      "source": [
        "pip install Flask"
      ],
      "metadata": {
        "id": "-o4jUf2LNAXh"
      },
      "execution_count": null,
      "outputs": []
    },
    {
      "cell_type": "code",
      "source": [
        "# app.py\n",
        "from flask import Flask\n",
        "\n",
        "app = Flask(__name__)\n",
        "\n",
        "@app.route('/')\n",
        "def hello():\n",
        "    return 'Hello, World!'\n",
        "\n",
        "if __name__ == '__main__':\n",
        "    app.run(debug=True)\n"
      ],
      "metadata": {
        "id": "Q-567yfeODu4"
      },
      "execution_count": null,
      "outputs": []
    },
    {
      "cell_type": "markdown",
      "source": [
        "**Q2. How do you serve static files like images or CSS in Flask?**"
      ],
      "metadata": {
        "id": "fObhNY0gOG0w"
      }
    },
    {
      "cell_type": "code",
      "source": [
        "# app.py\n",
        "from flask import Flask, render_template\n",
        "\n",
        "app = Flask(__name__)\n",
        "\n",
        "@app.route('/')\n",
        "def index():\n",
        "    return render_template('index.html')\n",
        "\n",
        "if __name__ == '__main__':\n",
        "    app.run(debug=True)\n"
      ],
      "metadata": {
        "id": "O2ILnffvPUiv"
      },
      "execution_count": null,
      "outputs": []
    },
    {
      "cell_type": "markdown",
      "source": [
        "**Q3. How do you define different routes with different HTTP methods in Flask?**"
      ],
      "metadata": {
        "id": "fGbUYfhQDpGx"
      }
    },
    {
      "cell_type": "code",
      "source": [
        "from flask import Flask, request\n",
        "\n",
        "app = Flask(__name__)\n",
        "\n",
        "# Route for GET requests\n",
        "@app.route('/hello', methods=['GET'])\n",
        "def hello_get():\n",
        "    return \"Hello via GET!\"\n",
        "\n",
        "# Route for POST requests\n",
        "@app.route('/hello', methods=['POST'])\n",
        "def hello_post():\n",
        "    data = request.form.get('name', 'Guest')\n",
        "    return f\"Hello {data} via POST!\"\n",
        "\n",
        "# Route that handles both GET and POST\n",
        "@app.route('/greet', methods=['GET', 'POST'])\n",
        "def greet():\n",
        "    if request.method == 'POST':\n",
        "        name = request.form.get('name', 'Guest')\n",
        "        return f\"Greetings, {name} (POST)\"\n",
        "    else:\n",
        "        return \"Greetings via GET\"\n",
        "\n",
        "if __name__ == '__main__':\n",
        "    app.run(debug=True)\n"
      ],
      "metadata": {
        "colab": {
          "base_uri": "https://localhost:8080/"
        },
        "id": "g7qvEdBrD8Qi",
        "outputId": "570bdba5-aff4-4467-d1c1-283f2a39fab1"
      },
      "execution_count": null,
      "outputs": [
        {
          "output_type": "stream",
          "name": "stdout",
          "text": [
            " * Serving Flask app '__main__'\n",
            " * Debug mode: on\n"
          ]
        },
        {
          "output_type": "stream",
          "name": "stderr",
          "text": [
            "INFO:werkzeug:\u001b[31m\u001b[1mWARNING: This is a development server. Do not use it in a production deployment. Use a production WSGI server instead.\u001b[0m\n",
            " * Running on http://127.0.0.1:5000\n",
            "INFO:werkzeug:\u001b[33mPress CTRL+C to quit\u001b[0m\n",
            "INFO:werkzeug: * Restarting with stat\n"
          ]
        }
      ]
    },
    {
      "cell_type": "markdown",
      "source": [
        "**Q4. How do you render HTML templates in Flask?**"
      ],
      "metadata": {
        "id": "y18UFJlJEMh6"
      }
    },
    {
      "cell_type": "markdown",
      "source": [
        "Ans. In Flask, you render HTML templates using the render_template() function from the flask module. Flask uses the Jinja2 template engine by default to render dynamic content in HTML files.\n",
        "\n",
        "Steps to Render HTML Templates in Flask\n",
        "Create a templates/ directory (Flask looks here by default).\n",
        "\n",
        "Place your HTML files inside this directory.\n",
        "\n",
        "Use render_template() to render the HTML file in your route.\n",
        "\n",
        "**Example**\n",
        "Folder Structure:\n",
        "\n"
      ],
      "metadata": {
        "id": "Hyvf-gi5EXHT"
      }
    },
    {
      "cell_type": "code",
      "source": [
        "your_project/\n",
        "├── app.py\n",
        "└── templates/\n",
        "    └── index.html\n"
      ],
      "metadata": {
        "id": "aNbbGlu0Egiq"
      },
      "execution_count": null,
      "outputs": []
    },
    {
      "cell_type": "code",
      "source": [
        "<!DOCTYPE html>\n",
        "<html>\n",
        "<head>\n",
        "    <title>Hello Page</title>\n",
        "</head>\n",
        "<body>\n",
        "    <h1>Hello, {{ name }}!</h1>\n",
        "</body>\n",
        "</html>\n"
      ],
      "metadata": {
        "id": "aKf92Y7QElUr"
      },
      "execution_count": null,
      "outputs": []
    },
    {
      "cell_type": "code",
      "source": [
        "from flask import Flask, render_template\n",
        "\n",
        "app = Flask(__name__)\n",
        "\n",
        "@app.route('/')\n",
        "def home():\n",
        "    return render_template('index.html', name='Alice')\n",
        "\n",
        "if __name__ == '__main__':\n",
        "    app.run(debug=True)\n"
      ],
      "metadata": {
        "id": "_pI8naf-EmDr"
      },
      "execution_count": null,
      "outputs": []
    },
    {
      "cell_type": "markdown",
      "source": [
        "**Q5. How can you generate URLs for routes in Flask using url_for?**"
      ],
      "metadata": {
        "id": "TOH_hMloEs_0"
      }
    },
    {
      "cell_type": "markdown",
      "source": [
        "**Ans.** In Flask, you use the url_for() function to dynamically generate URLs for your routes based on the name of the view function, not the URL path itself. This is helpful because it makes your code more maintainable — if the URL path changes, you only need to update it in one place (the route decorator), not throughout your code.\n",
        "\n",
        "**Basic Syntax**"
      ],
      "metadata": {
        "id": "1jS2_-dMEyeb"
      }
    },
    {
      "cell_type": "code",
      "source": [
        "url_for('function_name', **kwargs)"
      ],
      "metadata": {
        "id": "wGGSwBatFLlg"
      },
      "execution_count": null,
      "outputs": []
    },
    {
      "cell_type": "markdown",
      "source": [
        "Example:"
      ],
      "metadata": {
        "id": "pyagqCZZFQnc"
      }
    },
    {
      "cell_type": "code",
      "source": [
        "from flask import Flask, url_for, redirect\n",
        "\n",
        "app = Flask(__name__)\n",
        "\n",
        "@app.route('/')\n",
        "def home():\n",
        "    return 'This is the home page.'\n",
        "\n",
        "@app.route('/user/<username>')\n",
        "def profile(username):\n",
        "    return f\"User: {username}\"\n",
        "\n",
        "@app.route('/go-to-profile')\n",
        "def go_to_profile():\n",
        "    # Generates: /user/john\n",
        "    return redirect(url_for('profile', username='john'))\n",
        "\n",
        "if __name__ == '__main__':\n",
        "    app.run(debug=True)\n"
      ],
      "metadata": {
        "id": "Qc8D0e8YFTiG"
      },
      "execution_count": null,
      "outputs": []
    },
    {
      "cell_type": "markdown",
      "source": [
        "**Q6. How do you handle forms in Flask?**"
      ],
      "metadata": {
        "id": "xuF4XGTWFmD-"
      }
    },
    {
      "cell_type": "markdown",
      "source": [
        "**Ans.** Basic Steps to Handle Forms in Flask\n",
        "- Create an HTML form\n",
        "\n",
        "- Create a route to display the form (GET)\n",
        "\n",
        "- Create a route to handle the form submission (POST)\n",
        "\n",
        "- Access the submitted data using request.form"
      ],
      "metadata": {
        "id": "c7KsUwe3F2ag"
      }
    },
    {
      "cell_type": "markdown",
      "source": [
        "**form.html (in templates/)**"
      ],
      "metadata": {
        "id": "wvBgTKKxGn3Z"
      }
    },
    {
      "cell_type": "code",
      "source": [
        "<!DOCTYPE html>\n",
        "<html>\n",
        "<head>\n",
        "    <title>Form Example</title>\n",
        "</head>\n",
        "<body>\n",
        "    <h1>Enter Your Name</h1>\n",
        "    <form method=\"POST\" action=\"/submit\">\n",
        "        <input type=\"text\" name=\"name\" placeholder=\"Your name\">\n",
        "        <input type=\"submit\" value=\"Submit\">\n",
        "    </form>\n",
        "</body>\n",
        "</html>\n"
      ],
      "metadata": {
        "id": "G_dqdUe1GpuL"
      },
      "execution_count": null,
      "outputs": []
    },
    {
      "cell_type": "markdown",
      "source": [
        "#app.py\n",
        "\n",
        "from flask import Flask, render_template, request\n",
        "\n",
        "app = Flask(__name__)\n",
        "\n",
        "@app.route('/')\n",
        "def form():\n",
        "    return render_template('form.html')\n",
        "\n",
        "@app.route('/submit', methods=['POST'])\n",
        "def submit():\n",
        "    name = request.form.get('name')\n",
        "    return f'Hello, {name}!'\n",
        "\n",
        "if __name__ == '__main__':\n",
        "    app.run(debug=True)\n"
      ],
      "metadata": {
        "id": "8g_-rGDoHi1N"
      }
    },
    {
      "cell_type": "markdown",
      "source": [
        "**Q7. How can you validate form data in Flask?**"
      ],
      "metadata": {
        "id": "g326G2yUHyN0"
      }
    },
    {
      "cell_type": "markdown",
      "source": [
        "**Ans.** In Flask, you can validate form data either manually or by using a library like WTForms, which provides a structured and clean way to define and validate forms."
      ],
      "metadata": {
        "id": "H0p2g9bkH4HG"
      }
    },
    {
      "cell_type": "code",
      "source": [
        "#Option 1: Manual Validation with request.form\n",
        "\n",
        "from flask import Flask, request, render_template\n",
        "\n",
        "app = Flask(__name__)\n",
        "\n",
        "@app.route('/register', methods=['GET', 'POST'])\n",
        "def register():\n",
        "    error = None\n",
        "    if request.method == 'POST':\n",
        "        username = request.form.get('username')\n",
        "        email = request.form.get('email')\n",
        "        if not username or not email:\n",
        "            error = 'Username and email are required.'\n",
        "        elif '@' not in email:\n",
        "            error = 'Invalid email address.'\n",
        "        else:\n",
        "            return f\"Welcome, {username}!\"\n",
        "    return render_template('register.html', error=error)\n"
      ],
      "metadata": {
        "id": "1_W86gN0H8x-"
      },
      "execution_count": null,
      "outputs": []
    },
    {
      "cell_type": "code",
      "source": [
        "#html\n",
        "\n",
        "<form method=\"post\">\n",
        "    <input type=\"text\" name=\"username\" placeholder=\"Username\"><br>\n",
        "    <input type=\"email\" name=\"email\" placeholder=\"Email\"><br>\n",
        "    <input type=\"submit\" value=\"Register\"><br>\n",
        "    {% if error %}\n",
        "        <p style=\"color:red;\">{{ error }}</p>\n",
        "    {% endif %}\n",
        "</form>\n"
      ],
      "metadata": {
        "id": "8s0blCldID__"
      },
      "execution_count": null,
      "outputs": []
    },
    {
      "cell_type": "markdown",
      "source": [
        "**Q8. How do you manage sessions in Flask?**"
      ],
      "metadata": {
        "id": "ls2jyDRCIJ-H"
      }
    },
    {
      "cell_type": "markdown",
      "source": [
        "**Ans.** In Flask, sessions allow you to store data across multiple requests for a specific user (like login state, shopping cart contents, etc.). Flask stores session data on the client side in a securely signed cookie.\n",
        "\n",
        "**Flask Sessions Work:-**\n",
        "- Flask uses a cookie named session to store data.\n",
        "\n",
        "- The data is encrypted and signed using a secret key.\n",
        "\n",
        "- You access and modify session data using the session object from flask."
      ],
      "metadata": {
        "id": "cu39xgfiIME-"
      }
    },
    {
      "cell_type": "markdown",
      "source": [
        "Setup Example:\n",
        "\n",
        "1. Import and Set a Secret Key:"
      ],
      "metadata": {
        "id": "vAjHO0fhIYeO"
      }
    },
    {
      "cell_type": "code",
      "source": [
        "from flask import Flask, session, redirect, url_for, request\n",
        "\n",
        "app = Flask(__name__)\n",
        "app.secret_key = 'your_secret_key'  # Required for session security\n"
      ],
      "metadata": {
        "id": "lHQesSHcIcyX"
      },
      "execution_count": null,
      "outputs": []
    },
    {
      "cell_type": "markdown",
      "source": [
        "**2. Set Session Data**"
      ],
      "metadata": {
        "id": "sWn-WocCIhwm"
      }
    },
    {
      "cell_type": "code",
      "source": [
        "@app.route('/login', methods=['POST', 'GET'])\n",
        "def login():\n",
        "    if request.method == 'POST':\n",
        "        session['username'] = request.form['username']\n",
        "        return redirect(url_for('profile'))\n",
        "    return '''\n",
        "        <form method=\"post\">\n",
        "            <input name=\"username\">\n",
        "            <input type=\"submit\">\n",
        "        </form>\n",
        "    '''\n"
      ],
      "metadata": {
        "id": "2YCiwodsIjy4"
      },
      "execution_count": null,
      "outputs": []
    },
    {
      "cell_type": "markdown",
      "source": [
        "**3. Access Session Data**"
      ],
      "metadata": {
        "id": "mnQ2zIhgInau"
      }
    },
    {
      "cell_type": "code",
      "source": [
        "@app.route('/profile')\n",
        "def profile():\n",
        "    if 'username' in session:\n",
        "        return f\"Hello, {session['username']}!\"\n",
        "    return redirect(url_for('login'))\n"
      ],
      "metadata": {
        "id": "MwcPY6yaIpQP"
      },
      "execution_count": null,
      "outputs": []
    },
    {
      "cell_type": "markdown",
      "source": [
        "**4. Remove Session Data (Logout)**"
      ],
      "metadata": {
        "id": "BK5m-2yeIr1f"
      }
    },
    {
      "cell_type": "code",
      "source": [
        "@app.route('/logout')\n",
        "def logout():\n",
        "    session.pop('username', None)  # Remove username from session\n",
        "    return redirect(url_for('login'))\n"
      ],
      "metadata": {
        "id": "hS_SfyQvIuvp"
      },
      "execution_count": null,
      "outputs": []
    },
    {
      "cell_type": "markdown",
      "source": [
        "**Q9. How do you redirect to a different route in Flask?**"
      ],
      "metadata": {
        "id": "D8Qu6KZ2Iztf"
      }
    },
    {
      "cell_type": "markdown",
      "source": [
        "**Ans.** In Flask, you redirect to a different route using the redirect() function, typically combined with url_for() to dynamically generate the target route.\n",
        "\n",
        "**Example: **"
      ],
      "metadata": {
        "id": "JoMue8lMJLDp"
      }
    },
    {
      "cell_type": "code",
      "source": [
        "from flask import Flask, redirect, url_for\n",
        "\n",
        "app = Flask(__name__)\n",
        "\n",
        "@app.route('/')\n",
        "def home():\n",
        "    return 'Welcome to the homepage.'\n",
        "\n",
        "@app.route('/login')\n",
        "def login():\n",
        "    return 'Please log in.'\n",
        "\n",
        "@app.route('/secret')\n",
        "def secret():\n",
        "    # Redirects to the login page\n",
        "    return redirect(url_for('login'))\n"
      ],
      "metadata": {
        "id": "CXSf9xHqJQDB"
      },
      "execution_count": null,
      "outputs": []
    },
    {
      "cell_type": "code",
      "source": [
        "#Redirect with Parameters\n",
        "\n",
        "@app.route('/hello/<name>')\n",
        "def hello(name):\n",
        "    return f'Hello, {name}!'\n",
        "\n",
        "@app.route('/go-to-hello')\n",
        "def go_to_hello():\n",
        "    return redirect(url_for('hello', name='Alice'))\n"
      ],
      "metadata": {
        "id": "mY812_EkJaaw"
      },
      "execution_count": null,
      "outputs": []
    },
    {
      "cell_type": "markdown",
      "source": [
        "**Q10. How do you handle errors in Flask (e.g., 404)?**"
      ],
      "metadata": {
        "id": "FscXBLMkJkKK"
      }
    },
    {
      "cell_type": "markdown",
      "source": [
        "**Ans.** In Flask, you can handle errors like 404 Not Found, 500 Internal Server Error, etc., using error handlers with the @app.errorhandler decorator.\n",
        "\n",
        "**Example: **\n",
        "\n"
      ],
      "metadata": {
        "id": "VbrA1VwAJmVn"
      }
    },
    {
      "cell_type": "code",
      "source": [
        "# 1. Define the Error Handler in Your App.\n",
        "\n",
        "from flask import Flask, render_template\n",
        "\n",
        "app = Flask(__name__)\n",
        "\n",
        "@app.errorhandler(404)\n",
        "def page_not_found(error):\n",
        "    return render_template('404.html'), 404\n",
        "\n",
        "\n",
        "#2. 2. Create the Template (templates/404.html)\n",
        "\n",
        "<!DOCTYPE html>\n",
        "<html>\n",
        "<head>\n",
        "    <title>Page Not Found</title>\n",
        "</head>\n",
        "<body>\n",
        "    <h1>404 - Page Not Found</h1>\n",
        "    <p>Oops! The page you're looking for doesn't exist.</p>\n",
        "</body>\n",
        "</html>\n"
      ],
      "metadata": {
        "id": "bi4EtZbNJzO3"
      },
      "execution_count": null,
      "outputs": []
    },
    {
      "cell_type": "markdown",
      "source": [
        "**Q11. How do you structure a Flask app using Blueprints?**"
      ],
      "metadata": {
        "id": "sVtTB54YKD-4"
      }
    },
    {
      "cell_type": "markdown",
      "source": [
        "**Ans.** Using Blueprints in Flask allows you to organize your application into modular components—especially useful for larger apps. Each blueprint can contain its own views, templates, static files, and error handlers.\n",
        "\n",
        "A Blueprint is like a \"mini app\" that you can register on your main Flask app. This allows you to separate concerns like:\n",
        "\n",
        "- auth routes\n",
        "\n",
        "- admin dashboard\n",
        "\n",
        "- blog functionality\n",
        "\n"
      ],
      "metadata": {
        "id": "p-QHWyuWKtRa"
      }
    },
    {
      "cell_type": "code",
      "source": [
        "# Folder Structure Example:\n",
        "\n",
        "myapp/\n",
        "├── app.py\n",
        "├── auth/\n",
        "│   ├── __init__.py\n",
        "│   └── routes.py\n",
        "└── templates/\n",
        "    └── login.html\n"
      ],
      "metadata": {
        "id": "fJ7vyMIwLZHb"
      },
      "execution_count": null,
      "outputs": []
    },
    {
      "cell_type": "markdown",
      "source": [
        " Define the Blueprint – auth/routes.py"
      ],
      "metadata": {
        "id": "eVER0RhBLfMT"
      }
    },
    {
      "cell_type": "code",
      "source": [
        "from flask import Blueprint, render_template, request\n",
        "\n",
        "auth_bp = Blueprint('auth', __name__, url_prefix='/auth')\n",
        "\n",
        "@auth_bp.route('/login', methods=['GET', 'POST'])\n",
        "def login():\n",
        "    if request.method == 'POST':\n",
        "        return \"Logged in!\"\n",
        "    return render_template('login.html')\n"
      ],
      "metadata": {
        "id": "dQUv4r3KLhTz"
      },
      "execution_count": null,
      "outputs": []
    },
    {
      "cell_type": "markdown",
      "source": [
        "**Q12. How do you define a custom Jinja filter in Flask?**"
      ],
      "metadata": {
        "id": "Thnb7uqZLvZM"
      }
    },
    {
      "cell_type": "markdown",
      "source": [
        "**Ans.** In Flask, you can define a custom Jinja filter by writing a Python function and registering it with Flask using the @app.template_filter() decorator or app.add_template_filter()."
      ],
      "metadata": {
        "id": "B4VLc7_MLyHL"
      }
    },
    {
      "cell_type": "markdown",
      "source": [
        "**Option 1: Using @app.template_filter**"
      ],
      "metadata": {
        "id": "W0Rk2ZhxL4QW"
      }
    },
    {
      "cell_type": "code",
      "source": [
        "from flask import Flask\n",
        "\n",
        "app = Flask(__name__)\n",
        "\n",
        "# Define the custom filter\n",
        "@app.template_filter('reverse')\n",
        "def reverse_filter(s):\n",
        "    return s[::-1]\n",
        "\n",
        "@app.route('/')\n",
        "def index():\n",
        "    return '''\n",
        "        {{ \"hello\" | reverse }}\n",
        "    '''\n"
      ],
      "metadata": {
        "id": "Rje3guOTL7uE"
      },
      "execution_count": null,
      "outputs": []
    },
    {
      "cell_type": "markdown",
      "source": [
        "**Option 2: Using app.add_template_filter()**"
      ],
      "metadata": {
        "id": "LiN78zV2L-ss"
      }
    },
    {
      "cell_type": "code",
      "source": [
        "def capitalize_words(s):\n",
        "    return ' '.join(word.capitalize() for word in s.split())\n",
        "\n",
        "app.add_template_filter(capitalize_words, name='capitalize_words')\n"
      ],
      "metadata": {
        "id": "m2yRL8gYMBme"
      },
      "execution_count": null,
      "outputs": []
    },
    {
      "cell_type": "markdown",
      "source": [
        "**Q13. How can you redirect with query parameters in Flask?**"
      ],
      "metadata": {
        "id": "1bMDLuoJMPof"
      }
    },
    {
      "cell_type": "markdown",
      "source": [
        "**Ans.** To redirect with query parameters in Flask, you generate the URL using url_for() and pass the query parameters as keyword arguments. Then, you pass that URL to redirect()."
      ],
      "metadata": {
        "id": "N9X5ckjmNCsW"
      }
    },
    {
      "cell_type": "code",
      "source": [
        "#from flask import Flask, redirect, url_for\n",
        "\n",
        "app = Flask(__name__)\n",
        "\n",
        "@app.route('/search')\n",
        "def search():\n",
        "    # Just a placeholder route\n",
        "    return \"Search results page\"\n",
        "\n",
        "@app.route('/go-to-search')\n",
        "def go_to_search():\n",
        "    # Redirect to /search?q=flask&sort=desc\n",
        "    return redirect(url_for('search', q='flask', sort='desc'))\n",
        "\n",
        "if __name__ == '__main__':\n",
        "    app.run(debug=True)\n"
      ],
      "metadata": {
        "id": "G9lNo1JHNIZN"
      },
      "execution_count": null,
      "outputs": []
    },
    {
      "cell_type": "markdown",
      "source": [
        "**Q14. How do you return JSON responses in Flask?**"
      ],
      "metadata": {
        "id": "fQXBpg4HNuJv"
      }
    },
    {
      "cell_type": "markdown",
      "source": [
        "**Ans.** In Flask, you return JSON responses easily using the built-in jsonify() function, which converts your Python data (like dictionaries or lists) into a proper JSON response with the correct MIME type (application/json)."
      ],
      "metadata": {
        "id": "NHKLvd6-N6g3"
      }
    },
    {
      "cell_type": "code",
      "source": [
        "# from flask import Flask, jsonify\n",
        "\n",
        "app = Flask(__name__)\n",
        "\n",
        "@app.route('/api/data')\n",
        "def get_data():\n",
        "    data = {\n",
        "        \"name\": \"Alice\",\n",
        "        \"age\": 30,\n",
        "        \"city\": \"Paris\"\n",
        "    }\n",
        "    return jsonify(data)\n"
      ],
      "metadata": {
        "id": "Y8rg8xgSN-0h"
      },
      "execution_count": null,
      "outputs": []
    },
    {
      "cell_type": "markdown",
      "source": [
        "**What jsonify() Does**\n",
        "- Converts Python dict/list to JSON string\n",
        "\n",
        "- Sets Content-Type header to application/json\n",
        "\n",
        "- Handles character encoding and ensures a proper HTTP response"
      ],
      "metadata": {
        "id": "3Awp8UCpOFAv"
      }
    },
    {
      "cell_type": "markdown",
      "source": [
        "**Q15. How do you capture URL parameters in Flask?**"
      ],
      "metadata": {
        "id": "X3vRy9ZeOO3I"
      }
    },
    {
      "cell_type": "markdown",
      "source": [
        "**Ans.** In Flask, you capture URL parameters by defining variable parts in your route URL using angle brackets < >. These variables are then passed as arguments to your view function.\n",
        "\n",
        "Examples:"
      ],
      "metadata": {
        "id": "oB7bwTH5OrFQ"
      }
    },
    {
      "cell_type": "markdown",
      "source": [
        "1. Capture a string parameter (default type)"
      ],
      "metadata": {
        "id": "z9GGLwVCO13Q"
      }
    },
    {
      "cell_type": "code",
      "source": [
        "@app.route('/post/<post_id>')\n",
        "def show_post(post_id):\n",
        "    return f\"Post ID: {post_id}\"\n"
      ],
      "metadata": {
        "id": "PitITwfQO3eB"
      },
      "execution_count": null,
      "outputs": []
    },
    {
      "cell_type": "markdown",
      "source": [
        "2. Capture an integer parameter"
      ],
      "metadata": {
        "id": "Wz1koDloO54h"
      }
    },
    {
      "cell_type": "code",
      "source": [
        "@app.route('/item/<int:item_id>')\n",
        "def show_item(item_id):\n",
        "    return f\"Item ID: {item_id} (type: {type(item_id)})\""
      ],
      "metadata": {
        "id": "PESrF7GcO76L"
      },
      "execution_count": null,
      "outputs": []
    },
    {
      "cell_type": "markdown",
      "source": [
        "3. Capture a float parameter"
      ],
      "metadata": {
        "id": "x2g6HZJaO_yI"
      }
    },
    {
      "cell_type": "code",
      "source": [
        "@app.route('/price/<float:value>')\n",
        "def show_price(value):\n",
        "    return f\"Price: {value}\"\n"
      ],
      "metadata": {
        "id": "vQVOFAtpPBvK"
      },
      "execution_count": null,
      "outputs": []
    },
    {
      "cell_type": "markdown",
      "source": [
        "4. Capture a path (captures slashes)"
      ],
      "metadata": {
        "id": "gP5Mu8hmPHHh"
      }
    },
    {
      "cell_type": "code",
      "source": [
        "@app.route('/path/<path:subpath>')\n",
        "def show_subpath(subpath):\n",
        "    return f\"Subpath: {subpath}\"\n"
      ],
      "metadata": {
        "id": "5PznSixOPN-5"
      },
      "execution_count": null,
      "outputs": []
    }
  ]
}