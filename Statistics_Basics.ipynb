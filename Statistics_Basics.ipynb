{
  "nbformat": 4,
  "nbformat_minor": 0,
  "metadata": {
    "colab": {
      "provenance": []
    },
    "kernelspec": {
      "name": "python3",
      "display_name": "Python 3"
    },
    "language_info": {
      "name": "python"
    }
  },
  "cells": [
    {
      "cell_type": "markdown",
      "source": [
        "**Q1. What is statistics, and why is it important?**"
      ],
      "metadata": {
        "id": "QpgCP5kxuFYw"
      }
    },
    {
      "cell_type": "markdown",
      "source": [
        "**Ans.** Statistics is a branch of mathematics that deals with collecting, organizing, analyzing, interpreting, and presenting data. It provides tools and methods to make sense of numerical data and draw meaningful conclusions, often in the presence of uncertainty.\n",
        "\n",
        "**Statistics Important for following reasons:-**\n",
        "\n",
        "**Informed Decision-Making**\n",
        "- Helps individuals and organizations make data-driven choices instead of relying on guesswork.\n",
        "\n",
        "**Understanding Variability**\n",
        "- Recognizes patterns and identifies outliers or anomalies in data.\n",
        "\n",
        "**Scientific Research**\n",
        "- Validates hypotheses and ensures the reliability of experimental results.\n",
        "\n",
        "**Business Optimization**\n",
        "- Companies use statistics for market analysis, quality control, and performance evaluation.\n",
        "\n",
        "**Public Policy and Government**\n",
        "- Essential for census data, economic planning, and resource allocation.\n",
        "\n",
        "**Health and Medicine**\n",
        "- Used in clinical trials to evaluate the effectiveness of treatments."
      ],
      "metadata": {
        "id": "VRLIxM6puY-x"
      }
    },
    {
      "cell_type": "markdown",
      "source": [
        "**Q2. What are the two main types of statistics?**"
      ],
      "metadata": {
        "id": "QigueLq9vET_"
      }
    },
    {
      "cell_type": "markdown",
      "source": [
        "**Ans.** The two main types of statistics are:\n",
        "1. Descriptive Statistics:\n",
        "2. Inferential Statistics\n",
        "\n",
        "**Descriptive statistics** summarize and describe the main features of a dataset. They help organize raw data into a more understandable form.\n",
        "\n",
        "**Key Tools:**\n",
        "- Measures of Central Tendency: Mean (average), median, mode\n",
        "\n",
        "- Measures of Dispersion: Range, variance, standard deviation\n",
        "\n",
        "- Data Visualization: Tables, graphs, histograms, pie charts.\n",
        "\n",
        "**Inferential statistics** use a sample of data to make predictions, estimates, or generalizations about a larger population.\n",
        "\n",
        "**Key Tools:**\n",
        "- Hypothesis testing\n",
        "\n",
        "- Confidence intervals\n",
        "\n",
        "- Regression analysis\n",
        "\n",
        "- ANOVA (Analysis of Variance)"
      ],
      "metadata": {
        "id": "VKEDaCVSvWoA"
      }
    },
    {
      "cell_type": "markdown",
      "source": [
        "**Q3. What are descriptive statistics?**"
      ],
      "metadata": {
        "id": "YO7T_LtMzyyP"
      }
    },
    {
      "cell_type": "markdown",
      "source": [
        "**Ans.** Descriptive statistics are methods used to summarize, organize, and describe the essential features of a dataset. They provide a quick and clear overview of the data without making any predictions or generalizations beyond the data itself.\n",
        "\n",
        "**Main Types of Descriptive Statistics:**\n",
        "\n",
        "**1.Measures of Central Tendency** Tell us where the center of the data lies:\n",
        "\n",
        "- Mean: The average of all values\n",
        "\n",
        "- Median: The middle value when data is ordered\n",
        "\n",
        "- Mode: The value that appears most often\n",
        "\n",
        "**2.Measures of Dispersion (Spread)**  Tell us how spread out the data is:\n",
        "\n",
        "- Range: Difference between the highest and lowest values\n",
        "\n",
        "- Variance: How much the data varies from the mean\n",
        "\n",
        "- Standard Deviation: Average distance from the mean\n",
        "\n",
        "**3. Measures of Position**  Show where a value lies within the dataset:\n",
        "\n",
        "- Percentiles\n",
        "\n",
        "- Quartiles\n",
        "\n",
        "**4. Data Visualization Tools** Help to display data visually:\n",
        "\n",
        "- Tables\n",
        "\n",
        "- Bar charts\n",
        "\n",
        "- Histograms\n",
        "\n",
        "- Pie charts\n",
        "\n",
        "- Box plots\n",
        "\n"
      ],
      "metadata": {
        "id": "uS9WjV4m0KTu"
      }
    },
    {
      "cell_type": "markdown",
      "source": [
        "**Q4. What is inferential statistics?**"
      ],
      "metadata": {
        "id": "zdHieB-YqB_C"
      }
    },
    {
      "cell_type": "markdown",
      "source": [
        "Ans. Inferential statistics is a branch of statistics that allows you to make predictions, decisions, or generalizations about a larger population based on a sample of data.\n",
        "\n",
        "**Main Purposes of Inferential Statistics:**\n",
        "- Estimate population parameters (like mean or proportion).\n",
        "\n",
        "- Test hypotheses (e.g., does a new teaching method improve test scores?).\n",
        "\n",
        "- Make predictions (e.g., future sales or election results).\n",
        "\n",
        "- Determine relationships (e.g., between variables like income and education)."
      ],
      "metadata": {
        "id": "3MYoVGsXqGYZ"
      }
    },
    {
      "cell_type": "markdown",
      "source": [
        "**Q5. What is sampling in statistics?**"
      ],
      "metadata": {
        "id": "fv2dOfIwqVpR"
      }
    },
    {
      "cell_type": "markdown",
      "source": [
        "**Ans.** Sampling in statistics is the process of selecting a subset (sample) from a larger group (population) to gather insights, make estimations, or draw conclusions without having to survey the entire population.\n",
        "\n",
        "**Types of Sampling Methods:**\n",
        "1. **Random Sampling** - Every member has an equal chance (unbiased and ideal).\n",
        "\n",
        "2. **Systematic Sampling** - Select every kᵗʰ member (e.g., every 10th person).\n",
        "\n",
        "3. **Stratified Sampling** - Divide population into groups (strata) and sample from each.\n",
        "\n",
        "4. **Cluster Sampling** - Divide population into clusters, randomly select whole clusters.\n",
        "\n",
        "5. **Convenience Sampling** - Use whoever’s easiest to reach (less reliable, more biased)."
      ],
      "metadata": {
        "id": "tD6RrnIcqX0K"
      }
    },
    {
      "cell_type": "markdown",
      "source": [
        "**Q6. What are the different types of sampling methods?**"
      ],
      "metadata": {
        "id": "wMlxkCZrq_x5"
      }
    },
    {
      "cell_type": "markdown",
      "source": [
        "**Ans.** Sampling methods are broadly categorized into two types: probability sampling and non-probability sampling.\n",
        "\n",
        "1. **Probability Sampling**\n",
        "Every individual in the population has a known, non-zero chance of being selected. This makes results more reliable and generalizable.\n",
        "\n",
        "a. Simple Random Sampling\n",
        "- Every member has an equal chance of selection.\n",
        "\n",
        "Example: Drawing names from a hat.\n",
        "\n",
        "b. Systematic Sampling\n",
        "- Select every kᵗʰ member from a list (e.g., every 10th person).\n",
        "\n",
        "- Needs a well-organized list.\n",
        "\n",
        "c. Stratified Sampling\n",
        "- Divide population into strata (groups) based on characteristics (e.g., age, gender), then randomly sample from each group.\n",
        "\n",
        "- Ensures representation of all sub-groups.\n",
        "\n",
        "d. Cluster Sampling\n",
        "- Divide population into clusters (e.g., schools, cities), randomly select entire clusters, and sample all or some members within them.\n",
        "\n",
        "- Useful when population is geographically spread out.\n",
        "\n",
        "**2. Non-Probability Sampling**\n",
        "- Not all individuals have a known or equal chance of being selected. Often easier and cheaper, but less reliable for generalization.\n",
        "\n",
        "a. Convenience Sampling\n",
        "- Choose individuals who are easiest to access (e.g., classmates, passersby).\n",
        "\n",
        "- Risk of bias is high.\n",
        "\n",
        "b. Judgmental or Purposive Sampling\n",
        "Researcher selects based on their judgment who would be most useful.\n",
        "\n",
        "Common in qualitative research.\n",
        "\n",
        "c. Snowball Sampling\n",
        "- Existing participants recruit others (used in hard-to-reach populations).\n",
        "\n",
        "Example: Surveying people with a rare condition.\n",
        "\n",
        "d. Quota Sampling\n",
        "- Similar to stratified, but non-random: researcher fills quotas for different subgroups."
      ],
      "metadata": {
        "id": "SqKxD1M5rBWg"
      }
    },
    {
      "cell_type": "markdown",
      "source": [
        "**Q7. What is the difference between random and non-random sampling?**"
      ],
      "metadata": {
        "id": "t6HK9nSKr9HR"
      }
    },
    {
      "cell_type": "markdown",
      "source": [
        "**Ans.** Difference between random and non-random sampling is how the sample is selected, and it has a big impact on the reliability and bias of your results.\n",
        "\n",
        "**1. Random Sampling (Probability Sampling)** - Every member of the population has a known and equal chance of being selected.\n",
        "\n",
        "**Key Features:**\n",
        "- Unbiased (minimizes selection bias)\n",
        "\n",
        "- Representative of the population (more reliable results)\n",
        "\n",
        "- Can be used for statistical inference\n",
        "\n",
        "**2. Non-Random Sampling (Non-Probability Sampling)** - Some members of the population have no chance or an unknown chance of being selected.\n",
        "\n",
        "**Key Features:**\n",
        "- Can be biased (depends on who is chosen)\n",
        "\n",
        "- Not always representative of the whole population\n",
        "\n",
        "- Often used in exploratory or qualitative research.\n"
      ],
      "metadata": {
        "id": "p23MbCFysN9S"
      }
    },
    {
      "cell_type": "markdown",
      "source": [
        "**Q8. Define and give examples of qualitative and quantitative data.**"
      ],
      "metadata": {
        "id": "RxaiaG29svh5"
      }
    },
    {
      "cell_type": "markdown",
      "source": [
        "**Ans.** **Quantitative Data** - Data that is numerical and can be measured or counted. It represents quantities and can be used in calculations and statistical analysis.\n",
        "\n",
        "**Characteristics:**\n",
        "- Expressed in numbers\n",
        "\n",
        "- Can be discrete (countable) or continuous (measurable)\n",
        "\n",
        "- Suitable for graphs, charts, and statistical tests.\n",
        "\n",
        "**Qualitative Data** - Data that is descriptive and relates to characteristics, attributes, or categories. It cannot be measured numerically but can be observed.\n",
        "\n",
        "**Characteristics:**\n",
        "- Expressed in words, labels, or categories\n",
        "\n",
        "- Describes qualities or features\n",
        "\n",
        "- Often collected via interviews, surveys, or observations."
      ],
      "metadata": {
        "id": "GCjAeiRMs-5P"
      }
    },
    {
      "cell_type": "markdown",
      "source": [
        "**Q9. What are the different types of data in statistics?**"
      ],
      "metadata": {
        "id": "IVdi1ymCtWwf"
      }
    },
    {
      "cell_type": "markdown",
      "source": [
        "**Ans.** **1. Qualitative (Categorical) Data**\n",
        "- Describes categories or qualities and cannot be measured numerically.\n",
        "\n",
        "*Types of Qualitative Data:*\n",
        "- Nominal: Categories with no natural order.\n",
        "\n",
        "Example: Colors (red, blue, green), Gender (male, female).\n",
        "\n",
        "**Ordinal**: Categories with a clear order or ranking, but differences between ranks are not necessarily equal.\n",
        "\n",
        "Example: Education level (high school < bachelor < master), Customer satisfaction ratings (poor, fair, good, excellent).\n",
        "\n",
        "**2. Quantitative (Numerical) Data**\n",
        "- Represents numbers and can be measured or counted.\n",
        "\n",
        "*Types of Quantitative Data:*\n",
        "- Discrete: Countable values, usually integers.\n",
        "\n",
        "Example: Number of students in a class, number of cars in a parking lot.\n",
        "\n",
        "*Continuous:* Measurable values that can take any number within a range.\n",
        "\n",
        "Example: Height, weight, temperature, time."
      ],
      "metadata": {
        "id": "LbE2CF-kt01g"
      }
    },
    {
      "cell_type": "markdown",
      "source": [
        "**Q10. Explain nominal, ordinal, interval, and ratio levels of measurement.**"
      ],
      "metadata": {
        "id": "gajiG3JluUBn"
      }
    },
    {
      "cell_type": "markdown",
      "source": [
        "**Ans.**\n",
        "**1. Nominal Level**\n",
        "- Data are placed into categories without any order or ranking.\n",
        "\n",
        "*Characteristics:*\n",
        "\n",
        "- Categories are labels or names.\n",
        "\n",
        "- No mathematical operations make sense here.\n",
        "\n",
        "**2. Ordinal Level**\n",
        "- Data are categorized with a meaningful order or ranking, but the differences between ranks are not necessarily equal.\n",
        "\n",
        "*Characteristics:*\n",
        "\n",
        "- You can say which is greater or less.\n",
        "\n",
        "- You can’t measure the exact difference between ranks.\n",
        "\n",
        "**3. Interval Level**\n",
        "- Data have ordered categories with equal intervals between values, but no true zero point.\n",
        "\n",
        "*Characteristics:*\n",
        "\n",
        "- You can add and subtract values.\n",
        "\n",
        "- Ratios don’t make sense (e.g., 20°C is not twice as hot as 10°C).\n",
        "\n",
        "**4. Ratio Level**\n",
        "Definition: Like interval data, but with a true zero point meaning absence of the quantity.\n",
        "\n",
        "*Characteristics:*\n",
        "\n",
        "- You can add, subtract, multiply, and divide.\n",
        "\n",
        "- Ratios make sense (e.g., 20 kg is twice as heavy as 10 kg)."
      ],
      "metadata": {
        "id": "pLWsK6UAuWJ3"
      }
    },
    {
      "cell_type": "markdown",
      "source": [
        "**Q11. What is the measure of central tendency?**"
      ],
      "metadata": {
        "id": "y7XU5Ecgv-D3"
      }
    },
    {
      "cell_type": "markdown",
      "source": [
        "**Ans.** Measure of central tendency refers to statistical values that represent the center or typical value of a dataset. They give you a single number that summarizes a large set of data by identifying the middle point or the most common value.\n",
        "\n",
        "*The three main measures are:*\n",
        "\n",
        "**Mean (Average)**\n",
        "\n",
        "- Sum of all values divided by the number of values.\n",
        "\n",
        "- Sensitive to extreme values (outliers).\n",
        "\n",
        "Example: The average test score of a class.\n",
        "\n",
        "**Median**\n",
        "\n",
        "- The middle value when data is ordered from smallest to largest.\n",
        "\n",
        "- Not affected by outliers.\n",
        "\n",
        "- Example: Median house price in a neighborhood.\n",
        "\n",
        "**Mode**\n",
        "\n",
        "- The most frequently occurring value in the dataset.\n",
        "\n",
        "- Can have more than one mode or none.\n",
        "\n",
        "- Example: The most common shoe size sold in a store.\n",
        "\n"
      ],
      "metadata": {
        "id": "zLM5d-eGwCpX"
      }
    },
    {
      "cell_type": "markdown",
      "source": [
        "**Q12. Define mean, median, and mode.**"
      ],
      "metadata": {
        "id": "_gs3BkzBwd7n"
      }
    },
    {
      "cell_type": "markdown",
      "source": [
        "**Ans.**\n",
        "**1. Mean**\n",
        "- Also called the average.\n",
        "\n",
        "- It’s the sum of all values divided by the number of values.\n",
        "\n",
        "**2. Median**\n",
        "- The middle value when all data points are arranged in order.\n",
        "\n",
        "- If there’s an even number of values, median is the average of the two middle numbers.\n",
        "\n",
        "**3. Mode**\n",
        "\n",
        "- The value(s) that appear most frequently in the data.\n",
        "\n",
        "- There can be no mode, one mode, or multiple modes."
      ],
      "metadata": {
        "id": "Ay2EeM_bwheP"
      }
    },
    {
      "cell_type": "markdown",
      "source": [
        "**Q13. What is the significance of the measure of central tendency?**"
      ],
      "metadata": {
        "id": "QL8JAwP5w2Vf"
      }
    },
    {
      "cell_type": "markdown",
      "source": [
        "**Ans.** The measure of central tendency is super important because it helps summarize a large set of data with a single representative value, giving you a quick sense of the “typical” or “average” case.\n",
        "\n",
        "*Here’s why it matters:*\n",
        "**Simplifies Data Interpretation**\n",
        "- Instead of looking at every data point, you get a snapshot that represents the whole dataset.\n",
        "\n",
        "**Facilitates Comparison**\n",
        "- Helps compare different groups or datasets easily by comparing their central values.\n",
        "\n",
        "**Supports Decision Making**\n",
        "- Businesses, researchers, and policymakers rely on these measures to make informed choices based on typical trends.\n",
        "\n",
        "**Identifies Trends and Patterns**\n",
        "- Reveals the central location where data tends to cluster.\n",
        "\n",
        "**Foundation for Further Analysis**\n",
        "- Central tendency measures are often the starting point before diving into more complex statistical analysis like variability or hypothesis testing.\n",
        "\n"
      ],
      "metadata": {
        "id": "1e0RNPzjw8kn"
      }
    },
    {
      "cell_type": "markdown",
      "source": [
        "**Q14. What is variance, and how is it calculated?**"
      ],
      "metadata": {
        "id": "aF1Pi3cyxP9o"
      }
    },
    {
      "cell_type": "markdown",
      "source": [
        "**Ans.** Variance is a key measure in statistics that tells you how spread out or dispersed the data points are around the mean (average). In other words, it shows how much the data varies.\n",
        "- It measures the average of the squared differences between each data point and the mean.\n",
        "\n",
        "- A small variance means data points are close to the mean (less spread out).\n",
        "\n",
        "- A large variance means data points are more spread out.\n",
        "\n",
        "*Calculate Variance:*\n",
        "- Find the mean of the data.\n",
        "\n",
        "- Subtract the mean from each data point to find the difference.\n",
        "\n",
        "- Square each difference (to make it positive).\n",
        "\n",
        "- Find the average of these squared differences.\n",
        "\n",
        "\n",
        "\n"
      ],
      "metadata": {
        "id": "9sPA7JCjxWae"
      }
    },
    {
      "cell_type": "markdown",
      "source": [
        "**Q15. What is standard deviation, and why is it important?**"
      ],
      "metadata": {
        "id": "dBEd3lNtxsxI"
      }
    },
    {
      "cell_type": "markdown",
      "source": [
        "**Ans.** Standard deviation is a key statistical measure that tells you how spread out the data points are around the mean, just like variance — but in the same units as the original data.\n",
        "- It is the square root of the variance.\n",
        "\n",
        "- Because variance is in squared units, standard deviation brings it back to the original unit (e.g., if data is in meters, standard deviation is also in meters).\n",
        "\n",
        "- A small standard deviation means data points are close to the mean; a large one means they are more spread out."
      ],
      "metadata": {
        "id": "QBArEM9sxyS2"
      }
    },
    {
      "cell_type": "markdown",
      "source": [
        "**Q16. Define and explain the term range in statistics.**"
      ],
      "metadata": {
        "id": "FHgxo-BeyCe1"
      }
    },
    {
      "cell_type": "markdown",
      "source": [
        "**Ans.** *Range* - The range is the difference between the largest and smallest values in a dataset. It gives a simple measure of how spread out the data is.\n",
        "\n",
        "**Calculate Range:**\n",
        " Range=Maximum value−Minimum value\n",
        "\n",
        "Range is Important for following reasons:-\n",
        "- It gives a quick sense of the spread or variability in the data.\n",
        "\n",
        "- Easy to calculate and understand.\n",
        "\n",
        "- However, it only considers the two extreme values and ignores the distribution of the rest of the data, so it can be affected by outliers.\n"
      ],
      "metadata": {
        "id": "BFvLk3fgyEj_"
      }
    },
    {
      "cell_type": "markdown",
      "source": [
        "**Q17. What is the difference between variance and standard deviation?**"
      ],
      "metadata": {
        "id": "GZVoWTTayjlH"
      }
    },
    {
      "cell_type": "markdown",
      "source": [
        "**Ans.** Difference between variance and standard deviation:\n",
        "\n",
        "| Aspect             | Variance                                                                                       | Standard Deviation                                                                      |\n",
        "| ------------------ | ---------------------------------------------------------------------------------------------- | --------------------------------------------------------------------------------------- |\n",
        "| **Definition**     | Average of the **squared** differences from the mean.                                          | The **square root** of the variance.                                                    |\n",
        "| **Units**          | Squared units of the original data (e.g., if data is in meters, variance is in meters²).       | Same units as the original data (e.g., meters).                                         |\n",
        "| **Interpretation** | Measures how spread out the data points are, but harder to interpret because of squared units. | Measures spread/dispersion in a more interpretable way since units match original data. |\n",
        "| **Calculation**    | Sum of squared differences divided by $N$ or $n-1$.                                            | Square root of the variance.                                                            |\n",
        "| **Usefulness**     | Useful in formulas and intermediate calculations.                                              | More commonly used to describe data variability.                                        |\n"
      ],
      "metadata": {
        "id": "pXZyJGqFyn_O"
      }
    },
    {
      "cell_type": "markdown",
      "source": [
        "**Q18. What is skewness in a dataset?**"
      ],
      "metadata": {
        "id": "AmPvERpgyySG"
      }
    },
    {
      "cell_type": "markdown",
      "source": [
        "**Ans.** Skewness measures the asymmetry of the distribution of data around its mean. It tells you whether the data is tilted more to the left or right rather than being perfectly balanced.\n",
        "\n",
        "**Types of Skewness:**\n",
        "*Positive Skew (Right Skew):*\n",
        "\n",
        "- The tail on the right side is longer or fatter.\n",
        "\n",
        "- Most data points cluster on the left.\n",
        "\n",
        "- Mean > Median > Mode\n",
        "\n",
        "Example: Income distribution where a few people earn very high amounts.\n",
        "\n",
        "*Negative Skew (Left Skew):*\n",
        "\n",
        "- The tail on the left side is longer or fatter.\n",
        "\n",
        "- Most data points cluster on the right.\n",
        "\n",
        "- Mean < Median < Mode\n",
        "\n",
        "Example: Age at retirement where some retire very early.\n",
        "\n",
        "*Zero Skew (Symmetrical):*\n",
        "\n",
        "- Data is evenly distributed around the mean (like a perfect bell curve).\n",
        "\n",
        "- Mean = Median = Mode\n",
        "\n",
        "Skewness important because of following reasons.\n",
        "- It affects the choice of statistical methods and interpretations.\n",
        "\n",
        "- Helps identify bias or unusual behavior in data.\n",
        "\n",
        "- Indicates if transformations are needed before analysis.\n",
        "\n"
      ],
      "metadata": {
        "id": "d5p7SKQTy4SG"
      }
    },
    {
      "cell_type": "markdown",
      "source": [
        "**Q19. What does it mean if a dataset is positively or negatively skewed?**"
      ],
      "metadata": {
        "id": "LA03U6YOzX12"
      }
    },
    {
      "cell_type": "markdown",
      "source": [
        "**Ans.** If a dataset is positively skewed or negatively skewed, it means the data distribution is asymmetrical and leans more toward one side:\n",
        "\n",
        "**Positively Skewed (Right Skew):**\n",
        "- The tail on the right side (higher values) is longer or stretched out.\n",
        "\n",
        "- Most data values cluster toward the lower end (left side).\n",
        "\n",
        "- The mean is greater than the median, which is greater than the mode:\n",
        "\n",
        "**Negatively Skewed (Left Skew):**\n",
        "- The tail on the left side (lower values) is longer or stretched out.\n",
        "\n",
        "- Most data values cluster toward the higher end (right side).\n",
        "\n",
        "- The mean is less than the median, which is less than the mode:"
      ],
      "metadata": {
        "id": "iYwE5MzzzfJe"
      }
    },
    {
      "cell_type": "markdown",
      "source": [
        "**Q20. Define and explain kurtosis.**"
      ],
      "metadata": {
        "id": "1JzvckM7z27W"
      }
    },
    {
      "cell_type": "markdown",
      "source": [
        "**Ans.**\n",
        "Kurtosis measures the \"tailedness\" or the shape of the tails of a data distribution compared to a normal distribution. It tells you how heavy or light the tails are, which relates to the presence of outliers.\n",
        "\n",
        "**Types of Kurtosis:**\n",
        "\n",
        "**1.Mesokurtic**\n",
        "\n",
        "- This is the normal level of kurtosis, like the bell curve of a normal distribution.\n",
        "\n",
        "- Tails are moderate in size.\n",
        "\n",
        "**2.Leptokurtic**\n",
        "\n",
        "- Distribution has heavier tails and a sharper peak than normal.\n",
        "\n",
        "- More data is in the tails and center, meaning more outliers and extreme values.\n",
        "\n",
        "- Kurtosis > 3 (or > 0 if excess kurtosis is reported).\n",
        "\n",
        "**3.Platykurtic**\n",
        "\n",
        "- Distribution has lighter tails and a flatter peak than normal.\n",
        "\n",
        "- Less extreme outliers.\n",
        "\n",
        "- Kurtosis < 3 (or < 0 in excess kurtosis).\n"
      ],
      "metadata": {
        "id": "iab9c0V_z-QN"
      }
    },
    {
      "cell_type": "markdown",
      "source": [
        "**Q21. What is the purpose of covariance?**"
      ],
      "metadata": {
        "id": "nvfKZ1eW07BM"
      }
    },
    {
      "cell_type": "markdown",
      "source": [
        "**Ans.** Covariance measures how two variables change together — it tells you whether increases in one variable tend to be associated with increases or decreases in another.\n",
        "\n",
        "**Purpose of Covariance:**\n",
        "**Direction of Relationship**\n",
        "\n",
        "- If covariance is positive, the two variables tend to increase or decrease together (they move in the same direction).\n",
        "\n",
        "- If covariance is negative, one variable tends to increase when the other decreases (they move in opposite directions).\n",
        "\n",
        "- If covariance is zero or near zero, the variables don’t have a linear relationship.\n",
        "\n",
        "**Foundation for Correlation**\n",
        "- Covariance is the basis for correlation, which standardizes this measure to a scale between -1 and 1, making it easier to interpret.\n",
        "\n",
        "**Understanding Variable Relationships**\n",
        "- Useful in statistics, finance (e.g., portfolio diversification), and any field where relationships between variables matter."
      ],
      "metadata": {
        "id": "MeAkzCPF1BG1"
      }
    },
    {
      "cell_type": "markdown",
      "source": [
        "**Q22. What does correlation measure in statistics?**"
      ],
      "metadata": {
        "id": "Oy1D9DWO1XKV"
      }
    },
    {
      "cell_type": "markdown",
      "source": [
        "**Ans.** Key points about correlation:\n",
        "**1. Range:**\n",
        "Correlation values range from -1 to +1.\n",
        "\n",
        "- +1 means a perfect positive linear relationship (as one variable increases, the other increases exactly).\n",
        "\n",
        "- -1 means a perfect negative linear relationship (as one variable increases, the other decreases exactly).\n",
        "\n",
        "- 0 means no linear relationship.\n",
        "\n",
        "**2.Direction:**\n",
        "\n",
        "- Positive correlation: Variables move in the same direction.\n",
        "\n",
        "- Negative correlation: Variables move in opposite directions.\n",
        "\n",
        "**3.Strength:**\n",
        "- The closer the value is to ±1, the stronger the linear relationship.\n",
        "\n",
        "**4. Unit-free:**\n",
        "- Correlation is standardized and does not depend on the units of measurement.\n",
        "\n",
        "**correlation important:**\n",
        "- It helps understand and quantify relationships between variables.\n",
        "\n",
        "- Used widely in fields like finance, social sciences, health research, and more.\n",
        "\n",
        "- Assists in predicting one variable based on another."
      ],
      "metadata": {
        "id": "fMMykMym1ieA"
      }
    },
    {
      "cell_type": "markdown",
      "source": [
        "**Q23. What is the difference between covariance and correlation?**"
      ],
      "metadata": {
        "id": "MM6B_IR-2HYd"
      }
    },
    {
      "cell_type": "markdown",
      "source": [
        "**Ans.** Comparison between covariance and correlation:\n",
        "\n",
        "| Aspect             | Covariance                                                                              | Correlation                                                                                  |\n",
        "| ------------------ | --------------------------------------------------------------------------------------- | -------------------------------------------------------------------------------------------- |\n",
        "| **Definition**     | Measures how two variables **change together**, showing direction but not standardized. | Measures **strength and direction** of a linear relationship, standardized between -1 and 1. |\n",
        "| **Range**          | Can take any value from $-\\infty$ to $+\\infty$.                                         | Always between **-1 and +1**.                                                                |\n",
        "| **Units**          | Depends on the units of the variables (product of their units).                         | Unit-free (dimensionless), making it easier to interpret.                                    |\n",
        "| **Interpretation** | Positive or negative sign indicates direction; magnitude is hard to interpret directly. | Both magnitude and sign indicate strength and direction of relationship.                     |\n",
        "| **Calculation**    | Average of the product of deviations from means.                                        | Covariance divided by the product of standard deviations of the variables.                   |\n",
        "| **Usefulness**     | Good for understanding joint variability, but scale-dependent.                          | Preferred for assessing and comparing relationships across different datasets.               |\n"
      ],
      "metadata": {
        "id": "Y_enflIV2KgG"
      }
    },
    {
      "cell_type": "markdown",
      "source": [
        "**Q24. What are some real-world applications of statistics?**"
      ],
      "metadata": {
        "id": "rHPUsgrK2afN"
      }
    },
    {
      "cell_type": "markdown",
      "source": [
        "**Ans.** Real-world applications where statistics play a crucial role:\n",
        "\n",
        "**1. Healthcare & Medicine**\n",
        "- Analyzing clinical trial data to determine drug effectiveness.\n",
        "\n",
        "- Tracking disease outbreaks and public health trends.\n",
        "\n",
        "- Medical imaging and diagnostics using statistical models.\n",
        "\n",
        "**2. Business & Marketing**\n",
        "- Market research to understand consumer behavior.\n",
        "\n",
        "- Quality control in manufacturing processes.\n",
        "\n",
        "- Forecasting sales and financial trends.\n",
        "\n",
        "**3. Sports**\n",
        "- Player performance analysis and team strategy.\n",
        "\n",
        "- Predicting outcomes and setting odds in betting.\n",
        "\n",
        "- Injury risk assessment.\n",
        "\n",
        "**4. Government & Public Policy**\n",
        "- Census data analysis for resource allocation.\n",
        "\n",
        "- Economic indicators like unemployment rates and GDP growth.\n",
        "\n",
        "- Evaluating social programs’ effectiveness.\n",
        "\n",
        "**5. Education**\n",
        "- Standardized test score analysis.\n",
        "\n",
        "- Evaluating teaching methods and learning outcomes.\n",
        "\n",
        "- Admission and enrollment statistics.\n",
        "\n",
        "**6. Environmental Science**\n",
        "- Climate change modeling and weather forecasting.\n",
        "\n",
        "- Tracking wildlife populations and biodiversity.\n",
        "\n",
        "- Pollution monitoring.\n",
        "\n",
        "**7. Technology & Data Science**\n",
        "- Machine learning and artificial intelligence models rely on statistical foundations.\n",
        "\n",
        "- User behavior analysis on websites and apps.\n",
        "\n",
        "- Image and speech recognition.\n",
        "\n"
      ],
      "metadata": {
        "id": "c_-fxQQB2dgt"
      }
    },
    {
      "cell_type": "markdown",
      "source": [
        "#Practical"
      ],
      "metadata": {
        "id": "9gRMLnSqgNCI"
      }
    },
    {
      "cell_type": "markdown",
      "source": [
        "**Q1. How do you calculate the mean, median, and mode of a dataset?**"
      ],
      "metadata": {
        "id": "vvOqTyd2gTlw"
      }
    },
    {
      "cell_type": "markdown",
      "source": [
        "**Ans.** **Mean** - The mean is the sum of all values divided by the number of values.\n",
        "\n",
        "Formula: Mean\n",
        "=\n",
        "∑\n",
        "𝑥\n",
        "𝑖\n",
        "\\𝑛\n",
        "\n",
        "\n",
        "Where:\n",
        "\n",
        "- 𝑥\n",
        "𝑖\n",
        "x\n",
        "i\n",
        "​\n",
        "  are the data values\n",
        "\n",
        "- 𝑛\n",
        "n is the number of values.\n",
        "\n",
        "**Example: **\n",
        "Dataset: [2, 4, 6, 8, 10]\n",
        "\n",
        "Mean\n",
        "=\n",
        "2\n",
        "+\n",
        "4\n",
        "+\n",
        "6\n",
        "+\n",
        "8\n",
        "+\n",
        "10\n",
        "/5\n",
        "=\n",
        "30\n",
        "/5\n",
        "=\n",
        "6\n",
        "\n",
        "**2. Median**\n",
        "- The median is the middle value when the data is ordered.\n",
        "\n",
        "Steps:\n",
        "\n",
        "Sort the dataset.\n",
        "\n",
        "If the number of values\n",
        "𝑛\n",
        "n is odd, the median is the middle value.\n",
        "\n",
        "If\n",
        "𝑛\n",
        "n is even, the median is the average of the two middle values.\n",
        "\n",
        "Example 1 (odd number of items):\n",
        "Dataset: [3, 1, 4] → Sorted: [1, 3, 4]\n",
        "\n",
        "Median=3\n",
        "\n",
        "Example 2 (even number of items):\n",
        "\n",
        "Dataset: [7, 3, 5, 1] → Sorted: [1, 3, 5, 7]\n",
        "\n",
        "Median\n",
        "=\n",
        "3\n",
        "+\n",
        "5\n",
        "/2\n",
        "=\n",
        "4\n",
        "\n",
        "\n",
        "**3. Mode**\n",
        "- The mode is the value that occurs most frequently.\n",
        "\n",
        "Steps:\n",
        "\n",
        "- Count how many times each value appears.\n",
        "\n",
        "- The value(s) with the highest frequency is the mode.\n",
        "\n",
        "- A dataset can have no mode, one mode, or multiple modes.\n",
        "\n",
        "Example:\n",
        "Dataset: [4, 1, 2, 2, 3, 4, 4]\n",
        "Frequencies: 4 (3 times), 2 (2 times), others less\n",
        "\n",
        "Mode=4\n"
      ],
      "metadata": {
        "id": "oeJw14HJgd7A"
      }
    },
    {
      "cell_type": "markdown",
      "source": [
        "**Q2. Write a Python program to compute the variance and standard deviation of a dataset.**"
      ],
      "metadata": {
        "id": "0Y_roxfZkf5V"
      }
    },
    {
      "cell_type": "code",
      "source": [
        "def calculate_mean(data):\n",
        "    return sum(data) / len(data)\n",
        "\n",
        "def calculate_variance(data):\n",
        "    mean = calculate_mean(data)\n",
        "    squared_diffs = [(x - mean) ** 2 for x in data]\n",
        "    return sum(squared_diffs) / len(data)  # Population variance\n",
        "\n",
        "def calculate_std_deviation(data):\n",
        "    variance = calculate_variance(data)\n",
        "    return variance ** 0.5\n",
        "\n",
        "# Example dataset\n",
        "dataset = [2, 4, 6, 8, 10]\n",
        "\n",
        "# Calculations\n",
        "mean = calculate_mean(dataset)\n",
        "variance = calculate_variance(dataset)\n",
        "std_dev = calculate_std_deviation(dataset)\n",
        "\n",
        "# Output\n",
        "print(f\"Dataset: {dataset}\")\n",
        "print(f\"Mean: {mean}\")\n",
        "print(f\"Variance: {variance}\")\n",
        "print(f\"Standard Deviation: {std_dev}\")\n"
      ],
      "metadata": {
        "colab": {
          "base_uri": "https://localhost:8080/"
        },
        "id": "GsY0R8_jkkkH",
        "outputId": "289e0d2b-3ad0-4413-d293-2eff74f56e7d"
      },
      "execution_count": 2,
      "outputs": [
        {
          "output_type": "stream",
          "name": "stdout",
          "text": [
            "Dataset: [2, 4, 6, 8, 10]\n",
            "Mean: 6.0\n",
            "Variance: 8.0\n",
            "Standard Deviation: 2.8284271247461903\n"
          ]
        }
      ]
    },
    {
      "cell_type": "markdown",
      "source": [
        "**Q3. Create a dataset and classify it into nominal, ordinal, interval, and ratio types.**"
      ],
      "metadata": {
        "id": "pAzRmuEQkrPf"
      }
    },
    {
      "cell_type": "markdown",
      "source": [
        "**Ans.** Here's an example dataset with values that can be classified into the four scales of measurement: nominal, ordinal, interval, and ratio.\n",
        "\n",
        "*Sample Dataset (Student Data)*\n",
        "\n",
        "| Student ID | Gender | Grade Level | Test Score | Height (cm) |\n",
        "| ---------- | ------ | ----------- | ---------- | ----------- |\n",
        "| 101        | Male   | Sophomore   | 75         | 170         |\n",
        "| 102        | Female | Freshman    | 88         | 160         |\n",
        "| 103        | Female | Senior      | 92         | 165         |\n",
        "| 104        | Male   | Junior      | 65         | 172         |\n",
        "| 105        | Male   | Senior      | 80         | 178         |\n",
        "\n",
        "*Classification by Data Type*\n",
        "\n",
        "| **Variable**    | **Example**                         | **Data Type** | **Explanation**                                                                 |\n",
        "| --------------- | ----------------------------------- | ------------- | ------------------------------------------------------------------------------- |\n",
        "| **Gender**      | Male, Female                        | **Nominal**   | Categories with no inherent order (just labels).                                |\n",
        "| **Grade Level** | Freshman, Sophomore, Junior, Senior | **Ordinal**   | Categories with a meaningful order but no measurable difference between levels. |\n",
        "| **Test Score**  | 75, 88, etc.                        | **Interval**  | Numbers with equal intervals but no true zero (e.g., no \"absence\" of score).    |\n",
        "| **Height**      | 170 cm, etc.                        | **Ratio**     | True numeric scale with a meaningful zero (0 cm means no height).               |\n",
        "\n"
      ],
      "metadata": {
        "id": "n3-2BKTvk0Lf"
      }
    },
    {
      "cell_type": "markdown",
      "source": [
        "**Q4. Implement sampling techniques like random sampling and stratified sampling.**"
      ],
      "metadata": {
        "id": "v-4AYk3UlF5-"
      }
    },
    {
      "cell_type": "markdown",
      "source": [
        "**Ans.**  1. Random Sampling"
      ],
      "metadata": {
        "id": "dLFsJimPl43w"
      }
    },
    {
      "cell_type": "code",
      "source": [
        "import random\n",
        "\n",
        "# Sample dataset: student IDs\n",
        "students = [101, 102, 103, 104, 105, 106, 107, 108, 109, 110]\n",
        "\n",
        "# Randomly select 4 students\n",
        "random_sample = random.sample(students, 4)\n",
        "\n",
        "print(\"Random Sample:\", random_sample)\n"
      ],
      "metadata": {
        "colab": {
          "base_uri": "https://localhost:8080/"
        },
        "id": "WWksLfYYl8Te",
        "outputId": "fa3d321c-068b-4107-961c-402e1aa844c6"
      },
      "execution_count": 3,
      "outputs": [
        {
          "output_type": "stream",
          "name": "stdout",
          "text": [
            "Random Sample: [101, 104, 102, 105]\n"
          ]
        }
      ]
    },
    {
      "cell_type": "markdown",
      "source": [
        " 2. Stratified Sampling"
      ],
      "metadata": {
        "id": "FeWtbQQLmBpu"
      }
    },
    {
      "cell_type": "code",
      "source": [
        "import pandas as pd\n",
        "from sklearn.model_selection import train_test_split\n",
        "\n",
        "# Create a sample dataset with 'Gender' as a stratum\n",
        "data = pd.DataFrame({\n",
        "    'Student_ID': range(101, 111),\n",
        "    'Gender': ['Male', 'Female', 'Female', 'Male', 'Male', 'Female', 'Male', 'Female', 'Female', 'Male'],\n",
        "    'Score': [75, 88, 92, 65, 80, 85, 78, 90, 70, 77]\n",
        "})\n",
        "\n",
        "# Perform stratified sampling based on 'Gender'\n",
        "stratified_sample, _ = train_test_split(\n",
        "    data,\n",
        "    test_size=0.6,  # Keep 40% of data in the sample\n",
        "    stratify=data['Gender'],\n",
        "    random_state=42\n",
        ")\n",
        "\n",
        "print(\"Stratified Sample:\")\n",
        "print(stratified_sample)\n"
      ],
      "metadata": {
        "colab": {
          "base_uri": "https://localhost:8080/"
        },
        "id": "oL1jXW_bmEP2",
        "outputId": "2fb89399-ddf7-49be-d9a5-a3c9ce23d8f0"
      },
      "execution_count": 4,
      "outputs": [
        {
          "output_type": "stream",
          "name": "stdout",
          "text": [
            "Stratified Sample:\n",
            "   Student_ID  Gender  Score\n",
            "8         109  Female     70\n",
            "2         103  Female     92\n",
            "3         104    Male     65\n",
            "6         107    Male     78\n"
          ]
        }
      ]
    },
    {
      "cell_type": "markdown",
      "source": [
        "**Q5. Write a Python function to calculate the range of a dataset.**"
      ],
      "metadata": {
        "id": "7ux_ysOqmKhH"
      }
    },
    {
      "cell_type": "code",
      "source": [
        "def calculate_range(data):\n",
        "    if not data:\n",
        "        return None  # Handle empty dataset\n",
        "    return max(data) - min(data)\n",
        "\n",
        "# Example usage\n",
        "dataset = [15, 22, 8, 35, 41, 19]\n",
        "range_value = calculate_range(dataset)\n",
        "\n",
        "print(\"Dataset:\", dataset)\n",
        "print(\"Range:\", range_value)\n"
      ],
      "metadata": {
        "colab": {
          "base_uri": "https://localhost:8080/"
        },
        "id": "15iDz7camREX",
        "outputId": "9f2a6917-4dc9-47da-9d60-b0985b1db5f8"
      },
      "execution_count": 5,
      "outputs": [
        {
          "output_type": "stream",
          "name": "stdout",
          "text": [
            "Dataset: [15, 22, 8, 35, 41, 19]\n",
            "Range: 33\n"
          ]
        }
      ]
    },
    {
      "cell_type": "markdown",
      "source": [
        "**Q6. Create a dataset and plot its histogram to visualize skewness.**"
      ],
      "metadata": {
        "id": "07dMffskmTrO"
      }
    },
    {
      "cell_type": "code",
      "source": [
        "import numpy as np\n",
        "import matplotlib.pyplot as plt\n",
        "\n",
        "# Create a right-skewed dataset (e.g., exponential distribution)\n",
        "data = np.random.exponential(scale=2.0, size=1000)\n",
        "\n",
        "# Plot histogram\n",
        "plt.figure(figsize=(8, 5))\n",
        "plt.hist(data, bins=30, color='skyblue', edgecolor='black')\n",
        "plt.title('Histogram of Right-Skewed Data')\n",
        "plt.xlabel('Value')\n",
        "plt.ylabel('Frequency')\n",
        "plt.grid(True)\n",
        "plt.show()\n"
      ],
      "metadata": {
        "colab": {
          "base_uri": "https://localhost:8080/",
          "height": 487
        },
        "id": "ZiCbrhj8mh7X",
        "outputId": "cfc824f7-d0c2-4fd1-cfe1-4dad8361d7fb"
      },
      "execution_count": 6,
      "outputs": [
        {
          "output_type": "display_data",
          "data": {
            "text/plain": [
              "<Figure size 800x500 with 1 Axes>"
            ],
            "image/png": "[encoded data removed]"
          },
          "metadata": {}
        }
      ]
    },
    {
      "cell_type": "markdown",
      "source": [
        "**Q7. Calculate skewness and kurtosis of a dataset using Python libraries.**"
      ],
      "metadata": {
        "id": "h8Tx_TQgmmU-"
      }
    },
    {
      "cell_type": "markdown",
      "source": [
        "**Ans**. Calculate skewness and kurtosis using Python libraries like scipy.stats or pandas.\n",
        "\n",
        "Using scipy.stats"
      ],
      "metadata": {
        "id": "YcI0I-yFmw5u"
      }
    },
    {
      "cell_type": "code",
      "source": [
        "import numpy as np\n",
        "from scipy.stats import skew, kurtosis\n",
        "\n",
        "# Sample dataset (right-skewed)\n",
        "data = np.random.exponential(scale=2.0, size=1000)\n",
        "\n",
        "# Calculate skewness and kurtosis\n",
        "data_skewness = skew(data)\n",
        "data_kurtosis = kurtosis(data)  # Default is Fisher’s definition (normal dist = 0)\n",
        "\n",
        "print(f\"Skewness: {data_skewness}\")\n",
        "print(f\"Kurtosis: {data_kurtosis}\")\n"
      ],
      "metadata": {
        "colab": {
          "base_uri": "https://localhost:8080/"
        },
        "id": "qaGSDm6em2bu",
        "outputId": "c8980591-9d0b-4e58-9ac5-c54f4f1ed476"
      },
      "execution_count": 7,
      "outputs": [
        {
          "output_type": "stream",
          "name": "stdout",
          "text": [
            "Skewness: 1.7443116778358951\n",
            "Kurtosis: 3.481181158482096\n"
          ]
        }
      ]
    },
    {
      "cell_type": "markdown",
      "source": [
        "Using pandas"
      ],
      "metadata": {
        "id": "tdp7OdgFm4_H"
      }
    },
    {
      "cell_type": "code",
      "source": [
        "import pandas as pd\n",
        "\n",
        "# Convert to pandas Series\n",
        "data_series = pd.Series(data)\n",
        "\n",
        "# Calculate skewness and kurtosis\n",
        "print(\"Skewness:\", data_series.skew())\n",
        "print(\"Kurtosis:\", data_series.kurt())\n"
      ],
      "metadata": {
        "colab": {
          "base_uri": "https://localhost:8080/"
        },
        "id": "LxlFtlIFm7EW",
        "outputId": "f29d87e4-12c4-40ca-fc21-fbd7e0f43522"
      },
      "execution_count": 8,
      "outputs": [
        {
          "output_type": "stream",
          "name": "stdout",
          "text": [
            "Skewness: 1.7469331701893087\n",
            "Kurtosis: 3.504674019353591\n"
          ]
        }
      ]
    },
    {
      "cell_type": "markdown",
      "source": [
        "**Q8. Generate a dataset and demonstrate positive and negative skewness.**"
      ],
      "metadata": {
        "id": "v7kZ2816nCDG"
      }
    },
    {
      "cell_type": "markdown",
      "source": [
        "**Ans.** 1. Generates two datasets:\n",
        "\n",
        "- One with positive skewness (right-skewed)\n",
        "\n",
        "- One with negative skewness (left-skewed)\n",
        "\n",
        "2. Calculates and prints skewness\n",
        "\n",
        "3. Plots histograms for visualization\n",
        "\n"
      ],
      "metadata": {
        "id": "KpRu1cLgnJx2"
      }
    },
    {
      "cell_type": "markdown",
      "source": [
        "**Python Code: Positive & Negative Skewness**"
      ],
      "metadata": {
        "id": "j4rh9W7PnVuV"
      }
    },
    {
      "cell_type": "code",
      "source": [
        "import numpy as np\n",
        "import matplotlib.pyplot as plt\n",
        "from scipy.stats import skew\n",
        "\n",
        "# Generate a positively skewed dataset (exponential distribution)\n",
        "pos_skew_data = np.random.exponential(scale=2.0, size=1000)\n",
        "\n",
        "# Generate a negatively skewed dataset (reflect exponential to left skew)\n",
        "neg_skew_data = -np.random.exponential(scale=2.0, size=1000) + 10\n",
        "\n",
        "# Calculate skewness\n",
        "pos_skewness = skew(pos_skew_data)\n",
        "neg_skewness = skew(neg_skew_data)\n",
        "\n",
        "print(f\"Positive Skewness Value: {pos_skewness:.2f}\")\n",
        "print(f\"Negative Skewness Value: {neg_skewness:.2f}\")\n",
        "\n",
        "# Plot histograms\n",
        "fig, axs = plt.subplots(1, 2, figsize=(12, 5))\n",
        "\n",
        "# Positive skew\n",
        "axs[0].hist(pos_skew_data, bins=30, color='skyblue', edgecolor='black')\n",
        "axs[0].set_title('Positive Skewness (Right-Skewed)')\n",
        "axs[0].set_xlabel('Value')\n",
        "axs[0].set_ylabel('Frequency')\n",
        "\n",
        "# Negative skew\n",
        "axs[1].hist(neg_skew_data, bins=30, color='salmon', edgecolor='black')\n",
        "axs[1].set_title('Negative Skewness (Left-Skewed)')\n",
        "axs[1].set_xlabel('Value')\n",
        "axs[1].set_ylabel('Frequency')\n",
        "\n",
        "plt.tight_layout()\n",
        "plt.show()\n"
      ],
      "metadata": {
        "colab": {
          "base_uri": "https://localhost:8080/",
          "height": 542
        },
        "id": "5rGFDaKWnaf-",
        "outputId": "731c6ba9-ee83-47b3-e34f-a4f4704bd72f"
      },
      "execution_count": 9,
      "outputs": [
        {
          "output_type": "stream",
          "name": "stdout",
          "text": [
            "Positive Skewness Value: 1.90\n",
            "Negative Skewness Value: -1.71\n"
          ]
        },
        {
          "output_type": "display_data",
          "data": {
            "text/plain": [
              "<Figure size 1200x500 with 2 Axes>"
            ],
            "image/png": "[encoded data removed]"
          },
          "metadata": {}
        }
      ]
    },
    {
      "cell_type": "markdown",
      "source": [
        "**Q9. Write a Python script to calculate covariance between two datasets.**"
      ],
      "metadata": {
        "id": "4pJGelgondi2"
      }
    },
    {
      "cell_type": "code",
      "source": [
        "import numpy as np\n",
        "\n",
        "# Example datasets\n",
        "x = [2, 4, 6, 8, 10]\n",
        "y = [1, 3, 5, 7, 9]\n",
        "\n",
        "# --- Manual calculation ---\n",
        "def calculate_covariance(x, y):\n",
        "    if len(x) != len(y):\n",
        "        raise ValueError(\"Datasets must have the same length.\")\n",
        "\n",
        "    mean_x = sum(x) / len(x)\n",
        "    mean_y = sum(y) / len(y)\n",
        "\n",
        "    cov = sum((x[i] - mean_x) * (y[i] - mean_y) for i in range(len(x))) / len(x)  # Population covariance\n",
        "    return cov\n",
        "\n",
        "manual_cov = calculate_covariance(x, y)\n",
        "print(f\"Manual Covariance: {manual_cov:.2f}\")\n",
        "\n",
        "# --- Using NumPy ---\n",
        "x_array = np.array(x)\n",
        "y_array = np.array(y)\n",
        "\n",
        "# np.cov returns a covariance matrix; use [0,1] to get covariance between x and y\n",
        "numpy_cov = np.cov(x_array, y_array, bias=True)[0, 1]  # Set bias=True for population covariance\n",
        "print(f\"NumPy Covariance: {numpy_cov:.2f}\")\n"
      ],
      "metadata": {
        "colab": {
          "base_uri": "https://localhost:8080/"
        },
        "id": "qeqN_Rcqnh7X",
        "outputId": "965ed0dd-7767-4d87-8226-e170ba5cf7ba"
      },
      "execution_count": 10,
      "outputs": [
        {
          "output_type": "stream",
          "name": "stdout",
          "text": [
            "Manual Covariance: 8.00\n",
            "NumPy Covariance: 8.00\n"
          ]
        }
      ]
    },
    {
      "cell_type": "markdown",
      "source": [
        "**Q10. Write a Python script to calculate the correlation coefficient between two datasets.**"
      ],
      "metadata": {
        "id": "ylHjPl1bnrU2"
      }
    },
    {
      "cell_type": "code",
      "source": [
        "import numpy as np\n",
        "\n",
        "# Example datasets\n",
        "x = [2, 4, 6, 8, 10]\n",
        "y = [1, 3, 5, 7, 9]\n",
        "\n",
        "# --- Manual calculation ---\n",
        "def calculate_correlation(x, y):\n",
        "    if len(x) != len(y):\n",
        "        raise ValueError(\"Datasets must be the same length.\")\n",
        "\n",
        "    mean_x = sum(x) / len(x)\n",
        "    mean_y = sum(y) / len(y)\n",
        "\n",
        "    numerator = sum((x[i] - mean_x) * (y[i] - mean_y) for i in range(len(x)))\n",
        "    denominator = (\n",
        "        (sum((x[i] - mean_x) ** 2 for i in range(len(x))) *\n",
        "         sum((y[i] - mean_y) ** 2 for i in range(len(y))))\n",
        "        ** 0.5\n",
        "    )\n",
        "\n",
        "    return numerator / denominator\n",
        "\n",
        "manual_corr = calculate_correlation(x, y)\n",
        "print(f\"Manual Correlation Coefficient: {manual_corr:.2f}\")\n",
        "\n",
        "# --- Using NumPy ---\n",
        "x_array = np.array(x)\n",
        "y_array = np.array(y)\n",
        "\n",
        "# np.corrcoef returns the correlation matrix; use [0,1] for correlation between x and y\n",
        "numpy_corr = np.corrcoef(x_array, y_array)[0, 1]\n",
        "print(f\"NumPy Correlation Coefficient: {numpy_corr:.2f}\")\n"
      ],
      "metadata": {
        "colab": {
          "base_uri": "https://localhost:8080/"
        },
        "id": "rTZoxzTFnxSW",
        "outputId": "54b76681-6515-4c96-b18b-2af2055ff692"
      },
      "execution_count": 11,
      "outputs": [
        {
          "output_type": "stream",
          "name": "stdout",
          "text": [
            "Manual Correlation Coefficient: 1.00\n",
            "NumPy Correlation Coefficient: 1.00\n"
          ]
        }
      ]
    },
    {
      "cell_type": "markdown",
      "source": [
        "**Q11. Create a scatter plot to visualize the relationship between two variables.**"
      ],
      "metadata": {
        "id": "2V6FirsMn1hO"
      }
    },
    {
      "cell_type": "code",
      "source": [
        "import matplotlib.pyplot as plt\n",
        "\n",
        "# Sample datasets\n",
        "x = [2, 4, 6, 8, 10]\n",
        "y = [1, 3, 5, 7, 9]\n",
        "\n",
        "# Create scatter plot\n",
        "plt.scatter(x, y, color='blue', marker='o')\n",
        "\n",
        "# Add titles and labels\n",
        "plt.title('Scatter Plot of Two Variables')\n",
        "plt.xlabel('Variable X')\n",
        "plt.ylabel('Variable Y')\n",
        "\n",
        "# Show grid\n",
        "plt.grid(True)\n",
        "\n",
        "# Display plot\n",
        "plt.show()\n"
      ],
      "metadata": {
        "colab": {
          "base_uri": "https://localhost:8080/",
          "height": 472
        },
        "id": "k88bsWfjn6GO",
        "outputId": "c1fb87aa-18fb-4589-9a6e-3a4293c903be"
      },
      "execution_count": 12,
      "outputs": [
        {
          "output_type": "display_data",
          "data": {
            "text/plain": [
              "<Figure size 640x480 with 1 Axes>"
            ],
            "image/png": "[encoded data removed]"
          },
          "metadata": {}
        }
      ]
    },
    {
      "cell_type": "markdown",
      "source": [
        "**Q12. Implement and compare simple random sampling and systematic sampling.**"
      ],
      "metadata": {
        "id": "HCd0HvQDn_7-"
      }
    },
    {
      "cell_type": "code",
      "source": [
        "import random\n",
        "\n",
        "# Example dataset: numbers 1 to 30\n",
        "population = list(range(1, 31))\n",
        "\n",
        "# Desired sample size\n",
        "sample_size = 6\n",
        "\n",
        "# --- Simple Random Sampling ---\n",
        "simple_random_sample = random.sample(population, sample_size)\n",
        "\n",
        "# --- Systematic Sampling ---\n",
        "def systematic_sampling(data, k):\n",
        "    start = random.randint(0, k - 1)  # Random start between 0 and k-1\n",
        "    return [data[i] for i in range(start, len(data), k)]\n",
        "\n",
        "k = len(population) // sample_size  # Sampling interval\n",
        "systematic_sample = systematic_sampling(population, k)\n",
        "\n",
        "# Results\n",
        "print(\"Population:\", population)\n",
        "print(\"Simple Random Sample:\", simple_random_sample)\n",
        "print(\"Systematic Sample:\", systematic_sample)\n"
      ],
      "metadata": {
        "colab": {
          "base_uri": "https://localhost:8080/"
        },
        "id": "XZ2uGAtDoJOd",
        "outputId": "6d469ab6-360a-4f6b-9051-b283507aae85"
      },
      "execution_count": 13,
      "outputs": [
        {
          "output_type": "stream",
          "name": "stdout",
          "text": [
            "Population: [1, 2, 3, 4, 5, 6, 7, 8, 9, 10, 11, 12, 13, 14, 15, 16, 17, 18, 19, 20, 21, 22, 23, 24, 25, 26, 27, 28, 29, 30]\n",
            "Simple Random Sample: [21, 7, 11, 2, 5, 16]\n",
            "Systematic Sample: [3, 8, 13, 18, 23, 28]\n"
          ]
        }
      ]
    },
    {
      "cell_type": "markdown",
      "source": [
        "**Q13. Calculate the mean, median, and mode of grouped data.**"
      ],
      "metadata": {
        "id": "DgzffUfaoPJe"
      }
    },
    {
      "cell_type": "markdown",
      "source": [
        "**Ans.** Calculating mean, median, and mode for grouped data involves working with frequency distributions. Here's a step-by-step explanation, followed by Python code to compute all three.\n",
        "\n",
        "Definitions for grouped data\n",
        "Assume you have grouped data like this:\n",
        "\n",
        "| Class Interval | Frequency (f) |\n",
        "| -------------- | ------------- |\n",
        "| 10 - 20        | 5             |\n",
        "| 20 - 30        | 8             |\n",
        "| 30 - 40        | 12            |\n",
        "| 40 - 50        | 7             |\n",
        "| 50 - 60        | 3             |\n"
      ],
      "metadata": {
        "id": "ZzHZEK2WoW6m"
      }
    },
    {
      "cell_type": "code",
      "source": [
        "def mean_grouped_data(class_intervals, frequencies):\n",
        "    midpoints = [(interval[0] + interval[1]) / 2 for interval in class_intervals]\n",
        "    total_freq = sum(frequencies)\n",
        "    mean = sum(f * m for f, m in zip(frequencies, midpoints)) / total_freq\n",
        "    return mean\n",
        "\n",
        "def median_grouped_data(class_intervals, frequencies):\n",
        "    total_freq = sum(frequencies)\n",
        "    cum_freq = []\n",
        "    cum_sum = 0\n",
        "    for f in frequencies:\n",
        "        cum_sum += f\n",
        "        cum_freq.append(cum_sum)\n",
        "\n",
        "    # Find median class index\n",
        "    median_pos = total_freq / 2\n",
        "    median_class_idx = next(i for i, cf in enumerate(cum_freq) if cf >= median_pos)\n",
        "\n",
        "    L = class_intervals[median_class_idx][0]  # Lower boundary of median class\n",
        "    F = cum_freq[median_class_idx - 1] if median_class_idx != 0 else 0\n",
        "    f_m = frequencies[median_class_idx]\n",
        "    h = class_intervals[0][1] - class_intervals[0][0]  # Assuming equal class width\n",
        "\n",
        "    median = L + ((median_pos - F) / f_m) * h\n",
        "    return median\n",
        "\n",
        "def mode_grouped_data(class_intervals, frequencies):\n",
        "    max_freq = max(frequencies)\n",
        "    modal_class_idx = frequencies.index(max_freq)\n",
        "\n",
        "    L = class_intervals[modal_class_idx][0]  # Lower boundary of modal class\n",
        "    h = class_intervals[0][1] - class_intervals[0][0]  # Class width\n",
        "\n",
        "    f_1 = frequencies[modal_class_idx]\n",
        "    f_0 = frequencies[modal_class_idx - 1] if modal_class_idx > 0 else 0\n",
        "    f_2 = frequencies[modal_class_idx + 1] if modal_class_idx < len(frequencies) - 1 else 0\n",
        "\n",
        "    mode = L + ((f_1 - f_0) / ((2 * f_1) - f_0 - f_2)) * h\n",
        "    return mode\n",
        "\n",
        "# Example data\n",
        "class_intervals = [(10, 20), (20, 30), (30, 40), (40, 50), (50, 60)]\n",
        "frequencies = [5, 8, 12, 7, 3]\n",
        "\n",
        "mean_val = mean_grouped_data(class_intervals, frequencies)\n",
        "median_val = median_grouped_data(class_intervals, frequencies)\n",
        "mode_val = mode_grouped_data(class_intervals, frequencies)\n",
        "\n",
        "print(f\"Mean: {mean_val:.2f}\")\n",
        "print(f\"Median: {median_val:.2f}\")\n",
        "print(f\"Mode: {mode_val:.2f}\")\n"
      ],
      "metadata": {
        "colab": {
          "base_uri": "https://localhost:8080/"
        },
        "id": "eUYVWD4AoiTF",
        "outputId": "533a68dc-a3fb-4381-f856-d20163a576d9"
      },
      "execution_count": 14,
      "outputs": [
        {
          "output_type": "stream",
          "name": "stdout",
          "text": [
            "Mean: 33.57\n",
            "Median: 33.75\n",
            "Mode: 34.44\n"
          ]
        }
      ]
    },
    {
      "cell_type": "markdown",
      "source": [
        "**Q14. Simulate data using Python and calculate its central tendency and dispersion.**"
      ],
      "metadata": {
        "id": "ZaGABUzNonwG"
      }
    },
    {
      "cell_type": "code",
      "source": [
        "import numpy as np\n",
        "import scipy.stats as stats\n",
        "\n",
        "# Simulate data: 1000 points from a normal distribution (mean=50, std=10)\n",
        "np.random.seed(42)  # For reproducibility\n",
        "data = np.random.normal(loc=50, scale=10, size=1000)\n",
        "\n",
        "# Central Tendency\n",
        "mean_val = np.mean(data)\n",
        "median_val = np.median(data)\n",
        "mode_val = stats.mode(data, keepdims=True).mode[0]\n",
        "\n",
        "# Dispersion\n",
        "variance_val = np.var(data)           # Population variance\n",
        "std_dev_val = np.std(data)            # Population standard deviation\n",
        "range_val = np.max(data) - np.min(data)\n",
        "\n",
        "# Print results\n",
        "print(f\"Mean: {mean_val:.2f}\")\n",
        "print(f\"Median: {median_val:.2f}\")\n",
        "print(f\"Mode: {mode_val:.2f}\")\n",
        "print(f\"Variance: {variance_val:.2f}\")\n",
        "print(f\"Standard Deviation: {std_dev_val:.2f}\")\n",
        "print(f\"Range: {range_val:.2f}\")\n"
      ],
      "metadata": {
        "colab": {
          "base_uri": "https://localhost:8080/"
        },
        "id": "TGyd14PHox_e",
        "outputId": "c5d7f1d9-a4b8-49ad-f4da-c4d08e1eeb77"
      },
      "execution_count": 15,
      "outputs": [
        {
          "output_type": "stream",
          "name": "stdout",
          "text": [
            "Mean: 50.19\n",
            "Median: 50.25\n",
            "Mode: 17.59\n",
            "Variance: 95.79\n",
            "Standard Deviation: 9.79\n",
            "Range: 70.94\n"
          ]
        }
      ]
    },
    {
      "cell_type": "markdown",
      "source": [
        "**Q15. Use NumPy or pandas to summarize a dataset’s descriptive statistics.**"
      ],
      "metadata": {
        "id": "jqD1L_QAo2T1"
      }
    },
    {
      "cell_type": "markdown",
      "source": [
        "**Ans.** Using pandas (recommended for tabular data)"
      ],
      "metadata": {
        "id": "SUrVTDKEpD3e"
      }
    },
    {
      "cell_type": "code",
      "source": [
        "import pandas as pd\n",
        "import numpy as np\n",
        "\n",
        "# Simulate a dataset\n",
        "np.random.seed(42)\n",
        "data = np.random.normal(loc=50, scale=10, size=1000)\n",
        "\n",
        "# Convert to pandas Series\n",
        "series = pd.Series(data)\n",
        "\n",
        "# Get descriptive statistics summary\n",
        "summary = series.describe()\n",
        "\n",
        "print(summary)\n"
      ],
      "metadata": {
        "colab": {
          "base_uri": "https://localhost:8080/"
        },
        "id": "XCuKt_YvpGfW",
        "outputId": "19b6fd53-7dfa-4d1c-e8ae-cf9d89143ada"
      },
      "execution_count": 16,
      "outputs": [
        {
          "output_type": "stream",
          "name": "stdout",
          "text": [
            "count    1000.000000\n",
            "mean       50.193321\n",
            "std         9.792159\n",
            "min        17.587327\n",
            "25%        43.524097\n",
            "50%        50.253006\n",
            "75%        56.479439\n",
            "max        88.527315\n",
            "dtype: float64\n"
          ]
        }
      ]
    },
    {
      "cell_type": "markdown",
      "source": [
        "**Using NumPy**"
      ],
      "metadata": {
        "id": "woQtBOXwpJ5t"
      }
    },
    {
      "cell_type": "code",
      "source": [
        "import numpy as np\n",
        "\n",
        "# Simulate the same dataset\n",
        "np.random.seed(42)\n",
        "data = np.random.normal(loc=50, scale=10, size=1000)\n",
        "\n",
        "print(\"Count:\", data.size)\n",
        "print(\"Mean:\", np.mean(data))\n",
        "print(\"Std Dev:\", np.std(data))\n",
        "print(\"Min:\", np.min(data))\n",
        "print(\"25th percentile:\", np.percentile(data, 25))\n",
        "print(\"Median (50th percentile):\", np.median(data))\n",
        "print(\"75th percentile:\", np.percentile(data, 75))\n",
        "print(\"Max:\", np.max(data))\n"
      ],
      "metadata": {
        "colab": {
          "base_uri": "https://localhost:8080/"
        },
        "id": "c6lrFD-ApM--",
        "outputId": "b2f7d5b3-873f-46bf-ca82-9f0b1e9f0a27"
      },
      "execution_count": 17,
      "outputs": [
        {
          "output_type": "stream",
          "name": "stdout",
          "text": [
            "Count: 1000\n",
            "Mean: 50.193320558223256\n",
            "Std Dev: 9.787262077473542\n",
            "Min: 17.58732659930927\n",
            "25th percentile: 43.524096945376485\n",
            "Median (50th percentile): 50.25300612234888\n",
            "75th percentile: 56.4794387547293\n",
            "Max: 88.52731490654722\n"
          ]
        }
      ]
    },
    {
      "cell_type": "markdown",
      "source": [
        "**Q16. Plot a boxplot to understand the spread and identify outliers.**"
      ],
      "metadata": {
        "id": "6Rx-hb3BpSTt"
      }
    },
    {
      "cell_type": "code",
      "source": [
        "import numpy as np\n",
        "import pandas as pd\n",
        "import matplotlib.pyplot as plt\n",
        "\n",
        "# Simulate dataset\n",
        "np.random.seed(42)\n",
        "data = np.random.normal(loc=50, scale=10, size=1000)\n",
        "\n",
        "# Convert to pandas Series for convenience\n",
        "series = pd.Series(data)\n",
        "\n",
        "# Plot boxplot\n",
        "plt.figure(figsize=(8, 5))\n",
        "plt.boxplot(series, vert=False, patch_artist=True,\n",
        "            boxprops=dict(facecolor='skyblue', color='blue'),\n",
        "            medianprops=dict(color='red'),\n",
        "            whiskerprops=dict(color='blue'),\n",
        "            capprops=dict(color='blue'),\n",
        "            flierprops=dict(marker='o', color='red', alpha=0.5))\n",
        "\n",
        "plt.title('Boxplot of Dataset')\n",
        "plt.xlabel('Values')\n",
        "plt.show()\n"
      ],
      "metadata": {
        "colab": {
          "base_uri": "https://localhost:8080/",
          "height": 487
        },
        "id": "9lueqb50pX3O",
        "outputId": "99dcc41b-5925-4ee0-a63b-715b3580d3a3"
      },
      "execution_count": 18,
      "outputs": [
        {
          "output_type": "display_data",
          "data": {
            "text/plain": [
              "<Figure size 800x500 with 1 Axes>"
            ],
            "image/png": "[encoded data removed]"
          },
          "metadata": {}
        }
      ]
    },
    {
      "cell_type": "markdown",
      "source": [
        "**Q17. Calculate the interquartile range (IQR) of a dataset.**"
      ],
      "metadata": {
        "id": "x-g0Oji0pcv-"
      }
    },
    {
      "cell_type": "markdown",
      "source": [
        "**Ans.** The Interquartile Range (IQR) is the difference between the 75th percentile (Q3) and the 25th percentile (Q1) of a dataset. It measures the middle 50% spread of the data."
      ],
      "metadata": {
        "id": "rpDGR7Euphk1"
      }
    },
    {
      "cell_type": "code",
      "source": [
        "import numpy as np\n",
        "import pandas as pd\n",
        "\n",
        "# Sample dataset\n",
        "data = [12, 15, 14, 10, 18, 20, 21, 22, 23, 24, 30, 28, 25]\n",
        "\n",
        "# Using NumPy\n",
        "Q1 = np.percentile(data, 25)\n",
        "Q3 = np.percentile(data, 75)\n",
        "iqr_np = Q3 - Q1\n",
        "\n",
        "print(f\"IQR (NumPy): {iqr_np:.2f}\")\n",
        "\n",
        "# Using pandas\n",
        "series = pd.Series(data)\n",
        "iqr_pd = series.quantile(0.75) - series.quantile(0.25)\n",
        "\n",
        "print(f\"IQR (pandas): {iqr_pd:.2f}\")\n"
      ],
      "metadata": {
        "colab": {
          "base_uri": "https://localhost:8080/"
        },
        "id": "5lV65vAQplde",
        "outputId": "0003a05f-24a0-405c-d66d-03f1c5f47685"
      },
      "execution_count": 19,
      "outputs": [
        {
          "output_type": "stream",
          "name": "stdout",
          "text": [
            "IQR (NumPy): 9.00\n",
            "IQR (pandas): 9.00\n"
          ]
        }
      ]
    },
    {
      "cell_type": "markdown",
      "source": [
        "**Q18. Implement Z-score normalization and explain its significance.**"
      ],
      "metadata": {
        "id": "mldxIqQYpqV9"
      }
    },
    {
      "cell_type": "markdown",
      "source": [
        "**Ans.** Z-score normalization (also called standardization) transforms your data so it has:\n",
        "\n",
        "Mean = 0\n",
        "\n",
        "Standard deviation = 1\n",
        "\n",
        "Each value is rescaled based on how many standard deviations it is away from the mean.\n",
        "\n",
        "Formula for Z-score of a value\n",
        "𝑥\n",
        "x:\n",
        "𝑍\n",
        "=\n",
        "𝑥\n",
        "−\n",
        "𝜇\n",
        "/𝜎\n",
        "Z=\n",
        "/σ\n",
        "x−μ\n",
        "​\n",
        "\n",
        "Where:\n",
        "\n",
        "𝜇\n",
        "μ = mean of the dataset\n",
        "\n",
        "𝜎\n",
        "σ = standard deviation of the dataset\n",
        "\n",
        "\n",
        "\n"
      ],
      "metadata": {
        "id": "wgcBnE7LpxpW"
      }
    },
    {
      "cell_type": "code",
      "source": [
        "import numpy as np\n",
        "\n",
        "# Sample data\n",
        "data = np.array([10, 15, 20, 25, 30])\n",
        "\n",
        "# Calculate mean and std dev\n",
        "mean = np.mean(data)\n",
        "std_dev = np.std(data)\n",
        "\n",
        "# Z-score normalization\n",
        "z_scores = (data - mean) / std_dev\n",
        "\n",
        "print(\"Original Data:\", data)\n",
        "print(\"Mean:\", mean)\n",
        "print(\"Standard Deviation:\", std_dev)\n",
        "print(\"Z-score Normalized Data:\", z_scores)\n"
      ],
      "metadata": {
        "colab": {
          "base_uri": "https://localhost:8080/"
        },
        "id": "kh4DluaqqIJd",
        "outputId": "43e7ac1b-6fb0-49c6-e65c-c47fd0c07c10"
      },
      "execution_count": 20,
      "outputs": [
        {
          "output_type": "stream",
          "name": "stdout",
          "text": [
            "Original Data: [10 15 20 25 30]\n",
            "Mean: 20.0\n",
            "Standard Deviation: 7.0710678118654755\n",
            "Z-score Normalized Data: [-1.41421356 -0.70710678  0.          0.70710678  1.41421356]\n"
          ]
        }
      ]
    },
    {
      "cell_type": "markdown",
      "source": [
        "**Q19. Compare two datasets using their standard deviations.**"
      ],
      "metadata": {
        "id": "eXRE4_bmqMdV"
      }
    },
    {
      "cell_type": "markdown",
      "source": [
        "**Ans.** Standard deviation tells you:\n",
        "- Higher std dev → data points are more spread out, less consistent.\n",
        "\n",
        "- Lower std dev → data points are closer to the mean, more consistent."
      ],
      "metadata": {
        "id": "dRoMyUmEqhGN"
      }
    },
    {
      "cell_type": "code",
      "source": [
        "import numpy as np\n",
        "\n",
        "# Two example datasets\n",
        "data1 = [10, 12, 15, 14, 13, 16, 15]\n",
        "data2 = [22, 30, 18, 24, 26, 20, 28]\n",
        "\n",
        "# Calculate standard deviations\n",
        "std_dev1 = np.std(data1, ddof=1)  # sample std dev (ddof=1)\n",
        "std_dev2 = np.std(data2, ddof=1)\n",
        "\n",
        "print(f\"Standard Deviation of Dataset 1: {std_dev1:.2f}\")\n",
        "print(f\"Standard Deviation of Dataset 2: {std_dev2:.2f}\")\n",
        "\n",
        "# Interpretation\n",
        "if std_dev1 > std_dev2:\n",
        "    print(\"Dataset 1 has greater variability.\")\n",
        "elif std_dev1 < std_dev2:\n",
        "    print(\"Dataset 2 has greater variability.\")\n",
        "else:\n",
        "    print(\"Both datasets have the same variability.\")\n"
      ],
      "metadata": {
        "colab": {
          "base_uri": "https://localhost:8080/"
        },
        "id": "uoXkoWRJqnhV",
        "outputId": "3771aff1-735e-42a0-ac19-31a895a26f67"
      },
      "execution_count": 21,
      "outputs": [
        {
          "output_type": "stream",
          "name": "stdout",
          "text": [
            "Standard Deviation of Dataset 1: 2.07\n",
            "Standard Deviation of Dataset 2: 4.32\n",
            "Dataset 2 has greater variability.\n"
          ]
        }
      ]
    },
    {
      "cell_type": "markdown",
      "source": [
        "**Q20. Write a Python program to visualize covariance using a heatmap.**"
      ],
      "metadata": {
        "id": "2BdI97MhqsD1"
      }
    },
    {
      "cell_type": "code",
      "source": [
        "import numpy as np\n",
        "import pandas as pd\n",
        "import seaborn as sns\n",
        "import matplotlib.pyplot as plt\n",
        "\n",
        "# Simulate a dataset with 4 variables and 100 samples\n",
        "np.random.seed(42)\n",
        "data = np.random.multivariate_normal(\n",
        "    mean=[0, 0, 0, 0],\n",
        "    cov=[[1, 0.8, 0.3, 0],\n",
        "         [0.8, 1, 0.4, 0],\n",
        "         [0.3, 0.4, 1, 0.5],\n",
        "         [0, 0, 0.5, 1]],\n",
        "    size=100\n",
        ")\n",
        "\n",
        "# Convert to DataFrame for convenience\n",
        "df = pd.DataFrame(data, columns=['Var1', 'Var2', 'Var3', 'Var4'])\n",
        "\n",
        "# Calculate covariance matrix\n",
        "cov_matrix = df.cov()\n",
        "\n",
        "# Plot heatmap\n",
        "plt.figure(figsize=(8, 6))\n",
        "sns.heatmap(cov_matrix, annot=True, fmt=\".2f\", cmap='coolwarm', square=True)\n",
        "plt.title(\"Covariance Matrix Heatmap\")\n",
        "plt.show()\n"
      ],
      "metadata": {
        "colab": {
          "base_uri": "https://localhost:8080/",
          "height": 545
        },
        "id": "GTqjZOu-qxOt",
        "outputId": "a87ccf49-35f1-4bee-80f8-b65ff62decad"
      },
      "execution_count": 22,
      "outputs": [
        {
          "output_type": "display_data",
          "data": {
            "text/plain": [
              "<Figure size 800x600 with 2 Axes>"
            ],
            "image/png": "[encoded data removed]"
          },
          "metadata": {}
        }
      ]
    },
    {
      "cell_type": "markdown",
      "source": [
        "**Q21. Use seaborn to create a correlation matrix for a dataset.**"
      ],
      "metadata": {
        "id": "Ieb5j0MPq2sV"
      }
    },
    {
      "cell_type": "code",
      "source": [
        "import numpy as np\n",
        "import pandas as pd\n",
        "import seaborn as sns\n",
        "import matplotlib.pyplot as plt\n",
        "\n",
        "# Simulate dataset with 4 variables and 100 samples\n",
        "np.random.seed(42)\n",
        "data = np.random.multivariate_normal(\n",
        "    mean=[0, 0, 0, 0],\n",
        "    cov=[[1, 0.8, 0.3, 0],\n",
        "         [0.8, 1, 0.4, 0],\n",
        "         [0.3, 0.4, 1, 0.5],\n",
        "         [0, 0, 0.5, 1]],\n",
        "    size=100\n",
        ")\n",
        "\n",
        "df = pd.DataFrame(data, columns=['Var1', 'Var2', 'Var3', 'Var4'])\n",
        "\n",
        "# Calculate correlation matrix\n",
        "corr_matrix = df.corr()\n",
        "\n",
        "# Plot correlation heatmap\n",
        "plt.figure(figsize=(8, 6))\n",
        "sns.heatmap(corr_matrix, annot=True, cmap='coolwarm', vmin=-1, vmax=1, square=True)\n",
        "plt.title(\"Correlation Matrix Heatmap\")\n",
        "plt.show()\n"
      ],
      "metadata": {
        "colab": {
          "base_uri": "https://localhost:8080/",
          "height": 545
        },
        "id": "vh28hancq7R1",
        "outputId": "d1325bf1-d833-4b29-807c-b7900dddb4be"
      },
      "execution_count": 23,
      "outputs": [
        {
          "output_type": "display_data",
          "data": {
            "text/plain": [
              "<Figure size 800x600 with 2 Axes>"
            ],
            "image/png": "[encoded data removed]"
          },
          "metadata": {}
        }
      ]
    },
    {
      "cell_type": "markdown",
      "source": [
        "**Q22. Generate a dataset and implement both variance and standard deviation computations.**"
      ],
      "metadata": {
        "id": "DbQ1b3IjrAml"
      }
    },
    {
      "cell_type": "code",
      "source": [
        "import numpy as np\n",
        "\n",
        "# Generate a dataset of 10 random integers between 1 and 100\n",
        "np.random.seed(42)\n",
        "data = np.random.randint(1, 101, size=10)\n",
        "print(\"Dataset:\", data)\n",
        "\n",
        "# Calculate mean\n",
        "mean = np.mean(data)\n",
        "\n",
        "# Manual variance calculation (sample variance, ddof=1)\n",
        "variance_manual = sum((x - mean) ** 2 for x in data) / (len(data) - 1)\n",
        "\n",
        "# Manual standard deviation calculation\n",
        "std_dev_manual = variance_manual ** 0.5\n",
        "\n",
        "# Using NumPy functions (sample variance and std dev)\n",
        "variance_np = np.var(data, ddof=1)\n",
        "std_dev_np = np.std(data, ddof=1)\n",
        "\n",
        "print(f\"Manual Variance: {variance_manual:.2f}\")\n",
        "print(f\"Manual Standard Deviation: {std_dev_manual:.2f}\")\n",
        "print(f\"NumPy Variance: {variance_np:.2f}\")\n",
        "print(f\"NumPy Standard Deviation: {std_dev_np:.2f}\")\n"
      ],
      "metadata": {
        "colab": {
          "base_uri": "https://localhost:8080/"
        },
        "id": "nLJjxrujrHy0",
        "outputId": "c660424b-4441-449e-9846-468ede146234"
      },
      "execution_count": 24,
      "outputs": [
        {
          "output_type": "stream",
          "name": "stdout",
          "text": [
            "Dataset: [52 93 15 72 61 21 83 87 75 75]\n",
            "Manual Variance: 715.16\n",
            "Manual Standard Deviation: 26.74\n",
            "NumPy Variance: 715.16\n",
            "NumPy Standard Deviation: 26.74\n"
          ]
        }
      ]
    },
    {
      "cell_type": "markdown",
      "source": [
        "**Q23. Visualize skewness and kurtosis using Python libraries like matplotlib or seaborn.**"
      ],
      "metadata": {
        "id": "h6J2zcoKrLel"
      }
    },
    {
      "cell_type": "code",
      "source": [
        "import numpy as np\n",
        "import matplotlib.pyplot as plt\n",
        "import seaborn as sns\n",
        "from scipy.stats import skew, kurtosis, norm\n",
        "\n",
        "# Generate data with positive skew\n",
        "np.random.seed(42)\n",
        "data = np.random.exponential(scale=2, size=1000)  # positive skew\n",
        "\n",
        "# Calculate skewness and kurtosis\n",
        "data_skewness = skew(data)\n",
        "data_kurtosis = kurtosis(data)  # Fisher’s definition (normal dist = 0)\n",
        "\n",
        "# Plot histogram with KDE\n",
        "plt.figure(figsize=(10,6))\n",
        "sns.histplot(data, kde=True, color='skyblue', stat='density', bins=30)\n",
        "\n",
        "# Plot mean and median lines\n",
        "mean_val = np.mean(data)\n",
        "median_val = np.median(data)\n",
        "plt.axvline(mean_val, color='red', linestyle='--', label=f'Mean = {mean_val:.2f}')\n",
        "plt.axvline(median_val, color='green', linestyle='-', label=f'Median = {median_val:.2f}')\n",
        "\n",
        "# Overlay normal distribution for comparison\n",
        "xmin, xmax = plt.xlim()\n",
        "x = np.linspace(xmin, xmax, 100)\n",
        "p = norm.pdf(x, mean_val, np.std(data))\n",
        "plt.plot(x, p, 'k', linewidth=1, label='Normal Distribution')\n",
        "\n",
        "# Add text box with skewness and kurtosis\n",
        "plt.text(xmax*0.6, max(p)*0.9, f\"Skewness: {data_skewness:.2f}\\nKurtosis: {data_kurtosis:.2f}\",\n",
        "         bbox=dict(facecolor='white', alpha=0.5))\n",
        "\n",
        "plt.title(\"Histogram with KDE, Mean/Median, and Skewness/Kurtosis\")\n",
        "plt.legend()\n",
        "plt.show()\n"
      ],
      "metadata": {
        "colab": {
          "base_uri": "https://localhost:8080/",
          "height": 545
        },
        "id": "7tyU69JZrUlO",
        "outputId": "fe5bf151-e7c4-4187-b722-9b8485e6bcd5"
      },
      "execution_count": 25,
      "outputs": [
        {
          "output_type": "display_data",
          "data": {
            "text/plain": [
              "<Figure size 1000x600 with 1 Axes>"
            ],
            "image/png": "[encoded data removed]"
          },
          "metadata": {}
        }
      ]
    },
    {
      "cell_type": "markdown",
      "source": [
        "**Q24. Implement the Pearson and Spearman correlation coefficients for a dataset.**"
      ],
      "metadata": {
        "id": "85E7tSznraqU"
      }
    },
    {
      "cell_type": "code",
      "source": [
        "import numpy as np\n",
        "from scipy.stats import spearmanr, pearsonr\n",
        "\n",
        "# Sample datasets\n",
        "x = np.array([10, 20, 30, 40, 50])\n",
        "y = np.array([12, 24, 33, 39, 52])\n",
        "\n",
        "# --- Manual Pearson correlation calculation ---\n",
        "def manual_pearson(x, y):\n",
        "    n = len(x)\n",
        "    mean_x, mean_y = np.mean(x), np.mean(y)\n",
        "    numerator = np.sum((x - mean_x) * (y - mean_y))\n",
        "    denominator = np.sqrt(np.sum((x - mean_x)**2) * np.sum((y - mean_y)**2))\n",
        "    return numerator / denominator\n",
        "\n",
        "pearson_manual = manual_pearson(x, y)\n",
        "print(f\"Manual Pearson correlation: {pearson_manual:.4f}\")\n",
        "\n",
        "# --- Using scipy.stats ---\n",
        "pearson_scipy, p_value_pearson = pearsonr(x, y)\n",
        "spearman_corr, p_value_spearman = spearmanr(x, y)\n",
        "\n",
        "print(f\"Pearson correlation (scipy): {pearson_scipy:.4f} (p-value: {p_value_pearson:.4f})\")\n",
        "print(f\"Spearman correlation (scipy): {spearman_corr:.4f} (p-value: {p_value_spearman:.4f})\")\n"
      ],
      "metadata": {
        "colab": {
          "base_uri": "https://localhost:8080/"
        },
        "id": "kB9JZtMNrhes",
        "outputId": "bf31521d-69ab-476a-86bf-008c7b94acb3"
      },
      "execution_count": 26,
      "outputs": [
        {
          "output_type": "stream",
          "name": "stdout",
          "text": [
            "Manual Pearson correlation: 0.9937\n",
            "Pearson correlation (scipy): 0.9937 (p-value: 0.0006)\n",
            "Spearman correlation (scipy): 1.0000 (p-value: 0.0000)\n"
          ]
        }
      ]
    }
  ]
}