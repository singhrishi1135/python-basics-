{
  "nbformat": 4,
  "nbformat_minor": 0,
  "metadata": {
    "colab": {
      "provenance": []
    },
    "kernelspec": {
      "name": "python3",
      "display_name": "Python 3"
    },
    "language_info": {
      "name": "python"
    }
  },
  "cells": [
    {
      "cell_type": "markdown",
      "source": [
        "1. What is Object-Oriented Programming (OOP)?"
      ],
      "metadata": {
        "id": "irZrH9jAc76p"
      }
    },
    {
      "cell_type": "markdown",
      "source": [
        "- OOP is a programming paradigm based on the concept of \"objects\", which contain data (attributes) and code (methods).\n",
        "- It promotes reusability, scalability, and organization through four core principles: Encapsulation, Abstraction, Inheritance, and Polymorphism."
      ],
      "metadata": {
        "id": "GLAch1WodBkN"
      }
    },
    {
      "cell_type": "markdown",
      "source": [
        "2. What is a class in OOP+?"
      ],
      "metadata": {
        "id": "kDs5o8CsdkKt"
      }
    },
    {
      "cell_type": "markdown",
      "source": [
        "- A class is a blueprint or template for creating objects. It defines attributes and methods that the objects created from the class will have."
      ],
      "metadata": {
        "id": "LS3YfIy4dQAe"
      }
    },
    {
      "cell_type": "markdown",
      "source": [
        "3. What is an object in OOP?"
      ],
      "metadata": {
        "id": "-IgHkgYLdVaI"
      }
    },
    {
      "cell_type": "markdown",
      "source": [
        "- An object is an instance of a class. It contains real values for the properties defined in the class and can use the class's methods."
      ],
      "metadata": {
        "id": "htjU7rIPd1Y4"
      }
    },
    {
      "cell_type": "markdown",
      "source": [
        "4. What is the difference between abstraction and encapsulation?"
      ],
      "metadata": {
        "id": "PJJFD5pQd6tV"
      }
    },
    {
      "cell_type": "markdown",
      "source": [
        "- Abstraction hides implementation details and shows only the necessary features (what the object does).\n",
        "\n",
        "- Encapsulation hides internal object state by restricting direct access and only allowing it through methods (how the object protects its data)."
      ],
      "metadata": {
        "id": "qZnTQn1seBf0"
      }
    },
    {
      "cell_type": "markdown",
      "source": [
        "5. What are dunder methods in Python?"
      ],
      "metadata": {
        "id": "3Vqxg86MeLgN"
      }
    },
    {
      "cell_type": "markdown",
      "source": [
        "- Dunder methods (short for \"double underscore\"), like __init__, __str__, __repr__, are special methods used to define behaviors for operators, object creation, and representation."
      ],
      "metadata": {
        "id": "Mnvpq_IJePyu"
      }
    },
    {
      "cell_type": "markdown",
      "source": [
        " 6. Explain the concept of inheritance in OOP."
      ],
      "metadata": {
        "id": "KV8PLV4PeUHR"
      }
    },
    {
      "cell_type": "markdown",
      "source": [
        "- Inheritance allows one class (child/subclass) to inherit attributes and methods from another (parent/superclass), enabling code reuse and hierarchical classification."
      ],
      "metadata": {
        "id": "KOcETbTCeeSl"
      }
    },
    {
      "cell_type": "markdown",
      "source": [
        "7. What is polymorphism in OOP?"
      ],
      "metadata": {
        "id": "GFPARWaDeh4F"
      }
    },
    {
      "cell_type": "markdown",
      "source": [
        "- Polymorphism allows different objects to respond to the same method name in different ways, depending on their class."
      ],
      "metadata": {
        "id": "e8HS1FgSenqV"
      }
    },
    {
      "cell_type": "markdown",
      "source": [
        "8.  How is encapsulation achieved in Python?"
      ],
      "metadata": {
        "id": "et_90RXve6B1"
      }
    },
    {
      "cell_type": "markdown",
      "source": [
        "- Encapsulation is done by making variables private (prefix with _ or __) and accessing them via getter/setter methods or property decorators."
      ],
      "metadata": {
        "id": "tlofrDwge80V"
      }
    },
    {
      "cell_type": "markdown",
      "source": [
        "9. What is a constructor in Python?"
      ],
      "metadata": {
        "id": "NWx4geU4fEht"
      }
    },
    {
      "cell_type": "markdown",
      "source": [
        "- A constructor is a special method (__init__) used to initialize an object’s attributes when it is created."
      ],
      "metadata": {
        "id": "A1--B8NOfKyM"
      }
    },
    {
      "cell_type": "markdown",
      "source": [
        "10. What are class and static methods in Python+"
      ],
      "metadata": {
        "id": "tM5FQW6BfNW1"
      }
    },
    {
      "cell_type": "markdown",
      "source": [
        "- Class method (@classmethod) receives the class (cls) as an argument and can modify class state.\n",
        "\n",
        "- Static method (@staticmethod) doesn't receive self or cls, and behaves like a regular function inside a class."
      ],
      "metadata": {
        "id": "PZjyGm27fSzO"
      }
    },
    {
      "cell_type": "markdown",
      "source": [
        "11. What is method overloading in Python?"
      ],
      "metadata": {
        "id": "2svoJOOIfaCB"
      }
    },
    {
      "cell_type": "markdown",
      "source": [
        "- Python does not support traditional method overloading, but it can be simulated using default parameters or *args, **kwargs."
      ],
      "metadata": {
        "id": "G4Cfy5UFfrkG"
      }
    },
    {
      "cell_type": "markdown",
      "source": [
        "12. What is method overriding in OOP?"
      ],
      "metadata": {
        "id": "LnCb_4XZf8G1"
      }
    },
    {
      "cell_type": "markdown",
      "source": [
        "- Method overriding occurs when a subclass provides a specific implementation of a method that is already defined in its superclass."
      ],
      "metadata": {
        "id": "vMiHv013f_AN"
      }
    },
    {
      "cell_type": "markdown",
      "source": [
        "13. What is a property decorator in Python?"
      ],
      "metadata": {
        "id": "45uhwzY6gIBV"
      }
    },
    {
      "cell_type": "markdown",
      "source": [
        "- The @property decorator allows you to define a method that can be accessed like an attribute, often used to encapsulate getter/setter logic."
      ],
      "metadata": {
        "id": "CKhzhhf0gMul"
      }
    },
    {
      "cell_type": "markdown",
      "source": [
        "14. Why is polymorphism important in OOP?"
      ],
      "metadata": {
        "id": "uz15zpfvgtkV"
      }
    },
    {
      "cell_type": "markdown",
      "source": [
        "- It allows functions to use objects of different classes interchangeably, enhancing flexibility and scalability of code."
      ],
      "metadata": {
        "id": "f5LdPEzygxaB"
      }
    },
    {
      "cell_type": "markdown",
      "source": [
        "15. What is an abstract class in Python+"
      ],
      "metadata": {
        "id": "c2fhKOssg1Zd"
      }
    },
    {
      "cell_type": "markdown",
      "source": [
        "- An abstract class cannot be instantiated and typically contains one or more abstract methods defined using the abc module. It serves as a base for other classes."
      ],
      "metadata": {
        "id": "FeOXvkmjg391"
      }
    },
    {
      "cell_type": "markdown",
      "source": [
        "16. What are the advantages of OOP?"
      ],
      "metadata": {
        "id": "Mvv8mtDmhDfl"
      }
    },
    {
      "cell_type": "markdown",
      "source": [
        "- Code reusability via inheritance\n",
        "- Encapsulation for data protection\n",
        "- Abstraction for reducing complexity\n",
        "- Polymorphism for flexibility\n",
        "- Easier debugging and maintenance"
      ],
      "metadata": {
        "id": "R12ap2tChP8G"
      }
    },
    {
      "cell_type": "markdown",
      "source": [
        "17. What is the difference between a class variable and an instance variable?"
      ],
      "metadata": {
        "id": "18EDaXxRhWL2"
      }
    },
    {
      "cell_type": "markdown",
      "source": [
        "- Class variable is shared across all instances of a class.\n",
        "- Instance variable is unique to each object and defined inside the __init__ method."
      ],
      "metadata": {
        "id": "wONs_H8sheD1"
      }
    },
    {
      "cell_type": "markdown",
      "source": [
        "18. What is multiple inheritance in Python?"
      ],
      "metadata": {
        "id": "THqy_lU9hqje"
      }
    },
    {
      "cell_type": "markdown",
      "source": [
        "- Multiple inheritance is when a class inherits from more than one parent class, combining their attributes and methods."
      ],
      "metadata": {
        "id": "-IpPZrSzhvbm"
      }
    },
    {
      "cell_type": "markdown",
      "source": [
        "19.  Explain the purpose of ‘’__str__’ and ‘__repr__’ ‘ methods in Python."
      ],
      "metadata": {
        "id": "QG_ONT7qhzFl"
      }
    },
    {
      "cell_type": "markdown",
      "source": [
        "- __str__: Returns a readable string representation (used by print()).\n",
        "- __repr__: Returns an unambiguous representation, useful for debugging and developers."
      ],
      "metadata": {
        "id": "cnvJNFRCh5qf"
      }
    },
    {
      "cell_type": "markdown",
      "source": [
        "20. What is the significance of the ‘super()’ function in Python?"
      ],
      "metadata": {
        "id": "v131t48wh_g9"
      }
    },
    {
      "cell_type": "markdown",
      "source": [
        "- super() allows you to call methods from a parent class, often used to extend or modify the behavior of inherited methods."
      ],
      "metadata": {
        "id": "Pj_7vPJ9iCYN"
      }
    },
    {
      "cell_type": "markdown",
      "source": [
        "21. What is the significance of the __del__ method in Python?"
      ],
      "metadata": {
        "id": "ohxZFwUniKNu"
      }
    },
    {
      "cell_type": "markdown",
      "source": [
        "- __del__ is a destructor method that is called when an object is about to be destroyed. It’s used for cleanup, though its use is discouraged in favor of context managers (with)."
      ],
      "metadata": {
        "id": "KqmLivFxiLu1"
      }
    },
    {
      "cell_type": "markdown",
      "source": [
        "22. What is the difference between @staticmethod and @classmethod in Python?"
      ],
      "metadata": {
        "id": "qoDGTOOXiR39"
      }
    },
    {
      "cell_type": "markdown",
      "source": [
        "- @staticmethod: No access to instance or class; behaves like a regular function.\n",
        "\n",
        "- @classmethod: Access to the class (cls) and can modify class state.\n",
        "\n"
      ],
      "metadata": {
        "id": "TvGXPCGBiWMu"
      }
    },
    {
      "cell_type": "markdown",
      "source": [
        "23. How does polymorphism work in Python with inheritance?"
      ],
      "metadata": {
        "id": "usACJohQie9d"
      }
    },
    {
      "cell_type": "markdown",
      "source": [
        "- Python uses dynamic (duck) typing. If two classes implement a method with the same name, they can be used interchangeably in functions that call that method, enabling polymorphism."
      ],
      "metadata": {
        "id": "lvuvjRnSijwu"
      }
    },
    {
      "cell_type": "markdown",
      "source": [
        "24. What is method chaining in Python OOP?"
      ],
      "metadata": {
        "id": "8xDHSBR9i--G"
      }
    },
    {
      "cell_type": "markdown",
      "source": [
        "- Method chaining involves returning self from methods, allowing multiple methods to be called in a single line:"
      ],
      "metadata": {
        "id": "L8Z3QKarjC2t"
      }
    },
    {
      "cell_type": "code",
      "source": [
        "obj.set_name(\"Tom\").set_age(30)"
      ],
      "metadata": {
        "id": "4jIawrdgjPYu"
      },
      "execution_count": null,
      "outputs": []
    },
    {
      "cell_type": "markdown",
      "source": [
        "25. What is the purpose of the __call__ method in Python?"
      ],
      "metadata": {
        "id": "vre60eYnjSiP"
      }
    },
    {
      "cell_type": "markdown",
      "source": [
        "The __call__ method makes an object callable like a function.\n",
        "Example:"
      ],
      "metadata": {
        "id": "4R7XPpBkjXh-"
      }
    },
    {
      "cell_type": "code",
      "source": [
        "class Adder:\n",
        "    def __call__(self, x, y):\n",
        "        return x + y\n"
      ],
      "metadata": {
        "id": "fpguwedWjZu6"
      },
      "execution_count": null,
      "outputs": []
    },
    {
      "cell_type": "markdown",
      "source": [
        "###Practical Questions###"
      ],
      "metadata": {
        "id": "EOgRnLAtA5nc"
      }
    },
    {
      "cell_type": "markdown",
      "source": [
        "1.  Create a parent class Animal with a method speak() that prints a generic message. Create a child class Dog\n",
        "that overrides the speak() method to print \"Bark!\"."
      ],
      "metadata": {
        "id": "LVzu1OmXBEp7"
      }
    },
    {
      "cell_type": "code",
      "source": [
        "# Parent class\n",
        "class Animal:\n",
        "    def speak(self):\n",
        "        print(\"Some generic animal sound.\")\n",
        "\n",
        "# Child class\n",
        "class Dog(Animal):\n",
        "    def speak(self):\n",
        "        print(\"Bark!\")\n",
        "\n",
        "# Example usage\n",
        "generic_animal = Animal()\n",
        "generic_animal.speak()  # Output: Some generic animal sound.\n",
        "\n",
        "dog = Dog()\n",
        "dog.speak()  # Output: Bark!\n"
      ],
      "metadata": {
        "id": "BwHmvshBCBVV"
      },
      "execution_count": null,
      "outputs": []
    },
    {
      "cell_type": "markdown",
      "source": [
        "2. Write a program to create an abstract class Shape with a method area(). Derive classes Circle and Rectangle\n",
        "from it and implement the area() method in both."
      ],
      "metadata": {
        "id": "iEmvyTTACLyW"
      }
    },
    {
      "cell_type": "code",
      "source": [
        "from abc import ABC, abstractmethod\n",
        "import math\n",
        "\n",
        "# Abstract base class\n",
        "class Shape(ABC):\n",
        "    @abstractmethod\n",
        "    def area(self):\n",
        "        pass\n",
        "\n",
        "# Derived class: Circle\n",
        "class Circle(Shape):\n",
        "    def __init__(self, radius):\n",
        "        self.radius = radius\n",
        "\n",
        "    def area(self):\n",
        "        return math.pi * self.radius ** 2\n",
        "\n",
        "# Derived class: Rectangle\n",
        "class Rectangle(Shape):\n",
        "    def __init__(self, width, height):\n",
        "        self.width = width\n",
        "        self.height = height\n",
        "\n",
        "    def area(self):\n",
        "        return self.width * self.height\n",
        "\n",
        "# Example usage\n",
        "circle = Circle(5)\n",
        "print(\"Circle area:\", circle.area())  # Output: Circle area: 78.53981633974483\n",
        "\n",
        "rectangle = Rectangle(4, 6)\n",
        "print(\"Rectangle area:\", rectangle.area())  # Output: Rectangle area: 24\n"
      ],
      "metadata": {
        "id": "axv0OtfoCNn9"
      },
      "execution_count": null,
      "outputs": []
    },
    {
      "cell_type": "markdown",
      "source": [
        "3.  Implement a multi-level inheritance scenario where a class Vehicle has an attribute type. Derive a class Car\n",
        "and further derive a class ElectricCar that adds a battery attribute."
      ],
      "metadata": {
        "id": "PxGA-KUUCbne"
      }
    },
    {
      "cell_type": "code",
      "source": [
        "# Base class\n",
        "class Vehicle:\n",
        "    def __init__(self, type):\n",
        "        self.type = type\n",
        "\n",
        "    def display_type(self):\n",
        "        print(f\"Vehicle type: {self.type}\")\n",
        "\n",
        "# Derived class from Vehicle\n",
        "class Car(Vehicle):\n",
        "    def __init__(self, type, brand):\n",
        "        super().__init__(type)\n",
        "        self.brand = brand\n",
        "\n",
        "    def display_brand(self):\n",
        "        print(f\"Car brand: {self.brand}\")\n",
        "\n",
        "# Further derived class from Car\n",
        "class ElectricCar(Car):\n",
        "    def __init__(self, type, brand, battery):\n",
        "        super().__init__(type, brand)\n",
        "        self.battery = battery\n",
        "\n",
        "    def display_battery(self):\n",
        "        print(f\"Battery capacity: {self.battery} kWh\")\n",
        "\n",
        "# Example usage\n",
        "e_car = ElectricCar(\"Four-wheeler\", \"Tesla\", 75)\n",
        "e_car.display_type()       # Output: Vehicle type: Four-wheeler\n",
        "e_car.display_brand()      # Output: Car brand: Tesla\n",
        "e_car.display_battery()    # Output: Battery capacity: 75 kWh\n"
      ],
      "metadata": {
        "id": "kuot-MK7DDM8"
      },
      "execution_count": null,
      "outputs": []
    },
    {
      "cell_type": "markdown",
      "source": [
        "4. Demonstrate polymorphism by creating a base class Bird with a method fly(). Create two derived classes\n",
        "Sparrow and Penguin that override the fly() method."
      ],
      "metadata": {
        "id": "31u3ZhhjDJIo"
      }
    },
    {
      "cell_type": "code",
      "source": [
        "# Base class\n",
        "class Bird:\n",
        "    def fly(self):\n",
        "        print(\"Some birds can fly.\")\n",
        "\n",
        "# Derived class\n",
        "class Sparrow(Bird):\n",
        "    def fly(self):\n",
        "        print(\"Sparrow flies high in the sky.\")\n",
        "\n",
        "# Derived class\n",
        "class Penguin(Bird):\n",
        "    def fly(self):\n",
        "        print(\"Penguins cannot fly, they swim.\")\n",
        "\n",
        "# Polymorphism in action\n",
        "def bird_flight(bird: Bird):\n",
        "    bird.fly()\n",
        "\n",
        "# Example usage\n",
        "sparrow = Sparrow()\n",
        "penguin = Penguin()\n",
        "\n",
        "bird_flight(sparrow)  # Output: Sparrow flies high in the sky.\n",
        "bird_flight(penguin)  # Output: Penguins cannot fly, they swim.\n"
      ],
      "metadata": {
        "id": "1-mNGt5XDRLX"
      },
      "execution_count": null,
      "outputs": []
    },
    {
      "cell_type": "markdown",
      "source": [
        "5.  Write a program to demonstrate encapsulation by creating a class BankAccount with private attributes\n",
        "balance and methods to deposit, withdraw, and check balance."
      ],
      "metadata": {
        "id": "aOYWRdbPDZQ_"
      }
    },
    {
      "cell_type": "code",
      "source": [
        "class BankAccount:\n",
        "    def __init__(self, initial_balance=0):\n",
        "        self.__balance = initial_balance  # Private attribute\n",
        "\n",
        "    # Method to deposit money\n",
        "    def deposit(self, amount):\n",
        "        if amount > 0:\n",
        "            self.__balance += amount\n",
        "            print(f\"Deposited: ${amount}\")\n",
        "        else:\n",
        "            print(\"Deposit amount must be positive.\")\n",
        "\n",
        "    # Method to withdraw money\n",
        "    def withdraw(self, amount):\n",
        "        if 0 < amount <= self.__balance:\n",
        "            self.__balance -= amount\n",
        "            print(f\"Withdrew: ${amount}\")\n",
        "        else:\n",
        "            print(\"Insufficient balance or invalid amount.\")\n",
        "\n",
        "    # Method to check balance\n",
        "    def check_balance(self):\n",
        "        print(f\"Current balance: ${self.__balance}\")\n"
      ],
      "metadata": {
        "id": "xXS0clnZDgz7"
      },
      "execution_count": null,
      "outputs": []
    },
    {
      "cell_type": "markdown",
      "source": [
        "6.  Demonstrate runtime polymorphism using a method play() in a base class Instrument. Derive classes Guitar\n",
        "and Piano that implement their own version of play()."
      ],
      "metadata": {
        "id": "1Ex82OonDmEl"
      }
    },
    {
      "cell_type": "code",
      "source": [
        "# Base class\n",
        "class Instrument:\n",
        "    def play(self):\n",
        "        print(\"Playing an instrument.\")\n",
        "\n",
        "# Derived class\n",
        "class Guitar(Instrument):\n",
        "    def play(self):\n",
        "        print(\"Strumming the guitar.\")\n",
        "\n",
        "# Derived class\n",
        "class Piano(Instrument):\n",
        "    def play(self):\n",
        "        print(\"Playing the piano.\")\n",
        "\n",
        "# Function that demonstrates runtime polymorphism\n",
        "def perform(instrument: Instrument):\n",
        "    instrument.play()\n",
        "\n",
        "# Example usage\n",
        "guitar = Guitar()\n",
        "piano = Piano()\n",
        "\n",
        "perform(guitar)  # Output: Strumming the guitar.\n",
        "perform(piano)   # Output: Playing the piano.\n"
      ],
      "metadata": {
        "id": "0MzcX2jJDvS1"
      },
      "execution_count": null,
      "outputs": []
    },
    {
      "cell_type": "markdown",
      "source": [
        "7. Create a class MathOperations with a class method add_numbers() to add two numbers and a static\n",
        "method subtract_numbers() to subtract two numbers."
      ],
      "metadata": {
        "id": "W1YmRU2-Dzy-"
      }
    },
    {
      "cell_type": "code",
      "source": [
        "class MathOperations:\n",
        "    # Class method to add two numbers\n",
        "    @classmethod\n",
        "    def add_numbers(cls, a, b):\n",
        "        return a + b\n",
        "\n",
        "    # Static method to subtract two numbers\n",
        "    @staticmethod\n",
        "    def subtract_numbers(a, b):\n",
        "        return a - b\n",
        "\n",
        "# Example usage\n",
        "sum_result = MathOperations.add_numbers(10, 5)\n",
        "print(\"Sum:\", sum_result)  # Output: Sum: 15\n",
        "\n",
        "difference = MathOperations.subtract_numbers(10, 5)\n",
        "print(\"Difference:\", difference)  # Output: Difference: 5\n"
      ],
      "metadata": {
        "id": "zo8jmTWOEBh7"
      },
      "execution_count": null,
      "outputs": []
    },
    {
      "cell_type": "markdown",
      "source": [
        "8. Implement a class Person with a class method to count the total number of persons created."
      ],
      "metadata": {
        "id": "mw3HcH7CEHve"
      }
    },
    {
      "cell_type": "code",
      "source": [
        "class Person:\n",
        "    _count = 0  # Class variable to keep track of person count\n",
        "\n",
        "    def __init__(self, name):\n",
        "        self.name = name\n",
        "        Person._count += 1\n",
        "\n",
        "    @classmethod\n",
        "    def get_person_count(cls):\n",
        "        return cls._count\n",
        "\n",
        "# Example usage\n",
        "p1 = Person(\"Alice\")\n",
        "p2 = Person(\"Bob\")\n",
        "p3 = Person(\"Charlie\")\n",
        "\n",
        "print(\"Total persons created:\", Person.get_person_count())  # Output: Total persons created: 3\n"
      ],
      "metadata": {
        "id": "QNFcHCbcELaz"
      },
      "execution_count": null,
      "outputs": []
    },
    {
      "cell_type": "markdown",
      "source": [
        "Key Points:\n",
        " - Count is a class variable shared by all instances.\n",
        "get_person_count() is a class method used to access the class-level variable.\n",
        "- The counter increments each time a new Person object is created."
      ],
      "metadata": {
        "id": "s6DhKfdiETyv"
      }
    },
    {
      "cell_type": "markdown",
      "source": [
        "9. Write a class Fraction with attributes numerator and denominator. Override the str method to display the\n",
        "fraction as \"numerator/denominator\"."
      ],
      "metadata": {
        "id": "9bwBvcm4En8c"
      }
    },
    {
      "cell_type": "code",
      "source": [
        "class Fraction:\n",
        "    def __init__(self, numerator, denominator):\n",
        "        self.numerator = numerator\n",
        "        if denominator == 0:\n",
        "            raise ValueError(\"Denominator cannot be zero.\")\n",
        "        self.denominator = denominator\n",
        "\n",
        "    def __str__(self):\n",
        "        return f\"{self.numerator}/{self.denominator}\"\n",
        "\n",
        "# Example usage\n",
        "f1 = Fraction(3, 4)\n",
        "print(f1)  # Output: 3/4\n",
        "\n",
        "f2 = Fraction(5, 1)\n",
        "print(f2)  # Output: 5/1\n"
      ],
      "metadata": {
        "id": "pnFlUuRUE1oF"
      },
      "execution_count": null,
      "outputs": []
    },
    {
      "cell_type": "markdown",
      "source": [
        "#Highlights:\n",
        "- The __str__ method is overridden to provide a clean string representation.\n",
        "\n",
        "- Includes basic error handling to prevent division by zero."
      ],
      "metadata": {
        "id": "eafEX1cZFH-m"
      }
    },
    {
      "cell_type": "markdown",
      "source": [
        "10.  Demonstrate operator overloading by creating a class Vector and overriding the add method to add two\n",
        "vectors."
      ],
      "metadata": {
        "id": "XapTtifWFRaT"
      }
    },
    {
      "cell_type": "code",
      "source": [
        "class Vector:\n",
        "    def __init__(self, x, y):\n",
        "        self.x = x\n",
        "        self.y = y\n",
        "\n",
        "    # Overload the + operator\n",
        "    def __add__(self, other):\n",
        "        if isinstance(other, Vector):\n",
        "            return Vector(self.x + other.x, self.y + other.y)\n",
        "        return NotImplemented\n",
        "\n",
        "    # String representation for printing\n",
        "    def __str__(self):\n",
        "        return f\"Vector({self.x}, {self.y})\"\n",
        "\n",
        "# Example usage\n",
        "v1 = Vector(2, 3)\n",
        "v2 = Vector(4, 5)\n",
        "v3 = v1 + v2\n",
        "\n",
        "print(v3)  # Output: Vector(6, 8)\n"
      ],
      "metadata": {
        "id": "suwTcIXDFY6z"
      },
      "execution_count": null,
      "outputs": []
    },
    {
      "cell_type": "markdown",
      "source": [
        "11.  Create a class Person with attributes name and age. Add a method greet() that prints \"Hello, my name is\n",
        "{name} and I am {age} years old.\""
      ],
      "metadata": {
        "id": "zGhrzpB4F1pN"
      }
    },
    {
      "cell_type": "code",
      "source": [
        "class Person:\n",
        "    def __init__(self, name, age):\n",
        "        self.name = name\n",
        "        self.age = age\n",
        "\n",
        "    def greet(self):\n",
        "        print(f\"Hello, my name is {self.name} and I am {self.age} years old.\")\n",
        "\n",
        "# Example usage\n",
        "person1 = Person(\"Alice\", 30)\n",
        "person1.greet()  # Output: Hello, my name is Alice and I am 30 years old.\n",
        "\n",
        "person2 = Person(\"Bob\", 25)\n",
        "person2.greet()  # Output: Hello, my name is Bob and I am 25 years old.\n"
      ],
      "metadata": {
        "id": "1hrQVYm2F4fr"
      },
      "execution_count": null,
      "outputs": []
    },
    {
      "cell_type": "markdown",
      "source": [
        "12.  Implement a class Student with attributes name and grades. Create a method average_grade() to compute\n",
        "the average of the grades."
      ],
      "metadata": {
        "id": "r1N4yoHKF7dP"
      }
    },
    {
      "cell_type": "code",
      "source": [
        "class Student:\n",
        "    def __init__(self, name, grades):\n",
        "        self.name = name\n",
        "        self.grades = grades  # List of grades\n",
        "\n",
        "    def average_grade(self):\n",
        "        if not self.grades:\n",
        "            return 0  # Return 0 if the list is empty\n",
        "        return sum(self.grades) / len(self.grades)\n",
        "\n",
        "# Example usage\n",
        "student1 = Student(\"Alice\", [85, 90, 78, 92])\n",
        "print(f\"{student1.name}'s average grade: {student1.average_grade()}\")  # Output: Alice's average grade: 86.25\n",
        "\n",
        "student2 = Student(\"Bob\", [88, 79, 94, 91])\n",
        "print(f\"{student2.name}'s average grade: {student2.average_grade_\n"
      ],
      "metadata": {
        "id": "2lxsGFhTGDw3"
      },
      "execution_count": null,
      "outputs": []
    },
    {
      "cell_type": "markdown",
      "source": [
        "#Explanation:\n",
        "- The __init__ method initializes the name and grades attributes.\n",
        "\n",
        "- The average_grade() method calculates and returns the average of the grades.\n",
        "\n",
        "- It checks if the list of grades is empty to avoid division by zero."
      ],
      "metadata": {
        "id": "xSxqF18EGHzh"
      }
    },
    {
      "cell_type": "markdown",
      "source": [
        "13.  Create a class Rectangle with methods set_dimensions() to set the dimensions and area() to calculate the\n",
        "area."
      ],
      "metadata": {
        "id": "OsXTG0LHGSxk"
      }
    },
    {
      "cell_type": "code",
      "source": [
        "class Rectangle:\n",
        "    def __init__(self):\n",
        "        self.length = 0\n",
        "        self.width = 0\n",
        "\n",
        "    # Method to set the dimensions of the rectangle\n",
        "    def set_dimensions(self, length, width):\n",
        "        self.length = length\n",
        "        self.width = width\n",
        "\n",
        "    # Method to calculate the area of the rectangle\n",
        "    def area(self):\n",
        "        return self.length * self.width\n",
        "\n",
        "# Example usage\n",
        "rectangle1 = Rectangle()\n",
        "rectangle1.set_dimensions(5, 3)\n",
        "print(f\"Area of rectangle: {rectangle1.area()}\")  # Output: Area of rectangle: 15\n",
        "\n",
        "rectangle2 = Rectangle()\n",
        "rectangle2.set_dimensions(10, 7)\n",
        "print(f\"Area of rectangle: {rectangle2.area()}\")  # Output: Area of rectangle: 70\n"
      ],
      "metadata": {
        "id": "PE2gTVNLGYaT"
      },
      "execution_count": null,
      "outputs": []
    },
    {
      "cell_type": "markdown",
      "source": [
        "14. Create a class Employee with a method calculate_salary() that computes the salary based on hours worked\n",
        "and hourly rate. Create a derived class Manager that adds a bonus to the salary."
      ],
      "metadata": {
        "id": "CAqc3HGiGdtH"
      }
    },
    {
      "cell_type": "code",
      "source": [
        "class Employee:\n",
        "    def __init__(self, name, hours_worked, hourly_rate):\n",
        "        self.name = name\n",
        "        self.hours_worked = hours_worked\n",
        "        self.hourly_rate = hourly_rate\n",
        "\n",
        "    def calculate_salary(self):\n",
        "        return self.hours_worked * self.hourly_rate\n",
        "\n",
        "# Derived class: Manager\n",
        "class Manager(Employee):\n",
        "    def __init__(self, name, hours_worked, hourly_rate, bonus):\n",
        "        super().__init__(name, hours_worked, hourly_rate)\n",
        "        self.bonus = bonus\n",
        "\n",
        "    def calculate_salary(self):\n",
        "        base_salary = super().calculate_salary()  # Get base salary from Employee\n",
        "        return base_salary + self.bonus  # Add bonus to the salary\n",
        "\n",
        "# Example usage\n",
        "employee = Employee(\"John\", 40, 20)\n",
        "print(f\"{employee.name}'s salary: ${employee.calculate_salary()}\")  # Output: John's salary: $800\n",
        "\n",
        "manager = Manager(\"Sarah\", 40, 25, 500)\n",
        "print(f\"{manager.name}'s salary: ${manager.calculate_salary()}\")  # Output: Sarah's salary: $1500\n"
      ],
      "metadata": {
        "id": "7fw1FF-rGl1x"
      },
      "execution_count": null,
      "outputs": []
    },
    {
      "cell_type": "markdown",
      "source": [
        "#Explanation:\n",
        "- The Employee class has attributes name, hours_worked, and hourly_rate. The calculate_salary() method computes the salary as hours_worked * hourly_rate.\n",
        "\n",
        "- The Manager class is derived from Employee. It adds a bonus attribute and overrides the calculate_salary() method to include the bonus in the final salary calculation."
      ],
      "metadata": {
        "id": "oSYzsUPFGoqf"
      }
    },
    {
      "cell_type": "markdown",
      "source": [
        "15.  Create a class Product with attributes name, price, and quantity. Implement a method total_price() that\n",
        "calculates the total price of the product."
      ],
      "metadata": {
        "id": "ecXOGmP5Gzq-"
      }
    },
    {
      "cell_type": "code",
      "source": [
        "class Product:\n",
        "    def __init__(self, name, price, quantity):\n",
        "        self.name = name\n",
        "        self.price = price\n",
        "        self.quantity = quantity\n",
        "\n",
        "    # Method to calculate the total price\n",
        "    def total_price(self):\n",
        "        return self.price * self.quantity\n",
        "\n",
        "# Example usage\n",
        "product1 = Product(\"Laptop\", 1000, 3)\n",
        "print(f\"Total price of {product1.name}: ${product1.total_price()}\")  # Output: Total price of Laptop: $3000\n",
        "\n",
        "product2 = Product(\"Smartphone\", 500, 5)\n",
        "print(f\"Total price of {product2.name}: ${product2.total_price()}\")  # Output: Total price of Smartphone: $2500\n"
      ],
      "metadata": {
        "id": "bR52Og-0G1Uj"
      },
      "execution_count": null,
      "outputs": []
    },
    {
      "cell_type": "markdown",
      "source": [
        "#Explanation:\n",
        "The __init__ method initializes the name, price, and quantity attributes.\n",
        "\n",
        "The total_price() method calculates the total price by multiplying price by quantity."
      ],
      "metadata": {
        "id": "CwZ_45GGG9fw"
      }
    },
    {
      "cell_type": "markdown",
      "source": [
        "16. Create a class Animal with an abstract method sound(). Create two derived classes Cow and Sheep that\n",
        "implement the sound() method."
      ],
      "metadata": {
        "id": "unWSD89fHC1k"
      }
    },
    {
      "cell_type": "code",
      "source": [
        "from abc import ABC, abstractmethod\n",
        "\n",
        "# Abstract base class\n",
        "class Animal(ABC):\n",
        "    @abstractmethod\n",
        "    def sound(self):\n",
        "        pass\n",
        "\n",
        "# Derived class: Cow\n",
        "class Cow(Animal):\n",
        "    def sound(self):\n",
        "        print(\"Moo\")\n",
        "\n",
        "# Derived class: Sheep\n",
        "class Sheep(Animal):\n",
        "    def sound(self):\n",
        "        print(\"Baa\")\n",
        "\n",
        "# Example usage\n",
        "cow = Cow()\n",
        "cow.sound()  # Output: Moo\n",
        "\n",
        "sheep = Sheep()\n",
        "sheep.sound()  # Output: Baa\n"
      ],
      "metadata": {
        "id": "1lcnnrzAHFaz"
      },
      "execution_count": null,
      "outputs": []
    },
    {
      "cell_type": "markdown",
      "source": [
        "#Explanation:\n",
        "- The Animal class is abstract and defines an abstract method sound(), which must be implemented by any non-abstract derived class.\n",
        "\n",
        "- The Cow and Sheep classes implement the sound() method, printing the respective sounds for each animal.\n",
        "\n",
        "- The ABC (Abstract Base Class) module and the @abstractmethod decorator are used to define the abstract method.\n"
      ],
      "metadata": {
        "id": "vkgVGqR3HPC-"
      }
    },
    {
      "cell_type": "markdown",
      "source": [
        "17. Create a class Book with attributes title, author, and year_published. Add a method get_book_info() that\n",
        "returns a formatted string with the book's details.\n"
      ],
      "metadata": {
        "id": "AiMC3jdZHbC3"
      }
    },
    {
      "cell_type": "code",
      "source": [
        "class Book:\n",
        "    def __init__(self, title, author, year_published):\n",
        "        self.title = title\n",
        "        self.author = author\n",
        "        self.year_published = year_published\n",
        "\n",
        "    # Method to return the book's details as a formatted string\n",
        "    def get_book_info(self):\n",
        "        return f\"Title: {self.title}\\nAuthor: {self.author}\\nYear Published: {self.year_published}\"\n",
        "\n",
        "# Example usage\n",
        "book1 = Book(\"To Kill a Mockingbird\", \"Harper Lee\", 1960)\n",
        "print(book1.get_book_info())\n",
        "\n",
        "book2 = Book(\"1984\", \"George Orwell\", 1949)\n",
        "print(book2.get_book_info())\n"
      ],
      "metadata": {
        "id": "GEuYtNJ_HhFP"
      },
      "execution_count": null,
      "outputs": []
    },
    {
      "cell_type": "markdown",
      "source": [
        "###Output"
      ],
      "metadata": {
        "id": "MxNVPY1EHlGe"
      }
    },
    {
      "cell_type": "code",
      "source": [
        "Title: To Kill a Mockingbird\n",
        "Author: Harper Lee\n",
        "Year Published: 1960\n",
        "\n",
        "Title: 1984\n",
        "Author: George Orwell\n",
        "Year Published: 1949\n"
      ],
      "metadata": {
        "id": "-iWWEHuDHrdf"
      },
      "execution_count": null,
      "outputs": []
    },
    {
      "cell_type": "markdown",
      "source": [
        "18.  Create a class House with attributes address and price. Create a derived class Mansion that adds an\n",
        "attribute number_of_rooms."
      ],
      "metadata": {
        "id": "VLWJlFS4HuQv"
      }
    },
    {
      "cell_type": "code",
      "source": [
        "# Base class: House\n",
        "class House:\n",
        "    def __init__(self, address, price):\n",
        "        self.address = address\n",
        "        self.price = price\n",
        "\n",
        "    def get_house_info(self):\n",
        "        return f\"Address: {self.address}\\nPrice: ${self.price}\"\n",
        "\n",
        "# Derived class: Mansion\n",
        "class Mansion(House):\n",
        "    def __init__(self, address, price, number_of_rooms):\n",
        "        super().__init__(address, price)  # Call the constructor of the base class\n",
        "        self.number_of_rooms = number_of_rooms\n",
        "\n",
        "    def get_mansion_info(self):\n",
        "        house_info = self.get_house_info()  # Get info from the base class\n",
        "        return f\"{house_info}\\nNumber of Rooms: {self.number_of_rooms}\"\n",
        "\n",
        "# Example usage\n",
        "house = House(\"123 Main St\", 300000)\n",
        "print(house.get_house_info())  # Output: Address: 123 Main St, Price: $300000\n",
        "\n",
        "mansion = Mansion(\"456 Luxury Ave\", 5000000, 20)\n",
        "print(mansion.get_mansion_info())  # Output: Address: 456 Luxury Ave, Price: $5000000, Number of Rooms: 20\n"
      ],
      "metadata": {
        "id": "gjBJ5MLPH4Ef"
      },
      "execution_count": null,
      "outputs": []
    },
    {
      "cell_type": "markdown",
      "source": [
        "#Explanation:\n",
        "- Base class House has attributes address and price. The get_house_info() method returns the house's details.\n",
        "\n",
        "- Derived class Mansion inherits from House and adds the number_of_rooms attribute. It also has a get_mansion_info() method that combines information from both the base class and the derived class."
      ],
      "metadata": {
        "id": "Q93p4XwgH7Ld"
      }
    }
  ]
}