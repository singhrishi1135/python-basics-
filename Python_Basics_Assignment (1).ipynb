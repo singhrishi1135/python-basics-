{
  "nbformat": 4,
  "nbformat_minor": 0,
  "metadata": {
    "colab": {
      "provenance": []
    },
    "kernelspec": {
      "name": "python3",
      "display_name": "Python 3"
    },
    "language_info": {
      "name": "python"
    }
  },
  "cells": [
    {
      "cell_type": "markdown",
      "source": [
        "###1. Explain the key features of Python that make it a popular choice for programming\n"
      ],
      "metadata": {
        "id": "cVGEL8I16UY0"
      }
    },
    {
      "cell_type": "markdown",
      "source": [
        "Python is a widely used programming language due to its:\n",
        "\n",
        "- Simplicity & Readability: Python’s syntax is clear and easy to understand.\n",
        "\n",
        "- Interpreted Language: Code is executed line by line, making debugging easier.\n",
        "\n",
        "- Dynamically Typed: No need to declare variable types explicitly.\n",
        "\n",
        "- Extensive Libraries: Offers a vast collection of libraries for various applications.\n",
        "\n",
        "- Cross-Platform Compatibility: Runs on Windows, macOS, and Linux.\n",
        "\n",
        "- Object-Oriented & Functional Programming: Supports multiple paradigms.\n",
        "\n",
        "- Automatic Memory Management: Uses garbage collection to manage memory efficiently.\n",
        "\n"
      ],
      "metadata": {
        "id": "bf4JJJuK6edt"
      }
    },
    {
      "cell_type": "markdown",
      "source": [
        "###2. Describe the role of predefined keywords in Python and provide examples of how they are used in a program"
      ],
      "metadata": {
        "id": "tLnJmciZ65OW"
      }
    },
    {
      "cell_type": "markdown",
      "source": [
        "Predefined keywords in Python are reserved words with special meanings. They cannot be used as variable names. Other keywords include import, def, while, for, try, except, etc. Examples:"
      ],
      "metadata": {
        "id": "63WbEYuR667V"
      }
    },
    {
      "cell_type": "code",
      "source": [
        "# Example using 'if', 'else', and 'return'\n",
        "def check_even(number):\n",
        "    if number % 2 == 0:\n",
        "        return \"Even\"\n",
        "    else:\n",
        "        return \"Odd\"\n",
        "\n",
        "print(check_even(4))\n"
      ],
      "metadata": {
        "colab": {
          "base_uri": "https://localhost:8080/"
        },
        "id": "ED0jFmam7ALe",
        "outputId": "a8692c36-234c-4034-8bff-b4d68ab0480c"
      },
      "execution_count": null,
      "outputs": [
        {
          "output_type": "stream",
          "name": "stdout",
          "text": [
            "Even\n"
          ]
        }
      ]
    },
    {
      "cell_type": "markdown",
      "source": [
        "###3. Compare and contrast mutable and immutable objects in Python with examples"
      ],
      "metadata": {
        "id": "_haaHYU-7c7_"
      }
    },
    {
      "cell_type": "markdown",
      "source": [
        "- Mutable Objects: Can be changed after creation. Examples: Lists, Dictionaries, Sets.\n",
        "\n",
        "- Immutable Objects: Cannot be changed after creation. Examples: Strings, Tuples, Integers."
      ],
      "metadata": {
        "id": "LqcJk5M87gAu"
      }
    },
    {
      "cell_type": "code",
      "source": [
        "# Mutable Example (List)\n",
        "my_list = [1, 2, 3]\n",
        "my_list.append(4)\n",
        "print(my_list)\n",
        "\n",
        "# Immutable Example (String)\n",
        "my_string = \"Hello\"\n",
        "my_string += \" World\"\n",
        "print(my_string)\n"
      ],
      "metadata": {
        "colab": {
          "base_uri": "https://localhost:8080/"
        },
        "id": "C5hkzapG7oPp",
        "outputId": "d2ed9126-2a08-41c7-95a5-4260d7532b88"
      },
      "execution_count": null,
      "outputs": [
        {
          "output_type": "stream",
          "name": "stdout",
          "text": [
            "[1, 2, 3, 4]\n",
            "Hello World\n"
          ]
        }
      ]
    },
    {
      "cell_type": "markdown",
      "source": [
        "###4. Discuss the different types of operators in Python and provide examples of how they are used"
      ],
      "metadata": {
        "id": "w4183Dt68BMY"
      }
    },
    {
      "cell_type": "markdown",
      "source": [
        "Python operators are:\n",
        "\n",
        "- Arithmetic Operators: +, -, *, /, %, //, **\n",
        "\n",
        "- Comparison Operators: ==, !=, >, <, >=, <=\n",
        "\n",
        "- Logical Operators: and, or, not\n",
        "\n",
        "- Bitwise Operators: &, |, ^, ~, <<, >>\n",
        "\n",
        "- Assignment Operators: =, +=, -=, *=, /=, %=, //=, **=\n",
        "\n",
        "- Membership Operators: in, not in\n",
        "\n",
        "- Identity Operators: is, is not"
      ],
      "metadata": {
        "id": "mjnI_qLd8Jaq"
      }
    },
    {
      "cell_type": "code",
      "source": [
        "# Example of arithmetic and logical operators\n",
        "a, b = 10, 5\n",
        "print(a + b)\n",
        "print(a > b and b > 0)\n"
      ],
      "metadata": {
        "colab": {
          "base_uri": "https://localhost:8080/"
        },
        "id": "KALRl-1c8PzZ",
        "outputId": "07c30bb8-4765-4a02-c36b-8bcbe5bfe5be"
      },
      "execution_count": null,
      "outputs": [
        {
          "output_type": "stream",
          "name": "stdout",
          "text": [
            "15\n",
            "True\n"
          ]
        }
      ]
    },
    {
      "cell_type": "markdown",
      "source": [
        "###5. Explain the concept of type casting in Python with examples\n"
      ],
      "metadata": {
        "id": "6r08fSKg70Xu"
      }
    },
    {
      "cell_type": "markdown",
      "source": [
        "Type casting converts one data type into another."
      ],
      "metadata": {
        "id": "wIyIlF6t74Ji"
      }
    },
    {
      "cell_type": "code",
      "source": [
        "# Integer to String\n",
        "num = 10\n",
        "str_num = str(num)\n",
        "print(type(str_num))\n",
        "\n",
        "# String to Integer\n",
        "str_val = \"20\"\n",
        "int_val = int(str_val)\n",
        "print(int_val + 5)\n"
      ],
      "metadata": {
        "colab": {
          "base_uri": "https://localhost:8080/"
        },
        "id": "EM3qaP3A77U5",
        "outputId": "92691d1f-88ea-4da7-cb84-44c1f4f17458"
      },
      "execution_count": null,
      "outputs": [
        {
          "output_type": "stream",
          "name": "stdout",
          "text": [
            "<class 'str'>\n",
            "25\n"
          ]
        }
      ]
    },
    {
      "cell_type": "markdown",
      "source": [
        "###6. How do conditional statements work in Python? Illustrate with examples\n"
      ],
      "metadata": {
        "id": "ufvbf7hP8XLO"
      }
    },
    {
      "cell_type": "markdown",
      "source": [
        "Conditional statements allow decision-making in a program."
      ],
      "metadata": {
        "id": "BcSMhFz68cdm"
      }
    },
    {
      "cell_type": "code",
      "source": [
        "x = 10\n",
        "if x > 5:\n",
        "    print(\"x is greater than 5\")\n",
        "elif x == 5:\n",
        "    print(\"x is equal to 5\")\n",
        "else:\n",
        "    print(\"x is less than 5\")\n"
      ],
      "metadata": {
        "colab": {
          "base_uri": "https://localhost:8080/"
        },
        "id": "06hRIdP98iL1",
        "outputId": "1a5f5721-18b3-4c92-dc32-ddd7a44a8aad"
      },
      "execution_count": null,
      "outputs": [
        {
          "output_type": "stream",
          "name": "stdout",
          "text": [
            "x is greater than 5\n"
          ]
        }
      ]
    },
    {
      "cell_type": "markdown",
      "source": [
        "###7. Describe the different types of loops in Python and their use cases with examples"
      ],
      "metadata": {
        "id": "5boJMLWN8rq7"
      }
    },
    {
      "cell_type": "markdown",
      "source": [
        "For Loop: Used for iterating over sequences (lists, tuples, strings)."
      ],
      "metadata": {
        "id": "p1RHZbmf8v5E"
      }
    },
    {
      "cell_type": "code",
      "source": [
        "for i in range(5):\n",
        "    print(i)\n"
      ],
      "metadata": {
        "colab": {
          "base_uri": "https://localhost:8080/"
        },
        "id": "05bkiPIg8xZl",
        "outputId": "f43da807-5da7-4920-e1b0-c38abd1be890"
      },
      "execution_count": null,
      "outputs": [
        {
          "output_type": "stream",
          "name": "stdout",
          "text": [
            "0\n",
            "1\n",
            "2\n",
            "3\n",
            "4\n"
          ]
        }
      ]
    },
    {
      "cell_type": "markdown",
      "source": [
        "While Loop: Runs as long as a condition is True.\n"
      ],
      "metadata": {
        "id": "5MGnhNYT80Z1"
      }
    },
    {
      "cell_type": "code",
      "source": [
        "x = 0\n",
        "while x < 5:\n",
        "    print(x)\n",
        "    x += 1\n"
      ],
      "metadata": {
        "colab": {
          "base_uri": "https://localhost:8080/"
        },
        "id": "JNMLZejo82Ie",
        "outputId": "4d6bd176-9187-4bf1-e46c-2284204c5d25"
      },
      "execution_count": null,
      "outputs": [
        {
          "output_type": "stream",
          "name": "stdout",
          "text": [
            "0\n",
            "1\n",
            "2\n",
            "3\n",
            "4\n"
          ]
        }
      ]
    },
    {
      "cell_type": "markdown",
      "source": [
        "Nested Loops: A loop inside another loop.\n",
        "\n"
      ],
      "metadata": {
        "id": "EEZN_ykz8_fO"
      }
    },
    {
      "cell_type": "code",
      "source": [
        "for i in range(3):\n",
        "    for j in range(2):\n",
        "        print(i, j)\n"
      ],
      "metadata": {
        "colab": {
          "base_uri": "https://localhost:8080/"
        },
        "id": "jQfIOO269CIE",
        "outputId": "fed7a93f-04ae-4b1e-866e-b8cff40f7526"
      },
      "execution_count": null,
      "outputs": [
        {
          "output_type": "stream",
          "name": "stdout",
          "text": [
            "0 0\n",
            "0 1\n",
            "1 0\n",
            "1 1\n",
            "2 0\n",
            "2 1\n"
          ]
        }
      ]
    },
    {
      "cell_type": "markdown",
      "source": [
        "These loops help automate repetitive tasks efficiently."
      ],
      "metadata": {
        "id": "INUw6PSQ9F88"
      }
    }
  ]
}