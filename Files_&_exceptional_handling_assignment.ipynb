{
  "nbformat": 4,
  "nbformat_minor": 0,
  "metadata": {
    "colab": {
      "provenance": []
    },
    "kernelspec": {
      "name": "python3",
      "display_name": "Python 3"
    },
    "language_info": {
      "name": "python"
    }
  },
  "cells": [
    {
      "cell_type": "markdown",
      "source": [
        "**1. What is the difference between interpreted and compiled languages?**"
      ],
      "metadata": {
        "id": "9w0KV6gcdPQl"
      }
    },
    {
      "cell_type": "markdown",
      "source": [
        "The main difference between interpreted and compiled languages lies in how their source code is translated into machine code (the instructions a computer can execute)."
      ],
      "metadata": {
        "id": "LM3n4VdwdKoU"
      }
    },
    {
      "cell_type": "markdown",
      "source": [
        "#Compiled Languages\n",
        "- Process: The source code is translated entirely into machine code by a compiler before it is run.\n",
        "\n",
        "- Execution: The resulting machine code (usually in the form of an executable file) is run directly by the system.\n",
        "\n",
        "- Speed: Generally faster in execution because the translation happens beforehand.\n",
        "\n",
        "Examples: C, C++, Rust, Go\n",
        "\n",
        "#Pros:\n",
        "\n",
        "- Faster runtime performance\n",
        "\n",
        "- Better optimization by compilers\n",
        "\n",
        "- Distribution as binaries (no need to share source code)\n",
        "\n",
        "#Cons:\n",
        "\n",
        "- Slower development iteration (need to compile after every change)\n",
        "\n",
        "- Harder to debug (errors may appear after compiling)\n",
        "\n"
      ],
      "metadata": {
        "id": "oLZpIyIwdWml"
      }
    },
    {
      "cell_type": "markdown",
      "source": [
        "**Interpreted** Languages\n",
        "- Process: The source code is translated line-by-line or in chunks by an interpreter at runtime.\n",
        "\n",
        "- Execution: The code is read and executed directly.\n",
        "\n",
        "- Speed: Generally slower because translation happens during execution.\n",
        "\n",
        "Examples: Python, JavaScript, Ruby, PHP\n",
        "\n",
        "**Pros**:\n",
        "\n",
        "- Easier to test and debug\n",
        "\n",
        "- Quicker to get up and running (no compilation step)\n",
        "\n",
        "- More flexible and portable in some cases\n",
        "\n",
        "**Cons**:\n",
        "\n",
        "- Slower performance\n",
        "\n",
        "- Source code must be distributed (less secure)\n",
        "\n"
      ],
      "metadata": {
        "id": "-wSzARAUd-on"
      }
    },
    {
      "cell_type": "markdown",
      "source": [
        "**2. What is exception handling in Python?**"
      ],
      "metadata": {
        "id": "PjIh3hhPecEp"
      }
    },
    {
      "cell_type": "markdown",
      "source": [
        "Exception handling in Python is a mechanism that lets you gracefully deal with errors (called exceptions) that may occur while your program is running.\n",
        "\n",
        "Instead of crashing when something goes wrong, Python lets you catch the exception, respond to it, and continue or exit cleanly."
      ],
      "metadata": {
        "id": "DNH307VyesZN"
      }
    },
    {
      "cell_type": "markdown",
      "source": [
        "**3. What is the purpose of the finally block in exception handling?**"
      ],
      "metadata": {
        "id": "lhTRLoX3e5Sf"
      }
    },
    {
      "cell_type": "markdown",
      "source": [
        "The finally block in Python is used to define cleanup code that should always run regardless of whether an exception occurred or not.\n",
        "\n",
        "**Purpose of finally**\n",
        "- To guarantee that certain actions are completed (e.g., closing a file, releasing a lock, closing a network connection).\n",
        "\n",
        "- Ensures resources are cleaned up properly, even if an error happens."
      ],
      "metadata": {
        "id": "SU1OGVTLfBRf"
      }
    },
    {
      "cell_type": "markdown",
      "source": [
        "**4. What is logging in Python?**"
      ],
      "metadata": {
        "id": "5Eua5fPlffc-"
      }
    },
    {
      "cell_type": "markdown",
      "source": [
        "Logging in Python is the process of recording events that happen while your program runs. These logs can help you:\n",
        "\n",
        "- Debug issues\n",
        "\n",
        "- Monitor execution\n",
        "\n",
        "- Track errors or unusual behavior\n",
        "\n",
        "- Audit activity over time\n",
        "\n",
        "Python provides a built-in module called logging to manage this functionality."
      ],
      "metadata": {
        "id": "_iLEnWe4fiAa"
      }
    },
    {
      "cell_type": "markdown",
      "source": [
        "**5. What is the significance of the __del__ method in Python?**"
      ],
      "metadata": {
        "id": "pxOmKHANgASo"
      }
    },
    {
      "cell_type": "markdown",
      "source": [
        "The __del__ method in Python is a destructor—a special method that's called when an object is about to be destroyed (i.e., when it’s garbage collected).\n",
        "\n",
        "- Purpose of __del__\n",
        "To define cleanup behavior for objects (e.g., closing files, releasing network connections, freeing resources) when the object is no longer in use.\n",
        "- It’s called automatically when Python's garbage collector deallocates the object.\n",
        "\n",
        "This typically happens when the object has no more references pointing to it."
      ],
      "metadata": {
        "id": "qNZqHbLrgLG_"
      }
    },
    {
      "cell_type": "markdown",
      "source": [
        "**6. What is the difference between import and from ... import in Python?**"
      ],
      "metadata": {
        "id": "xKUQb1fuhGWA"
      }
    },
    {
      "cell_type": "markdown",
      "source": [
        "The difference between import and from ... import in Python lies in how you bring in a module and how you access its contents:\n",
        "\n",
        "**Import Module**\n",
        "- Imports the entire module.\n",
        "\n",
        "- You must use the module name as a prefix to access its contents.\n",
        "\n",
        "**from module import name**\n",
        "- Imports a specific item (function, class, or variable) from a module.\n",
        "\n",
        "- You do not need the module prefix to use it."
      ],
      "metadata": {
        "id": "kIzJJ_XrhR3X"
      }
    },
    {
      "cell_type": "markdown",
      "source": [
        "**7. How can you handle multiple exceptions in Python?**"
      ],
      "metadata": {
        "id": "w9nvIGZzicfb"
      }
    },
    {
      "cell_type": "markdown",
      "source": [
        "In Python, you can handle multiple exceptions using several approaches depending on how you want to manage them.\n",
        " - **Multiple except Blocks**\n",
        "Handle different exceptions with separate logic for each\n",
        "\n",
        "- **Single except Block for Multiple Exceptions**\n",
        "Use a tuple to handle different exceptions the same way:\n",
        "\n",
        "- **Catching the Base Exception** You can catch all exceptions using Exception, but use this with care\n",
        "\n",
        "- **Using else and finally** You can combine try with else and finally when needed"
      ],
      "metadata": {
        "id": "J3Cghi2VikRk"
      }
    },
    {
      "cell_type": "markdown",
      "source": [
        "**8. What is the purpose of the with statement when handling files in Python?**"
      ],
      "metadata": {
        "id": "OFG_CV4XjXi6"
      }
    },
    {
      "cell_type": "markdown",
      "source": [
        "The with statement in Python is used to simplify resource management, especially when working with files. Its primary purpose is to ensure that resources are properly cleaned up, like automatically closing a file, even if an error occurs during processing.\n",
        "\n",
        "**Use with for Files?**\n",
        "- It automatically opens and closes the file.\n",
        "\n",
        "- It helps avoid forgetting to call file.close().\n",
        "\n",
        "- It makes your code cleaner and safer.\n",
        "\n"
      ],
      "metadata": {
        "id": "DVRQ3AR3jioC"
      }
    },
    {
      "cell_type": "markdown",
      "source": [
        "**9. What is the difference between multithreading and multiprocessing?**"
      ],
      "metadata": {
        "id": "emx3RoX2j5Nd"
      }
    },
    {
      "cell_type": "markdown",
      "source": [
        "The difference between multithreading and multiprocessing in Python (and in general) lies in how they achieve concurrency and how they use system resources like CPU cores and memory.\n",
        "\n",
        "**Multithreading**\n",
        "- Uses multiple threads within the same process.\n",
        "\n",
        "- Threads share the same memory space.\n",
        "\n",
        "- Best for I/O-bound tasks (e.g., reading files, web requests).\n",
        "\n",
        "**Multiprocessing**\n",
        "- Uses multiple processes, each with its own memory space.\n",
        "\n",
        "- Can run on multiple CPU cores simultaneously.\n",
        "\n",
        "- Best for CPU-bound tasks (e.g., data processing, calculations)."
      ],
      "metadata": {
        "id": "VJxVnT0MkBqC"
      }
    },
    {
      "cell_type": "markdown",
      "source": [
        "**10. What are the advantages of using logging in a program?**"
      ],
      "metadata": {
        "id": "HDGuz_qGkdIF"
      }
    },
    {
      "cell_type": "markdown",
      "source": [
        "Using logging in a program offers several key advantages over other methods of tracking information, such as using print() statements. Here are the primary benefits:\n",
        "\n",
        "**1. Better Control Over Output**\n",
        "- With logging, you can control the level of messages you want to see (e.g., INFO, WARNING, ERROR, CRITICAL).\n",
        "\n",
        "- You can set different levels of logging for different parts of your application and direct different levels to different outputs (e.g., only ERROR messages to a file).\n",
        "\n",
        "**2. Persistent Log Storage**\n",
        "- Logging allows you to store logs in files, databases, or other systems, making it easy to track events over time and keep a record of what happened in your application.\n",
        "\n",
        "- You can store logs to review historical data or debug issues that occurred in the past.\n",
        "\n",
        "**3. Easy Debugging and Monitoring**\n",
        "- Logs help in debugging issues by providing detailed information about what was happening in your application at a specific time.\n",
        "\n",
        "- You can add timestamps to log messages to track the sequence of events.\n",
        "\n",
        "- Logging helps you identify trends or patterns in errors, warnings, or other significant events.\n",
        "\n",
        "**4.Non-Intrusive**\n",
        "- Unlike using print() statements, logging can be enabled or disabled easily through configuration without modifying the actual code.\n",
        "\n",
        "- You can keep logging enabled for production environments (for error reporting) while disabling debug-level logs in a live system.\n",
        "\n",
        "**5. Flexibility with Outputs**\n",
        "**- Logging allows you to direct logs to multiple outputs simultaneously:**\n",
        "\n",
        "- Console\n",
        "\n",
        "- Log files\n",
        "\n",
        "- Remote servers (via email, Syslog, etc.)\n",
        "\n",
        "- Third-party services (like Sentry or Logstash)\n",
        "\n",
        "**6. Enhanced Readability with Log Formatting**\n",
        "- Logging supports customizable formats, allowing you to include details such as timestamps, module names, log levels, and more, to make the logs easy to understand.\n",
        "\n",
        "**7. Error Tracking and Alerts**\n",
        "- For critical systems, logging can be integrated with alerting mechanisms. If a severe issue arises, logs can trigger email notifications, SMS alerts, or any other alerting system, allowing for faster response times.\n",
        "\n",
        "**8. Performance Monitoring**\n",
        "- You can use logging to track performance metrics such as execution times or memory usage, helping to detect performance bottlenecks in your application.\n"
      ],
      "metadata": {
        "id": "RomQc8H2koGk"
      }
    },
    {
      "cell_type": "markdown",
      "source": [
        "**11. What is memory management in Python?**"
      ],
      "metadata": {
        "id": "SeBWtYGImEIc"
      }
    },
    {
      "cell_type": "markdown",
      "source": [
        "Memory management in Python refers to the process of allocating, tracking, and deallocating memory for objects used by a Python program. Python takes care of memory management automatically, which helps developers focus more on writing code rather than worrying about memory allocation and deallocation.\n",
        "\n",
        "**Key Concepts in Python Memory Management:-**\n",
        "\n",
        "**1. Python's Memory Model**\n",
        "Python uses an automatic memory management system, which includes the following components:\n",
        "- Object allocation: Python handles the allocation of memory when an object is created.\n",
        "- Memory deallocation: Python automatically frees memory when an object is no longer in use.\n",
        "- Memory management is done via reference counting and garbage collection.\n",
        "\n",
        "**2. Reference Counting**\n",
        "- Every object in Python has an associated reference count. This count tracks how many references (or variables) point to the object.\n",
        "- When an object’s reference count drops to zero (i.e., no references to the object exist), it is automatically deleted, and memory is freed.\n",
        "\n",
        "**3. Garbage Collection**\n",
        "- In addition to reference counting, Python uses garbage collection to clean up cyclic references (where objects reference each other, preventing reference counts from reaching zero).\n",
        "- Python’s gc module manages garbage collection by periodically looking for circular references and cleaning them up.\n",
        "\n",
        "**4. Dynamic Typing**\n",
        "- Python's memory management is influenced by its dynamic typing. Each variable is a reference to an object, and the type of object can change during runtime. This adds flexibility but requires more memory overhead than statically typed languages.\n",
        "\n",
        "**5. Memory Allocation and Object Creation**\n",
        "-When you create an object (like a list or string), Python allocates memory for that object.\n",
        "- Python uses pools of memory to speed up object creation. Small objects (e.g., integers, small strings) are stored in an internal object pool, making object creation faster and memory management more efficient.\n",
        "\n",
        "**6. Memory Management for Built-in Types**\n",
        "Python optimizes memory usage for certain built-in types. For example:\n",
        "- Small integers and strings: Python reuses small integers (from -5 to 256) and small strings to save memory. So, a = 256 and b = 256 will refer to the same object.\n",
        "- Interning: Python interns certain strings, which means it stores only one copy of identical strings to save memory.\n",
        "\n",
        "**7. Del and Memory Deallocation**\n",
        "- The del statement removes a reference to an object, which can help in explicitly freeing up memory when an object is no longer needed.\n",
        "However, deleting references does not immediately free memory. The object will be deleted only once its reference count reaches zero, or if it's involved in a cycle detected by garbage collection.\n",
        "\n",
        "**8. Memory Leaks in Python**\n",
        "While Python’s garbage collector handles most cases, memory leaks can still occur, especially when there are cyclic references (objects referencing each other). It’s important to ensure that objects are properly dereferenced when no longer needed.\n",
        "You can use tools like gc and third-party libraries (e.g., objgraph, memory_profiler) to detect memory leaks.\n",
        "\n",
        "**9. Memory Views and Buffers**\n",
        "Python has a buffer protocol for efficient memory sharing between objects without copying. memoryview objects allow you to work with data buffers (e.g., arrays) without creating copies of the data.\n",
        "\n",
        "\n",
        "\n",
        "\n"
      ],
      "metadata": {
        "id": "nRRJkS6Zm6x4"
      }
    },
    {
      "cell_type": "markdown",
      "source": [
        "**12. What are the basic steps involved in exception handling in Python?**"
      ],
      "metadata": {
        "id": "Ye439CHsozTJ"
      }
    },
    {
      "cell_type": "markdown",
      "source": [
        "**The basic steps involved in exception handling in Python are:**\n",
        "\n",
        "*1. Try Block*\n",
        "- The try block is where you write the code that might raise an exception.\n",
        "\n",
        "- It allows Python to monitor the code for any errors or exceptions during execution.\n",
        "\n",
        "*2. Except Block*\n",
        "\n",
        "- The except block is used to catch and handle exceptions that occur in the try block.\n",
        "\n",
        "- You can catch specific exceptions (e.g., ZeroDivisionError, FileNotFoundError) or catch any exception using a generic except block.\n",
        "- You can have multiple except blocks to handle different types of exceptions.\n",
        "\n",
        "*3. Else Block (Optional)*\n",
        "- The else block is executed if no exception occurs in the try block.\n",
        "\n",
        "- It’s typically used for code that should run only if the try block succeeds without errors.\n",
        "\n",
        "*4. Finally Block (Optional)*\n",
        "- The finally block is always executed, regardless of whether an exception occurred or not.\n",
        "\n",
        "- It is typically used for cleanup operations (e.g., closing files, releasing resources) that should happen no matter what.\n"
      ],
      "metadata": {
        "id": "qQ69Fr_ttgcQ"
      }
    },
    {
      "cell_type": "markdown",
      "source": [
        "**13. Why is memory management important in Python?**"
      ],
      "metadata": {
        "id": "6FhSgPXKuZ4_"
      }
    },
    {
      "cell_type": "markdown",
      "source": [
        "Memory management is important in Python because it directly affects the performance, efficiency, and stability of your programs. Python is designed to handle memory automatically, but understanding how it works helps developers write better, faster, and more reliable code.\n",
        "\n",
        "*1. Avoids Memory Leaks*\n",
        "- Poor memory handling can lead to memory leaks, where memory is never released.\n",
        "\n",
        "- Over time, this causes your program to consume more and more RAM, which can slow down or crash your system.\n",
        "\n",
        "- Python’s garbage collector helps with this, but developers still need to be mindful—especially when working with large or complex data structures.\n",
        "\n",
        "*2. Improves Program Performance*\n",
        "- Efficient use of memory helps Python programs run faster and use less system resources.\n",
        "\n",
        "- Unnecessary object creation, holding on to large objects too long, or retaining references can all slow down performance.\n",
        "\n",
        "*3. Supports Scalability*\n",
        "- Proper memory management becomes critical for large-scale applications that process big data or handle thousands of user requests.\n",
        "\n",
        "- Programs that manage memory well can scale better and avoid performance bottlenecks.\n",
        "\n",
        "*4. Prevents Crashes and Freezes*\n",
        "- Poor memory usage can cause programs to run out of memory (especially in constrained environments), leading to crashes.\n",
        "\n",
        "- Python’s automatic memory management reduces this risk, but it’s still important to manage references properly and avoid circular references.\n",
        "\n",
        "*5. Frees Up System Resources*\n",
        "- Releasing memory when it's no longer needed helps return resources to the system, allowing other applications to run smoothly.\n",
        "\n",
        "*6. Enables Efficient Multitasking*\n",
        "- In multi-threaded or multi-process applications, careful memory management helps ensure that threads/processes don’t interfere with each other or cause memory contention.\n",
        "\n",
        "*7. Crucial for Embedded Systems or Limited Environments*\n",
        "- In memory-constrained environments (e.g. Raspberry Pi, microcontrollers), efficient memory management is essential to keep applications running within limits.\n",
        "\n",
        "*8. Supports Clean Code Practices*\n",
        "- Understanding memory management leads to better coding habits, such as:\n",
        "\n",
        "- Avoiding unnecessary global variables\n",
        "\n",
        "- Closing files and releasing resources promptly\n",
        "\n",
        "- Using generators and memory views for large data"
      ],
      "metadata": {
        "id": "8r-ZpZn8ufKn"
      }
    },
    {
      "cell_type": "markdown",
      "source": [
        "**14. What is the role of try and except in exception handling?**"
      ],
      "metadata": {
        "id": "nuZVtcNpvzSn"
      }
    },
    {
      "cell_type": "markdown",
      "source": [
        "The try and except blocks are the core components of exception handling in Python. They are used to catch and handle runtime errors (exceptions) gracefully, preventing your program from crashing when something goes wrong.\n",
        "\n",
        "**Role of try Block**\n",
        "- The try block contains the code that might raise an exception.\n",
        "\n",
        "- Python executes the code inside the try block and watches for errors.\n",
        "\n",
        "- If no exception occurs, the except block is skipped.\n",
        "\n",
        "**Role of except Block**\n",
        "- The except block contains the code to handle the exception if one occurs in the try block.\n",
        "\n",
        "- You can catch specific types of exceptions or handle all exceptions generically.\n",
        "\n",
        "- It prevents the program from crashing and lets you provide a meaningful response or fallback logic."
      ],
      "metadata": {
        "id": "NUgEObdXwBom"
      }
    },
    {
      "cell_type": "markdown",
      "source": [
        "**15. How does Python's garbage collection system work?**"
      ],
      "metadata": {
        "id": "-lsLaDmIya4u"
      }
    },
    {
      "cell_type": "markdown",
      "source": [
        "Python's garbage collection (GC) system is responsible for automatically managing memory—specifically, freeing up memory used by objects no longer needed. This helps prevent memory leaks and reduces the burden on developers to manually manage memory.\n",
        "\n",
        "**1. Reference Counting (Primary Mechanism)**\n",
        "- Every object in Python has a reference count (i.e., how many variables or containers point to it).\n",
        "\n",
        "- When the reference count drops to zero, Python knows the object is no longer in use and automatically deallocates its memory.\n",
        "\n",
        "**2. Garbage Collector for Circular References**\n",
        "\n",
        "- Reference counting fails with circular references, where two or more objects reference each other.\n",
        "\n",
        "- Python’s gc module detects these cycles and collects unreachable objects.\n",
        "\n",
        "**3. Generational Garbage Collection**\n",
        "Python organizes objects into three “generations”:\n",
        "\n",
        "- Generation 0: Newly created objects.\n",
        "\n",
        "- Generation 1: Survived at least one garbage collection.\n",
        "\n",
        "- Generation 2: Long-lived objects.\n",
        "\n",
        "Garbage collection is most frequent in generation 0 and less frequent in higher generations (based on the idea that most objects die young).\n",
        "\n",
        "**4. The gc Module**\n",
        "- Python provides the gc module to interact with the garbage collector.\n",
        "\n",
        "*Key functions:*\n",
        "- gc.collect() → Force a collection.\n",
        "\n",
        "- gc.get_count() → Get counts of objects in each generation.\n",
        "\n",
        "- gc.set_debug() → Enable debugging info.\n",
        "\n",
        "- gc.get_objects() → List all tracked objects."
      ],
      "metadata": {
        "id": "PDp6GylTyhgo"
      }
    },
    {
      "cell_type": "markdown",
      "source": [
        "**16. What is the purpose of the else block in exception handling?**"
      ],
      "metadata": {
        "id": "2i_JsY8uzzAe"
      }
    },
    {
      "cell_type": "markdown",
      "source": [
        "The else block in Python’s exception handling is used to define a section of code that should only run if no exceptions occur in the try block.\n",
        "\n",
        "**Purpose of the else Block**\n",
        "- It separates the \"normal\" code path from the error-handling code.\n",
        "\n",
        "- The else block executes only if the try block runs successfully—i.e., no exceptions are raised.\n",
        "\n",
        "- Helps keep code clean and organized by putting the main logic (that depends on no error occurring) in one place."
      ],
      "metadata": {
        "id": "vPv18T-xz6X1"
      }
    },
    {
      "cell_type": "markdown",
      "source": [
        "**17. What are the common logging levels in Python?**"
      ],
      "metadata": {
        "id": "rwcsTmbH0JoV"
      }
    },
    {
      "cell_type": "markdown",
      "source": [
        "Python's built-in logging module provides five standard logging levels, each indicating the severity of events. These levels help you control what kind of messages are logged and where they should go (console, file, etc.).\n",
        "\n",
        "*When to Use Each Level*\n",
        "- DEBUG – During development and troubleshooting.\n",
        "\n",
        "- INFO – To log routine operations (e.g., \"Job completed\", \"User logged in\").\n",
        "\n",
        "- WARNING – When something unexpected happens, but it's not fatal (e.g., deprecated function usage).\n",
        "\n",
        "- ERROR – When a function fails (e.g., file not found, database query failed).\n",
        "\n",
        "- CRITICAL – When the application itself is at risk (e.g., system out of memory, major component failed).\n",
        "\n"
      ],
      "metadata": {
        "id": "H5JEpa2G0b4N"
      }
    },
    {
      "cell_type": "markdown",
      "source": [
        "**18. What is the difference between os.fork() and multiprocessing in Python?**"
      ],
      "metadata": {
        "id": "YE4X7HQV04Hl"
      }
    },
    {
      "cell_type": "markdown",
      "source": [
        "The difference between os.fork() and the multiprocessing module in Python lies in abstraction level, portability, and ease of use.\n",
        "\n",
        "**1. os.fork()**\n",
        "- os.fork() is a Unix-only system call that creates a child process by duplicating the current process.\n",
        "\n",
        "- It’s a very low-level way to create new processes.\n",
        "\n",
        "- After forking, both the parent and child processes continue executing the same code independently.\n",
        "\n",
        "**2. multiprocessing Module (High-Level Abstraction)**\n",
        "\n",
        "- The multiprocessing module provides a cross-platform way to spawn new processes.\n",
        "\n",
        "- It allows you to use object-oriented constructs, manage process pools, and use inter-process communication like Queue, Pipe, Value, and Array."
      ],
      "metadata": {
        "id": "v-tFlXPA1Y0t"
      }
    },
    {
      "cell_type": "markdown",
      "source": [
        "**19. What is the importance of closing a file in Python?**"
      ],
      "metadata": {
        "id": "pB4093gS1-c0"
      }
    },
    {
      "cell_type": "markdown",
      "source": [
        "Closing a file in Python is crucial for ensuring proper resource management and preventing data loss or corruption. When you work with files using open(), you're interacting with system-level resources—these should be released when you're done.\n",
        "\n",
        "**1. Frees Up System Resources**\n",
        "- Every open file consumes system resources (like file descriptors).\n",
        "\n",
        "- Leaving files open can exhaust system limits, especially in long-running applications or when handling many files.\n",
        "\n",
        "**2. Ensures Data Is Written to Disk**\n",
        "- When writing to a file, Python may buffer the data (i.e., store it temporarily in memory).\n",
        "\n",
        "- Closing the file flushes the buffer, ensuring all data is actually written to disk.\n",
        "\n",
        "**3. Prevents Data Corruption**\n",
        "- If a program crashes or exits unexpectedly while a file is open, unwritten data might be lost or the file could be left in an inconsistent state.\n",
        "\n",
        "- Closing the file properly ensures the file structure and contents are intact.\n",
        "\n",
        "**4. Avoids File Locks or Access Conflicts**\n",
        "- Some systems lock a file when it's open for writing.\n",
        "\n",
        "- If you don't close the file, it might not be available to other programs or processes."
      ],
      "metadata": {
        "id": "63P8jdng2GB5"
      }
    },
    {
      "cell_type": "markdown",
      "source": [
        "**20. What is the difference between file.read() and file.readline() in Python?**"
      ],
      "metadata": {
        "id": "o_3L1-w-2los"
      }
    },
    {
      "cell_type": "markdown",
      "source": [
        "The difference between file.read() and file.readline() in Python lies in how much data they read from a file:\n",
        "\n",
        "**file.read()**\n",
        "- Reads the entire file (or a specified number of characters) as one string.\n",
        "\n",
        "- Useful when you want to process the whole file at once.\n",
        "\n",
        "**file.readline()**\n",
        "- Reads only one line from the file at a time, including the newline character (\\n).\n",
        "\n",
        "- Useful for line-by-line processing, especially with large files."
      ],
      "metadata": {
        "id": "0n20mU0-2sIs"
      }
    },
    {
      "cell_type": "markdown",
      "source": [
        "**21. What is the logging module in Python used for?**"
      ],
      "metadata": {
        "id": "E6k-60H53Fwk"
      }
    },
    {
      "cell_type": "markdown",
      "source": [
        "The logging module in Python is used to track events that happen during the execution of a program. It allows developers to record messages that describe what the program is doing, which is essential for:\n",
        "\n",
        "- Debugging\n",
        "\n",
        "- Monitoring\n",
        "\n",
        "- Error tracking\n",
        "\n",
        "- Audit trails\n",
        "\n",
        "*Key Purposes of the logging Module*\n",
        "- Record informative messages about the program’s flow.\n",
        "\n",
        "- Report warnings or errors without halting execution.\n",
        "\n",
        "- Save logs to files or external systems for later analysis.\n",
        "\n",
        "- Categorize messages by severity levels (e.g., DEBUG, INFO, ERROR).\n",
        "\n",
        "- Avoid using print() statements in production code."
      ],
      "metadata": {
        "id": "LbQTHv8L3KUs"
      }
    },
    {
      "cell_type": "markdown",
      "source": [
        "**22. What is the os module in Python used for in file handling?**"
      ],
      "metadata": {
        "id": "hMdiXUQ83cNk"
      }
    },
    {
      "cell_type": "markdown",
      "source": [
        "The os module in Python is used in file handling to provide a way to interact with the operating system, especially for performing tasks like creating, deleting, navigating, and modifying files and directories.\n",
        "\n",
        "**Key Uses of the os Module in File Handling**\n",
        "1. Working with Directories\n",
        "- os.getcwd() → Get current working directory\n",
        "\n",
        "- os.chdir(path) → Change the current working directory\n",
        "\n",
        "- os.listdir(path) → List files and folders in a directory\n",
        "\n",
        "- os.mkdir(path) → Create a new directory\n",
        "\n",
        "- os.makedirs(path) → Create nested directories\n",
        "\n",
        "- os.rmdir(path) → Remove a directory (if empty)\n",
        "\n",
        "- os.removedirs(path) → Remove nested directories\n",
        "\n",
        "2. Working with Files\n",
        "- os.remove(path) → Delete a file\n",
        "\n",
        "- os.rename(src, dst) → Rename or move a file\n",
        "\n",
        "- os.path.exists(path) → Check if a file or directory exists\n",
        "\n",
        "- os.path.isfile(path) → Check if the path is a file\n",
        "\n",
        "- os.path.isdir(path) → Check if the path is a directory\n",
        "\n",
        "3. Path Operations\n",
        "- os.path.join(a, b) → Join two paths correctly across platforms\n",
        "\n",
        "- os.path.basename(path) → Get the file name from a path\n",
        "\n",
        "- os.path.dirname(path) → Get the directory name from a path\n",
        "\n",
        "- os.path.splitext(path) → Split the file name and extension\n",
        "\n",
        "4. Environment Variables\n",
        "- os.environ → Access environment variables\n",
        "\n",
        "- os.getenv('VAR_NAME') → Get the value of an environment variable"
      ],
      "metadata": {
        "id": "K12lMN_b3h-8"
      }
    },
    {
      "cell_type": "markdown",
      "source": [
        "**23. What are the challenges associated with memory management in Python?**"
      ],
      "metadata": {
        "id": "YoQLifIW4IUk"
      }
    },
    {
      "cell_type": "markdown",
      "source": [
        "Memory management in Python is a crucial aspect of ensuring efficient performance and preventing memory-related issues like memory leaks. While Python handles memory management automatically through its built-in garbage collection system, there are several challenges that developers face.\n",
        "\n",
        "**Key Challenges in Memory Management in Python**\n",
        "*1. Automatic Memory Management and Garbage Collection*\n",
        "- **Garbage Collection (GC) Mechanism**: Python uses a combination of reference counting and cyclic garbage collection to reclaim memory. However, Python's GC can sometimes fail to detect circular references or unreachable objects, leading to memory leaks.\n",
        "\n",
        "- **Challenge**: Cycles in the reference graph, where two or more objects reference each other, can cause objects to persist in memory even when they are no longer in use. This is particularly challenging in complex applications.\n",
        "\n",
        "*2. Memory Fragmentation*\n",
        "- **Memory Fragmentation**: Python uses a private heap to store objects, and it manages this heap through a memory pool system. Over time, especially in long-running programs, memory fragmentation can occur where the heap becomes fragmented due to frequent allocations and deallocations of different-sized objects.\n",
        "\n",
        "- **Challenge**: Memory fragmentation can lead to inefficient memory usage and can slow down applications, especially those that perform frequent memory allocations and deallocations (e.g., game engines, real-time systems).\n",
        "\n",
        "*3. Unpredictable Memory Usage in Large Applications*\n",
        "- **Memory Consumption**: While Python automatically manages memory, it's possible to inadvertently consume more memory than necessary, especially with large data structures (e.g., lists, dictionaries, etc.) that are not properly disposed of.\n",
        "\n",
        "- **Challenge**: Developers must be mindful of how they manage large objects, especially when working with data-heavy applications (e.g., data science, machine learning). Without manual intervention, certain objects may persist longer than expected, increasing memory usage.\n",
        "\n",
        "*4. Complexity of Manual Memory Management*\n",
        "- Although Python's memory management is largely automatic, there are cases where developers need to manage memory manually, such as with large data structures, file handling, or external libraries (e.g., NumPy).\n",
        "\n",
        "**Challenge**: Manual management (like using del, explicitly freeing memory, or using the gc module) can be complex and error-prone. For instance, if memory is released too early or incorrectly, it could cause issues like segmentation faults or unexpected behavior.\n",
        "\n",
        "*5. Object Mutability and Memory Leaks*\n",
        "- Python's mutable objects (e.g., lists, dictionaries, sets) can lead to unexpected memory usage if they are not handled properly. If mutable objects are shared between different parts of a program, modifications in one part can unexpectedly affect others, leading to excessive memory usage or even leaks.\n",
        "\n",
        "**Challenge**: Tracking memory usage of mutable objects, especially in larger programs, can be challenging. Developers need to ensure that objects are not retained unnecessarily in memory due to references elsewhere in the program.\n",
        "\n",
        "*6. The Global Interpreter Lock (GIL) and Memory Efficiency*\n",
        "- Python's Global Interpreter Lock (GIL) can make it difficult to take full advantage of multi-core processors. While the GIL doesn't directly affect memory management, it can limit Python's ability to scale efficiently in multi-threaded applications, potentially leading to inefficient use of system memory resources.\n",
        "\n",
        "**Challenge**: In multi-threaded applications, developers may face performance bottlenecks due to the GIL, impacting memory efficiency in concurrent processes. As a result, using multi-threading may not always reduce memory usage as expected."
      ],
      "metadata": {
        "id": "ksp6U9Qn4OIU"
      }
    },
    {
      "cell_type": "markdown",
      "source": [
        "**24. How do you raise an exception manually in Python?**"
      ],
      "metadata": {
        "id": "FK1TjmGO5ywd"
      }
    },
    {
      "cell_type": "markdown",
      "source": [
        "In Python, you can raise an exception manually using the raise keyword. This allows you to trigger an exception in your code whenever a specific condition or error occurs, giving you control over when and how exceptions are raised.\n",
        "\n",
        "- Raising a Built-in Exception\n",
        "- Raising a Custom Exception\n",
        "- Raising an Exception Conditionally\n",
        "- Re-raising Exceptions"
      ],
      "metadata": {
        "id": "vLSHi3q557Gr"
      }
    },
    {
      "cell_type": "markdown",
      "source": [
        "**25. Why is it important to use multithreading in certain applications?**"
      ],
      "metadata": {
        "id": "Y8T1AEZA6dUw"
      }
    },
    {
      "cell_type": "markdown",
      "source": [
        "Multithreading is an essential technique in programming, particularly for applications that require concurrent execution of tasks. It allows a program to perform multiple operations simultaneously within the same process, improving efficiency, responsiveness, and resource utilization. While not every application benefits from multithreading, it is particularly useful in certain scenarios. Below are the key reasons why multithreading is important in specific applications:\n",
        "\n",
        "**Reasons to Use Multithreading in Applications:-**\n",
        "1. *Improving Application Performance (Parallelism)*\n",
        "- CPU-bound tasks: Multithreading is useful when a program needs to perform multiple tasks simultaneously on multiple processors or cores, improving overall performance.\n",
        "\n",
        "- For example, applications that perform heavy computations, like data processing or scientific calculations, can be optimized with multithreading to run in parallel on different cores of a multi-core processor.\n",
        "\n",
        "2. *Enhancing Responsiveness in I/O-bound Applications*\n",
        "- I/O-bound tasks: Multithreading is extremely useful in applications that spend a lot of time waiting for external resources, like file operations, network requests, or database queries.\n",
        "\n",
        "- With multithreading, while one thread is waiting for an I/O operation to complete, other threads can continue executing, making the application more responsive and efficient.\n",
        "\n",
        "3. *Better Resource Utilization*\n",
        "- Utilizing multi-core processors: Most modern processors have multiple cores. By running threads in parallel, a program can take full advantage of multi-core processors, significantly improving performance for certain types of tasks.\n",
        "\n",
        "- Without multithreading, a program can only run on one core, leaving other cores idle even if they could be used to perform different tasks concurrently.\n",
        "\n",
        "4. *Improving User Experience in Interactive Applications*\n",
        "- **UI Responsiveness:** In interactive applications (e.g., desktop or mobile apps), multithreading ensures that the user interface (UI) remains responsive while performing background tasks, such as loading data or processing user input.\n",
        "\n",
        "- Without multithreading, a long-running task would freeze the entire UI, making the application feel sluggish or unresponsive.\n",
        "\n",
        "5. *Concurrency in Real-Time Applications*\n",
        "- Real-time processing: Multithreading is essential for real-time systems that need to process multiple streams of data concurrently, such as in audio/video streaming, robotics, or telecommunication systems.\n",
        "\n",
        "- These systems rely on timely processing, and multithreading allows them to handle different tasks simultaneously, ensuring minimal delays.\n",
        "\n",
        "6. *Simplifying Code for Asynchronous Operations*\n",
        "- Multithreading makes it easier to structure code for tasks that involve waiting for external operations, without using complex asynchronous programming models.\n",
        "\n",
        "- Instead of blocking the main thread while waiting for an I/O operation, you can spawn separate threads to handle those operations concurrently.\n",
        "\n",
        "**Challenges with Multithreading**\n",
        "- *Global Interpreter Lock (GIL)*: In Python, due to the GIL, only one thread can execute Python bytecode at a time in a single process. This means that multithreading doesn't provide performance benefits for CPU-bound tasks in Python (it is more beneficial for I/O-bound tasks).\n",
        "\n",
        "- *Complexity:* Writing multithreaded programs can be more complex than single-threaded programs, requiring careful handling of synchronization (e.g., locks, semaphores) to prevent race conditions and ensure data consistency.\n",
        "\n",
        "- *Overhead:* There can be significant overhead in managing threads, especially in systems with limited resources. The creation and management of many threads can impact performance.\n",
        "\n",
        "**When to Use Multithreading:**\n",
        "- I/O-bound applications (e.g., web servers, networked applications, file I/O).\n",
        "\n",
        "- User interfaces (keeping them responsive while background tasks run).\n",
        "\n",
        "- Real-time applications (e.g., live data processing, gaming, video processing).\n",
        "\n",
        "- Concurrent tasks where tasks are independent and can be handled in parallel.\n",
        "\n"
      ],
      "metadata": {
        "id": "CYuhknbu6jKV"
      }
    },
    {
      "cell_type": "markdown",
      "source": [
        "#**Practical Questions**#"
      ],
      "metadata": {
        "id": "BGZLsPq81FPa"
      }
    },
    {
      "cell_type": "markdown",
      "source": [
        "**1. How can you open a file for writing in Python and write a string to it?**"
      ],
      "metadata": {
        "id": "KMHlaFfN1Li5"
      }
    },
    {
      "cell_type": "code",
      "source": [
        "# Open the file for writing ('w' mode)\n",
        "with open('example.txt', 'w') as file:\n",
        "    # Write a string to the file\n",
        "    file.write('Hello, world!')"
      ],
      "metadata": {
        "id": "QrSVudZJ1e9D"
      },
      "execution_count": 1,
      "outputs": []
    },
    {
      "cell_type": "markdown",
      "source": [
        "2. Write a Python program to read the contents of a file and print each line."
      ],
      "metadata": {
        "id": "lVCnoVyk1ph9"
      }
    },
    {
      "cell_type": "code",
      "source": [
        "# Open the file for reading\n",
        "with open('example.txt', 'r') as file:\n",
        "    # Iterate over each line in the file\n",
        "    for line in file:\n",
        "        # Print the line (strip newline character at the end)\n",
        "        print(line.strip())"
      ],
      "metadata": {
        "colab": {
          "base_uri": "https://localhost:8080/"
        },
        "id": "A02neMrZ1umn",
        "outputId": "3e4e21a9-4047-4be1-8724-e7cf20dc69ea"
      },
      "execution_count": 2,
      "outputs": [
        {
          "output_type": "stream",
          "name": "stdout",
          "text": [
            "Hello, world!\n"
          ]
        }
      ]
    },
    {
      "cell_type": "markdown",
      "source": [
        "**3. How would you handle a case where the file doesn't exist while trying to open it for reading?**"
      ],
      "metadata": {
        "id": "5EsOUuxb11uP"
      }
    },
    {
      "cell_type": "code",
      "source": [
        "try:\n",
        "    with open('example.txt', 'r') as file:\n",
        "        for line in file:\n",
        "            print(line.strip())\n",
        "except FileNotFoundError:\n",
        "    print(\"Error: The file 'example.txt' was not found.\")\n"
      ],
      "metadata": {
        "colab": {
          "base_uri": "https://localhost:8080/"
        },
        "id": "ln_33c7p2AAp",
        "outputId": "2481a6d1-57f7-4ede-c661-0168ebecc42a"
      },
      "execution_count": 3,
      "outputs": [
        {
          "output_type": "stream",
          "name": "stdout",
          "text": [
            "Hello, world!\n"
          ]
        }
      ]
    },
    {
      "cell_type": "markdown",
      "source": [
        "**4. Write a Python script that reads from one file and writes its content to another file.**"
      ],
      "metadata": {
        "id": "UXZOALqL2r32"
      }
    },
    {
      "cell_type": "code",
      "source": [
        "# Define source and destination file paths\n",
        "source_file = 'source.txt'\n",
        "destination_file = 'destination.txt'\n",
        "\n",
        "try:\n",
        "    # Open source file for reading\n",
        "    with open(source_file, 'r') as src:\n",
        "        # Read content from source file\n",
        "        content = src.read()\n",
        "\n",
        "    # Open destination file for writing\n",
        "    with open(destination_file, 'w') as dest:\n",
        "        # Write content to destination file\n",
        "        dest.write(content)\n",
        "\n",
        "    print(f\"Content copied from '{source_file}' to '{destination_file}' successfully.\")\n",
        "\n",
        "except FileNotFoundError:\n",
        "    print(f\"Error: The file '{source_file}' does not exist.\")\n",
        "except Exception as e:\n",
        "    print(f\"An error occurred: {e}\")\n"
      ],
      "metadata": {
        "colab": {
          "base_uri": "https://localhost:8080/"
        },
        "id": "Z_iOlgFa2-qo",
        "outputId": "33bc8eb3-97b3-4981-9333-189c397f73ef"
      },
      "execution_count": 4,
      "outputs": [
        {
          "output_type": "stream",
          "name": "stdout",
          "text": [
            "Error: The file 'source.txt' does not exist.\n"
          ]
        }
      ]
    },
    {
      "cell_type": "markdown",
      "source": [
        "**5. How would you catch and handle division by zero error in Python?**"
      ],
      "metadata": {
        "id": "IqEaN96R3RrC"
      }
    },
    {
      "cell_type": "code",
      "source": [
        "try:\n",
        "    numerator = 10\n",
        "    denominator = 0\n",
        "    result = numerator / denominator\n",
        "    print(\"Result:\", result)\n",
        "except ZeroDivisionError:\n",
        "    print(\"Error: Cannot divide by zero.\")\n"
      ],
      "metadata": {
        "colab": {
          "base_uri": "https://localhost:8080/"
        },
        "id": "AV7Kp8Zq3bji",
        "outputId": "ba5c4288-9da5-4a80-d517-57243b98eca8"
      },
      "execution_count": 5,
      "outputs": [
        {
          "output_type": "stream",
          "name": "stdout",
          "text": [
            "Error: Cannot divide by zero.\n"
          ]
        }
      ]
    },
    {
      "cell_type": "markdown",
      "source": [
        "**6. Write a Python program that logs an error message to a log file when a division by zero exception occurs.**"
      ],
      "metadata": {
        "id": "NJAGilLM3jjE"
      }
    },
    {
      "cell_type": "code",
      "source": [
        "import logging\n",
        "\n",
        "# Configure logging\n",
        "logging.basicConfig(\n",
        "    filename='error.log',          # Log file name\n",
        "    level=logging.ERROR,           # Log level\n",
        "    format='%(asctime)s - %(levelname)s - %(message)s'  # Log format\n",
        ")\n",
        "\n",
        "# Division operation with error handling\n",
        "try:\n",
        "    numerator = 10\n",
        "    denominator = 0\n",
        "    result = numerator / denominator\n",
        "except ZeroDivisionError as e:\n",
        "    logging.error(\"Division by zero error occurred: %s\", e)\n",
        "    print(\"An error occurred. Check 'error.log' for details.\")\n"
      ],
      "metadata": {
        "colab": {
          "base_uri": "https://localhost:8080/"
        },
        "id": "NalV83HR3rWr",
        "outputId": "cb4e8822-90ef-43a0-d9f9-cd7782d51254"
      },
      "execution_count": 6,
      "outputs": [
        {
          "output_type": "stream",
          "name": "stderr",
          "text": [
            "ERROR:root:Division by zero error occurred: division by zero\n"
          ]
        },
        {
          "output_type": "stream",
          "name": "stdout",
          "text": [
            "An error occurred. Check 'error.log' for details.\n"
          ]
        }
      ]
    },
    {
      "cell_type": "markdown",
      "source": [
        "**7. How do you log information at different levels (INFO, ERROR, WARNING) in Python using the logging module?**"
      ],
      "metadata": {
        "id": "cSmwbLOa3xlV"
      }
    },
    {
      "cell_type": "code",
      "source": [
        "import logging\n",
        "\n",
        "# Configure logging\n",
        "logging.basicConfig(\n",
        "    filename='app.log',             # Log file name\n",
        "    level=logging.DEBUG,            # Minimum level to log\n",
        "    format='%(asctime)s - %(levelname)s - %(message)s'\n",
        ")\n",
        "\n",
        "# Log messages at different levels\n",
        "logging.debug(\"This is a DEBUG message (useful for developers).\")\n",
        "logging.info(\"This is an INFO message (general info about program execution).\")\n",
        "logging.warning(\"This is a WARNING message (something unexpected, but not an error).\")\n",
        "logging.error(\"This is an ERROR message (a more serious problem).\")\n",
        "logging.critical(\"This is a CRITICAL message (a serious error, program may not continue).\")\n"
      ],
      "metadata": {
        "colab": {
          "base_uri": "https://localhost:8080/"
        },
        "id": "0TIXYdR14ASO",
        "outputId": "df9a8cbb-7698-4c5e-dae3-a74919855b66"
      },
      "execution_count": 7,
      "outputs": [
        {
          "output_type": "stream",
          "name": "stderr",
          "text": [
            "WARNING:root:This is a WARNING message (something unexpected, but not an error).\n",
            "ERROR:root:This is an ERROR message (a more serious problem).\n",
            "CRITICAL:root:This is a CRITICAL message (a serious error, program may not continue).\n"
          ]
        }
      ]
    },
    {
      "cell_type": "markdown",
      "source": [
        "**8. Write a program to handle a file opening error using exception handling.**"
      ],
      "metadata": {
        "id": "BDzNScZx4Lee"
      }
    },
    {
      "cell_type": "code",
      "source": [
        "def read_file(filename):\n",
        "    try:\n",
        "        with open(filename, 'r') as file:\n",
        "            content = file.read()\n",
        "            print(\"File content:\\n\", content)\n",
        "    except FileNotFoundError:\n",
        "        print(f\"Error: The file '{filename}' was not found.\")\n",
        "    except PermissionError:\n",
        "        print(f\"Error: Permission denied when trying to open '{filename}'.\")\n",
        "    except Exception as e:\n",
        "        print(f\"An unexpected error occurred: {e}\")\n",
        "\n",
        "# Example usage\n",
        "read_file('non_existent_file.txt')\n"
      ],
      "metadata": {
        "colab": {
          "base_uri": "https://localhost:8080/"
        },
        "id": "5gDnlhyF4Qwf",
        "outputId": "40fc9ab1-a5a3-4efb-d88e-78e4005b596e"
      },
      "execution_count": 8,
      "outputs": [
        {
          "output_type": "stream",
          "name": "stdout",
          "text": [
            "Error: The file 'non_existent_file.txt' was not found.\n"
          ]
        }
      ]
    },
    {
      "cell_type": "markdown",
      "source": [
        "**9. How can you read a file line by line and store its content in a list in Python?**"
      ],
      "metadata": {
        "id": "PMJjWWmJ4XOf"
      }
    },
    {
      "cell_type": "markdown",
      "source": [
        "You can read a file line by line and store its content in a list using a simple with open() block and list comprehension (or a loop). Here's how:\n",
        "\n",
        "**Using List Comprehension:**"
      ],
      "metadata": {
        "id": "S12IjTYg5E4D"
      }
    },
    {
      "cell_type": "code",
      "source": [
        "with open('example.txt', 'r') as file:\n",
        "    lines = [line.strip() for line in file]\n",
        "\n",
        "print(lines)\n"
      ],
      "metadata": {
        "colab": {
          "base_uri": "https://localhost:8080/"
        },
        "id": "XucnpTW65POU",
        "outputId": "45b1f45d-5c2d-4f55-e339-a28cbccca5e8"
      },
      "execution_count": 9,
      "outputs": [
        {
          "output_type": "stream",
          "name": "stdout",
          "text": [
            "['Hello, world!']\n"
          ]
        }
      ]
    },
    {
      "cell_type": "markdown",
      "source": [
        "**Using a Loop:**"
      ],
      "metadata": {
        "id": "Y8jUjCqT5yoH"
      }
    },
    {
      "cell_type": "code",
      "source": [
        "lines = []\n",
        "with open('example.txt', 'r') as file:\n",
        "    for line in file:\n",
        "        lines.append(line.strip())\n",
        "\n",
        "print(lines)\n"
      ],
      "metadata": {
        "colab": {
          "base_uri": "https://localhost:8080/"
        },
        "id": "_blBRHJ553DQ",
        "outputId": "b00d6a18-0a97-4146-f2bf-d22f03f2c34a"
      },
      "execution_count": 10,
      "outputs": [
        {
          "output_type": "stream",
          "name": "stdout",
          "text": [
            "['Hello, world!']\n"
          ]
        }
      ]
    },
    {
      "cell_type": "markdown",
      "source": [
        "**10. How can you append data to an existing file in Python?**"
      ],
      "metadata": {
        "id": "GYszgqPK5-Qw"
      }
    },
    {
      "cell_type": "code",
      "source": [
        "# Open the file in append mode\n",
        "with open('example.txt', 'a') as file:\n",
        "    file.write('\\nThis is a new line appended to the file.')\n"
      ],
      "metadata": {
        "id": "H5OMxz_k6JDp"
      },
      "execution_count": 11,
      "outputs": []
    },
    {
      "cell_type": "markdown",
      "source": [
        "**11. Write a Python program that uses a try-except block to handle an error when attempting to access a dictionary key that doesn't exist.**"
      ],
      "metadata": {
        "id": "xADAlwwA6OGx"
      }
    },
    {
      "cell_type": "code",
      "source": [
        "# Sample dictionary\n",
        "my_dict = {'name': 'John', 'age': 30}\n",
        "\n",
        "# Try-except block to handle missing key\n",
        "try:\n",
        "    # Attempt to access a key that may not exist\n",
        "    value = my_dict['address']\n",
        "    print(value)\n",
        "except KeyError:\n",
        "    print(\"Error: The key 'address' does not exist in the dictionary.\")\n"
      ],
      "metadata": {
        "colab": {
          "base_uri": "https://localhost:8080/"
        },
        "id": "KCwX6plv6dWy",
        "outputId": "afd3bccb-2120-4ee2-e516-8db785ef3000"
      },
      "execution_count": 12,
      "outputs": [
        {
          "output_type": "stream",
          "name": "stdout",
          "text": [
            "Error: The key 'address' does not exist in the dictionary.\n"
          ]
        }
      ]
    },
    {
      "cell_type": "markdown",
      "source": [
        "**12. Write a program that demonstrates using multiple except blocks to handle different types of exceptions.**"
      ],
      "metadata": {
        "id": "wRTPmQ__6mzL"
      }
    },
    {
      "cell_type": "code",
      "source": [
        "def handle_exceptions():\n",
        "    try:\n",
        "        # Attempting different operations to raise different exceptions\n",
        "        x = 10 / 0  # This will raise a ZeroDivisionError\n",
        "        y = int('abc')  # This will raise a ValueError\n",
        "        my_dict = {'name': 'Alice'}\n",
        "        value = my_dict['age']  # This will raise a KeyError\n",
        "\n",
        "    except ZeroDivisionError:\n",
        "        print(\"Error: Division by zero is not allowed.\")\n",
        "\n",
        "    except ValueError:\n",
        "        print(\"Error: Invalid value conversion.\")\n",
        "\n",
        "    except KeyError:\n",
        "        print(\"Error: Key not found in the dictionary.\")\n",
        "\n",
        "    except Exception as e:\n",
        "        print(f\"An unexpected error occurred: {e}\")\n",
        "\n",
        "# Call the function to demonstrate exception handling\n",
        "handle_exceptions()\n"
      ],
      "metadata": {
        "colab": {
          "base_uri": "https://localhost:8080/"
        },
        "id": "-3ov3D5n657k",
        "outputId": "b37c5790-ecde-47cd-915b-ea91cf929a9e"
      },
      "execution_count": 13,
      "outputs": [
        {
          "output_type": "stream",
          "name": "stdout",
          "text": [
            "Error: Division by zero is not allowed.\n"
          ]
        }
      ]
    },
    {
      "cell_type": "markdown",
      "source": [
        "**13. How would you check if a file exists before attempting to read it in Python?**"
      ],
      "metadata": {
        "id": "j9XanWSl7F6F"
      }
    },
    {
      "cell_type": "markdown",
      "source": [
        "In Python, you can check if a file exists before attempting to read it using the os.path.exists() function or Path.exists() from the pathlib module. Here's how you can do it with both methods:\n",
        "\n",
        "**Using os.path.exists():**"
      ],
      "metadata": {
        "id": "tDPWn77c7fSB"
      }
    },
    {
      "cell_type": "code",
      "source": [
        "import os\n",
        "\n",
        "file_path = 'example.txt'\n",
        "\n",
        "if os.path.exists(file_path):\n",
        "    with open(file_path, 'r') as file:\n",
        "        content = file.read()\n",
        "        print(content)\n",
        "else:\n",
        "    print(f\"Error: The file '{file_path}' does not exist.\")\n"
      ],
      "metadata": {
        "colab": {
          "base_uri": "https://localhost:8080/"
        },
        "id": "0DAcF5uA7k0w",
        "outputId": "98d3653c-13d2-4ac0-cb12-8a3fc4be9c02"
      },
      "execution_count": 14,
      "outputs": [
        {
          "output_type": "stream",
          "name": "stdout",
          "text": [
            "Hello, world!\n",
            "This is a new line appended to the file.\n"
          ]
        }
      ]
    },
    {
      "cell_type": "markdown",
      "source": [
        "**Using pathlib.Path.exists() (modern approach):**"
      ],
      "metadata": {
        "id": "WEuJ4lUy7p-A"
      }
    },
    {
      "cell_type": "code",
      "source": [
        "from pathlib import Path\n",
        "\n",
        "file_path = Path('example.txt')\n",
        "\n",
        "if file_path.exists():\n",
        "    with open(file_path, 'r') as file:\n",
        "        content = file.read()\n",
        "        print(content)\n",
        "else:\n",
        "    print(f\"Error: The file '{file_path}' does not exist.\")\n"
      ],
      "metadata": {
        "colab": {
          "base_uri": "https://localhost:8080/"
        },
        "id": "YsgVuI3U7vZY",
        "outputId": "bdec379c-8b3f-4f9f-9f73-30e57fda9f4f"
      },
      "execution_count": 15,
      "outputs": [
        {
          "output_type": "stream",
          "name": "stdout",
          "text": [
            "Hello, world!\n",
            "This is a new line appended to the file.\n"
          ]
        }
      ]
    },
    {
      "cell_type": "markdown",
      "source": [
        "**14. Write a program that uses the logging module to log both informational and error messages.**"
      ],
      "metadata": {
        "id": "11eFNn7n8P7J"
      }
    },
    {
      "cell_type": "code",
      "source": [
        "import logging\n",
        "\n",
        "# Configure logging\n",
        "logging.basicConfig(\n",
        "    filename='app.log',           # Log file name\n",
        "    level=logging.DEBUG,          # Minimum log level to capture\n",
        "    format='%(asctime)s - %(levelname)s - %(message)s'  # Log format\n",
        ")\n",
        "\n",
        "# Log an informational message\n",
        "logging.info(\"This is an informational message.\")\n",
        "\n",
        "# Simulate an error and log it\n",
        "try:\n",
        "    x = 10 / 0  # This will raise a ZeroDivisionError\n",
        "except ZeroDivisionError:\n",
        "    logging.error(\"Error: Division by zero occurred.\")\n",
        "\n",
        "# Another informational message\n",
        "logging.info(\"Program completed successfully.\")\n"
      ],
      "metadata": {
        "colab": {
          "base_uri": "https://localhost:8080/"
        },
        "id": "obki4x3B8bPp",
        "outputId": "d212987a-05c6-444f-aeed-e99b93fbb4e7"
      },
      "execution_count": 16,
      "outputs": [
        {
          "output_type": "stream",
          "name": "stderr",
          "text": [
            "ERROR:root:Error: Division by zero occurred.\n"
          ]
        }
      ]
    },
    {
      "cell_type": "markdown",
      "source": [
        "**15. Write a Python program that prints the content of a file and handles the case when the file is empty.**"
      ],
      "metadata": {
        "id": "2Y6Gls5x8k_y"
      }
    },
    {
      "cell_type": "code",
      "source": [
        "def print_file_content(file_path):\n",
        "    try:\n",
        "        with open(file_path, 'r') as file:\n",
        "            content = file.read()\n",
        "            if content:\n",
        "                print(\"File Content:\\n\", content)\n",
        "            else:\n",
        "                print(\"The file is empty.\")\n",
        "    except FileNotFoundError:\n",
        "        print(f\"Error: The file '{file_path}' was not found.\")\n",
        "    except Exception as e:\n",
        "        print(f\"An unexpected error occurred: {e}\")\n",
        "\n",
        "# Example usage\n",
        "file_path = 'example.txt'\n",
        "print_file_content(file_path)\n"
      ],
      "metadata": {
        "colab": {
          "base_uri": "https://localhost:8080/"
        },
        "id": "_5XfIKD_8s4k",
        "outputId": "467afb37-6fdd-4cce-94ac-18efcee4bcdb"
      },
      "execution_count": 17,
      "outputs": [
        {
          "output_type": "stream",
          "name": "stdout",
          "text": [
            "File Content:\n",
            " Hello, world!\n",
            "This is a new line appended to the file.\n"
          ]
        }
      ]
    },
    {
      "cell_type": "markdown",
      "source": [
        "**16. Demonstrate how to use memory profiling to check the memory usage of a small program.**"
      ],
      "metadata": {
        "id": "hJe6Bin785Ol"
      }
    },
    {
      "cell_type": "code",
      "source": [
        "def my_function():\n",
        "    # Allocate some memory\n",
        "    a = [1] * (10**6)  # List of 1 million integers\n",
        "    b = [2] * (2 * 10**7)  # List of 20 million integers\n",
        "\n",
        "    # Perform some operations\n",
        "    result = sum(a) + sum(b)\n",
        "    print(f\"Sum: {result}\")\n",
        "\n",
        "if __name__ == \"__main__\":\n",
        "    my_function()"
      ],
      "metadata": {
        "colab": {
          "base_uri": "https://localhost:8080/"
        },
        "id": "_7reyXfp9U5v",
        "outputId": "9140f7e2-1a3a-4b03-fc35-66de62a30e0c"
      },
      "execution_count": 19,
      "outputs": [
        {
          "output_type": "stream",
          "name": "stdout",
          "text": [
            "Sum: 41000000\n"
          ]
        }
      ]
    },
    {
      "cell_type": "markdown",
      "source": [
        "**17. Write a Python program to create and write a list of numbers to a file, one number per line.**"
      ],
      "metadata": {
        "id": "v0L3O9_n9mGn"
      }
    },
    {
      "cell_type": "code",
      "source": [
        "# List of numbers\n",
        "numbers = [1, 2, 3, 4, 5, 6, 7, 8, 9, 10]\n",
        "\n",
        "# File path where the numbers will be written\n",
        "file_path = 'numbers.txt'\n",
        "\n",
        "# Open the file in write mode\n",
        "with open(file_path, 'w') as file:\n",
        "    for number in numbers:\n",
        "        file.write(f\"{number}\\n\")  # Write each number followed by a newline\n",
        "\n",
        "print(f\"Numbers have been written to {file_path}\")\n"
      ],
      "metadata": {
        "colab": {
          "base_uri": "https://localhost:8080/"
        },
        "id": "sSSvC0zL9xdP",
        "outputId": "e4bf7f3c-d151-4376-a442-7111eba5cf19"
      },
      "execution_count": 20,
      "outputs": [
        {
          "output_type": "stream",
          "name": "stdout",
          "text": [
            "Numbers have been written to numbers.txt\n"
          ]
        }
      ]
    },
    {
      "cell_type": "markdown",
      "source": [
        "**18. How would you implement a basic logging setup that logs to a file with rotation after 1MB?**"
      ],
      "metadata": {
        "id": "NgwcqxnZ-SqJ"
      }
    },
    {
      "cell_type": "code",
      "source": [
        "import logging\n",
        "from logging.handlers import RotatingFileHandler\n",
        "\n",
        "# Set up logging with rotation\n",
        "log_file = 'app.log'\n",
        "\n",
        "# Create a rotating file handler that rotates after 1MB\n",
        "handler = RotatingFileHandler(log_file, maxBytes=1e6, backupCount=3)  # maxBytes=1MB, backupCount=3 keeps 3 old log files\n",
        "\n",
        "# Set the log format\n",
        "formatter = logging.Formatter('%(asctime)s - %(levelname)s - %(message)s')\n",
        "handler.setFormatter(formatter)\n",
        "\n",
        "# Set up logger\n",
        "logger = logging.getLogger()\n",
        "logger.setLevel(logging.DEBUG)  # Capture all logs from DEBUG and above\n",
        "logger.addHandler(handler)\n",
        "\n",
        "# Test logging\n",
        "logger.debug(\"This is a debug message.\")\n",
        "logger.info(\"This is an informational message.\")\n",
        "logger.warning(\"This is a warning message.\")\n",
        "logger.error(\"This is an error message.\")\n",
        "logger.critical(\"This is a critical message.\")\n",
        "\n",
        "print(f\"Logging setup with rotation after 1MB. Check the log file '{log_file}' for output.\")\n"
      ],
      "metadata": {
        "colab": {
          "base_uri": "https://localhost:8080/"
        },
        "id": "TuzoKfAc-c56",
        "outputId": "13184cfb-413e-4381-ab67-de4060ae7878"
      },
      "execution_count": 21,
      "outputs": [
        {
          "output_type": "stream",
          "name": "stderr",
          "text": [
            "DEBUG:root:This is a debug message.\n",
            "INFO:root:This is an informational message.\n",
            "WARNING:root:This is a warning message.\n",
            "ERROR:root:This is an error message.\n",
            "CRITICAL:root:This is a critical message.\n"
          ]
        },
        {
          "output_type": "stream",
          "name": "stdout",
          "text": [
            "Logging setup with rotation after 1MB. Check the log file 'app.log' for output.\n"
          ]
        }
      ]
    },
    {
      "cell_type": "markdown",
      "source": [
        "**19. Write a program that handles both IndexError and KeyError using a try-except block.**"
      ],
      "metadata": {
        "id": "kmkZZ7lQ-j7S"
      }
    },
    {
      "cell_type": "code",
      "source": [
        "def handle_errors():\n",
        "    my_list = [1, 2, 3]\n",
        "    my_dict = {'name': 'Alice', 'age': 25}\n",
        "\n",
        "    try:\n",
        "        # Trying to access an invalid index\n",
        "        print(my_list[5])  # This will raise an IndexError\n",
        "\n",
        "        # Trying to access a non-existent key\n",
        "        print(my_dict['address'])  # This will raise a KeyError\n",
        "\n",
        "    except IndexError:\n",
        "        print(\"Error: Index out of range.\")\n",
        "\n",
        "    except KeyError:\n",
        "        print(\"Error: Key not found in dictionary.\")\n",
        "\n",
        "    except Exception as e:\n",
        "        print(f\"An unexpected error occurred: {e}\")\n",
        "\n",
        "# Call the function to demonstrate error handling\n",
        "handle_errors()\n"
      ],
      "metadata": {
        "colab": {
          "base_uri": "https://localhost:8080/"
        },
        "id": "incphaVY-vm0",
        "outputId": "eba559b9-43d6-4438-a40c-571f6fd0d112"
      },
      "execution_count": 22,
      "outputs": [
        {
          "output_type": "stream",
          "name": "stdout",
          "text": [
            "Error: Index out of range.\n"
          ]
        }
      ]
    },
    {
      "cell_type": "markdown",
      "source": [
        "**20. How would you open a file and read its contents using a context manager in Python?**"
      ],
      "metadata": {
        "id": "awxs3KSG-0WU"
      }
    },
    {
      "cell_type": "code",
      "source": [
        "# Using a context manager to open and read a file\n",
        "file_path = 'example.txt'\n",
        "\n",
        "with open(file_path, 'r') as file:\n",
        "    content = file.read()  # Read the entire content of the file\n",
        "    print(content)\n"
      ],
      "metadata": {
        "colab": {
          "base_uri": "https://localhost:8080/"
        },
        "id": "dSnoNWmU_Zu9",
        "outputId": "ea4bb6b0-0de9-4935-cc66-858f7927be17"
      },
      "execution_count": 23,
      "outputs": [
        {
          "output_type": "stream",
          "name": "stdout",
          "text": [
            "Hello, world!\n",
            "This is a new line appended to the file.\n"
          ]
        }
      ]
    },
    {
      "cell_type": "markdown",
      "source": [
        "**21. Write a Python program that reads a file and prints the number of occurrences of a specific word.**"
      ],
      "metadata": {
        "id": "tonOwblE_fGV"
      }
    },
    {
      "cell_type": "code",
      "source": [
        "def count_word_occurrences(file_path, target_word):\n",
        "    try:\n",
        "        with open(file_path, 'r') as file:\n",
        "            content = file.read()  # Read the entire content of the file\n",
        "            word_count = content.lower().split().count(target_word.lower())  # Count occurrences of the target word\n",
        "            print(f\"The word '{target_word}' occurred {word_count} times.\")\n",
        "    except FileNotFoundError:\n",
        "        print(f\"Error: The file '{file_path}' was not found.\")\n",
        "    except Exception as e:\n",
        "        print(f\"An unexpected error occurred: {e}\")\n",
        "\n",
        "# Example usage\n",
        "file_path = 'example.txt'\n",
        "target_word = 'python'\n",
        "count_word_occurrences(file_path, target_word)\n"
      ],
      "metadata": {
        "colab": {
          "base_uri": "https://localhost:8080/"
        },
        "id": "UH9BH5M7_lvn",
        "outputId": "7989a094-1ab2-48fb-e15c-34962bf7459d"
      },
      "execution_count": 24,
      "outputs": [
        {
          "output_type": "stream",
          "name": "stdout",
          "text": [
            "The word 'python' occurred 0 times.\n"
          ]
        }
      ]
    },
    {
      "cell_type": "markdown",
      "source": [
        "**22. How can you check if a file is empty before attempting to read its contents?**"
      ],
      "metadata": {
        "id": "mg8ZCsAb_p_u"
      }
    },
    {
      "cell_type": "code",
      "source": [
        "import os\n",
        "\n",
        "def read_file_if_not_empty(file_path):\n",
        "    # Check if the file exists and is not empty\n",
        "    if os.path.exists(file_path) and os.path.getsize(file_path) > 0:\n",
        "        with open(file_path, 'r') as file:\n",
        "            content = file.read()\n",
        "            print(\"File Content:\")\n",
        "            print(content)\n",
        "    else:\n",
        "        print(f\"The file '{file_path}' is either empty or does not exist.\")\n",
        "\n",
        "# Example usage\n",
        "file_path = 'example.txt'\n",
        "read_file_if_not_empty(file_path)\n"
      ],
      "metadata": {
        "colab": {
          "base_uri": "https://localhost:8080/"
        },
        "id": "w5dOBzLG_7OX",
        "outputId": "88631ebb-43d1-4af7-d98f-901fe9cbfe47"
      },
      "execution_count": 25,
      "outputs": [
        {
          "output_type": "stream",
          "name": "stdout",
          "text": [
            "File Content:\n",
            "Hello, world!\n",
            "This is a new line appended to the file.\n"
          ]
        }
      ]
    },
    {
      "cell_type": "markdown",
      "source": [
        "**23. Write a Python program that writes to a log file when an error occurs during file handling.**"
      ],
      "metadata": {
        "id": "-aKwZgfEAL2H"
      }
    },
    {
      "cell_type": "code",
      "source": [
        "import logging\n",
        "\n",
        "# Set up logging configuration\n",
        "logging.basicConfig(\n",
        "    filename='file_error_log.log',   # The log file where errors will be written\n",
        "    level=logging.ERROR,             # Log only errors and above\n",
        "    format='%(asctime)s - %(levelname)s - %(message)s'  # Log format\n",
        ")\n",
        "\n",
        "def write_to_file(file_path, content):\n",
        "    try:\n",
        "        # Try opening the file and writing content\n",
        "        with open(file_path, 'w') as file:\n",
        "            file.write(content)\n",
        "            print(\"Content written to file successfully.\")\n",
        "    except Exception as e:\n",
        "        # Log the error message to the log file\n",
        "        logging.error(f\"Error writing to file '{file_path}': {e}\")\n",
        "        print(f\"An error occurred while writing to the file. Check the log for details.\")\n",
        "\n",
        "def read_from_file(file_path):\n",
        "    try:\n",
        "        # Try opening the file and reading its content\n",
        "        with open(file_path, 'r') as file:\n",
        "            content = file.read()\n",
        "            print(\"File content:\")\n",
        "            print(content)\n",
        "    except Exception as e:\n",
        "        # Log the error message to the log file\n",
        "        logging.error(f\"Error reading from file '{file_path}': {e}\")\n",
        "        print(f\"An error occurred while reading the file. Check the log for details.\")\n",
        "\n",
        "# Example usage\n",
        "file_path = 'example.txt'\n",
        "\n",
        "# Writing to the file\n",
        "write_to_file(file_path, \"This is a test message.\")\n",
        "\n",
        "# Reading from the file\n",
        "read_from_file(file_path)\n",
        "\n",
        "# Try reading a non-existent file (will log an error)\n",
        "read_from_file('non_existent_file.txt')\n"
      ],
      "metadata": {
        "colab": {
          "base_uri": "https://localhost:8080/"
        },
        "id": "YisW_xcpAuNY",
        "outputId": "9ea71cf2-b01a-4798-f662-86815ac2f1a6"
      },
      "execution_count": 26,
      "outputs": [
        {
          "output_type": "stream",
          "name": "stderr",
          "text": [
            "ERROR:root:Error reading from file 'non_existent_file.txt': [Errno 2] No such file or directory: 'non_existent_file.txt'\n"
          ]
        },
        {
          "output_type": "stream",
          "name": "stdout",
          "text": [
            "Content written to file successfully.\n",
            "File content:\n",
            "This is a test message.\n",
            "An error occurred while reading the file. Check the log for details.\n"
          ]
        }
      ]
    }
  ]
}