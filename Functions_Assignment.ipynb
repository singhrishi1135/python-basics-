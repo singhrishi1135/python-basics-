{
  "nbformat": 4,
  "nbformat_minor": 0,
  "metadata": {
    "colab": {
      "provenance": []
    },
    "kernelspec": {
      "name": "python3",
      "display_name": "Python 3"
    },
    "language_info": {
      "name": "python"
    }
  },
  "cells": [
    {
      "cell_type": "markdown",
      "source": [
        "1. What is the difference between a function and a method in Python?"
      ],
      "metadata": {
        "id": "I84HC9Vtbw67"
      }
    },
    {
      "cell_type": "markdown",
      "source": [
        "- A function is independent and can be defined using def.\n",
        "- A method is a function that is associated with an object."
      ],
      "metadata": {
        "id": "I1WqXIxbb-CL"
      }
    },
    {
      "cell_type": "code",
      "source": [
        "def greet(name):\n",
        "    return f\"Hello, {name}!\"  # Function\n",
        "\n",
        "message = \"hello\"\n",
        "print(message.upper())  # upper() is a method"
      ],
      "metadata": {
        "colab": {
          "base_uri": "https://localhost:8080/"
        },
        "id": "QTaau87BcQor",
        "outputId": "7b8112e6-50ba-472c-9fae-aed3c8cd3530"
      },
      "execution_count": 1,
      "outputs": [
        {
          "output_type": "stream",
          "name": "stdout",
          "text": [
            "HELLO\n"
          ]
        }
      ]
    },
    {
      "cell_type": "markdown",
      "source": [],
      "metadata": {
        "id": "hHIIcCs9cLo7"
      }
    },
    {
      "cell_type": "markdown",
      "source": [
        "2. Explain the concept of function arguments and parameters in Python."
      ],
      "metadata": {
        "id": "HYZrXyQjccBr"
      }
    },
    {
      "cell_type": "markdown",
      "source": [
        "- Parameters are variables listed in a function definition.\n",
        "- Arguments are the actual values passed to the function."
      ],
      "metadata": {
        "id": "OLOj1vtbcjdq"
      }
    },
    {
      "cell_type": "code",
      "source": [
        "def add(x, y):  # x and y are parameters\n",
        "    return x + y\n",
        "\n",
        "result = add(3, 5)  # 3 and 5 are arguments\n"
      ],
      "metadata": {
        "id": "Z_CJlCECcqoL"
      },
      "execution_count": null,
      "outputs": []
    },
    {
      "cell_type": "markdown",
      "source": [
        "3. What are the different ways to define and call a function in Python?"
      ],
      "metadata": {
        "id": "CUsLw7o1c02r"
      }
    },
    {
      "cell_type": "markdown",
      "source": [
        "- Functions can be defined using def or lambda.\n",
        "- They can be called directly or passed as arguments."
      ],
      "metadata": {
        "id": "Yz2qYDu2dAsa"
      }
    },
    {
      "cell_type": "code",
      "source": [
        "def square(n):\n",
        "    return n * n\n",
        "\n",
        "print(square(4))  # Direct call\n",
        "\n",
        "# Using lambda\n",
        "cube = lambda x: x**3\n",
        "print(cube(3))"
      ],
      "metadata": {
        "id": "O84X4BkvdRJr"
      },
      "execution_count": null,
      "outputs": []
    },
    {
      "cell_type": "markdown",
      "source": [
        "4. What is the purpose of the `return` statement in a Python function?"
      ],
      "metadata": {
        "id": "rrg2dCPRdSvC"
      }
    },
    {
      "cell_type": "markdown",
      "source": [
        "- It sends a result back to the caller and ends the function."
      ],
      "metadata": {
        "id": "4NF86HvwdXWq"
      }
    },
    {
      "cell_type": "code",
      "source": [
        "def multiply(a, b):\n",
        "    return a * b\n",
        "\n",
        "product = multiply(2, 3)  # product = 6"
      ],
      "metadata": {
        "id": "FQG1gxEEdnOC"
      },
      "execution_count": null,
      "outputs": []
    },
    {
      "cell_type": "markdown",
      "source": [
        "5.  What are iterators in Python and how do they differ from iterables?"
      ],
      "metadata": {
        "id": "sal_vfmUdvy7"
      }
    },
    {
      "cell_type": "markdown",
      "source": [
        "- An iterable is an object that can return an iterator (e.g., lists, strings).\n",
        "- An iterator is an object with __next__() and __iter__() methods."
      ],
      "metadata": {
        "id": "LNWna9WrdyNK"
      }
    },
    {
      "cell_type": "code",
      "source": [
        "nums = [1, 2, 3]  # Iterable\n",
        "it = iter(nums)   # Iterator\n",
        "\n",
        "print(next(it))  # 1\n",
        "print(next(it))  # 2"
      ],
      "metadata": {
        "id": "6B12nSTjeHHK"
      },
      "execution_count": null,
      "outputs": []
    },
    {
      "cell_type": "markdown",
      "source": [
        "6. Explain the concept of generators in Python and how they are defined."
      ],
      "metadata": {
        "id": "HsO1sqDieOzi"
      }
    },
    {
      "cell_type": "markdown",
      "source": [
        "- Generators yield items one at a time using yield.\n",
        "- They are memory-efficient for large sequences."
      ],
      "metadata": {
        "id": "prxRLTr9eSoq"
      }
    },
    {
      "cell_type": "code",
      "source": [
        "def count_up_to(n):\n",
        "    i = 1\n",
        "    while i <= n:\n",
        "        yield i\n",
        "        i += 1\n",
        "\n",
        "for number in count_up_to(3):\n",
        "    print(number)"
      ],
      "metadata": {
        "id": "18yJNGMxegli"
      },
      "execution_count": null,
      "outputs": []
    },
    {
      "cell_type": "markdown",
      "source": [
        "7.  What are the advantages of using generators over regular functions?"
      ],
      "metadata": {
        "id": "il73B70IejK6"
      }
    },
    {
      "cell_type": "markdown",
      "source": [
        "- It Save memory and compute values lazily (only when needed)."
      ],
      "metadata": {
        "id": "qkb84gLCetqC"
      }
    },
    {
      "cell_type": "code",
      "source": [
        "# Generator saves memory\n",
        "def gen():\n",
        "    for i in range(1000000):\n",
        "        yield i\n",
        "\n",
        "g = gen()\n",
        "print(next(g))  # 0\n"
      ],
      "metadata": {
        "id": "r-pdmeAAe31y"
      },
      "execution_count": null,
      "outputs": []
    },
    {
      "cell_type": "markdown",
      "source": [
        "8. What is a lambda function in Python and when is it typically used?"
      ],
      "metadata": {
        "id": "yfLb_x7Ae9UR"
      }
    },
    {
      "cell_type": "markdown",
      "source": [
        "- A lambda function is an anonymous function used for short tasks."
      ],
      "metadata": {
        "id": "2bDBLuUUfHHa"
      }
    },
    {
      "cell_type": "code",
      "source": [
        "double = lambda x: x * 2\n",
        "print(double(4))  # 8"
      ],
      "metadata": {
        "id": "0Z1KOIXVfOf6"
      },
      "execution_count": null,
      "outputs": []
    },
    {
      "cell_type": "markdown",
      "source": [
        "9. Explain the purpose and usage of the `map()` function in Python."
      ],
      "metadata": {
        "id": "S9rnyKoVfSwi"
      }
    },
    {
      "cell_type": "markdown",
      "source": [
        "- Applies a function to every item in an iterable."
      ],
      "metadata": {
        "id": "sAioH0jrfaBh"
      }
    },
    {
      "cell_type": "code",
      "source": [
        "nums = [1, 2, 3]\n",
        "squared = list(map(lambda x: x**2, nums))\n",
        "print(squared)  # [1, 4, 9]"
      ],
      "metadata": {
        "id": "phN5MPdVfh75"
      },
      "execution_count": null,
      "outputs": []
    },
    {
      "cell_type": "markdown",
      "source": [
        "10. What is the difference between `map()`, `reduce()`, and `filter()` functions in Python?"
      ],
      "metadata": {
        "id": "RK0_P88BfvZR"
      }
    },
    {
      "cell_type": "markdown",
      "source": [
        "- map(): Applies a function to all items.\n",
        "- filter(): Filters items based on a condition.\n",
        "- reduce(): Reduces all items to a single value."
      ],
      "metadata": {
        "id": "OlAgE7fMfxFh"
      }
    },
    {
      "cell_type": "code",
      "source": [
        "from functools import reduce\n",
        "\n",
        "nums = [1, 2, 3, 4]\n",
        "\n",
        "print(list(map(lambda x: x*2, nums)))     # [2, 4, 6, 8]\n",
        "print(list(filter(lambda x: x % 2 == 0, nums)))  # [2, 4]\n",
        "print(reduce(lambda x, y: x + y, nums))   # 10"
      ],
      "metadata": {
        "id": "154iNel2gWei"
      },
      "execution_count": null,
      "outputs": []
    },
    {
      "cell_type": "markdown",
      "source": [
        "11. Using pen & Paper write the internal mechanism for sum operation using  reduce function on this given\n",
        "list:[47,11,42,13];"
      ],
      "metadata": {
        "id": "T-NJlugahqth"
      }
    },
    {
      "cell_type": "markdown",
      "source": [
        "Answer:![WhatsApp Image 2025-05-01 at 9.41.29 PM.jpeg](data:image/jpeg;base64,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)"
      ],
      "metadata": {
        "id": "wP1wWZBonlav"
      }
    },
    {
      "cell_type": "markdown",
      "source": [
        "##PRACTICLE QUESTIONS##"
      ],
      "metadata": {
        "id": "43gCBlwsohQB"
      }
    },
    {
      "cell_type": "markdown",
      "source": [
        "1.  Write a Python function that takes a list of numbers as input and returns the sum of all even numbers in the list."
      ],
      "metadata": {
        "id": "8eh6Ur0FovVX"
      }
    },
    {
      "cell_type": "markdown",
      "source": [
        "- Python Function: Sum of Even Numbers"
      ],
      "metadata": {
        "id": "_Z2ZCSL6qAm_"
      }
    },
    {
      "cell_type": "code",
      "source": [
        "def sum_even_numbers(numbers):\n",
        "    even_sum = 0\n",
        "    for num in numbers:\n",
        "        if num % 2 == 0:\n",
        "            even_sum += num\n",
        "    return even_sum\n"
      ],
      "metadata": {
        "id": "DObCs29JqEWe"
      },
      "execution_count": null,
      "outputs": []
    },
    {
      "cell_type": "markdown",
      "source": [
        "Example:"
      ],
      "metadata": {
        "id": "OV9SGuOUqHQO"
      }
    },
    {
      "cell_type": "code",
      "source": [
        "sample_list = [1, 2, 3, 4, 5, 6, 7, 8, 9, 10]\n",
        "result = sum_even_numbers(sample_list)\n",
        "print(\"Sum of even numbers:\", result)\n"
      ],
      "metadata": {
        "id": "q1A4m50vprh2"
      },
      "execution_count": null,
      "outputs": []
    },
    {
      "cell_type": "markdown",
      "source": [
        "2. Python Function: Reverse a String"
      ],
      "metadata": {
        "id": "KZ9LcJWBqQKt"
      }
    },
    {
      "cell_type": "markdown",
      "source": [
        "- Python Function: Reverse a String:"
      ],
      "metadata": {
        "id": "w_ln1F2OqRhM"
      }
    },
    {
      "cell_type": "code",
      "source": [
        "def reverse_string(s):\n",
        "    return s[::-1]\n"
      ],
      "metadata": {
        "id": "-UkiZmJ4qYjV"
      },
      "execution_count": null,
      "outputs": []
    },
    {
      "cell_type": "markdown",
      "source": [
        "Example:"
      ],
      "metadata": {
        "id": "kVTe0-fOqf-1"
      }
    },
    {
      "cell_type": "code",
      "source": [
        "text = \"Python\"\n",
        "reversed_text = reverse_string(text)\n",
        "print(\"Reversed string:\", reversed_text)"
      ],
      "metadata": {
        "id": "nmswZli3qhdd"
      },
      "execution_count": null,
      "outputs": []
    },
    {
      "cell_type": "markdown",
      "source": [
        "3. . Implement a Python function that takes a list of integers and returns a new list containing the squares of each number."
      ],
      "metadata": {
        "id": "jd9vFIWAqq99"
      }
    },
    {
      "cell_type": "markdown",
      "source": [
        "- Python Function: Square Each Number in a List"
      ],
      "metadata": {
        "id": "rlywVPtWqu9U"
      }
    },
    {
      "cell_type": "code",
      "source": [
        "def square_numbers(numbers):\n",
        "    return [num ** 2 for num in numbers]"
      ],
      "metadata": {
        "id": "zuYbqzB8qzad"
      },
      "execution_count": null,
      "outputs": []
    },
    {
      "cell_type": "markdown",
      "source": [
        "Example:"
      ],
      "metadata": {
        "id": "j9CdvRdbq6TE"
      }
    },
    {
      "cell_type": "code",
      "source": [
        "original_list = [1, 2, 3, 4, 5]\n",
        "squared_list = square_numbers(original_list)\n",
        "print(\"Squared numbers:\", squared_list)"
      ],
      "metadata": {
        "id": "Fhv78jZ1q8t8"
      },
      "execution_count": null,
      "outputs": []
    },
    {
      "cell_type": "markdown",
      "source": [
        "4.  Write a Python function that checks if a given number is prime or not from 1 to 200."
      ],
      "metadata": {
        "id": "xBGGr3M9q_Lk"
      }
    },
    {
      "cell_type": "markdown",
      "source": [
        "- Python Function: Check for Prime (1 to 200)"
      ],
      "metadata": {
        "id": "x8Ab_VMirImk"
      }
    },
    {
      "cell_type": "code",
      "source": [
        "def is_prime(n):\n",
        "    if n < 2 or n > 200:\n",
        "        return False  # Out of allowed range\n",
        "    for i in range(2, int(n ** 0.5) + 1):\n",
        "        if n % i == 0:\n",
        "            return False\n",
        "    return True"
      ],
      "metadata": {
        "id": "HwkR51qarKbN"
      },
      "execution_count": null,
      "outputs": []
    },
    {
      "cell_type": "markdown",
      "source": [
        "Example:"
      ],
      "metadata": {
        "id": "aoWa98TArZY8"
      }
    },
    {
      "cell_type": "code",
      "source": [
        "print(is_prime(7))    # Output: True\n",
        "print(is_prime(100))  # Output: False\n",
        "print(is_prime(199))  # Output: True\n",
        "print(is_prime(201))  # Output: False (out of range)"
      ],
      "metadata": {
        "id": "yRXiqUA5ra3l"
      },
      "execution_count": null,
      "outputs": []
    },
    {
      "cell_type": "markdown",
      "source": [
        "5.  Create an iterator class in Python that generates the Fibonacci sequence up to a specified number of terms."
      ],
      "metadata": {
        "id": "U2AYJG0mrdI0"
      }
    },
    {
      "cell_type": "markdown",
      "source": [
        "- Python Iterator Class: Fibonacci Sequence"
      ],
      "metadata": {
        "id": "LeGoiP5XrrpM"
      }
    },
    {
      "cell_type": "code",
      "source": [
        "class FibonacciIterator:\n",
        "    def __init__(self, max_terms):\n",
        "        self.max_terms = max_terms\n",
        "        self.count = 0\n",
        "        self.a, self.b = 0, 1\n",
        "\n",
        "    def __iter__(self):\n",
        "        return self\n",
        "\n",
        "    def __next__(self):\n",
        "        if self.count < self.max_terms:\n",
        "            fib = self.a\n",
        "            self.a, self.b = self.b, self.a + self.b\n",
        "            self.count += 1\n",
        "            return fib\n",
        "        else:\n",
        "            raise StopIteration\n"
      ],
      "metadata": {
        "id": "6cf1IgmErtd8"
      },
      "execution_count": null,
      "outputs": []
    },
    {
      "cell_type": "markdown",
      "source": [
        "Example:"
      ],
      "metadata": {
        "id": "dJfVW-k1rzdF"
      }
    },
    {
      "cell_type": "code",
      "source": [
        "fib = FibonacciIterator(10)\n",
        "\n",
        "for num in fib:\n",
        "    print(num, end=\" \")"
      ],
      "metadata": {
        "id": "DcRhTAzMr0r8"
      },
      "execution_count": null,
      "outputs": []
    },
    {
      "cell_type": "markdown",
      "source": [
        "6.  Write a generator function in Python that yields the powers of 2 up to a given exponent."
      ],
      "metadata": {
        "id": "3WuXQwxEsGT0"
      }
    },
    {
      "cell_type": "markdown",
      "source": [
        "Generator Function: Powers of 2"
      ],
      "metadata": {
        "id": "rTtH6kxCsM60"
      }
    },
    {
      "cell_type": "code",
      "source": [
        "def powers_of_two(max_exp):\n",
        "    for i in range(max_exp + 1):\n",
        "        yield 2 ** i\n"
      ],
      "metadata": {
        "id": "f-9jpl3-sN08"
      },
      "execution_count": null,
      "outputs": []
    },
    {
      "cell_type": "markdown",
      "source": [
        "7.  Implement a generator function that reads a file line by line and yields each line as a string."
      ],
      "metadata": {
        "id": "YvPkQ8rdsWXs"
      }
    },
    {
      "cell_type": "code",
      "source": [
        "def read_file_line_by_line(file_path):\n",
        "    with open(file_path, 'r') as file:\n",
        "        for line in file:\n",
        "            yield line.strip()  # strip to remove newline characters\n",
        "\n",
        "# Example of usage\n",
        "file_path = 'example.txt'  # replace with the path to your file\n",
        "for line in read_file_line_by_line(file_path):\n",
        "    print(line)\n"
      ],
      "metadata": {
        "id": "cY8Kziglsszd"
      },
      "execution_count": null,
      "outputs": []
    },
    {
      "cell_type": "markdown",
      "source": [
        "8. Use a lambda function in Python to sort a list of tuples based on the second element of each tuple."
      ],
      "metadata": {
        "id": "PUYBcjwqsxWN"
      }
    },
    {
      "cell_type": "markdown",
      "source": [
        "- You can use a lambda function in Python to sort a list of tuples based on the second element of each tuple."
      ],
      "metadata": {
        "id": "PVl5nAYSs3or"
      }
    },
    {
      "cell_type": "code",
      "source": [
        "# List of tuples\n",
        "tuples_list = [(1, 5), (2, 2), (3, 8), (4, 1)]\n",
        "\n",
        "# Sort the list based on the second element of each tuple using a lambda function\n",
        "sorted_list = sorted(tuples_list, key=lambda x: x[1])\n",
        "\n",
        "# Output the sorted list\n",
        "print(sorted_list)\n"
      ],
      "metadata": {
        "id": "3wdQ6Dlhs6ls"
      },
      "execution_count": null,
      "outputs": []
    },
    {
      "cell_type": "markdown",
      "source": [
        "Explanation:\n",
        "\n",
        "- lambda x: x[1]: This is a lambda function that takes an argument x (which will be each tuple in the list) and returns the second element (x[1]).\n",
        "\n",
        "- sorted(tuples_list, key=lambda x: x[1]): This sorts the list of tuples based on the second element, using the lambda function as the sorting key."
      ],
      "metadata": {
        "id": "46SdHKjJs9p0"
      }
    },
    {
      "cell_type": "markdown",
      "source": [
        "Output:\n",
        "\n",
        "For the input [(1, 5), (2, 2), (3, 8), (4, 1)], the output will be:"
      ],
      "metadata": {
        "id": "qNFrn7hntNxs"
      }
    },
    {
      "cell_type": "code",
      "source": [
        "[(4, 1), (2, 2), (1, 5), (3, 8)]\n"
      ],
      "metadata": {
        "id": "c_R_BopOtTJT"
      },
      "execution_count": null,
      "outputs": []
    },
    {
      "cell_type": "markdown",
      "source": [
        "9.  Write a Python program that uses `map()` to convert a list of temperatures from Celsius to Fahrenheit."
      ],
      "metadata": {
        "id": "vqo0m5CHteju"
      }
    },
    {
      "cell_type": "code",
      "source": [
        "# List of temperatures in Celsius\n",
        "celsius_temperatures = [0, 20, 37, 100, -10]\n",
        "\n",
        "# Function to convert Celsius to Fahrenheit\n",
        "def celsius_to_fahrenheit(celsius):\n",
        "    return (celsius * 9/5) + 32\n",
        "\n",
        "# Use map to apply the conversion function to each temperature in the list\n",
        "fahrenheit_temperatures = list(map(celsius_to_fahrenheit, celsius_temperatures))\n",
        "\n",
        "# Output the result\n",
        "print(fahrenheit_temperatures)\n"
      ],
      "metadata": {
        "id": "X3nCsACvtiI1"
      },
      "execution_count": null,
      "outputs": []
    },
    {
      "cell_type": "markdown",
      "source": [
        "10. Create a Python program that uses `filter()` to remove all the vowels from a given string."
      ],
      "metadata": {
        "id": "hZrRg5Ynt0oE"
      }
    },
    {
      "cell_type": "code",
      "source": [
        "# Function to check if a character is not a vowel\n",
        "def is_not_vowel(char):\n",
        "    vowels = \"aeiouAEIOU\"\n",
        "    return char not in vowels\n",
        "\n",
        "# Given string\n",
        "input_string = \"Hello, World!\"\n",
        "\n",
        "# Use filter to remove vowels and join the result back into a string\n",
        "filtered_string = ''.join(filter(is_not_vowel, input_string))\n",
        "\n",
        "# Output the result\n",
        "print(filtered_string)"
      ],
      "metadata": {
        "id": "KjQoZ0ECt3E0"
      },
      "execution_count": null,
      "outputs": []
    },
    {
      "cell_type": "markdown",
      "source": [
        "11. Imagine an accounting routine used in a book shop. It works on a list with sublists, which look like this:"
      ],
      "metadata": {
        "id": "kdSd_ghzuFFj"
      }
    },
    {
      "cell_type": "code",
      "source": [
        "# List of orders (order_number, book_title_and_author, quantity, price_per_item)\n",
        "orders = [\n",
        "    [34587, \"Learning Python, Mark Lutz\", 4, 40.95],\n",
        "    [98762, \"Programming Python, Mark Lutz\", 5, 56.80],\n",
        "    [77226, \"Head First Python, Paul Barry\", 3, 32.95],\n",
        "    [88112, \"Einfuhrung in Python3, Bernd Klein\", 3, 24.99]\n",
        "]\n",
        "\n",
        "# Function to calculate the total cost with adjustment if necessary\n",
        "def calculate_order(order):\n",
        "    order_number, book_title, quantity, price_per_item = order\n",
        "    total_cost = quantity * price_per_item\n",
        "    # If the total cost is smaller than 100, add 10 €\n",
        "    if total_cost < 100:\n",
        "        total_cost += 10\n",
        "    return (order_number, total_cost)\n",
        "\n",
        "# Using map() with lambda to generate the list of 2-tuples\n",
        "result = list(map(lambda order: (order[0], order[2] * order[3] + 10) if order[2] * order[3] < 100 else (order[0], order[2] * order[3]), orders))\n",
        "\n",
        "# Print the result\n",
        "print(result)\n"
      ],
      "metadata": {
        "id": "rwb02i92vPjh"
      },
      "execution_count": null,
      "outputs": []
    }
  ]
}